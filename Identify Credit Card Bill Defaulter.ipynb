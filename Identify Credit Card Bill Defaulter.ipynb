{
 "cells": [
  {
   "cell_type": "code",
   "execution_count": 1,
   "metadata": {
    "collapsed": true
   },
   "outputs": [],
   "source": [
    "import graphlab"
   ]
  },
  {
   "cell_type": "code",
   "execution_count": 2,
   "metadata": {
    "collapsed": true
   },
   "outputs": [],
   "source": [
    "import matplotlib"
   ]
  },
  {
   "cell_type": "code",
   "execution_count": 3,
   "metadata": {
    "collapsed": false
   },
   "outputs": [
    {
     "name": "stdout",
     "output_type": "stream",
     "text": [
      "This non-commercial license of GraphLab Create for academic use is assigned to aniketparsewar@yahoo.co.in and will expire on October 15, 2017.\n"
     ]
    },
    {
     "name": "stderr",
     "output_type": "stream",
     "text": [
      "[INFO] graphlab.cython.cy_server: GraphLab Create v2.1 started. Logging: /tmp/graphlab_server_1481849459.log\n"
     ]
    },
    {
     "data": {
      "text/html": [
       "<pre>Finished parsing file /Users/Aniket/anaconda/CC_data.csv</pre>"
      ],
      "text/plain": [
       "Finished parsing file /Users/Aniket/anaconda/CC_data.csv"
      ]
     },
     "metadata": {},
     "output_type": "display_data"
    },
    {
     "data": {
      "text/html": [
       "<pre>Parsing completed. Parsed 100 lines in 0.035776 secs.</pre>"
      ],
      "text/plain": [
       "Parsing completed. Parsed 100 lines in 0.035776 secs."
      ]
     },
     "metadata": {},
     "output_type": "display_data"
    },
    {
     "name": "stdout",
     "output_type": "stream",
     "text": [
      "------------------------------------------------------\n",
      "Inferred types from first 100 line(s) of file as \n",
      "column_type_hints=[int,str,int,int,int,int,int,int,int,int,int,int,int,int,int,int,int,float,int,int]\n",
      "If parsing fails due to incorrect types, you can correct\n",
      "the inferred type list above and pass it to read_csv in\n",
      "the column_type_hints argument\n",
      "------------------------------------------------------\n"
     ]
    },
    {
     "data": {
      "text/html": [
       "<pre>Finished parsing file /Users/Aniket/anaconda/CC_data.csv</pre>"
      ],
      "text/plain": [
       "Finished parsing file /Users/Aniket/anaconda/CC_data.csv"
      ]
     },
     "metadata": {},
     "output_type": "display_data"
    },
    {
     "data": {
      "text/html": [
       "<pre>Parsing completed. Parsed 120 lines in 0.014839 secs.</pre>"
      ],
      "text/plain": [
       "Parsing completed. Parsed 120 lines in 0.014839 secs."
      ]
     },
     "metadata": {},
     "output_type": "display_data"
    }
   ],
   "source": [
    "url = '/Users/Aniket/anaconda/CC_data.csv'\n",
    "cc= graphlab.SFrame.read_csv(url)"
   ]
  },
  {
   "cell_type": "code",
   "execution_count": 4,
   "metadata": {
    "collapsed": false
   },
   "outputs": [
    {
     "data": {
      "text/html": [
       "<div style=\"max-height:1000px;max-width:1500px;overflow:auto;\"><table frame=\"box\" rules=\"cols\">\n",
       "    <tr>\n",
       "        <th style=\"padding-left: 1em; padding-right: 1em; text-align: center\">ID</th>\n",
       "        <th style=\"padding-left: 1em; padding-right: 1em; text-align: center\">Product</th>\n",
       "        <th style=\"padding-left: 1em; padding-right: 1em; text-align: center\">Last_Stmt_Bal</th>\n",
       "        <th style=\"padding-left: 1em; padding-right: 1em; text-align: center\">Curr_Stmt_Bal</th>\n",
       "        <th style=\"padding-left: 1em; padding-right: 1em; text-align: center\">Curr_Age</th>\n",
       "        <th style=\"padding-left: 1em; padding-right: 1em; text-align: center\">Prev_01_Age</th>\n",
       "        <th style=\"padding-left: 1em; padding-right: 1em; text-align: center\">Prev_02_Age</th>\n",
       "        <th style=\"padding-left: 1em; padding-right: 1em; text-align: center\">Prev_03_Age</th>\n",
       "        <th style=\"padding-left: 1em; padding-right: 1em; text-align: center\">Prev_04_Age</th>\n",
       "        <th style=\"padding-left: 1em; padding-right: 1em; text-align: center\">Prev_05_Age</th>\n",
       "    </tr>\n",
       "    <tr>\n",
       "        <td style=\"padding-left: 1em; padding-right: 1em; text-align: center; vertical-align: top\">1</td>\n",
       "        <td style=\"padding-left: 1em; padding-right: 1em; text-align: center; vertical-align: top\">P</td>\n",
       "        <td style=\"padding-left: 1em; padding-right: 1em; text-align: center; vertical-align: top\">40024</td>\n",
       "        <td style=\"padding-left: 1em; padding-right: 1em; text-align: center; vertical-align: top\">38442</td>\n",
       "        <td style=\"padding-left: 1em; padding-right: 1em; text-align: center; vertical-align: top\">0</td>\n",
       "        <td style=\"padding-left: 1em; padding-right: 1em; text-align: center; vertical-align: top\">0</td>\n",
       "        <td style=\"padding-left: 1em; padding-right: 1em; text-align: center; vertical-align: top\">0</td>\n",
       "        <td style=\"padding-left: 1em; padding-right: 1em; text-align: center; vertical-align: top\">0</td>\n",
       "        <td style=\"padding-left: 1em; padding-right: 1em; text-align: center; vertical-align: top\">0</td>\n",
       "        <td style=\"padding-left: 1em; padding-right: 1em; text-align: center; vertical-align: top\">0</td>\n",
       "    </tr>\n",
       "    <tr>\n",
       "        <td style=\"padding-left: 1em; padding-right: 1em; text-align: center; vertical-align: top\">2</td>\n",
       "        <td style=\"padding-left: 1em; padding-right: 1em; text-align: center; vertical-align: top\">P</td>\n",
       "        <td style=\"padding-left: 1em; padding-right: 1em; text-align: center; vertical-align: top\">13640</td>\n",
       "        <td style=\"padding-left: 1em; padding-right: 1em; text-align: center; vertical-align: top\">20500</td>\n",
       "        <td style=\"padding-left: 1em; padding-right: 1em; text-align: center; vertical-align: top\">0</td>\n",
       "        <td style=\"padding-left: 1em; padding-right: 1em; text-align: center; vertical-align: top\">0</td>\n",
       "        <td style=\"padding-left: 1em; padding-right: 1em; text-align: center; vertical-align: top\">0</td>\n",
       "        <td style=\"padding-left: 1em; padding-right: 1em; text-align: center; vertical-align: top\">0</td>\n",
       "        <td style=\"padding-left: 1em; padding-right: 1em; text-align: center; vertical-align: top\">0</td>\n",
       "        <td style=\"padding-left: 1em; padding-right: 1em; text-align: center; vertical-align: top\">0</td>\n",
       "    </tr>\n",
       "    <tr>\n",
       "        <td style=\"padding-left: 1em; padding-right: 1em; text-align: center; vertical-align: top\">3</td>\n",
       "        <td style=\"padding-left: 1em; padding-right: 1em; text-align: center; vertical-align: top\">P</td>\n",
       "        <td style=\"padding-left: 1em; padding-right: 1em; text-align: center; vertical-align: top\">0</td>\n",
       "        <td style=\"padding-left: 1em; padding-right: 1em; text-align: center; vertical-align: top\">6500</td>\n",
       "        <td style=\"padding-left: 1em; padding-right: 1em; text-align: center; vertical-align: top\">0</td>\n",
       "        <td style=\"padding-left: 1em; padding-right: 1em; text-align: center; vertical-align: top\">0</td>\n",
       "        <td style=\"padding-left: 1em; padding-right: 1em; text-align: center; vertical-align: top\">0</td>\n",
       "        <td style=\"padding-left: 1em; padding-right: 1em; text-align: center; vertical-align: top\">0</td>\n",
       "        <td style=\"padding-left: 1em; padding-right: 1em; text-align: center; vertical-align: top\">0</td>\n",
       "        <td style=\"padding-left: 1em; padding-right: 1em; text-align: center; vertical-align: top\">0</td>\n",
       "    </tr>\n",
       "    <tr>\n",
       "        <td style=\"padding-left: 1em; padding-right: 1em; text-align: center; vertical-align: top\">4</td>\n",
       "        <td style=\"padding-left: 1em; padding-right: 1em; text-align: center; vertical-align: top\">P</td>\n",
       "        <td style=\"padding-left: 1em; padding-right: 1em; text-align: center; vertical-align: top\">723</td>\n",
       "        <td style=\"padding-left: 1em; padding-right: 1em; text-align: center; vertical-align: top\">964</td>\n",
       "        <td style=\"padding-left: 1em; padding-right: 1em; text-align: center; vertical-align: top\">0</td>\n",
       "        <td style=\"padding-left: 1em; padding-right: 1em; text-align: center; vertical-align: top\">0</td>\n",
       "        <td style=\"padding-left: 1em; padding-right: 1em; text-align: center; vertical-align: top\">0</td>\n",
       "        <td style=\"padding-left: 1em; padding-right: 1em; text-align: center; vertical-align: top\">0</td>\n",
       "        <td style=\"padding-left: 1em; padding-right: 1em; text-align: center; vertical-align: top\">0</td>\n",
       "        <td style=\"padding-left: 1em; padding-right: 1em; text-align: center; vertical-align: top\">0</td>\n",
       "    </tr>\n",
       "    <tr>\n",
       "        <td style=\"padding-left: 1em; padding-right: 1em; text-align: center; vertical-align: top\">5</td>\n",
       "        <td style=\"padding-left: 1em; padding-right: 1em; text-align: center; vertical-align: top\">P</td>\n",
       "        <td style=\"padding-left: 1em; padding-right: 1em; text-align: center; vertical-align: top\">92064</td>\n",
       "        <td style=\"padding-left: 1em; padding-right: 1em; text-align: center; vertical-align: top\">6257</td>\n",
       "        <td style=\"padding-left: 1em; padding-right: 1em; text-align: center; vertical-align: top\">0</td>\n",
       "        <td style=\"padding-left: 1em; padding-right: 1em; text-align: center; vertical-align: top\">0</td>\n",
       "        <td style=\"padding-left: 1em; padding-right: 1em; text-align: center; vertical-align: top\">0</td>\n",
       "        <td style=\"padding-left: 1em; padding-right: 1em; text-align: center; vertical-align: top\">0</td>\n",
       "        <td style=\"padding-left: 1em; padding-right: 1em; text-align: center; vertical-align: top\">0</td>\n",
       "        <td style=\"padding-left: 1em; padding-right: 1em; text-align: center; vertical-align: top\">0</td>\n",
       "    </tr>\n",
       "    <tr>\n",
       "        <td style=\"padding-left: 1em; padding-right: 1em; text-align: center; vertical-align: top\">6</td>\n",
       "        <td style=\"padding-left: 1em; padding-right: 1em; text-align: center; vertical-align: top\">P</td>\n",
       "        <td style=\"padding-left: 1em; padding-right: 1em; text-align: center; vertical-align: top\">115799</td>\n",
       "        <td style=\"padding-left: 1em; padding-right: 1em; text-align: center; vertical-align: top\">227591</td>\n",
       "        <td style=\"padding-left: 1em; padding-right: 1em; text-align: center; vertical-align: top\">0</td>\n",
       "        <td style=\"padding-left: 1em; padding-right: 1em; text-align: center; vertical-align: top\">0</td>\n",
       "        <td style=\"padding-left: 1em; padding-right: 1em; text-align: center; vertical-align: top\">0</td>\n",
       "        <td style=\"padding-left: 1em; padding-right: 1em; text-align: center; vertical-align: top\">0</td>\n",
       "        <td style=\"padding-left: 1em; padding-right: 1em; text-align: center; vertical-align: top\">0</td>\n",
       "        <td style=\"padding-left: 1em; padding-right: 1em; text-align: center; vertical-align: top\">0</td>\n",
       "    </tr>\n",
       "    <tr>\n",
       "        <td style=\"padding-left: 1em; padding-right: 1em; text-align: center; vertical-align: top\">7</td>\n",
       "        <td style=\"padding-left: 1em; padding-right: 1em; text-align: center; vertical-align: top\">P</td>\n",
       "        <td style=\"padding-left: 1em; padding-right: 1em; text-align: center; vertical-align: top\">161301</td>\n",
       "        <td style=\"padding-left: 1em; padding-right: 1em; text-align: center; vertical-align: top\">185728</td>\n",
       "        <td style=\"padding-left: 1em; padding-right: 1em; text-align: center; vertical-align: top\">0</td>\n",
       "        <td style=\"padding-left: 1em; padding-right: 1em; text-align: center; vertical-align: top\">0</td>\n",
       "        <td style=\"padding-left: 1em; padding-right: 1em; text-align: center; vertical-align: top\">0</td>\n",
       "        <td style=\"padding-left: 1em; padding-right: 1em; text-align: center; vertical-align: top\">0</td>\n",
       "        <td style=\"padding-left: 1em; padding-right: 1em; text-align: center; vertical-align: top\">0</td>\n",
       "        <td style=\"padding-left: 1em; padding-right: 1em; text-align: center; vertical-align: top\">0</td>\n",
       "    </tr>\n",
       "    <tr>\n",
       "        <td style=\"padding-left: 1em; padding-right: 1em; text-align: center; vertical-align: top\">8</td>\n",
       "        <td style=\"padding-left: 1em; padding-right: 1em; text-align: center; vertical-align: top\">P</td>\n",
       "        <td style=\"padding-left: 1em; padding-right: 1em; text-align: center; vertical-align: top\">110055</td>\n",
       "        <td style=\"padding-left: 1em; padding-right: 1em; text-align: center; vertical-align: top\">29217</td>\n",
       "        <td style=\"padding-left: 1em; padding-right: 1em; text-align: center; vertical-align: top\">0</td>\n",
       "        <td style=\"padding-left: 1em; padding-right: 1em; text-align: center; vertical-align: top\">0</td>\n",
       "        <td style=\"padding-left: 1em; padding-right: 1em; text-align: center; vertical-align: top\">0</td>\n",
       "        <td style=\"padding-left: 1em; padding-right: 1em; text-align: center; vertical-align: top\">0</td>\n",
       "        <td style=\"padding-left: 1em; padding-right: 1em; text-align: center; vertical-align: top\">0</td>\n",
       "        <td style=\"padding-left: 1em; padding-right: 1em; text-align: center; vertical-align: top\">0</td>\n",
       "    </tr>\n",
       "    <tr>\n",
       "        <td style=\"padding-left: 1em; padding-right: 1em; text-align: center; vertical-align: top\">9</td>\n",
       "        <td style=\"padding-left: 1em; padding-right: 1em; text-align: center; vertical-align: top\">P</td>\n",
       "        <td style=\"padding-left: 1em; padding-right: 1em; text-align: center; vertical-align: top\">181109</td>\n",
       "        <td style=\"padding-left: 1em; padding-right: 1em; text-align: center; vertical-align: top\">218659</td>\n",
       "        <td style=\"padding-left: 1em; padding-right: 1em; text-align: center; vertical-align: top\">0</td>\n",
       "        <td style=\"padding-left: 1em; padding-right: 1em; text-align: center; vertical-align: top\">0</td>\n",
       "        <td style=\"padding-left: 1em; padding-right: 1em; text-align: center; vertical-align: top\">0</td>\n",
       "        <td style=\"padding-left: 1em; padding-right: 1em; text-align: center; vertical-align: top\">3</td>\n",
       "        <td style=\"padding-left: 1em; padding-right: 1em; text-align: center; vertical-align: top\">3</td>\n",
       "        <td style=\"padding-left: 1em; padding-right: 1em; text-align: center; vertical-align: top\">3</td>\n",
       "    </tr>\n",
       "    <tr>\n",
       "        <td style=\"padding-left: 1em; padding-right: 1em; text-align: center; vertical-align: top\">10</td>\n",
       "        <td style=\"padding-left: 1em; padding-right: 1em; text-align: center; vertical-align: top\">P</td>\n",
       "        <td style=\"padding-left: 1em; padding-right: 1em; text-align: center; vertical-align: top\">87301</td>\n",
       "        <td style=\"padding-left: 1em; padding-right: 1em; text-align: center; vertical-align: top\">55726</td>\n",
       "        <td style=\"padding-left: 1em; padding-right: 1em; text-align: center; vertical-align: top\">0</td>\n",
       "        <td style=\"padding-left: 1em; padding-right: 1em; text-align: center; vertical-align: top\">0</td>\n",
       "        <td style=\"padding-left: 1em; padding-right: 1em; text-align: center; vertical-align: top\">0</td>\n",
       "        <td style=\"padding-left: 1em; padding-right: 1em; text-align: center; vertical-align: top\">0</td>\n",
       "        <td style=\"padding-left: 1em; padding-right: 1em; text-align: center; vertical-align: top\">0</td>\n",
       "        <td style=\"padding-left: 1em; padding-right: 1em; text-align: center; vertical-align: top\">0</td>\n",
       "    </tr>\n",
       "</table>\n",
       "<table frame=\"box\" rules=\"cols\">\n",
       "    <tr>\n",
       "        <th style=\"padding-left: 1em; padding-right: 1em; text-align: center\">Prev_06_Age</th>\n",
       "        <th style=\"padding-left: 1em; padding-right: 1em; text-align: center\">Prev_07_Age</th>\n",
       "        <th style=\"padding-left: 1em; padding-right: 1em; text-align: center\">Prev_08_Age</th>\n",
       "        <th style=\"padding-left: 1em; padding-right: 1em; text-align: center\">Prev_09_Age</th>\n",
       "        <th style=\"padding-left: 1em; padding-right: 1em; text-align: center\">Prev_10_Age</th>\n",
       "        <th style=\"padding-left: 1em; padding-right: 1em; text-align: center\">Prev_11_Age</th>\n",
       "        <th style=\"padding-left: 1em; padding-right: 1em; text-align: center\">Laguage</th>\n",
       "        <th style=\"padding-left: 1em; padding-right: 1em; text-align: center\">Six_Month_Avg</th>\n",
       "        <th style=\"padding-left: 1em; padding-right: 1em; text-align: center\">Age</th>\n",
       "    </tr>\n",
       "    <tr>\n",
       "        <td style=\"padding-left: 1em; padding-right: 1em; text-align: center; vertical-align: top\">0</td>\n",
       "        <td style=\"padding-left: 1em; padding-right: 1em; text-align: center; vertical-align: top\">3</td>\n",
       "        <td style=\"padding-left: 1em; padding-right: 1em; text-align: center; vertical-align: top\">0</td>\n",
       "        <td style=\"padding-left: 1em; padding-right: 1em; text-align: center; vertical-align: top\">0</td>\n",
       "        <td style=\"padding-left: 1em; padding-right: 1em; text-align: center; vertical-align: top\">0</td>\n",
       "        <td style=\"padding-left: 1em; padding-right: 1em; text-align: center; vertical-align: top\">3</td>\n",
       "        <td style=\"padding-left: 1em; padding-right: 1em; text-align: center; vertical-align: top\">5</td>\n",
       "        <td style=\"padding-left: 1em; padding-right: 1em; text-align: center; vertical-align: top\">94029.33</td>\n",
       "        <td style=\"padding-left: 1em; padding-right: 1em; text-align: center; vertical-align: top\">829</td>\n",
       "    </tr>\n",
       "    <tr>\n",
       "        <td style=\"padding-left: 1em; padding-right: 1em; text-align: center; vertical-align: top\">0</td>\n",
       "        <td style=\"padding-left: 1em; padding-right: 1em; text-align: center; vertical-align: top\">0</td>\n",
       "        <td style=\"padding-left: 1em; padding-right: 1em; text-align: center; vertical-align: top\">0</td>\n",
       "        <td style=\"padding-left: 1em; padding-right: 1em; text-align: center; vertical-align: top\">0</td>\n",
       "        <td style=\"padding-left: 1em; padding-right: 1em; text-align: center; vertical-align: top\">0</td>\n",
       "        <td style=\"padding-left: 1em; padding-right: 1em; text-align: center; vertical-align: top\">0</td>\n",
       "        <td style=\"padding-left: 1em; padding-right: 1em; text-align: center; vertical-align: top\">5</td>\n",
       "        <td style=\"padding-left: 1em; padding-right: 1em; text-align: center; vertical-align: top\">9154.0</td>\n",
       "        <td style=\"padding-left: 1em; padding-right: 1em; text-align: center; vertical-align: top\">1053</td>\n",
       "    </tr>\n",
       "    <tr>\n",
       "        <td style=\"padding-left: 1em; padding-right: 1em; text-align: center; vertical-align: top\">0</td>\n",
       "        <td style=\"padding-left: 1em; padding-right: 1em; text-align: center; vertical-align: top\">0</td>\n",
       "        <td style=\"padding-left: 1em; padding-right: 1em; text-align: center; vertical-align: top\">0</td>\n",
       "        <td style=\"padding-left: 1em; padding-right: 1em; text-align: center; vertical-align: top\">0</td>\n",
       "        <td style=\"padding-left: 1em; padding-right: 1em; text-align: center; vertical-align: top\">0</td>\n",
       "        <td style=\"padding-left: 1em; padding-right: 1em; text-align: center; vertical-align: top\">0</td>\n",
       "        <td style=\"padding-left: 1em; padding-right: 1em; text-align: center; vertical-align: top\">5</td>\n",
       "        <td style=\"padding-left: 1em; padding-right: 1em; text-align: center; vertical-align: top\">1500.0</td>\n",
       "        <td style=\"padding-left: 1em; padding-right: 1em; text-align: center; vertical-align: top\">979</td>\n",
       "    </tr>\n",
       "    <tr>\n",
       "        <td style=\"padding-left: 1em; padding-right: 1em; text-align: center; vertical-align: top\">0</td>\n",
       "        <td style=\"padding-left: 1em; padding-right: 1em; text-align: center; vertical-align: top\">0</td>\n",
       "        <td style=\"padding-left: 1em; padding-right: 1em; text-align: center; vertical-align: top\">0</td>\n",
       "        <td style=\"padding-left: 1em; padding-right: 1em; text-align: center; vertical-align: top\">0</td>\n",
       "        <td style=\"padding-left: 1em; padding-right: 1em; text-align: center; vertical-align: top\">0</td>\n",
       "        <td style=\"padding-left: 1em; padding-right: 1em; text-align: center; vertical-align: top\">0</td>\n",
       "        <td style=\"padding-left: 1em; padding-right: 1em; text-align: center; vertical-align: top\">5</td>\n",
       "        <td style=\"padding-left: 1em; padding-right: 1em; text-align: center; vertical-align: top\">1485.0</td>\n",
       "        <td style=\"padding-left: 1em; padding-right: 1em; text-align: center; vertical-align: top\">758</td>\n",
       "    </tr>\n",
       "    <tr>\n",
       "        <td style=\"padding-left: 1em; padding-right: 1em; text-align: center; vertical-align: top\">0</td>\n",
       "        <td style=\"padding-left: 1em; padding-right: 1em; text-align: center; vertical-align: top\">0</td>\n",
       "        <td style=\"padding-left: 1em; padding-right: 1em; text-align: center; vertical-align: top\">0</td>\n",
       "        <td style=\"padding-left: 1em; padding-right: 1em; text-align: center; vertical-align: top\">0</td>\n",
       "        <td style=\"padding-left: 1em; padding-right: 1em; text-align: center; vertical-align: top\">0</td>\n",
       "        <td style=\"padding-left: 1em; padding-right: 1em; text-align: center; vertical-align: top\">0</td>\n",
       "        <td style=\"padding-left: 1em; padding-right: 1em; text-align: center; vertical-align: top\">1</td>\n",
       "        <td style=\"padding-left: 1em; padding-right: 1em; text-align: center; vertical-align: top\">127767.66</td>\n",
       "        <td style=\"padding-left: 1em; padding-right: 1em; text-align: center; vertical-align: top\">942</td>\n",
       "    </tr>\n",
       "    <tr>\n",
       "        <td style=\"padding-left: 1em; padding-right: 1em; text-align: center; vertical-align: top\">0</td>\n",
       "        <td style=\"padding-left: 1em; padding-right: 1em; text-align: center; vertical-align: top\">0</td>\n",
       "        <td style=\"padding-left: 1em; padding-right: 1em; text-align: center; vertical-align: top\">0</td>\n",
       "        <td style=\"padding-left: 1em; padding-right: 1em; text-align: center; vertical-align: top\">0</td>\n",
       "        <td style=\"padding-left: 1em; padding-right: 1em; text-align: center; vertical-align: top\">0</td>\n",
       "        <td style=\"padding-left: 1em; padding-right: 1em; text-align: center; vertical-align: top\">0</td>\n",
       "        <td style=\"padding-left: 1em; padding-right: 1em; text-align: center; vertical-align: top\">1</td>\n",
       "        <td style=\"padding-left: 1em; padding-right: 1em; text-align: center; vertical-align: top\">116922.66</td>\n",
       "        <td style=\"padding-left: 1em; padding-right: 1em; text-align: center; vertical-align: top\">747</td>\n",
       "    </tr>\n",
       "    <tr>\n",
       "        <td style=\"padding-left: 1em; padding-right: 1em; text-align: center; vertical-align: top\">0</td>\n",
       "        <td style=\"padding-left: 1em; padding-right: 1em; text-align: center; vertical-align: top\">0</td>\n",
       "        <td style=\"padding-left: 1em; padding-right: 1em; text-align: center; vertical-align: top\">0</td>\n",
       "        <td style=\"padding-left: 1em; padding-right: 1em; text-align: center; vertical-align: top\">0</td>\n",
       "        <td style=\"padding-left: 1em; padding-right: 1em; text-align: center; vertical-align: top\">0</td>\n",
       "        <td style=\"padding-left: 1em; padding-right: 1em; text-align: center; vertical-align: top\">0</td>\n",
       "        <td style=\"padding-left: 1em; padding-right: 1em; text-align: center; vertical-align: top\">1</td>\n",
       "        <td style=\"padding-left: 1em; padding-right: 1em; text-align: center; vertical-align: top\">410747.22</td>\n",
       "        <td style=\"padding-left: 1em; padding-right: 1em; text-align: center; vertical-align: top\">778</td>\n",
       "    </tr>\n",
       "    <tr>\n",
       "        <td style=\"padding-left: 1em; padding-right: 1em; text-align: center; vertical-align: top\">0</td>\n",
       "        <td style=\"padding-left: 1em; padding-right: 1em; text-align: center; vertical-align: top\">0</td>\n",
       "        <td style=\"padding-left: 1em; padding-right: 1em; text-align: center; vertical-align: top\">0</td>\n",
       "        <td style=\"padding-left: 1em; padding-right: 1em; text-align: center; vertical-align: top\">0</td>\n",
       "        <td style=\"padding-left: 1em; padding-right: 1em; text-align: center; vertical-align: top\">0</td>\n",
       "        <td style=\"padding-left: 1em; padding-right: 1em; text-align: center; vertical-align: top\">0</td>\n",
       "        <td style=\"padding-left: 1em; padding-right: 1em; text-align: center; vertical-align: top\">5</td>\n",
       "        <td style=\"padding-left: 1em; padding-right: 1em; text-align: center; vertical-align: top\">46803.5</td>\n",
       "        <td style=\"padding-left: 1em; padding-right: 1em; text-align: center; vertical-align: top\">791</td>\n",
       "    </tr>\n",
       "    <tr>\n",
       "        <td style=\"padding-left: 1em; padding-right: 1em; text-align: center; vertical-align: top\">0</td>\n",
       "        <td style=\"padding-left: 1em; padding-right: 1em; text-align: center; vertical-align: top\">0</td>\n",
       "        <td style=\"padding-left: 1em; padding-right: 1em; text-align: center; vertical-align: top\">0</td>\n",
       "        <td style=\"padding-left: 1em; padding-right: 1em; text-align: center; vertical-align: top\">0</td>\n",
       "        <td style=\"padding-left: 1em; padding-right: 1em; text-align: center; vertical-align: top\">0</td>\n",
       "        <td style=\"padding-left: 1em; padding-right: 1em; text-align: center; vertical-align: top\">0</td>\n",
       "        <td style=\"padding-left: 1em; padding-right: 1em; text-align: center; vertical-align: top\">1</td>\n",
       "        <td style=\"padding-left: 1em; padding-right: 1em; text-align: center; vertical-align: top\">155554.5</td>\n",
       "        <td style=\"padding-left: 1em; padding-right: 1em; text-align: center; vertical-align: top\">807</td>\n",
       "    </tr>\n",
       "    <tr>\n",
       "        <td style=\"padding-left: 1em; padding-right: 1em; text-align: center; vertical-align: top\">0</td>\n",
       "        <td style=\"padding-left: 1em; padding-right: 1em; text-align: center; vertical-align: top\">0</td>\n",
       "        <td style=\"padding-left: 1em; padding-right: 1em; text-align: center; vertical-align: top\">0</td>\n",
       "        <td style=\"padding-left: 1em; padding-right: 1em; text-align: center; vertical-align: top\">0</td>\n",
       "        <td style=\"padding-left: 1em; padding-right: 1em; text-align: center; vertical-align: top\">0</td>\n",
       "        <td style=\"padding-left: 1em; padding-right: 1em; text-align: center; vertical-align: top\">0</td>\n",
       "        <td style=\"padding-left: 1em; padding-right: 1em; text-align: center; vertical-align: top\">1</td>\n",
       "        <td style=\"padding-left: 1em; padding-right: 1em; text-align: center; vertical-align: top\">156224.83</td>\n",
       "        <td style=\"padding-left: 1em; padding-right: 1em; text-align: center; vertical-align: top\">792</td>\n",
       "    </tr>\n",
       "</table>\n",
       "<table frame=\"box\" rules=\"cols\">\n",
       "    <tr>\n",
       "        <th style=\"padding-left: 1em; padding-right: 1em; text-align: center\">Cust_Since</th>\n",
       "    </tr>\n",
       "    <tr>\n",
       "        <td style=\"padding-left: 1em; padding-right: 1em; text-align: center; vertical-align: top\">455</td>\n",
       "    </tr>\n",
       "    <tr>\n",
       "        <td style=\"padding-left: 1em; padding-right: 1em; text-align: center; vertical-align: top\">455</td>\n",
       "    </tr>\n",
       "    <tr>\n",
       "        <td style=\"padding-left: 1em; padding-right: 1em; text-align: center; vertical-align: top\">455</td>\n",
       "    </tr>\n",
       "    <tr>\n",
       "        <td style=\"padding-left: 1em; padding-right: 1em; text-align: center; vertical-align: top\">455</td>\n",
       "    </tr>\n",
       "    <tr>\n",
       "        <td style=\"padding-left: 1em; padding-right: 1em; text-align: center; vertical-align: top\">431</td>\n",
       "    </tr>\n",
       "    <tr>\n",
       "        <td style=\"padding-left: 1em; padding-right: 1em; text-align: center; vertical-align: top\">455</td>\n",
       "    </tr>\n",
       "    <tr>\n",
       "        <td style=\"padding-left: 1em; padding-right: 1em; text-align: center; vertical-align: top\">455</td>\n",
       "    </tr>\n",
       "    <tr>\n",
       "        <td style=\"padding-left: 1em; padding-right: 1em; text-align: center; vertical-align: top\">455</td>\n",
       "    </tr>\n",
       "    <tr>\n",
       "        <td style=\"padding-left: 1em; padding-right: 1em; text-align: center; vertical-align: top\">455</td>\n",
       "    </tr>\n",
       "    <tr>\n",
       "        <td style=\"padding-left: 1em; padding-right: 1em; text-align: center; vertical-align: top\">455</td>\n",
       "    </tr>\n",
       "</table>\n",
       "[10 rows x 20 columns]<br/>\n",
       "</div>"
      ],
      "text/plain": [
       "Columns:\n",
       "\tID\tint\n",
       "\tProduct\tstr\n",
       "\tLast_Stmt_Bal\tint\n",
       "\tCurr_Stmt_Bal\tint\n",
       "\tCurr_Age\tint\n",
       "\tPrev_01_Age\tint\n",
       "\tPrev_02_Age\tint\n",
       "\tPrev_03_Age\tint\n",
       "\tPrev_04_Age\tint\n",
       "\tPrev_05_Age\tint\n",
       "\tPrev_06_Age\tint\n",
       "\tPrev_07_Age\tint\n",
       "\tPrev_08_Age\tint\n",
       "\tPrev_09_Age\tint\n",
       "\tPrev_10_Age\tint\n",
       "\tPrev_11_Age\tint\n",
       "\tLaguage\tint\n",
       "\tSix_Month_Avg\tfloat\n",
       "\tAge\tint\n",
       "\tCust_Since\tint\n",
       "\n",
       "Rows: 10\n",
       "\n",
       "Data:\n",
       "+----+---------+---------------+---------------+----------+-------------+-------------+\n",
       "| ID | Product | Last_Stmt_Bal | Curr_Stmt_Bal | Curr_Age | Prev_01_Age | Prev_02_Age |\n",
       "+----+---------+---------------+---------------+----------+-------------+-------------+\n",
       "| 1  |    P    |     40024     |     38442     |    0     |      0      |      0      |\n",
       "| 2  |    P    |     13640     |     20500     |    0     |      0      |      0      |\n",
       "| 3  |    P    |       0       |      6500     |    0     |      0      |      0      |\n",
       "| 4  |    P    |      723      |      964      |    0     |      0      |      0      |\n",
       "| 5  |    P    |     92064     |      6257     |    0     |      0      |      0      |\n",
       "| 6  |    P    |     115799    |     227591    |    0     |      0      |      0      |\n",
       "| 7  |    P    |     161301    |     185728    |    0     |      0      |      0      |\n",
       "| 8  |    P    |     110055    |     29217     |    0     |      0      |      0      |\n",
       "| 9  |    P    |     181109    |     218659    |    0     |      0      |      0      |\n",
       "| 10 |    P    |     87301     |     55726     |    0     |      0      |      0      |\n",
       "+----+---------+---------------+---------------+----------+-------------+-------------+\n",
       "+-------------+-------------+-------------+-------------+-------------+-------------+\n",
       "| Prev_03_Age | Prev_04_Age | Prev_05_Age | Prev_06_Age | Prev_07_Age | Prev_08_Age |\n",
       "+-------------+-------------+-------------+-------------+-------------+-------------+\n",
       "|      0      |      0      |      0      |      0      |      3      |      0      |\n",
       "|      0      |      0      |      0      |      0      |      0      |      0      |\n",
       "|      0      |      0      |      0      |      0      |      0      |      0      |\n",
       "|      0      |      0      |      0      |      0      |      0      |      0      |\n",
       "|      0      |      0      |      0      |      0      |      0      |      0      |\n",
       "|      0      |      0      |      0      |      0      |      0      |      0      |\n",
       "|      0      |      0      |      0      |      0      |      0      |      0      |\n",
       "|      0      |      0      |      0      |      0      |      0      |      0      |\n",
       "|      3      |      3      |      3      |      0      |      0      |      0      |\n",
       "|      0      |      0      |      0      |      0      |      0      |      0      |\n",
       "+-------------+-------------+-------------+-------------+-------------+-------------+\n",
       "+-------------+-------------+-------------+---------+---------------+------+------------+\n",
       "| Prev_09_Age | Prev_10_Age | Prev_11_Age | Laguage | Six_Month_Avg | Age  | Cust_Since |\n",
       "+-------------+-------------+-------------+---------+---------------+------+------------+\n",
       "|      0      |      0      |      3      |    5    |    94029.33   | 829  |    455     |\n",
       "|      0      |      0      |      0      |    5    |     9154.0    | 1053 |    455     |\n",
       "|      0      |      0      |      0      |    5    |     1500.0    | 979  |    455     |\n",
       "|      0      |      0      |      0      |    5    |     1485.0    | 758  |    455     |\n",
       "|      0      |      0      |      0      |    1    |   127767.66   | 942  |    431     |\n",
       "|      0      |      0      |      0      |    1    |   116922.66   | 747  |    455     |\n",
       "|      0      |      0      |      0      |    1    |   410747.22   | 778  |    455     |\n",
       "|      0      |      0      |      0      |    5    |    46803.5    | 791  |    455     |\n",
       "|      0      |      0      |      0      |    1    |    155554.5   | 807  |    455     |\n",
       "|      0      |      0      |      0      |    1    |   156224.83   | 792  |    455     |\n",
       "+-------------+-------------+-------------+---------+---------------+------+------------+\n",
       "[10 rows x 20 columns]"
      ]
     },
     "execution_count": 4,
     "metadata": {},
     "output_type": "execute_result"
    }
   ],
   "source": [
    "cc.head()"
   ]
  },
  {
   "cell_type": "code",
   "execution_count": 6,
   "metadata": {
    "collapsed": false
   },
   "outputs": [
    {
     "data": {
      "application/javascript": [
       "$(\"head\").append($(\"<link/>\").attr({\n",
       "  rel:  \"stylesheet\",\n",
       "  type: \"text/css\",\n",
       "  href: \"//cdnjs.cloudflare.com/ajax/libs/font-awesome/4.1.0/css/font-awesome.min.css\"\n",
       "}));\n",
       "$(\"head\").append($(\"<link/>\").attr({\n",
       "  rel:  \"stylesheet\",\n",
       "  type: \"text/css\",\n",
       "  href: \"https://static.turi.com/products/graphlab-create/2.1/canvas/css/canvas.css\"\n",
       "}));\n",
       "\n",
       "            (function(){\n",
       "\n",
       "                var e = null;\n",
       "                if (typeof element == 'undefined') {\n",
       "                    var scripts = document.getElementsByTagName('script');\n",
       "                    var thisScriptTag = scripts[scripts.length-1];\n",
       "                    var parentDiv = thisScriptTag.parentNode;\n",
       "                    e = document.createElement('div');\n",
       "                    parentDiv.appendChild(e);\n",
       "                } else {\n",
       "                    e = element[0];\n",
       "                }\n",
       "\n",
       "                if (typeof requirejs !== 'undefined') {\n",
       "                    // disable load timeout; ipython_app.js is large and can take a while to load.\n",
       "                    requirejs.config({waitSeconds: 0});\n",
       "                }\n",
       "\n",
       "                require(['https://static.turi.com/products/graphlab-create/2.1/canvas/js/ipython_app.js'], function(IPythonApp){\n",
       "                    var app = new IPythonApp();\n",
       "                    app.attachView('sframe','Summary', {\"ipython\": true, \"sketch\": {\"Prev_04_Age\": {\"std\": 1.0650704202070396, \"complete\": true, \"min\": 0.0, \"max\": 6.0, \"quantile\": [0.0, 0.0, 0.0, 0.0, 0.0, 0.0, 0.0, 0.0, 0.0, 0.0, 0.0, 0.0, 0.0, 0.0, 0.0, 0.0, 0.0, 0.0, 0.0, 0.0, 0.0, 0.0, 0.0, 0.0, 0.0, 0.0, 0.0, 0.0, 0.0, 0.0, 0.0, 0.0, 0.0, 0.0, 0.0, 0.0, 0.0, 0.0, 0.0, 0.0, 0.0, 0.0, 0.0, 0.0, 0.0, 0.0, 0.0, 0.0, 0.0, 0.0, 0.0, 0.0, 0.0, 0.0, 0.0, 0.0, 0.0, 0.0, 0.0, 0.0, 0.0, 0.0, 0.0, 0.0, 0.0, 0.0, 0.0, 0.0, 0.0, 0.0, 0.0, 0.0, 0.0, 0.0, 0.0, 0.0, 0.0, 0.0, 0.0, 0.0, 0.0, 0.0, 0.0, 0.0, 0.0, 0.0, 0.0, 0.0, 0.0, 3.0, 3.0, 3.0, 3.0, 3.0, 3.0, 3.0, 3.0, 3.0, 3.0, 3.0, 6.0], \"median\": 0.0, \"numeric\": true, \"num_unique\": 3, \"num_undefined\": 0, \"var\": 1.134375, \"progress\": 1.0, \"size\": 120, \"frequent_items\": {\"0\": {\"frequency\": 106, \"value\": 0}, \"3\": {\"frequency\": 13, \"value\": 3}, \"6\": {\"frequency\": 1, \"value\": 6}}, \"mean\": 0.375}, \"Product\": {\"complete\": true, \"numeric\": false, \"num_unique\": 2, \"num_undefined\": 0, \"progress\": 1.0, \"frequent_items\": {\"P\": {\"frequency\": 106, \"value\": \"P\"}, \"C\": {\"frequency\": 14, \"value\": \"C\"}}, \"size\": 120}, \"Prev_02_Age\": {\"std\": 1.0198039027185568, \"complete\": true, \"min\": 0.0, \"max\": 3.0, \"quantile\": [0.0, 0.0, 0.0, 0.0, 0.0, 0.0, 0.0, 0.0, 0.0, 0.0, 0.0, 0.0, 0.0, 0.0, 0.0, 0.0, 0.0, 0.0, 0.0, 0.0, 0.0, 0.0, 0.0, 0.0, 0.0, 0.0, 0.0, 0.0, 0.0, 0.0, 0.0, 0.0, 0.0, 0.0, 0.0, 0.0, 0.0, 0.0, 0.0, 0.0, 0.0, 0.0, 0.0, 0.0, 0.0, 0.0, 0.0, 0.0, 0.0, 0.0, 0.0, 0.0, 0.0, 0.0, 0.0, 0.0, 0.0, 0.0, 0.0, 0.0, 0.0, 0.0, 0.0, 0.0, 0.0, 0.0, 0.0, 0.0, 0.0, 0.0, 0.0, 0.0, 0.0, 0.0, 0.0, 0.0, 0.0, 0.0, 0.0, 0.0, 0.0, 0.0, 0.0, 0.0, 0.0, 0.0, 0.0, 3.0, 3.0, 3.0, 3.0, 3.0, 3.0, 3.0, 3.0, 3.0, 3.0, 3.0, 3.0, 3.0, 3.0], \"median\": 0.0, \"numeric\": true, \"num_unique\": 2, \"num_undefined\": 0, \"var\": 1.0399999999999998, \"progress\": 1.0, \"size\": 120, \"frequent_items\": {\"0\": {\"frequency\": 104, \"value\": 0}, \"3\": {\"frequency\": 16, \"value\": 3}}, \"mean\": 0.39999999999999997}, \"Cust_Since\": {\"std\": 93.9188002567466, \"complete\": true, \"min\": 111.0, \"max\": 587.0, \"quantile\": [111.0, 133.0, 147.0, 151.0, 162.0, 168.0, 169.0, 172.0, 173.0, 173.0, 176.0, 188.0, 189.0, 192.0, 192.0, 199.0, 220.0, 221.0, 225.0, 228.0, 238.0, 238.0, 249.0, 250.0, 319.0, 331.0, 331.0, 333.0, 333.0, 335.0, 335.0, 335.0, 336.0, 337.0, 344.0, 351.0, 352.0, 353.0, 354.0, 354.0, 356.0, 357.0, 357.0, 357.0, 357.0, 357.0, 357.0, 357.0, 358.0, 358.0, 359.0, 359.0, 360.0, 360.0, 362.0, 362.0, 365.0, 365.0, 365.0, 368.0, 368.0, 370.0, 370.0, 373.0, 378.0, 381.0, 383.0, 385.0, 385.0, 385.0, 387.0, 387.0, 390.0, 392.0, 392.0, 393.0, 394.0, 397.0, 398.0, 400.0, 406.0, 407.0, 407.0, 413.0, 431.0, 443.0, 443.0, 443.0, 443.0, 443.0, 455.0, 455.0, 455.0, 455.0, 455.0, 455.0, 455.0, 455.0, 455.0, 539.0, 587.0], \"median\": 359.0, \"numeric\": true, \"num_unique\": 70, \"num_undefined\": 0, \"var\": 8820.741041666663, \"progress\": 1.0, \"size\": 120, \"frequent_items\": {\"385\": {\"frequency\": 3, \"value\": 385}, \"386\": {\"frequency\": 1, \"value\": 386}, \"387\": {\"frequency\": 2, \"value\": 387}, \"133\": {\"frequency\": 1, \"value\": 133}, \"390\": {\"frequency\": 1, \"value\": 390}, \"392\": {\"frequency\": 3, \"value\": 392}, \"393\": {\"frequency\": 1, \"value\": 393}, \"394\": {\"frequency\": 1, \"value\": 394}, \"151\": {\"frequency\": 1, \"value\": 151}, \"397\": {\"frequency\": 1, \"value\": 397}, \"398\": {\"frequency\": 1, \"value\": 398}, \"400\": {\"frequency\": 1, \"value\": 400}, \"147\": {\"frequency\": 1, \"value\": 147}, \"405\": {\"frequency\": 1, \"value\": 405}, \"406\": {\"frequency\": 1, \"value\": 406}, \"407\": {\"frequency\": 2, \"value\": 407}, \"539\": {\"frequency\": 1, \"value\": 539}, \"413\": {\"frequency\": 1, \"value\": 413}, \"162\": {\"frequency\": 1, \"value\": 162}, \"168\": {\"frequency\": 2, \"value\": 168}, \"169\": {\"frequency\": 1, \"value\": 169}, \"199\": {\"frequency\": 1, \"value\": 199}, \"172\": {\"frequency\": 1, \"value\": 172}, \"173\": {\"frequency\": 2, \"value\": 173}, \"431\": {\"frequency\": 2, \"value\": 431}, \"176\": {\"frequency\": 1, \"value\": 176}, \"179\": {\"frequency\": 1, \"value\": 179}, \"443\": {\"frequency\": 5, \"value\": 443}, \"188\": {\"frequency\": 1, \"value\": 188}, \"189\": {\"frequency\": 1, \"value\": 189}, \"250\": {\"frequency\": 1, \"value\": 250}, \"319\": {\"frequency\": 1, \"value\": 319}, \"192\": {\"frequency\": 2, \"value\": 192}, \"587\": {\"frequency\": 1, \"value\": 587}, \"197\": {\"frequency\": 1, \"value\": 197}, \"455\": {\"frequency\": 11, \"value\": 455}, \"330\": {\"frequency\": 1, \"value\": 330}, \"331\": {\"frequency\": 2, \"value\": 331}, \"333\": {\"frequency\": 2, \"value\": 333}, \"335\": {\"frequency\": 4, \"value\": 335}, \"336\": {\"frequency\": 1, \"value\": 336}, \"337\": {\"frequency\": 1, \"value\": 337}, \"353\": {\"frequency\": 1, \"value\": 353}, \"344\": {\"frequency\": 1, \"value\": 344}, \"228\": {\"frequency\": 1, \"value\": 228}, \"220\": {\"frequency\": 1, \"value\": 220}, \"221\": {\"frequency\": 1, \"value\": 221}, \"351\": {\"frequency\": 1, \"value\": 351}, \"352\": {\"frequency\": 1, \"value\": 352}, \"225\": {\"frequency\": 1, \"value\": 225}, \"354\": {\"frequency\": 3, \"value\": 354}, \"356\": {\"frequency\": 1, \"value\": 356}, \"357\": {\"frequency\": 8, \"value\": 357}, \"358\": {\"frequency\": 2, \"value\": 358}, \"359\": {\"frequency\": 3, \"value\": 359}, \"360\": {\"frequency\": 2, \"value\": 360}, \"362\": {\"frequency\": 3, \"value\": 362}, \"231\": {\"frequency\": 1, \"value\": 231}, \"365\": {\"frequency\": 3, \"value\": 365}, \"238\": {\"frequency\": 2, \"value\": 238}, \"111\": {\"frequency\": 1, \"value\": 111}, \"368\": {\"frequency\": 3, \"value\": 368}, \"370\": {\"frequency\": 2, \"value\": 370}, \"373\": {\"frequency\": 1, \"value\": 373}, \"349\": {\"frequency\": 1, \"value\": 349}, \"249\": {\"frequency\": 1, \"value\": 249}, \"378\": {\"frequency\": 1, \"value\": 378}, \"379\": {\"frequency\": 1, \"value\": 379}, \"381\": {\"frequency\": 1, \"value\": 381}, \"383\": {\"frequency\": 1, \"value\": 383}}, \"mean\": 340.7749999999999}, \"Prev_09_Age\": {\"std\": 1.0908712114635715, \"complete\": true, \"min\": 0.0, \"max\": 6.0, \"quantile\": [0.0, 0.0, 0.0, 0.0, 0.0, 0.0, 0.0, 0.0, 0.0, 0.0, 0.0, 0.0, 0.0, 0.0, 0.0, 0.0, 0.0, 0.0, 0.0, 0.0, 0.0, 0.0, 0.0, 0.0, 0.0, 0.0, 0.0, 0.0, 0.0, 0.0, 0.0, 0.0, 0.0, 0.0, 0.0, 0.0, 0.0, 0.0, 0.0, 0.0, 0.0, 0.0, 0.0, 0.0, 0.0, 0.0, 0.0, 0.0, 0.0, 0.0, 0.0, 0.0, 0.0, 0.0, 0.0, 0.0, 0.0, 0.0, 0.0, 0.0, 0.0, 0.0, 0.0, 0.0, 0.0, 0.0, 0.0, 0.0, 0.0, 0.0, 0.0, 0.0, 0.0, 0.0, 0.0, 0.0, 0.0, 0.0, 0.0, 0.0, 0.0, 0.0, 0.0, 0.0, 0.0, 0.0, 0.0, 0.0, 3.0, 3.0, 3.0, 3.0, 3.0, 3.0, 3.0, 3.0, 3.0, 3.0, 3.0, 3.0, 6.0], \"median\": 0.0, \"numeric\": true, \"num_unique\": 3, \"num_undefined\": 0, \"var\": 1.1900000000000002, \"progress\": 1.0, \"size\": 120, \"frequent_items\": {\"0\": {\"frequency\": 105, \"value\": 0}, \"3\": {\"frequency\": 14, \"value\": 3}, \"6\": {\"frequency\": 1, \"value\": 6}}, \"mean\": 0.39999999999999997}, \"Age\": {\"std\": 125.77393631255859, \"complete\": true, \"min\": 473.0, \"max\": 1053.0, \"quantile\": [473.0, 490.0, 497.0, 517.0, 534.0, 555.0, 558.0, 604.0, 608.0, 616.0, 630.0, 633.0, 644.0, 644.0, 646.0, 653.0, 666.0, 667.0, 673.0, 674.0, 682.0, 693.0, 694.0, 707.0, 708.0, 713.0, 718.0, 721.0, 722.0, 730.0, 732.0, 732.0, 734.0, 735.0, 735.0, 736.0, 740.0, 740.0, 743.0, 744.0, 747.0, 758.0, 765.0, 767.0, 770.0, 772.0, 773.0, 778.0, 779.0, 779.0, 783.0, 784.0, 791.0, 792.0, 792.0, 795.0, 796.0, 796.0, 797.0, 797.0, 800.0, 806.0, 807.0, 810.0, 816.0, 823.0, 829.0, 830.0, 832.0, 835.0, 846.0, 847.0, 856.0, 861.0, 862.0, 874.0, 884.0, 886.0, 893.0, 895.0, 911.0, 911.0, 914.0, 916.0, 916.0, 930.0, 930.0, 932.0, 941.0, 942.0, 960.0, 965.0, 975.0, 979.0, 990.0, 1005.0, 1009.0, 1016.0, 1016.0, 1024.0, 1053.0], \"median\": 783.0, \"numeric\": true, \"num_unique\": 103, \"num_undefined\": 0, \"var\": 15819.083055555546, \"progress\": 1.0, \"size\": 120, \"frequent_items\": {\"1024\": {\"frequency\": 1, \"value\": 1024}, \"517\": {\"frequency\": 1, \"value\": 517}, \"534\": {\"frequency\": 1, \"value\": 534}, \"1053\": {\"frequency\": 1, \"value\": 1053}, \"546\": {\"frequency\": 1, \"value\": 546}, \"555\": {\"frequency\": 1, \"value\": 555}, \"558\": {\"frequency\": 1, \"value\": 558}, \"604\": {\"frequency\": 1, \"value\": 604}, \"608\": {\"frequency\": 1, \"value\": 608}, \"616\": {\"frequency\": 1, \"value\": 616}, \"630\": {\"frequency\": 1, \"value\": 630}, \"632\": {\"frequency\": 1, \"value\": 632}, \"633\": {\"frequency\": 1, \"value\": 633}, \"644\": {\"frequency\": 2, \"value\": 644}, \"646\": {\"frequency\": 1, \"value\": 646}, \"651\": {\"frequency\": 1, \"value\": 651}, \"653\": {\"frequency\": 1, \"value\": 653}, \"666\": {\"frequency\": 1, \"value\": 666}, \"667\": {\"frequency\": 1, \"value\": 667}, \"673\": {\"frequency\": 1, \"value\": 673}, \"674\": {\"frequency\": 1, \"value\": 674}, \"680\": {\"frequency\": 1, \"value\": 680}, \"682\": {\"frequency\": 1, \"value\": 682}, \"693\": {\"frequency\": 1, \"value\": 693}, \"694\": {\"frequency\": 1, \"value\": 694}, \"707\": {\"frequency\": 1, \"value\": 707}, \"708\": {\"frequency\": 1, \"value\": 708}, \"713\": {\"frequency\": 2, \"value\": 713}, \"718\": {\"frequency\": 1, \"value\": 718}, \"721\": {\"frequency\": 1, \"value\": 721}, \"722\": {\"frequency\": 1, \"value\": 722}, \"730\": {\"frequency\": 2, \"value\": 730}, \"732\": {\"frequency\": 2, \"value\": 732}, \"734\": {\"frequency\": 1, \"value\": 734}, \"735\": {\"frequency\": 2, \"value\": 735}, \"736\": {\"frequency\": 2, \"value\": 736}, \"740\": {\"frequency\": 2, \"value\": 740}, \"743\": {\"frequency\": 1, \"value\": 743}, \"744\": {\"frequency\": 1, \"value\": 744}, \"747\": {\"frequency\": 2, \"value\": 747}, \"758\": {\"frequency\": 1, \"value\": 758}, \"765\": {\"frequency\": 1, \"value\": 765}, \"767\": {\"frequency\": 1, \"value\": 767}, \"770\": {\"frequency\": 1, \"value\": 770}, \"771\": {\"frequency\": 1, \"value\": 771}, \"772\": {\"frequency\": 1, \"value\": 772}, \"773\": {\"frequency\": 1, \"value\": 773}, \"778\": {\"frequency\": 1, \"value\": 778}, \"779\": {\"frequency\": 2, \"value\": 779}, \"780\": {\"frequency\": 1, \"value\": 780}, \"783\": {\"frequency\": 1, \"value\": 783}, \"784\": {\"frequency\": 1, \"value\": 784}, \"791\": {\"frequency\": 1, \"value\": 791}, \"792\": {\"frequency\": 2, \"value\": 792}, \"794\": {\"frequency\": 1, \"value\": 794}, \"795\": {\"frequency\": 1, \"value\": 795}, \"796\": {\"frequency\": 2, \"value\": 796}, \"797\": {\"frequency\": 2, \"value\": 797}, \"799\": {\"frequency\": 1, \"value\": 799}, \"800\": {\"frequency\": 1, \"value\": 800}, \"806\": {\"frequency\": 1, \"value\": 806}, \"807\": {\"frequency\": 1, \"value\": 807}, \"810\": {\"frequency\": 1, \"value\": 810}, \"816\": {\"frequency\": 1, \"value\": 816}, \"818\": {\"frequency\": 1, \"value\": 818}, \"823\": {\"frequency\": 1, \"value\": 823}, \"829\": {\"frequency\": 1, \"value\": 829}, \"830\": {\"frequency\": 1, \"value\": 830}, \"832\": {\"frequency\": 1, \"value\": 832}, \"835\": {\"frequency\": 1, \"value\": 835}, \"843\": {\"frequency\": 1, \"value\": 843}, \"846\": {\"frequency\": 1, \"value\": 846}, \"847\": {\"frequency\": 1, \"value\": 847}, \"856\": {\"frequency\": 1, \"value\": 856}, \"861\": {\"frequency\": 1, \"value\": 861}, \"862\": {\"frequency\": 1, \"value\": 862}, \"868\": {\"frequency\": 1, \"value\": 868}, \"874\": {\"frequency\": 1, \"value\": 874}, \"884\": {\"frequency\": 1, \"value\": 884}, \"886\": {\"frequency\": 1, \"value\": 886}, \"893\": {\"frequency\": 1, \"value\": 893}, \"895\": {\"frequency\": 1, \"value\": 895}, \"902\": {\"frequency\": 1, \"value\": 902}, \"911\": {\"frequency\": 2, \"value\": 911}, \"914\": {\"frequency\": 1, \"value\": 914}, \"916\": {\"frequency\": 2, \"value\": 916}, \"929\": {\"frequency\": 1, \"value\": 929}, \"930\": {\"frequency\": 2, \"value\": 930}, \"932\": {\"frequency\": 1, \"value\": 932}, \"497\": {\"frequency\": 1, \"value\": 497}, \"941\": {\"frequency\": 1, \"value\": 941}, \"942\": {\"frequency\": 2, \"value\": 942}, \"960\": {\"frequency\": 1, \"value\": 960}, \"965\": {\"frequency\": 1, \"value\": 965}, \"975\": {\"frequency\": 1, \"value\": 975}, \"979\": {\"frequency\": 1, \"value\": 979}, \"473\": {\"frequency\": 1, \"value\": 473}, \"990\": {\"frequency\": 1, \"value\": 990}, \"998\": {\"frequency\": 1, \"value\": 998}, \"490\": {\"frequency\": 1, \"value\": 490}, \"1005\": {\"frequency\": 1, \"value\": 1005}, \"1009\": {\"frequency\": 1, \"value\": 1009}, \"1016\": {\"frequency\": 2, \"value\": 1016}}, \"mean\": 783.8166666666666}, \"Six_Month_Avg\": {\"std\": 195822.14529546772, \"complete\": true, \"min\": -327435.0, \"max\": 1605825.33, \"quantile\": [-327435.0, 619.0, 925.0, 1059.5, 1485.0, 1555.0, 1756.5, 1985.0, 2158.33, 2322.5, 2676.0, 4541.0, 4793.5, 4816.66, 5050.83, 5770.0, 6346.83, 6500.0, 6500.0, 6500.0, 6582.0, 7266.66, 7784.16, 9154.0, 10389.6, 12042.0, 14197.33, 14309.83, 14336.5, 15115.0, 18793.83, 19045.0, 19918.0, 20895.66, 24199.16, 27044.16, 27619.83, 28705.0, 28808.2, 29073.5, 36893.83, 37434.0, 40548.33, 41431.83, 41538.0, 42623.0, 43849.5, 44386.16, 45030.33, 45195.5, 46803.5, 52021.33, 53125.0, 54444.16, 54596.5, 59081.33, 59532.5, 59671.5, 60144.5, 60496.5, 63639.66, 73072.33, 75284.16, 75781.2, 81126.0, 84091.83, 86736.66, 86988.83, 90265.0, 91027.0, 94029.33, 97901.66, 104000.0, 104443.83, 105304.16, 116922.66, 125406.33, 127767.66, 133448.0, 136832.66, 143466.5, 149181.33, 152984.83, 155554.5, 156224.83, 169646.66, 169886.833, 171505.5, 176776.0, 197734.83, 281834.16, 306693.5, 307283.66, 315656.16, 397449.66, 420833.66, 454245.83, 598951.5, 713605.33, 752164.33, 1605825.33], \"median\": 46803.5, \"numeric\": true, \"num_unique\": 117, \"num_undefined\": 0, \"var\": 38346312588.11927, \"progress\": 1.0, \"size\": 120, \"frequent_items\": {\"46803.5\": {\"frequency\": 1, \"value\": 46803.5}, \"155554.5\": {\"frequency\": 1, \"value\": 155554.5}, \"60144.5\": {\"frequency\": 1, \"value\": 60144.5}, \"44386.16\": {\"frequency\": 1, \"value\": 44386.16}, \"1555.0\": {\"frequency\": 1, \"value\": 1555.0}, \"10938.33\": {\"frequency\": 1, \"value\": 10938.33}, \"4816.66\": {\"frequency\": 1, \"value\": 4816.66}, \"14336.5\": {\"frequency\": 1, \"value\": 14336.5}, \"28705.0\": {\"frequency\": 1, \"value\": 28705.0}, \"60496.5\": {\"frequency\": 1, \"value\": 60496.5}, \"37434.0\": {\"frequency\": 1, \"value\": 37434.0}, \"36893.83\": {\"frequency\": 1, \"value\": 36893.83}, \"104000.0\": {\"frequency\": 1, \"value\": 104000.0}, \"41538.0\": {\"frequency\": 1, \"value\": 41538.0}, \"55799.16\": {\"frequency\": 1, \"value\": 55799.16}, \"27619.83\": {\"frequency\": 1, \"value\": 27619.83}, \"40548.33\": {\"frequency\": 1, \"value\": 40548.33}, \"29073.5\": {\"frequency\": 1, \"value\": 29073.5}, \"7266.66\": {\"frequency\": 1, \"value\": 7266.66}, \"28808.2\": {\"frequency\": 1, \"value\": 28808.2}, \"619.0\": {\"frequency\": 1, \"value\": 619.0}, \"105304.16\": {\"frequency\": 1, \"value\": 105304.16}, \"20895.66\": {\"frequency\": 1, \"value\": 20895.66}, \"2676.0\": {\"frequency\": 1, \"value\": 2676.0}, \"63639.66\": {\"frequency\": 1, \"value\": 63639.66}, \"54444.16\": {\"frequency\": 1, \"value\": 54444.16}, \"42623.0\": {\"frequency\": 1, \"value\": 42623.0}, \"156224.83\": {\"frequency\": 1, \"value\": 156224.83}, \"104443.83\": {\"frequency\": 1, \"value\": 104443.83}, \"143466.5\": {\"frequency\": 1, \"value\": 143466.5}, \"176776.0\": {\"frequency\": 1, \"value\": 176776.0}, \"5770.0\": {\"frequency\": 1, \"value\": 5770.0}, \"307283.66\": {\"frequency\": 1, \"value\": 307283.66}, \"45030.33\": {\"frequency\": 1, \"value\": 45030.33}, \"90265.0\": {\"frequency\": 1, \"value\": 90265.0}, \"94029.33\": {\"frequency\": 1, \"value\": 94029.33}, \"2322.5\": {\"frequency\": 1, \"value\": 2322.5}, \"752164.33\": {\"frequency\": 1, \"value\": 752164.33}, \"169886.833\": {\"frequency\": 1, \"value\": 169886.833}, \"315656.16\": {\"frequency\": 1, \"value\": 315656.16}, \"54596.5\": {\"frequency\": 1, \"value\": 54596.5}, \"3250.0\": {\"frequency\": 1, \"value\": 3250.0}, \"165347.66\": {\"frequency\": 1, \"value\": 165347.66}, \"41618.16\": {\"frequency\": 1, \"value\": 41618.16}, \"306693.5\": {\"frequency\": 1, \"value\": 306693.5}, \"41431.83\": {\"frequency\": 1, \"value\": 41431.83}, \"75781.2\": {\"frequency\": 1, \"value\": 75781.2}, \"81968.33\": {\"frequency\": 1, \"value\": 81968.33}, \"63477.5\": {\"frequency\": 1, \"value\": 63477.5}, \"75284.16\": {\"frequency\": 1, \"value\": 75284.16}, \"86988.83\": {\"frequency\": 1, \"value\": 86988.83}, \"81126.0\": {\"frequency\": 1, \"value\": 81126.0}, \"86736.66\": {\"frequency\": 1, \"value\": 86736.66}, \"27044.16\": {\"frequency\": 1, \"value\": 27044.16}, \"59081.33\": {\"frequency\": 1, \"value\": 59081.33}, \"19045.0\": {\"frequency\": 1, \"value\": 19045.0}, \"92693.5\": {\"frequency\": 1, \"value\": 92693.5}, \"5336.66\": {\"frequency\": 1, \"value\": 5336.66}, \"12042.0\": {\"frequency\": 1, \"value\": 12042.0}, \"15115.0\": {\"frequency\": 1, \"value\": 15115.0}, \"59671.5\": {\"frequency\": 1, \"value\": 59671.5}, \"84091.83\": {\"frequency\": 1, \"value\": 84091.83}, \"410747.22\": {\"frequency\": 1, \"value\": 410747.22}, \"10389.6\": {\"frequency\": 1, \"value\": 10389.6}, \"4793.5\": {\"frequency\": 1, \"value\": 4793.5}, \"152984.83\": {\"frequency\": 1, \"value\": 152984.83}, \"454245.83\": {\"frequency\": 1, \"value\": 454245.83}, \"133448.0\": {\"frequency\": 1, \"value\": 133448.0}, \"43849.5\": {\"frequency\": 1, \"value\": 43849.5}, \"1605825.33\": {\"frequency\": 1, \"value\": 1605825.33}, \"397449.66\": {\"frequency\": 1, \"value\": 397449.66}, \"169646.66\": {\"frequency\": 1, \"value\": 169646.66}, \"6500.0\": {\"frequency\": 4, \"value\": 6500.0}, \"107017.83\": {\"frequency\": 1, \"value\": 107017.83}, \"127767.66\": {\"frequency\": 1, \"value\": 127767.66}, \"420833.66\": {\"frequency\": 1, \"value\": 420833.66}, \"52021.33\": {\"frequency\": 1, \"value\": 52021.33}, \"24199.16\": {\"frequency\": 1, \"value\": 24199.16}, \"149181.33\": {\"frequency\": 1, \"value\": 149181.33}, \"1756.5\": {\"frequency\": 1, \"value\": 1756.5}, \"6346.83\": {\"frequency\": 1, \"value\": 6346.83}, \"53125.0\": {\"frequency\": 1, \"value\": 53125.0}, \"171505.5\": {\"frequency\": 1, \"value\": 171505.5}, \"45195.5\": {\"frequency\": 1, \"value\": 45195.5}, \"91027.0\": {\"frequency\": 1, \"value\": 91027.0}, \"14197.33\": {\"frequency\": 1, \"value\": 14197.33}, \"925.0\": {\"frequency\": 1, \"value\": 925.0}, \"16803.0\": {\"frequency\": 1, \"value\": 16803.0}, \"264210.83\": {\"frequency\": 1, \"value\": 264210.83}, \"281834.16\": {\"frequency\": 1, \"value\": 281834.16}, \"125406.33\": {\"frequency\": 1, \"value\": 125406.33}, \"59532.5\": {\"frequency\": 1, \"value\": 59532.5}, \"197734.83\": {\"frequency\": 1, \"value\": 197734.83}, \"18793.83\": {\"frequency\": 1, \"value\": 18793.83}, \"6582.0\": {\"frequency\": 1, \"value\": 6582.0}, \"4541.0\": {\"frequency\": 1, \"value\": 4541.0}, \"-327435.0\": {\"frequency\": 1, \"value\": -327435.0}, \"35695.16\": {\"frequency\": 1, \"value\": 35695.16}, \"1985.0\": {\"frequency\": 1, \"value\": 1985.0}, \"9154.0\": {\"frequency\": 1, \"value\": 9154.0}, \"46282.5\": {\"frequency\": 1, \"value\": 46282.5}, \"1485.0\": {\"frequency\": 1, \"value\": 1485.0}, \"19918.0\": {\"frequency\": 1, \"value\": 19918.0}, \"97901.66\": {\"frequency\": 1, \"value\": 97901.66}, \"713605.33\": {\"frequency\": 1, \"value\": 713605.33}, \"14309.83\": {\"frequency\": 1, \"value\": 14309.83}, \"2158.33\": {\"frequency\": 1, \"value\": 2158.33}, \"1500.0\": {\"frequency\": 1, \"value\": 1500.0}, \"116922.66\": {\"frequency\": 1, \"value\": 116922.66}, \"73072.33\": {\"frequency\": 1, \"value\": 73072.33}, \"7784.16\": {\"frequency\": 1, \"value\": 7784.16}, \"598951.5\": {\"frequency\": 1, \"value\": 598951.5}, \"5050.83\": {\"frequency\": 1, \"value\": 5050.83}, \"142997.33\": {\"frequency\": 1, \"value\": 142997.33}, \"136832.66\": {\"frequency\": 1, \"value\": 136832.66}, \"26608.0\": {\"frequency\": 1, \"value\": 26608.0}, \"1059.5\": {\"frequency\": 1, \"value\": 1059.5}}, \"mean\": 103370.14527499999}, \"Prev_07_Age\": {\"std\": 1.1616260155488942, \"complete\": true, \"min\": 0.0, \"max\": 6.0, \"quantile\": [0.0, 0.0, 0.0, 0.0, 0.0, 0.0, 0.0, 0.0, 0.0, 0.0, 0.0, 0.0, 0.0, 0.0, 0.0, 0.0, 0.0, 0.0, 0.0, 0.0, 0.0, 0.0, 0.0, 0.0, 0.0, 0.0, 0.0, 0.0, 0.0, 0.0, 0.0, 0.0, 0.0, 0.0, 0.0, 0.0, 0.0, 0.0, 0.0, 0.0, 0.0, 0.0, 0.0, 0.0, 0.0, 0.0, 0.0, 0.0, 0.0, 0.0, 0.0, 0.0, 0.0, 0.0, 0.0, 0.0, 0.0, 0.0, 0.0, 0.0, 0.0, 0.0, 0.0, 0.0, 0.0, 0.0, 0.0, 0.0, 0.0, 0.0, 0.0, 0.0, 0.0, 0.0, 0.0, 0.0, 0.0, 0.0, 0.0, 0.0, 0.0, 0.0, 0.0, 0.0, 0.0, 3.0, 3.0, 3.0, 3.0, 3.0, 3.0, 3.0, 3.0, 3.0, 3.0, 3.0, 3.0, 3.0, 3.0, 3.0, 6.0], \"median\": 0.0, \"numeric\": true, \"num_unique\": 3, \"num_undefined\": 0, \"var\": 1.349375, \"progress\": 1.0, \"size\": 120, \"frequent_items\": {\"0\": {\"frequency\": 102, \"value\": 0}, \"3\": {\"frequency\": 17, \"value\": 3}, \"6\": {\"frequency\": 1, \"value\": 6}}, \"mean\": 0.475}, \"ID\": {\"std\": 34.63981331743384, \"complete\": true, \"min\": 1.0, \"max\": 120.0, \"quantile\": [1.0, 2.0, 3.0, 4.0, 5.0, 7.0, 8.0, 9.0, 10.0, 11.0, 12.0, 14.0, 15.0, 16.0, 17.0, 19.0, 20.0, 21.0, 22.0, 23.0, 25.0, 26.0, 27.0, 28.0, 29.0, 31.0, 32.0, 33.0, 34.0, 35.0, 37.0, 38.0, 39.0, 40.0, 41.0, 43.0, 44.0, 45.0, 46.0, 47.0, 49.0, 50.0, 51.0, 52.0, 53.0, 55.0, 56.0, 57.0, 58.0, 59.0, 61.0, 62.0, 63.0, 64.0, 65.0, 67.0, 68.0, 69.0, 70.0, 71.0, 73.0, 74.0, 75.0, 76.0, 77.0, 79.0, 80.0, 81.0, 82.0, 83.0, 85.0, 86.0, 87.0, 88.0, 89.0, 91.0, 92.0, 93.0, 94.0, 95.0, 97.0, 98.0, 99.0, 100.0, 101.0, 103.0, 104.0, 105.0, 106.0, 107.0, 109.0, 110.0, 111.0, 112.0, 113.0, 115.0, 116.0, 117.0, 118.0, 119.0, 120.0], \"median\": 61.0, \"numeric\": true, \"num_unique\": 120, \"num_undefined\": 0, \"var\": 1199.9166666666667, \"progress\": 1.0, \"size\": 120, \"frequent_items\": {\"1\": {\"frequency\": 1, \"value\": 1}, \"2\": {\"frequency\": 1, \"value\": 2}, \"3\": {\"frequency\": 1, \"value\": 3}, \"4\": {\"frequency\": 1, \"value\": 4}, \"5\": {\"frequency\": 1, \"value\": 5}, \"6\": {\"frequency\": 1, \"value\": 6}, \"7\": {\"frequency\": 1, \"value\": 7}, \"8\": {\"frequency\": 1, \"value\": 8}, \"9\": {\"frequency\": 1, \"value\": 9}, \"10\": {\"frequency\": 1, \"value\": 10}, \"11\": {\"frequency\": 1, \"value\": 11}, \"12\": {\"frequency\": 1, \"value\": 12}, \"13\": {\"frequency\": 1, \"value\": 13}, \"14\": {\"frequency\": 1, \"value\": 14}, \"15\": {\"frequency\": 1, \"value\": 15}, \"16\": {\"frequency\": 1, \"value\": 16}, \"17\": {\"frequency\": 1, \"value\": 17}, \"18\": {\"frequency\": 1, \"value\": 18}, \"19\": {\"frequency\": 1, \"value\": 19}, \"20\": {\"frequency\": 1, \"value\": 20}, \"21\": {\"frequency\": 1, \"value\": 21}, \"22\": {\"frequency\": 1, \"value\": 22}, \"23\": {\"frequency\": 1, \"value\": 23}, \"24\": {\"frequency\": 1, \"value\": 24}, \"25\": {\"frequency\": 1, \"value\": 25}, \"26\": {\"frequency\": 1, \"value\": 26}, \"27\": {\"frequency\": 1, \"value\": 27}, \"28\": {\"frequency\": 1, \"value\": 28}, \"29\": {\"frequency\": 1, \"value\": 29}, \"30\": {\"frequency\": 1, \"value\": 30}, \"31\": {\"frequency\": 1, \"value\": 31}, \"32\": {\"frequency\": 1, \"value\": 32}, \"33\": {\"frequency\": 1, \"value\": 33}, \"34\": {\"frequency\": 1, \"value\": 34}, \"35\": {\"frequency\": 1, \"value\": 35}, \"36\": {\"frequency\": 1, \"value\": 36}, \"37\": {\"frequency\": 1, \"value\": 37}, \"38\": {\"frequency\": 1, \"value\": 38}, \"39\": {\"frequency\": 1, \"value\": 39}, \"40\": {\"frequency\": 1, \"value\": 40}, \"41\": {\"frequency\": 1, \"value\": 41}, \"42\": {\"frequency\": 1, \"value\": 42}, \"43\": {\"frequency\": 1, \"value\": 43}, \"44\": {\"frequency\": 1, \"value\": 44}, \"45\": {\"frequency\": 1, \"value\": 45}, \"46\": {\"frequency\": 1, \"value\": 46}, \"47\": {\"frequency\": 1, \"value\": 47}, \"48\": {\"frequency\": 1, \"value\": 48}, \"49\": {\"frequency\": 1, \"value\": 49}, \"50\": {\"frequency\": 1, \"value\": 50}, \"51\": {\"frequency\": 1, \"value\": 51}, \"52\": {\"frequency\": 1, \"value\": 52}, \"53\": {\"frequency\": 1, \"value\": 53}, \"54\": {\"frequency\": 1, \"value\": 54}, \"55\": {\"frequency\": 1, \"value\": 55}, \"56\": {\"frequency\": 1, \"value\": 56}, \"57\": {\"frequency\": 1, \"value\": 57}, \"58\": {\"frequency\": 1, \"value\": 58}, \"59\": {\"frequency\": 1, \"value\": 59}, \"60\": {\"frequency\": 1, \"value\": 60}, \"61\": {\"frequency\": 1, \"value\": 61}, \"62\": {\"frequency\": 1, \"value\": 62}, \"63\": {\"frequency\": 1, \"value\": 63}, \"64\": {\"frequency\": 1, \"value\": 64}, \"65\": {\"frequency\": 1, \"value\": 65}, \"66\": {\"frequency\": 1, \"value\": 66}, \"67\": {\"frequency\": 1, \"value\": 67}, \"68\": {\"frequency\": 1, \"value\": 68}, \"69\": {\"frequency\": 1, \"value\": 69}, \"70\": {\"frequency\": 1, \"value\": 70}, \"71\": {\"frequency\": 1, \"value\": 71}, \"72\": {\"frequency\": 1, \"value\": 72}, \"73\": {\"frequency\": 1, \"value\": 73}, \"74\": {\"frequency\": 1, \"value\": 74}, \"75\": {\"frequency\": 1, \"value\": 75}, \"76\": {\"frequency\": 1, \"value\": 76}, \"77\": {\"frequency\": 1, \"value\": 77}, \"78\": {\"frequency\": 1, \"value\": 78}, \"79\": {\"frequency\": 1, \"value\": 79}, \"80\": {\"frequency\": 1, \"value\": 80}, \"81\": {\"frequency\": 1, \"value\": 81}, \"82\": {\"frequency\": 1, \"value\": 82}, \"83\": {\"frequency\": 1, \"value\": 83}, \"84\": {\"frequency\": 1, \"value\": 84}, \"85\": {\"frequency\": 1, \"value\": 85}, \"86\": {\"frequency\": 1, \"value\": 86}, \"87\": {\"frequency\": 1, \"value\": 87}, \"88\": {\"frequency\": 1, \"value\": 88}, \"89\": {\"frequency\": 1, \"value\": 89}, \"90\": {\"frequency\": 1, \"value\": 90}, \"91\": {\"frequency\": 1, \"value\": 91}, \"92\": {\"frequency\": 1, \"value\": 92}, \"93\": {\"frequency\": 1, \"value\": 93}, \"94\": {\"frequency\": 1, \"value\": 94}, \"95\": {\"frequency\": 1, \"value\": 95}, \"96\": {\"frequency\": 1, \"value\": 96}, \"97\": {\"frequency\": 1, \"value\": 97}, \"98\": {\"frequency\": 1, \"value\": 98}, \"99\": {\"frequency\": 1, \"value\": 99}, \"100\": {\"frequency\": 1, \"value\": 100}, \"101\": {\"frequency\": 1, \"value\": 101}, \"102\": {\"frequency\": 1, \"value\": 102}, \"103\": {\"frequency\": 1, \"value\": 103}, \"104\": {\"frequency\": 1, \"value\": 104}, \"105\": {\"frequency\": 1, \"value\": 105}, \"106\": {\"frequency\": 1, \"value\": 106}, \"107\": {\"frequency\": 1, \"value\": 107}, \"108\": {\"frequency\": 1, \"value\": 108}, \"109\": {\"frequency\": 1, \"value\": 109}, \"110\": {\"frequency\": 1, \"value\": 110}, \"111\": {\"frequency\": 1, \"value\": 111}, \"112\": {\"frequency\": 1, \"value\": 112}, \"113\": {\"frequency\": 1, \"value\": 113}, \"114\": {\"frequency\": 1, \"value\": 114}, \"115\": {\"frequency\": 1, \"value\": 115}, \"116\": {\"frequency\": 1, \"value\": 116}, \"117\": {\"frequency\": 1, \"value\": 117}, \"118\": {\"frequency\": 1, \"value\": 118}, \"119\": {\"frequency\": 1, \"value\": 119}, \"120\": {\"frequency\": 1, \"value\": 120}}, \"mean\": 60.5}, \"Prev_05_Age\": {\"std\": 1.2449899597988732, \"complete\": true, \"min\": 0.0, \"max\": 6.0, \"quantile\": [0.0, 0.0, 0.0, 0.0, 0.0, 0.0, 0.0, 0.0, 0.0, 0.0, 0.0, 0.0, 0.0, 0.0, 0.0, 0.0, 0.0, 0.0, 0.0, 0.0, 0.0, 0.0, 0.0, 0.0, 0.0, 0.0, 0.0, 0.0, 0.0, 0.0, 0.0, 0.0, 0.0, 0.0, 0.0, 0.0, 0.0, 0.0, 0.0, 0.0, 0.0, 0.0, 0.0, 0.0, 0.0, 0.0, 0.0, 0.0, 0.0, 0.0, 0.0, 0.0, 0.0, 0.0, 0.0, 0.0, 0.0, 0.0, 0.0, 0.0, 0.0, 0.0, 0.0, 0.0, 0.0, 0.0, 0.0, 0.0, 0.0, 0.0, 0.0, 0.0, 0.0, 0.0, 0.0, 0.0, 0.0, 0.0, 0.0, 0.0, 0.0, 0.0, 0.0, 0.0, 0.0, 3.0, 3.0, 3.0, 3.0, 3.0, 3.0, 3.0, 3.0, 3.0, 3.0, 3.0, 3.0, 3.0, 3.0, 6.0, 6.0], \"median\": 0.0, \"numeric\": true, \"num_unique\": 3, \"num_undefined\": 0, \"var\": 1.55, \"progress\": 1.0, \"size\": 120, \"frequent_items\": {\"0\": {\"frequency\": 102, \"value\": 0}, \"3\": {\"frequency\": 16, \"value\": 3}, \"6\": {\"frequency\": 2, \"value\": 6}}, \"mean\": 0.5}, \"Last_Stmt_Bal\": {\"std\": 215853.77348571323, \"complete\": true, \"min\": -264775.0, \"max\": 1838309.0, \"quantile\": [-264775.0, -53795.0, -2095.0, 0.0, 0.0, 0.0, 0.0, 0.0, 0.0, 0.0, 0.0, 0.0, 0.0, 0.0, 0.0, 0.0, 0.0, 0.0, 100.0, 198.0, 619.0, 723.0, 1995.0, 1999.0, 2257.0, 3500.0, 5480.0, 5626.0, 6500.0, 6500.0, 6500.0, 8576.0, 8615.0, 8995.0, 9138.0, 9430.0, 9500.0, 9707.0, 9990.0, 12000.0, 13640.0, 13650.0, 14902.0, 16660.0, 16973.0, 20127.0, 21660.0, 25567.0, 26760.0, 28775.0, 30720.0, 31633.0, 32405.0, 32900.0, 37050.0, 39359.0, 40024.0, 40546.0, 41238.0, 41538.0, 46809.0, 47811.0, 51640.0, 58169.0, 59888.0, 65131.0, 65182.0, 65837.0, 70163.0, 70927.0, 76938.0, 87301.0, 90407.0, 92064.0, 97337.0, 100880.0, 103964.0, 104020.0, 106945.0, 107043.0, 115799.0, 124541.0, 124785.0, 137025.0, 148044.0, 171983.0, 181109.0, 200778.0, 215934.0, 245385.0, 266896.0, 294536.0, 298327.0, 315460.0, 349584.0, 428444.0, 455204.0, 590417.0, 730774.0, 869100.0, 1838309.0], \"median\": 30720.0, \"numeric\": true, \"num_unique\": 100, \"num_undefined\": 0, \"var\": 46592851528.0216, \"progress\": 1.0, \"size\": 120, \"frequent_items\": {\"0\": {\"frequency\": 18, \"value\": 0}, \"30720\": {\"frequency\": 1, \"value\": 30720}, \"377346\": {\"frequency\": 1, \"value\": 377346}, \"75781\": {\"frequency\": 1, \"value\": 75781}, \"100880\": {\"frequency\": 1, \"value\": 100880}, \"70163\": {\"frequency\": 1, \"value\": 70163}, \"161301\": {\"frequency\": 1, \"value\": 161301}, \"43544\": {\"frequency\": 1, \"value\": 43544}, \"103964\": {\"frequency\": 1, \"value\": 103964}, \"107043\": {\"frequency\": 1, \"value\": 107043}, \"455204\": {\"frequency\": 1, \"value\": 455204}, \"14902\": {\"frequency\": 1, \"value\": 14902}, \"97337\": {\"frequency\": 1, \"value\": 97337}, \"41538\": {\"frequency\": 1, \"value\": 41538}, \"315460\": {\"frequency\": 1, \"value\": 315460}, \"200778\": {\"frequency\": 1, \"value\": 200778}, \"148044\": {\"frequency\": 1, \"value\": 148044}, \"16973\": {\"frequency\": 1, \"value\": 16973}, \"592\": {\"frequency\": 1, \"value\": 592}, \"590417\": {\"frequency\": 1, \"value\": 590417}, \"104020\": {\"frequency\": 1, \"value\": 104020}, \"115799\": {\"frequency\": 1, \"value\": 115799}, \"40024\": {\"frequency\": 1, \"value\": 40024}, \"40546\": {\"frequency\": 1, \"value\": 40546}, \"100\": {\"frequency\": 1, \"value\": 100}, \"28775\": {\"frequency\": 1, \"value\": 28775}, \"65131\": {\"frequency\": 1, \"value\": 65131}, \"124541\": {\"frequency\": 1, \"value\": 124541}, \"619\": {\"frequency\": 1, \"value\": 619}, \"32900\": {\"frequency\": 1, \"value\": 32900}, \"17030\": {\"frequency\": 1, \"value\": 17030}, \"294536\": {\"frequency\": 1, \"value\": 294536}, \"245385\": {\"frequency\": 1, \"value\": 245385}, \"76938\": {\"frequency\": 1, \"value\": 76938}, \"266896\": {\"frequency\": 1, \"value\": 266896}, \"32405\": {\"frequency\": 1, \"value\": 32405}, \"730774\": {\"frequency\": 1, \"value\": 730774}, \"21660\": {\"frequency\": 1, \"value\": 21660}, \"65182\": {\"frequency\": 1, \"value\": 65182}, \"20127\": {\"frequency\": 1, \"value\": 20127}, \"37050\": {\"frequency\": 1, \"value\": 37050}, \"47811\": {\"frequency\": 1, \"value\": 47811}, \"198\": {\"frequency\": 1, \"value\": 198}, \"2257\": {\"frequency\": 1, \"value\": 2257}, \"723\": {\"frequency\": 1, \"value\": 723}, \"9430\": {\"frequency\": 1, \"value\": 9430}, \"37080\": {\"frequency\": 1, \"value\": 37080}, \"46809\": {\"frequency\": 1, \"value\": 46809}, \"171983\": {\"frequency\": 1, \"value\": 171983}, \"12000\": {\"frequency\": 1, \"value\": 12000}, \"1838309\": {\"frequency\": 1, \"value\": 1838309}, \"869100\": {\"frequency\": 1, \"value\": 869100}, \"13050\": {\"frequency\": 1, \"value\": 13050}, \"87301\": {\"frequency\": 1, \"value\": 87301}, \"9990\": {\"frequency\": 1, \"value\": 9990}, \"70927\": {\"frequency\": 1, \"value\": 70927}, \"16660\": {\"frequency\": 1, \"value\": 16660}, \"41238\": {\"frequency\": 1, \"value\": 41238}, \"9500\": {\"frequency\": 1, \"value\": 9500}, \"8995\": {\"frequency\": 1, \"value\": 8995}, \"90407\": {\"frequency\": 1, \"value\": 90407}, \"65837\": {\"frequency\": 1, \"value\": 65837}, \"26760\": {\"frequency\": 1, \"value\": 26760}, \"58169\": {\"frequency\": 1, \"value\": 58169}, \"137025\": {\"frequency\": 1, \"value\": 137025}, \"13640\": {\"frequency\": 1, \"value\": 13640}, \"13650\": {\"frequency\": 1, \"value\": 13650}, \"298327\": {\"frequency\": 1, \"value\": 298327}, \"99683\": {\"frequency\": 1, \"value\": 99683}, \"6500\": {\"frequency\": 4, \"value\": 6500}, \"29541\": {\"frequency\": 1, \"value\": 29541}, \"5480\": {\"frequency\": 1, \"value\": 5480}, \"124785\": {\"frequency\": 1, \"value\": 124785}, \"181109\": {\"frequency\": 1, \"value\": 181109}, \"215934\": {\"frequency\": 1, \"value\": 215934}, \"8576\": {\"frequency\": 1, \"value\": 8576}, \"349584\": {\"frequency\": 1, \"value\": 349584}, \"31633\": {\"frequency\": 1, \"value\": 31633}, \"2450\": {\"frequency\": 1, \"value\": 2450}, \"428444\": {\"frequency\": 1, \"value\": 428444}, \"92064\": {\"frequency\": 1, \"value\": 92064}, \"8615\": {\"frequency\": 1, \"value\": 8615}, \"63401\": {\"frequency\": 1, \"value\": 63401}, \"3500\": {\"frequency\": 1, \"value\": 3500}, \"252337\": {\"frequency\": 1, \"value\": 252337}, \"9138\": {\"frequency\": 1, \"value\": 9138}, \"51640\": {\"frequency\": 1, \"value\": 51640}, \"-264775\": {\"frequency\": 1, \"value\": -264775}, \"39359\": {\"frequency\": 1, \"value\": 39359}, \"106945\": {\"frequency\": 1, \"value\": 106945}, \"1995\": {\"frequency\": 1, \"value\": 1995}, \"1999\": {\"frequency\": 1, \"value\": 1999}, \"-2095\": {\"frequency\": 1, \"value\": -2095}, \"-53795\": {\"frequency\": 1, \"value\": -53795}, \"25567\": {\"frequency\": 1, \"value\": 25567}, \"110055\": {\"frequency\": 1, \"value\": 110055}, \"9707\": {\"frequency\": 1, \"value\": 9707}, \"59888\": {\"frequency\": 1, \"value\": 59888}, \"9202\": {\"frequency\": 1, \"value\": 9202}, \"5626\": {\"frequency\": 1, \"value\": 5626}}, \"mean\": 94526.60833333332}, \"Prev_11_Age\": {\"std\": 1.378178145233772, \"complete\": true, \"min\": 0.0, \"max\": 6.0, \"quantile\": [0.0, 0.0, 0.0, 0.0, 0.0, 0.0, 0.0, 0.0, 0.0, 0.0, 0.0, 0.0, 0.0, 0.0, 0.0, 0.0, 0.0, 0.0, 0.0, 0.0, 0.0, 0.0, 0.0, 0.0, 0.0, 0.0, 0.0, 0.0, 0.0, 0.0, 0.0, 0.0, 0.0, 0.0, 0.0, 0.0, 0.0, 0.0, 0.0, 0.0, 0.0, 0.0, 0.0, 0.0, 0.0, 0.0, 0.0, 0.0, 0.0, 0.0, 0.0, 0.0, 0.0, 0.0, 0.0, 0.0, 0.0, 0.0, 0.0, 0.0, 0.0, 0.0, 0.0, 0.0, 0.0, 0.0, 0.0, 0.0, 0.0, 0.0, 0.0, 0.0, 0.0, 0.0, 0.0, 0.0, 0.0, 0.0, 0.0, 0.0, 0.0, 0.0, 0.0, 0.0, 0.0, 0.0, 3.0, 3.0, 3.0, 3.0, 3.0, 3.0, 3.0, 3.0, 3.0, 3.0, 3.0, 6.0, 6.0, 6.0, 6.0], \"median\": 0.0, \"numeric\": true, \"num_unique\": 3, \"num_undefined\": 0, \"var\": 1.899375, \"progress\": 1.0, \"size\": 120, \"frequent_items\": {\"0\": {\"frequency\": 103, \"value\": 0}, \"3\": {\"frequency\": 13, \"value\": 3}, \"6\": {\"frequency\": 4, \"value\": 6}}, \"mean\": 0.5249999999999999}, \"Prev_01_Age\": {\"std\": 1.42828568570857, \"complete\": true, \"min\": 0.0, \"max\": 6.0, \"quantile\": [0.0, 0.0, 0.0, 0.0, 0.0, 0.0, 0.0, 0.0, 0.0, 0.0, 0.0, 0.0, 0.0, 0.0, 0.0, 0.0, 0.0, 0.0, 0.0, 0.0, 0.0, 0.0, 0.0, 0.0, 0.0, 0.0, 0.0, 0.0, 0.0, 0.0, 0.0, 0.0, 0.0, 0.0, 0.0, 0.0, 0.0, 0.0, 0.0, 0.0, 0.0, 0.0, 0.0, 0.0, 0.0, 0.0, 0.0, 0.0, 0.0, 0.0, 0.0, 0.0, 0.0, 0.0, 0.0, 0.0, 0.0, 0.0, 0.0, 0.0, 0.0, 0.0, 0.0, 0.0, 0.0, 0.0, 0.0, 0.0, 0.0, 0.0, 0.0, 0.0, 0.0, 0.0, 0.0, 0.0, 0.0, 0.0, 0.0, 0.0, 0.0, 0.0, 0.0, 0.0, 3.0, 3.0, 3.0, 3.0, 3.0, 3.0, 3.0, 3.0, 3.0, 3.0, 3.0, 3.0, 3.0, 6.0, 6.0, 6.0, 6.0], \"median\": 0.0, \"numeric\": true, \"num_unique\": 3, \"num_undefined\": 0, \"var\": 2.0399999999999996, \"progress\": 1.0, \"size\": 120, \"frequent_items\": {\"0\": {\"frequency\": 100, \"value\": 0}, \"3\": {\"frequency\": 16, \"value\": 3}, \"6\": {\"frequency\": 4, \"value\": 6}}, \"mean\": 0.5999999999999999}, \"Prev_03_Age\": {\"std\": 0.8656644846590393, \"complete\": true, \"min\": 0.0, \"max\": 3.0, \"quantile\": [0.0, 0.0, 0.0, 0.0, 0.0, 0.0, 0.0, 0.0, 0.0, 0.0, 0.0, 0.0, 0.0, 0.0, 0.0, 0.0, 0.0, 0.0, 0.0, 0.0, 0.0, 0.0, 0.0, 0.0, 0.0, 0.0, 0.0, 0.0, 0.0, 0.0, 0.0, 0.0, 0.0, 0.0, 0.0, 0.0, 0.0, 0.0, 0.0, 0.0, 0.0, 0.0, 0.0, 0.0, 0.0, 0.0, 0.0, 0.0, 0.0, 0.0, 0.0, 0.0, 0.0, 0.0, 0.0, 0.0, 0.0, 0.0, 0.0, 0.0, 0.0, 0.0, 0.0, 0.0, 0.0, 0.0, 0.0, 0.0, 0.0, 0.0, 0.0, 0.0, 0.0, 0.0, 0.0, 0.0, 0.0, 0.0, 0.0, 0.0, 0.0, 0.0, 0.0, 0.0, 0.0, 0.0, 0.0, 0.0, 0.0, 0.0, 0.0, 3.0, 3.0, 3.0, 3.0, 3.0, 3.0, 3.0, 3.0, 3.0, 3.0], \"median\": 0.0, \"numeric\": true, \"num_unique\": 2, \"num_undefined\": 0, \"var\": 0.7493750000000002, \"progress\": 1.0, \"size\": 120, \"frequent_items\": {\"0\": {\"frequency\": 109, \"value\": 0}, \"3\": {\"frequency\": 11, \"value\": 3}}, \"mean\": 0.275}, \"Curr_Stmt_Bal\": {\"std\": 129980.16785064964, \"complete\": true, \"min\": -264775.0, \"max\": 530423.0, \"quantile\": [-264775.0, -152795.0, -1096.0, 0.0, 0.0, 0.0, 0.0, 0.0, 0.0, 0.0, 0.0, 0.0, 0.0, 0.0, 0.0, 500.0, 619.0, 964.0, 1500.0, 1850.0, 1850.0, 2852.0, 3501.0, 3506.0, 3937.0, 6257.0, 6500.0, 6500.0, 6500.0, 6500.0, 7248.0, 7272.0, 7700.0, 8095.0, 8794.0, 9738.0, 9750.0, 10524.0, 10800.0, 11820.0, 13100.0, 14647.0, 18214.0, 18416.0, 19600.0, 20500.0, 20918.0, 22661.0, 23046.0, 23406.0, 29217.0, 29354.0, 32110.0, 37089.0, 37371.0, 38782.0, 39401.0, 40576.0, 51617.0, 52771.0, 55726.0, 56783.0, 57829.0, 61344.0, 61640.0, 65760.0, 69299.0, 72202.0, 73501.0, 74763.0, 75753.0, 80120.0, 82500.0, 84711.0, 95946.0, 107958.0, 113344.0, 153448.0, 157356.0, 157684.0, 169929.0, 175350.0, 176428.0, 180684.0, 185728.0, 189610.0, 218659.0, 221352.0, 227591.0, 230114.0, 276885.0, 300796.0, 304804.0, 323300.0, 327520.0, 416595.0, 467053.0, 475630.0, 496764.0, 499033.0, 530423.0], \"median\": 29217.0, \"numeric\": true, \"num_unique\": 102, \"num_undefined\": 0, \"var\": 16894844034.483055, \"progress\": 1.0, \"size\": 120, \"frequent_items\": {\"0\": {\"frequency\": 14, \"value\": 0}, \"23046\": {\"frequency\": 1, \"value\": 23046}, \"72202\": {\"frequency\": 1, \"value\": 72202}, \"74763\": {\"frequency\": 1, \"value\": 74763}, \"20500\": {\"frequency\": 1, \"value\": 20500}, \"9750\": {\"frequency\": 1, \"value\": 9750}, \"29217\": {\"frequency\": 1, \"value\": 29217}, \"218659\": {\"frequency\": 1, \"value\": 218659}, \"38442\": {\"frequency\": 1, \"value\": 38442}, \"11820\": {\"frequency\": 1, \"value\": 11820}, \"10800\": {\"frequency\": 1, \"value\": 10800}, \"9738\": {\"frequency\": 1, \"value\": 9738}, \"7179\": {\"frequency\": 1, \"value\": 7179}, \"82500\": {\"frequency\": 1, \"value\": 82500}, \"20918\": {\"frequency\": 1, \"value\": 20918}, \"7248\": {\"frequency\": 1, \"value\": 7248}, \"8794\": {\"frequency\": 1, \"value\": 8794}, \"99\": {\"frequency\": 1, \"value\": 99}, \"7272\": {\"frequency\": 1, \"value\": 7272}, \"619\": {\"frequency\": 1, \"value\": 619}, \"74860\": {\"frequency\": 1, \"value\": 74860}, \"467053\": {\"frequency\": 1, \"value\": 467053}, \"6257\": {\"frequency\": 1, \"value\": 6257}, \"7700\": {\"frequency\": 1, \"value\": 7700}, \"496764\": {\"frequency\": 1, \"value\": 496764}, \"40576\": {\"frequency\": 1, \"value\": 40576}, \"347777\": {\"frequency\": 1, \"value\": 347777}, \"22661\": {\"frequency\": 1, \"value\": 22661}, \"26250\": {\"frequency\": 1, \"value\": 26250}, \"19600\": {\"frequency\": 1, \"value\": 19600}, \"23406\": {\"frequency\": 1, \"value\": 23406}, \"20120\": {\"frequency\": 1, \"value\": 20120}, \"304804\": {\"frequency\": 1, \"value\": 304804}, \"221352\": {\"frequency\": 1, \"value\": 221352}, \"29354\": {\"frequency\": 1, \"value\": 29354}, \"157356\": {\"frequency\": 1, \"value\": 157356}, \"500\": {\"frequency\": 1, \"value\": 500}, \"69299\": {\"frequency\": 1, \"value\": 69299}, \"113344\": {\"frequency\": 1, \"value\": 113344}, \"188097\": {\"frequency\": 1, \"value\": 188097}, \"61640\": {\"frequency\": 1, \"value\": 61640}, \"95946\": {\"frequency\": 1, \"value\": 95946}, \"52771\": {\"frequency\": 1, \"value\": 52771}, \"65760\": {\"frequency\": 1, \"value\": 65760}, \"37089\": {\"frequency\": 1, \"value\": 37089}, \"230114\": {\"frequency\": 1, \"value\": 230114}, \"323300\": {\"frequency\": 1, \"value\": 323300}, \"84711\": {\"frequency\": 1, \"value\": 84711}, \"175350\": {\"frequency\": 1, \"value\": 175350}, \"80120\": {\"frequency\": 1, \"value\": 80120}, \"300796\": {\"frequency\": 1, \"value\": 300796}, \"227591\": {\"frequency\": 1, \"value\": 227591}, \"13100\": {\"frequency\": 1, \"value\": 13100}, \"10524\": {\"frequency\": 1, \"value\": 10524}, \"73501\": {\"frequency\": 1, \"value\": 73501}, \"2852\": {\"frequency\": 1, \"value\": 2852}, \"-152795\": {\"frequency\": 1, \"value\": -152795}, \"18214\": {\"frequency\": 1, \"value\": 18214}, \"176428\": {\"frequency\": 1, \"value\": 176428}, \"14647\": {\"frequency\": 1, \"value\": 14647}, \"1850\": {\"frequency\": 3, \"value\": 1850}, \"12110\": {\"frequency\": 1, \"value\": 12110}, \"416595\": {\"frequency\": 1, \"value\": 416595}, \"499033\": {\"frequency\": 1, \"value\": 499033}, \"327520\": {\"frequency\": 1, \"value\": 327520}, \"3937\": {\"frequency\": 1, \"value\": 3937}, \"6500\": {\"frequency\": 4, \"value\": 6500}, \"153448\": {\"frequency\": 1, \"value\": 153448}, \"32110\": {\"frequency\": 1, \"value\": 32110}, \"54845\": {\"frequency\": 1, \"value\": 54845}, \"6000\": {\"frequency\": 1, \"value\": 6000}, \"39401\": {\"frequency\": 1, \"value\": 39401}, \"38782\": {\"frequency\": 1, \"value\": 38782}, \"185728\": {\"frequency\": 1, \"value\": 185728}, \"276885\": {\"frequency\": 1, \"value\": 276885}, \"8095\": {\"frequency\": 1, \"value\": 8095}, \"61344\": {\"frequency\": 1, \"value\": 61344}, \"51617\": {\"frequency\": 1, \"value\": 51617}, \"274344\": {\"frequency\": 1, \"value\": 274344}, \"3501\": {\"frequency\": 1, \"value\": 3501}, \"55726\": {\"frequency\": 1, \"value\": 55726}, \"3506\": {\"frequency\": 1, \"value\": 3506}, \"107958\": {\"frequency\": 1, \"value\": 107958}, \"-1096\": {\"frequency\": 1, \"value\": -1096}, \"-264775\": {\"frequency\": 1, \"value\": -264775}, \"964\": {\"frequency\": 1, \"value\": 964}, \"169929\": {\"frequency\": 1, \"value\": 169929}, \"530423\": {\"frequency\": 1, \"value\": 530423}, \"180684\": {\"frequency\": 1, \"value\": 180684}, \"56783\": {\"frequency\": 1, \"value\": 56783}, \"9550\": {\"frequency\": 1, \"value\": 9550}, \"1500\": {\"frequency\": 1, \"value\": 1500}, \"161275\": {\"frequency\": 1, \"value\": 161275}, \"57829\": {\"frequency\": 1, \"value\": 57829}, \"75753\": {\"frequency\": 1, \"value\": 75753}, \"475630\": {\"frequency\": 1, \"value\": 475630}, \"63983\": {\"frequency\": 1, \"value\": 63983}, \"18416\": {\"frequency\": 1, \"value\": 18416}, \"157684\": {\"frequency\": 1, \"value\": 157684}, \"106999\": {\"frequency\": 1, \"value\": 106999}, \"37371\": {\"frequency\": 1, \"value\": 37371}, \"189610\": {\"frequency\": 1, \"value\": 189610}}, \"mean\": 82124.18333333333}, \"Prev_06_Age\": {\"std\": 0.9324028099485757, \"complete\": true, \"min\": 0.0, \"max\": 3.0, \"quantile\": [0.0, 0.0, 0.0, 0.0, 0.0, 0.0, 0.0, 0.0, 0.0, 0.0, 0.0, 0.0, 0.0, 0.0, 0.0, 0.0, 0.0, 0.0, 0.0, 0.0, 0.0, 0.0, 0.0, 0.0, 0.0, 0.0, 0.0, 0.0, 0.0, 0.0, 0.0, 0.0, 0.0, 0.0, 0.0, 0.0, 0.0, 0.0, 0.0, 0.0, 0.0, 0.0, 0.0, 0.0, 0.0, 0.0, 0.0, 0.0, 0.0, 0.0, 0.0, 0.0, 0.0, 0.0, 0.0, 0.0, 0.0, 0.0, 0.0, 0.0, 0.0, 0.0, 0.0, 0.0, 0.0, 0.0, 0.0, 0.0, 0.0, 0.0, 0.0, 0.0, 0.0, 0.0, 0.0, 0.0, 0.0, 0.0, 0.0, 0.0, 0.0, 0.0, 0.0, 0.0, 0.0, 0.0, 0.0, 0.0, 0.0, 0.0, 3.0, 3.0, 3.0, 3.0, 3.0, 3.0, 3.0, 3.0, 3.0, 3.0, 3.0], \"median\": 0.0, \"numeric\": true, \"num_unique\": 2, \"num_undefined\": 0, \"var\": 0.8693749999999999, \"progress\": 1.0, \"size\": 120, \"frequent_items\": {\"0\": {\"frequency\": 107, \"value\": 0}, \"3\": {\"frequency\": 13, \"value\": 3}}, \"mean\": 0.32499999999999996}, \"Curr_Age\": {\"std\": 1.7519631845446983, \"complete\": true, \"min\": 0.0, \"max\": 9.0, \"quantile\": [0.0, 0.0, 0.0, 0.0, 0.0, 0.0, 0.0, 0.0, 0.0, 0.0, 0.0, 0.0, 0.0, 0.0, 0.0, 0.0, 0.0, 0.0, 0.0, 0.0, 0.0, 0.0, 0.0, 0.0, 0.0, 0.0, 0.0, 0.0, 0.0, 0.0, 0.0, 0.0, 0.0, 0.0, 0.0, 0.0, 0.0, 0.0, 0.0, 0.0, 0.0, 0.0, 0.0, 0.0, 0.0, 0.0, 0.0, 0.0, 0.0, 0.0, 0.0, 0.0, 0.0, 0.0, 0.0, 0.0, 0.0, 0.0, 0.0, 0.0, 0.0, 0.0, 0.0, 0.0, 0.0, 0.0, 0.0, 0.0, 0.0, 0.0, 0.0, 0.0, 0.0, 0.0, 0.0, 0.0, 0.0, 0.0, 0.0, 0.0, 0.0, 0.0, 0.0, 0.0, 3.0, 3.0, 3.0, 3.0, 3.0, 3.0, 3.0, 3.0, 3.0, 3.0, 3.0, 3.0, 3.0, 6.0, 9.0, 9.0, 9.0], \"median\": 0.0, \"numeric\": true, \"num_unique\": 4, \"num_undefined\": 0, \"var\": 3.0693750000000004, \"progress\": 1.0, \"size\": 120, \"frequent_items\": {\"0\": {\"frequency\": 100, \"value\": 0}, \"9\": {\"frequency\": 3, \"value\": 9}, \"3\": {\"frequency\": 16, \"value\": 3}, \"6\": {\"frequency\": 1, \"value\": 6}}, \"mean\": 0.675}, \"Prev_08_Age\": {\"std\": 1.2587195875174104, \"complete\": true, \"min\": 0.0, \"max\": 6.0, \"quantile\": [0.0, 0.0, 0.0, 0.0, 0.0, 0.0, 0.0, 0.0, 0.0, 0.0, 0.0, 0.0, 0.0, 0.0, 0.0, 0.0, 0.0, 0.0, 0.0, 0.0, 0.0, 0.0, 0.0, 0.0, 0.0, 0.0, 0.0, 0.0, 0.0, 0.0, 0.0, 0.0, 0.0, 0.0, 0.0, 0.0, 0.0, 0.0, 0.0, 0.0, 0.0, 0.0, 0.0, 0.0, 0.0, 0.0, 0.0, 0.0, 0.0, 0.0, 0.0, 0.0, 0.0, 0.0, 0.0, 0.0, 0.0, 0.0, 0.0, 0.0, 0.0, 0.0, 0.0, 0.0, 0.0, 0.0, 0.0, 0.0, 0.0, 0.0, 0.0, 0.0, 0.0, 0.0, 0.0, 0.0, 0.0, 0.0, 0.0, 0.0, 0.0, 0.0, 0.0, 0.0, 0.0, 0.0, 0.0, 0.0, 0.0, 0.0, 0.0, 3.0, 3.0, 3.0, 3.0, 3.0, 3.0, 6.0, 6.0, 6.0, 6.0], \"median\": 0.0, \"numeric\": true, \"num_unique\": 3, \"num_undefined\": 0, \"var\": 1.584375, \"progress\": 1.0, \"size\": 120, \"frequent_items\": {\"0\": {\"frequency\": 109, \"value\": 0}, \"3\": {\"frequency\": 7, \"value\": 3}, \"6\": {\"frequency\": 4, \"value\": 6}}, \"mean\": 0.3749999999999999}, \"Laguage\": {\"std\": 1.9863422553919443, \"complete\": true, \"min\": 1.0, \"max\": 5.0, \"quantile\": [1.0, 1.0, 1.0, 1.0, 1.0, 1.0, 1.0, 1.0, 1.0, 1.0, 1.0, 1.0, 1.0, 1.0, 1.0, 1.0, 1.0, 1.0, 1.0, 1.0, 1.0, 1.0, 1.0, 1.0, 1.0, 1.0, 1.0, 1.0, 1.0, 1.0, 1.0, 1.0, 1.0, 1.0, 1.0, 1.0, 1.0, 1.0, 1.0, 1.0, 1.0, 1.0, 1.0, 1.0, 1.0, 1.0, 1.0, 1.0, 1.0, 1.0, 1.0, 1.0, 1.0, 1.0, 1.0, 1.0, 5.0, 5.0, 5.0, 5.0, 5.0, 5.0, 5.0, 5.0, 5.0, 5.0, 5.0, 5.0, 5.0, 5.0, 5.0, 5.0, 5.0, 5.0, 5.0, 5.0, 5.0, 5.0, 5.0, 5.0, 5.0, 5.0, 5.0, 5.0, 5.0, 5.0, 5.0, 5.0, 5.0, 5.0, 5.0, 5.0, 5.0, 5.0, 5.0, 5.0, 5.0, 5.0, 5.0, 5.0, 5.0], \"median\": 1.0, \"numeric\": true, \"num_unique\": 2, \"num_undefined\": 0, \"var\": 3.945555555555556, \"progress\": 1.0, \"size\": 120, \"frequent_items\": {\"1\": {\"frequency\": 67, \"value\": 1}, \"5\": {\"frequency\": 53, \"value\": 5}}, \"mean\": 2.7666666666666666}, \"Prev_10_Age\": {\"std\": 0.9614442261514706, \"complete\": true, \"min\": 0.0, \"max\": 6.0, \"quantile\": [0.0, 0.0, 0.0, 0.0, 0.0, 0.0, 0.0, 0.0, 0.0, 0.0, 0.0, 0.0, 0.0, 0.0, 0.0, 0.0, 0.0, 0.0, 0.0, 0.0, 0.0, 0.0, 0.0, 0.0, 0.0, 0.0, 0.0, 0.0, 0.0, 0.0, 0.0, 0.0, 0.0, 0.0, 0.0, 0.0, 0.0, 0.0, 0.0, 0.0, 0.0, 0.0, 0.0, 0.0, 0.0, 0.0, 0.0, 0.0, 0.0, 0.0, 0.0, 0.0, 0.0, 0.0, 0.0, 0.0, 0.0, 0.0, 0.0, 0.0, 0.0, 0.0, 0.0, 0.0, 0.0, 0.0, 0.0, 0.0, 0.0, 0.0, 0.0, 0.0, 0.0, 0.0, 0.0, 0.0, 0.0, 0.0, 0.0, 0.0, 0.0, 0.0, 0.0, 0.0, 0.0, 0.0, 0.0, 0.0, 0.0, 0.0, 0.0, 0.0, 0.0, 0.0, 0.0, 3.0, 3.0, 3.0, 3.0, 6.0, 6.0], \"median\": 0.0, \"numeric\": true, \"num_unique\": 3, \"num_undefined\": 0, \"var\": 0.9243750000000002, \"progress\": 1.0, \"size\": 120, \"frequent_items\": {\"0\": {\"frequency\": 113, \"value\": 0}, \"3\": {\"frequency\": 5, \"value\": 3}, \"6\": {\"frequency\": 2, \"value\": 6}}, \"mean\": 0.225}}, \"selected_variable\": {\"name\": [\"cc\"], \"descriptives\": {\"rows\": 120, \"columns\": 20}, \"view_component\": \"Summary\", \"view_file\": \"sframe\", \"view_params\": {\"y\": null, \"x\": null, \"columns\": [\"ID\", \"Product\", \"Last_Stmt_Bal\", \"Curr_Stmt_Bal\", \"Curr_Age\", \"Prev_01_Age\", \"Prev_02_Age\", \"Prev_03_Age\", \"Prev_04_Age\", \"Prev_05_Age\", \"Prev_06_Age\", \"Prev_07_Age\", \"Prev_08_Age\", \"Prev_09_Age\", \"Prev_10_Age\", \"Prev_11_Age\", \"Laguage\", \"Six_Month_Avg\", \"Age\", \"Cust_Since\"], \"view\": null}, \"view_components\": [\"Summary\", \"Table\", \"Bar Chart\", \"BoxWhisker Plot\", \"Line Chart\", \"Scatter Plot\", \"Heat Map\", \"Plots\"], \"type\": \"SFrame\", \"columns\": [{\"dtype\": \"int\", \"name\": \"ID\"}, {\"dtype\": \"str\", \"name\": \"Product\"}, {\"dtype\": \"int\", \"name\": \"Last_Stmt_Bal\"}, {\"dtype\": \"int\", \"name\": \"Curr_Stmt_Bal\"}, {\"dtype\": \"int\", \"name\": \"Curr_Age\"}, {\"dtype\": \"int\", \"name\": \"Prev_01_Age\"}, {\"dtype\": \"int\", \"name\": \"Prev_02_Age\"}, {\"dtype\": \"int\", \"name\": \"Prev_03_Age\"}, {\"dtype\": \"int\", \"name\": \"Prev_04_Age\"}, {\"dtype\": \"int\", \"name\": \"Prev_05_Age\"}, {\"dtype\": \"int\", \"name\": \"Prev_06_Age\"}, {\"dtype\": \"int\", \"name\": \"Prev_07_Age\"}, {\"dtype\": \"int\", \"name\": \"Prev_08_Age\"}, {\"dtype\": \"int\", \"name\": \"Prev_09_Age\"}, {\"dtype\": \"int\", \"name\": \"Prev_10_Age\"}, {\"dtype\": \"int\", \"name\": \"Prev_11_Age\"}, {\"dtype\": \"int\", \"name\": \"Laguage\"}, {\"dtype\": \"float\", \"name\": \"Six_Month_Avg\"}, {\"dtype\": \"int\", \"name\": \"Age\"}, {\"dtype\": \"int\", \"name\": \"Cust_Since\"}], \"column_identifiers\": [\"Prev_04_Age\", \"Product\", \"Prev_02_Age\", \"Cust_Since\", \"Prev_09_Age\", \"Age\", \"Six_Month_Avg\", \"Prev_07_Age\", \"ID\", \"Prev_05_Age\", \"Last_Stmt_Bal\", \"Prev_11_Age\", \"Prev_01_Age\", \"Prev_03_Age\", \"Curr_Stmt_Bal\", \"Prev_06_Age\", \"Curr_Age\", \"Prev_08_Age\", \"Laguage\", \"Prev_10_Age\"]}, \"columns\": [{\"dtype\": \"int\", \"name\": \"ID\"}, {\"dtype\": \"str\", \"name\": \"Product\"}, {\"dtype\": \"int\", \"name\": \"Last_Stmt_Bal\"}, {\"dtype\": \"int\", \"name\": \"Curr_Stmt_Bal\"}, {\"dtype\": \"int\", \"name\": \"Curr_Age\"}, {\"dtype\": \"int\", \"name\": \"Prev_01_Age\"}, {\"dtype\": \"int\", \"name\": \"Prev_02_Age\"}, {\"dtype\": \"int\", \"name\": \"Prev_03_Age\"}, {\"dtype\": \"int\", \"name\": \"Prev_04_Age\"}, {\"dtype\": \"int\", \"name\": \"Prev_05_Age\"}, {\"dtype\": \"int\", \"name\": \"Prev_06_Age\"}, {\"dtype\": \"int\", \"name\": \"Prev_07_Age\"}, {\"dtype\": \"int\", \"name\": \"Prev_08_Age\"}, {\"dtype\": \"int\", \"name\": \"Prev_09_Age\"}, {\"dtype\": \"int\", \"name\": \"Prev_10_Age\"}, {\"dtype\": \"int\", \"name\": \"Prev_11_Age\"}, {\"dtype\": \"int\", \"name\": \"Laguage\"}, {\"dtype\": \"float\", \"name\": \"Six_Month_Avg\"}, {\"dtype\": \"int\", \"name\": \"Age\"}, {\"dtype\": \"int\", \"name\": \"Cust_Since\"}]}, e);\n",
       "                });\n",
       "            })();\n",
       "        "
      ]
     },
     "metadata": {},
     "output_type": "display_data"
    }
   ],
   "source": [
    "graphlab.canvas.set_target('ipynb')\n",
    "cc.show()"
   ]
  },
  {
   "cell_type": "code",
   "execution_count": 18,
   "metadata": {
    "collapsed": false
   },
   "outputs": [],
   "source": [
    "train_data,test_data = cc.random_split(0.8,seed=3)"
   ]
  },
  {
   "cell_type": "code",
   "execution_count": 19,
   "metadata": {
    "collapsed": false
   },
   "outputs": [
    {
     "data": {
      "text/html": [
       "<div style=\"max-height:1000px;max-width:1500px;overflow:auto;\"><table frame=\"box\" rules=\"cols\">\n",
       "    <tr>\n",
       "        <th style=\"padding-left: 1em; padding-right: 1em; text-align: center\">ID</th>\n",
       "        <th style=\"padding-left: 1em; padding-right: 1em; text-align: center\">Product</th>\n",
       "        <th style=\"padding-left: 1em; padding-right: 1em; text-align: center\">Last_Stmt_Bal</th>\n",
       "        <th style=\"padding-left: 1em; padding-right: 1em; text-align: center\">Curr_Stmt_Bal</th>\n",
       "        <th style=\"padding-left: 1em; padding-right: 1em; text-align: center\">Curr_Age</th>\n",
       "        <th style=\"padding-left: 1em; padding-right: 1em; text-align: center\">Prev_01_Age</th>\n",
       "        <th style=\"padding-left: 1em; padding-right: 1em; text-align: center\">Prev_02_Age</th>\n",
       "        <th style=\"padding-left: 1em; padding-right: 1em; text-align: center\">Prev_03_Age</th>\n",
       "        <th style=\"padding-left: 1em; padding-right: 1em; text-align: center\">Prev_04_Age</th>\n",
       "        <th style=\"padding-left: 1em; padding-right: 1em; text-align: center\">Prev_05_Age</th>\n",
       "    </tr>\n",
       "    <tr>\n",
       "        <td style=\"padding-left: 1em; padding-right: 1em; text-align: center; vertical-align: top\">1</td>\n",
       "        <td style=\"padding-left: 1em; padding-right: 1em; text-align: center; vertical-align: top\">P</td>\n",
       "        <td style=\"padding-left: 1em; padding-right: 1em; text-align: center; vertical-align: top\">40024</td>\n",
       "        <td style=\"padding-left: 1em; padding-right: 1em; text-align: center; vertical-align: top\">38442</td>\n",
       "        <td style=\"padding-left: 1em; padding-right: 1em; text-align: center; vertical-align: top\">0</td>\n",
       "        <td style=\"padding-left: 1em; padding-right: 1em; text-align: center; vertical-align: top\">0</td>\n",
       "        <td style=\"padding-left: 1em; padding-right: 1em; text-align: center; vertical-align: top\">0</td>\n",
       "        <td style=\"padding-left: 1em; padding-right: 1em; text-align: center; vertical-align: top\">0</td>\n",
       "        <td style=\"padding-left: 1em; padding-right: 1em; text-align: center; vertical-align: top\">0</td>\n",
       "        <td style=\"padding-left: 1em; padding-right: 1em; text-align: center; vertical-align: top\">0</td>\n",
       "    </tr>\n",
       "    <tr>\n",
       "        <td style=\"padding-left: 1em; padding-right: 1em; text-align: center; vertical-align: top\">2</td>\n",
       "        <td style=\"padding-left: 1em; padding-right: 1em; text-align: center; vertical-align: top\">P</td>\n",
       "        <td style=\"padding-left: 1em; padding-right: 1em; text-align: center; vertical-align: top\">13640</td>\n",
       "        <td style=\"padding-left: 1em; padding-right: 1em; text-align: center; vertical-align: top\">20500</td>\n",
       "        <td style=\"padding-left: 1em; padding-right: 1em; text-align: center; vertical-align: top\">0</td>\n",
       "        <td style=\"padding-left: 1em; padding-right: 1em; text-align: center; vertical-align: top\">0</td>\n",
       "        <td style=\"padding-left: 1em; padding-right: 1em; text-align: center; vertical-align: top\">0</td>\n",
       "        <td style=\"padding-left: 1em; padding-right: 1em; text-align: center; vertical-align: top\">0</td>\n",
       "        <td style=\"padding-left: 1em; padding-right: 1em; text-align: center; vertical-align: top\">0</td>\n",
       "        <td style=\"padding-left: 1em; padding-right: 1em; text-align: center; vertical-align: top\">0</td>\n",
       "    </tr>\n",
       "    <tr>\n",
       "        <td style=\"padding-left: 1em; padding-right: 1em; text-align: center; vertical-align: top\">3</td>\n",
       "        <td style=\"padding-left: 1em; padding-right: 1em; text-align: center; vertical-align: top\">P</td>\n",
       "        <td style=\"padding-left: 1em; padding-right: 1em; text-align: center; vertical-align: top\">0</td>\n",
       "        <td style=\"padding-left: 1em; padding-right: 1em; text-align: center; vertical-align: top\">6500</td>\n",
       "        <td style=\"padding-left: 1em; padding-right: 1em; text-align: center; vertical-align: top\">0</td>\n",
       "        <td style=\"padding-left: 1em; padding-right: 1em; text-align: center; vertical-align: top\">0</td>\n",
       "        <td style=\"padding-left: 1em; padding-right: 1em; text-align: center; vertical-align: top\">0</td>\n",
       "        <td style=\"padding-left: 1em; padding-right: 1em; text-align: center; vertical-align: top\">0</td>\n",
       "        <td style=\"padding-left: 1em; padding-right: 1em; text-align: center; vertical-align: top\">0</td>\n",
       "        <td style=\"padding-left: 1em; padding-right: 1em; text-align: center; vertical-align: top\">0</td>\n",
       "    </tr>\n",
       "    <tr>\n",
       "        <td style=\"padding-left: 1em; padding-right: 1em; text-align: center; vertical-align: top\">4</td>\n",
       "        <td style=\"padding-left: 1em; padding-right: 1em; text-align: center; vertical-align: top\">P</td>\n",
       "        <td style=\"padding-left: 1em; padding-right: 1em; text-align: center; vertical-align: top\">723</td>\n",
       "        <td style=\"padding-left: 1em; padding-right: 1em; text-align: center; vertical-align: top\">964</td>\n",
       "        <td style=\"padding-left: 1em; padding-right: 1em; text-align: center; vertical-align: top\">0</td>\n",
       "        <td style=\"padding-left: 1em; padding-right: 1em; text-align: center; vertical-align: top\">0</td>\n",
       "        <td style=\"padding-left: 1em; padding-right: 1em; text-align: center; vertical-align: top\">0</td>\n",
       "        <td style=\"padding-left: 1em; padding-right: 1em; text-align: center; vertical-align: top\">0</td>\n",
       "        <td style=\"padding-left: 1em; padding-right: 1em; text-align: center; vertical-align: top\">0</td>\n",
       "        <td style=\"padding-left: 1em; padding-right: 1em; text-align: center; vertical-align: top\">0</td>\n",
       "    </tr>\n",
       "    <tr>\n",
       "        <td style=\"padding-left: 1em; padding-right: 1em; text-align: center; vertical-align: top\">5</td>\n",
       "        <td style=\"padding-left: 1em; padding-right: 1em; text-align: center; vertical-align: top\">P</td>\n",
       "        <td style=\"padding-left: 1em; padding-right: 1em; text-align: center; vertical-align: top\">92064</td>\n",
       "        <td style=\"padding-left: 1em; padding-right: 1em; text-align: center; vertical-align: top\">6257</td>\n",
       "        <td style=\"padding-left: 1em; padding-right: 1em; text-align: center; vertical-align: top\">0</td>\n",
       "        <td style=\"padding-left: 1em; padding-right: 1em; text-align: center; vertical-align: top\">0</td>\n",
       "        <td style=\"padding-left: 1em; padding-right: 1em; text-align: center; vertical-align: top\">0</td>\n",
       "        <td style=\"padding-left: 1em; padding-right: 1em; text-align: center; vertical-align: top\">0</td>\n",
       "        <td style=\"padding-left: 1em; padding-right: 1em; text-align: center; vertical-align: top\">0</td>\n",
       "        <td style=\"padding-left: 1em; padding-right: 1em; text-align: center; vertical-align: top\">0</td>\n",
       "    </tr>\n",
       "    <tr>\n",
       "        <td style=\"padding-left: 1em; padding-right: 1em; text-align: center; vertical-align: top\">6</td>\n",
       "        <td style=\"padding-left: 1em; padding-right: 1em; text-align: center; vertical-align: top\">P</td>\n",
       "        <td style=\"padding-left: 1em; padding-right: 1em; text-align: center; vertical-align: top\">115799</td>\n",
       "        <td style=\"padding-left: 1em; padding-right: 1em; text-align: center; vertical-align: top\">227591</td>\n",
       "        <td style=\"padding-left: 1em; padding-right: 1em; text-align: center; vertical-align: top\">0</td>\n",
       "        <td style=\"padding-left: 1em; padding-right: 1em; text-align: center; vertical-align: top\">0</td>\n",
       "        <td style=\"padding-left: 1em; padding-right: 1em; text-align: center; vertical-align: top\">0</td>\n",
       "        <td style=\"padding-left: 1em; padding-right: 1em; text-align: center; vertical-align: top\">0</td>\n",
       "        <td style=\"padding-left: 1em; padding-right: 1em; text-align: center; vertical-align: top\">0</td>\n",
       "        <td style=\"padding-left: 1em; padding-right: 1em; text-align: center; vertical-align: top\">0</td>\n",
       "    </tr>\n",
       "    <tr>\n",
       "        <td style=\"padding-left: 1em; padding-right: 1em; text-align: center; vertical-align: top\">7</td>\n",
       "        <td style=\"padding-left: 1em; padding-right: 1em; text-align: center; vertical-align: top\">P</td>\n",
       "        <td style=\"padding-left: 1em; padding-right: 1em; text-align: center; vertical-align: top\">161301</td>\n",
       "        <td style=\"padding-left: 1em; padding-right: 1em; text-align: center; vertical-align: top\">185728</td>\n",
       "        <td style=\"padding-left: 1em; padding-right: 1em; text-align: center; vertical-align: top\">0</td>\n",
       "        <td style=\"padding-left: 1em; padding-right: 1em; text-align: center; vertical-align: top\">0</td>\n",
       "        <td style=\"padding-left: 1em; padding-right: 1em; text-align: center; vertical-align: top\">0</td>\n",
       "        <td style=\"padding-left: 1em; padding-right: 1em; text-align: center; vertical-align: top\">0</td>\n",
       "        <td style=\"padding-left: 1em; padding-right: 1em; text-align: center; vertical-align: top\">0</td>\n",
       "        <td style=\"padding-left: 1em; padding-right: 1em; text-align: center; vertical-align: top\">0</td>\n",
       "    </tr>\n",
       "    <tr>\n",
       "        <td style=\"padding-left: 1em; padding-right: 1em; text-align: center; vertical-align: top\">8</td>\n",
       "        <td style=\"padding-left: 1em; padding-right: 1em; text-align: center; vertical-align: top\">P</td>\n",
       "        <td style=\"padding-left: 1em; padding-right: 1em; text-align: center; vertical-align: top\">110055</td>\n",
       "        <td style=\"padding-left: 1em; padding-right: 1em; text-align: center; vertical-align: top\">29217</td>\n",
       "        <td style=\"padding-left: 1em; padding-right: 1em; text-align: center; vertical-align: top\">0</td>\n",
       "        <td style=\"padding-left: 1em; padding-right: 1em; text-align: center; vertical-align: top\">0</td>\n",
       "        <td style=\"padding-left: 1em; padding-right: 1em; text-align: center; vertical-align: top\">0</td>\n",
       "        <td style=\"padding-left: 1em; padding-right: 1em; text-align: center; vertical-align: top\">0</td>\n",
       "        <td style=\"padding-left: 1em; padding-right: 1em; text-align: center; vertical-align: top\">0</td>\n",
       "        <td style=\"padding-left: 1em; padding-right: 1em; text-align: center; vertical-align: top\">0</td>\n",
       "    </tr>\n",
       "    <tr>\n",
       "        <td style=\"padding-left: 1em; padding-right: 1em; text-align: center; vertical-align: top\">9</td>\n",
       "        <td style=\"padding-left: 1em; padding-right: 1em; text-align: center; vertical-align: top\">P</td>\n",
       "        <td style=\"padding-left: 1em; padding-right: 1em; text-align: center; vertical-align: top\">181109</td>\n",
       "        <td style=\"padding-left: 1em; padding-right: 1em; text-align: center; vertical-align: top\">218659</td>\n",
       "        <td style=\"padding-left: 1em; padding-right: 1em; text-align: center; vertical-align: top\">0</td>\n",
       "        <td style=\"padding-left: 1em; padding-right: 1em; text-align: center; vertical-align: top\">0</td>\n",
       "        <td style=\"padding-left: 1em; padding-right: 1em; text-align: center; vertical-align: top\">0</td>\n",
       "        <td style=\"padding-left: 1em; padding-right: 1em; text-align: center; vertical-align: top\">3</td>\n",
       "        <td style=\"padding-left: 1em; padding-right: 1em; text-align: center; vertical-align: top\">3</td>\n",
       "        <td style=\"padding-left: 1em; padding-right: 1em; text-align: center; vertical-align: top\">3</td>\n",
       "    </tr>\n",
       "    <tr>\n",
       "        <td style=\"padding-left: 1em; padding-right: 1em; text-align: center; vertical-align: top\">10</td>\n",
       "        <td style=\"padding-left: 1em; padding-right: 1em; text-align: center; vertical-align: top\">P</td>\n",
       "        <td style=\"padding-left: 1em; padding-right: 1em; text-align: center; vertical-align: top\">87301</td>\n",
       "        <td style=\"padding-left: 1em; padding-right: 1em; text-align: center; vertical-align: top\">55726</td>\n",
       "        <td style=\"padding-left: 1em; padding-right: 1em; text-align: center; vertical-align: top\">0</td>\n",
       "        <td style=\"padding-left: 1em; padding-right: 1em; text-align: center; vertical-align: top\">0</td>\n",
       "        <td style=\"padding-left: 1em; padding-right: 1em; text-align: center; vertical-align: top\">0</td>\n",
       "        <td style=\"padding-left: 1em; padding-right: 1em; text-align: center; vertical-align: top\">0</td>\n",
       "        <td style=\"padding-left: 1em; padding-right: 1em; text-align: center; vertical-align: top\">0</td>\n",
       "        <td style=\"padding-left: 1em; padding-right: 1em; text-align: center; vertical-align: top\">0</td>\n",
       "    </tr>\n",
       "</table>\n",
       "<table frame=\"box\" rules=\"cols\">\n",
       "    <tr>\n",
       "        <th style=\"padding-left: 1em; padding-right: 1em; text-align: center\">Prev_06_Age</th>\n",
       "        <th style=\"padding-left: 1em; padding-right: 1em; text-align: center\">Prev_07_Age</th>\n",
       "        <th style=\"padding-left: 1em; padding-right: 1em; text-align: center\">Prev_08_Age</th>\n",
       "        <th style=\"padding-left: 1em; padding-right: 1em; text-align: center\">Prev_09_Age</th>\n",
       "        <th style=\"padding-left: 1em; padding-right: 1em; text-align: center\">Prev_10_Age</th>\n",
       "        <th style=\"padding-left: 1em; padding-right: 1em; text-align: center\">Prev_11_Age</th>\n",
       "        <th style=\"padding-left: 1em; padding-right: 1em; text-align: center\">Laguage</th>\n",
       "        <th style=\"padding-left: 1em; padding-right: 1em; text-align: center\">Six_Month_Avg</th>\n",
       "        <th style=\"padding-left: 1em; padding-right: 1em; text-align: center\">Age</th>\n",
       "    </tr>\n",
       "    <tr>\n",
       "        <td style=\"padding-left: 1em; padding-right: 1em; text-align: center; vertical-align: top\">0</td>\n",
       "        <td style=\"padding-left: 1em; padding-right: 1em; text-align: center; vertical-align: top\">3</td>\n",
       "        <td style=\"padding-left: 1em; padding-right: 1em; text-align: center; vertical-align: top\">0</td>\n",
       "        <td style=\"padding-left: 1em; padding-right: 1em; text-align: center; vertical-align: top\">0</td>\n",
       "        <td style=\"padding-left: 1em; padding-right: 1em; text-align: center; vertical-align: top\">0</td>\n",
       "        <td style=\"padding-left: 1em; padding-right: 1em; text-align: center; vertical-align: top\">3</td>\n",
       "        <td style=\"padding-left: 1em; padding-right: 1em; text-align: center; vertical-align: top\">5</td>\n",
       "        <td style=\"padding-left: 1em; padding-right: 1em; text-align: center; vertical-align: top\">94029.33</td>\n",
       "        <td style=\"padding-left: 1em; padding-right: 1em; text-align: center; vertical-align: top\">829</td>\n",
       "    </tr>\n",
       "    <tr>\n",
       "        <td style=\"padding-left: 1em; padding-right: 1em; text-align: center; vertical-align: top\">0</td>\n",
       "        <td style=\"padding-left: 1em; padding-right: 1em; text-align: center; vertical-align: top\">0</td>\n",
       "        <td style=\"padding-left: 1em; padding-right: 1em; text-align: center; vertical-align: top\">0</td>\n",
       "        <td style=\"padding-left: 1em; padding-right: 1em; text-align: center; vertical-align: top\">0</td>\n",
       "        <td style=\"padding-left: 1em; padding-right: 1em; text-align: center; vertical-align: top\">0</td>\n",
       "        <td style=\"padding-left: 1em; padding-right: 1em; text-align: center; vertical-align: top\">0</td>\n",
       "        <td style=\"padding-left: 1em; padding-right: 1em; text-align: center; vertical-align: top\">5</td>\n",
       "        <td style=\"padding-left: 1em; padding-right: 1em; text-align: center; vertical-align: top\">9154.0</td>\n",
       "        <td style=\"padding-left: 1em; padding-right: 1em; text-align: center; vertical-align: top\">1053</td>\n",
       "    </tr>\n",
       "    <tr>\n",
       "        <td style=\"padding-left: 1em; padding-right: 1em; text-align: center; vertical-align: top\">0</td>\n",
       "        <td style=\"padding-left: 1em; padding-right: 1em; text-align: center; vertical-align: top\">0</td>\n",
       "        <td style=\"padding-left: 1em; padding-right: 1em; text-align: center; vertical-align: top\">0</td>\n",
       "        <td style=\"padding-left: 1em; padding-right: 1em; text-align: center; vertical-align: top\">0</td>\n",
       "        <td style=\"padding-left: 1em; padding-right: 1em; text-align: center; vertical-align: top\">0</td>\n",
       "        <td style=\"padding-left: 1em; padding-right: 1em; text-align: center; vertical-align: top\">0</td>\n",
       "        <td style=\"padding-left: 1em; padding-right: 1em; text-align: center; vertical-align: top\">5</td>\n",
       "        <td style=\"padding-left: 1em; padding-right: 1em; text-align: center; vertical-align: top\">1500.0</td>\n",
       "        <td style=\"padding-left: 1em; padding-right: 1em; text-align: center; vertical-align: top\">979</td>\n",
       "    </tr>\n",
       "    <tr>\n",
       "        <td style=\"padding-left: 1em; padding-right: 1em; text-align: center; vertical-align: top\">0</td>\n",
       "        <td style=\"padding-left: 1em; padding-right: 1em; text-align: center; vertical-align: top\">0</td>\n",
       "        <td style=\"padding-left: 1em; padding-right: 1em; text-align: center; vertical-align: top\">0</td>\n",
       "        <td style=\"padding-left: 1em; padding-right: 1em; text-align: center; vertical-align: top\">0</td>\n",
       "        <td style=\"padding-left: 1em; padding-right: 1em; text-align: center; vertical-align: top\">0</td>\n",
       "        <td style=\"padding-left: 1em; padding-right: 1em; text-align: center; vertical-align: top\">0</td>\n",
       "        <td style=\"padding-left: 1em; padding-right: 1em; text-align: center; vertical-align: top\">5</td>\n",
       "        <td style=\"padding-left: 1em; padding-right: 1em; text-align: center; vertical-align: top\">1485.0</td>\n",
       "        <td style=\"padding-left: 1em; padding-right: 1em; text-align: center; vertical-align: top\">758</td>\n",
       "    </tr>\n",
       "    <tr>\n",
       "        <td style=\"padding-left: 1em; padding-right: 1em; text-align: center; vertical-align: top\">0</td>\n",
       "        <td style=\"padding-left: 1em; padding-right: 1em; text-align: center; vertical-align: top\">0</td>\n",
       "        <td style=\"padding-left: 1em; padding-right: 1em; text-align: center; vertical-align: top\">0</td>\n",
       "        <td style=\"padding-left: 1em; padding-right: 1em; text-align: center; vertical-align: top\">0</td>\n",
       "        <td style=\"padding-left: 1em; padding-right: 1em; text-align: center; vertical-align: top\">0</td>\n",
       "        <td style=\"padding-left: 1em; padding-right: 1em; text-align: center; vertical-align: top\">0</td>\n",
       "        <td style=\"padding-left: 1em; padding-right: 1em; text-align: center; vertical-align: top\">1</td>\n",
       "        <td style=\"padding-left: 1em; padding-right: 1em; text-align: center; vertical-align: top\">127767.66</td>\n",
       "        <td style=\"padding-left: 1em; padding-right: 1em; text-align: center; vertical-align: top\">942</td>\n",
       "    </tr>\n",
       "    <tr>\n",
       "        <td style=\"padding-left: 1em; padding-right: 1em; text-align: center; vertical-align: top\">0</td>\n",
       "        <td style=\"padding-left: 1em; padding-right: 1em; text-align: center; vertical-align: top\">0</td>\n",
       "        <td style=\"padding-left: 1em; padding-right: 1em; text-align: center; vertical-align: top\">0</td>\n",
       "        <td style=\"padding-left: 1em; padding-right: 1em; text-align: center; vertical-align: top\">0</td>\n",
       "        <td style=\"padding-left: 1em; padding-right: 1em; text-align: center; vertical-align: top\">0</td>\n",
       "        <td style=\"padding-left: 1em; padding-right: 1em; text-align: center; vertical-align: top\">0</td>\n",
       "        <td style=\"padding-left: 1em; padding-right: 1em; text-align: center; vertical-align: top\">1</td>\n",
       "        <td style=\"padding-left: 1em; padding-right: 1em; text-align: center; vertical-align: top\">116922.66</td>\n",
       "        <td style=\"padding-left: 1em; padding-right: 1em; text-align: center; vertical-align: top\">747</td>\n",
       "    </tr>\n",
       "    <tr>\n",
       "        <td style=\"padding-left: 1em; padding-right: 1em; text-align: center; vertical-align: top\">0</td>\n",
       "        <td style=\"padding-left: 1em; padding-right: 1em; text-align: center; vertical-align: top\">0</td>\n",
       "        <td style=\"padding-left: 1em; padding-right: 1em; text-align: center; vertical-align: top\">0</td>\n",
       "        <td style=\"padding-left: 1em; padding-right: 1em; text-align: center; vertical-align: top\">0</td>\n",
       "        <td style=\"padding-left: 1em; padding-right: 1em; text-align: center; vertical-align: top\">0</td>\n",
       "        <td style=\"padding-left: 1em; padding-right: 1em; text-align: center; vertical-align: top\">0</td>\n",
       "        <td style=\"padding-left: 1em; padding-right: 1em; text-align: center; vertical-align: top\">1</td>\n",
       "        <td style=\"padding-left: 1em; padding-right: 1em; text-align: center; vertical-align: top\">410747.22</td>\n",
       "        <td style=\"padding-left: 1em; padding-right: 1em; text-align: center; vertical-align: top\">778</td>\n",
       "    </tr>\n",
       "    <tr>\n",
       "        <td style=\"padding-left: 1em; padding-right: 1em; text-align: center; vertical-align: top\">0</td>\n",
       "        <td style=\"padding-left: 1em; padding-right: 1em; text-align: center; vertical-align: top\">0</td>\n",
       "        <td style=\"padding-left: 1em; padding-right: 1em; text-align: center; vertical-align: top\">0</td>\n",
       "        <td style=\"padding-left: 1em; padding-right: 1em; text-align: center; vertical-align: top\">0</td>\n",
       "        <td style=\"padding-left: 1em; padding-right: 1em; text-align: center; vertical-align: top\">0</td>\n",
       "        <td style=\"padding-left: 1em; padding-right: 1em; text-align: center; vertical-align: top\">0</td>\n",
       "        <td style=\"padding-left: 1em; padding-right: 1em; text-align: center; vertical-align: top\">5</td>\n",
       "        <td style=\"padding-left: 1em; padding-right: 1em; text-align: center; vertical-align: top\">46803.5</td>\n",
       "        <td style=\"padding-left: 1em; padding-right: 1em; text-align: center; vertical-align: top\">791</td>\n",
       "    </tr>\n",
       "    <tr>\n",
       "        <td style=\"padding-left: 1em; padding-right: 1em; text-align: center; vertical-align: top\">0</td>\n",
       "        <td style=\"padding-left: 1em; padding-right: 1em; text-align: center; vertical-align: top\">0</td>\n",
       "        <td style=\"padding-left: 1em; padding-right: 1em; text-align: center; vertical-align: top\">0</td>\n",
       "        <td style=\"padding-left: 1em; padding-right: 1em; text-align: center; vertical-align: top\">0</td>\n",
       "        <td style=\"padding-left: 1em; padding-right: 1em; text-align: center; vertical-align: top\">0</td>\n",
       "        <td style=\"padding-left: 1em; padding-right: 1em; text-align: center; vertical-align: top\">0</td>\n",
       "        <td style=\"padding-left: 1em; padding-right: 1em; text-align: center; vertical-align: top\">1</td>\n",
       "        <td style=\"padding-left: 1em; padding-right: 1em; text-align: center; vertical-align: top\">155554.5</td>\n",
       "        <td style=\"padding-left: 1em; padding-right: 1em; text-align: center; vertical-align: top\">807</td>\n",
       "    </tr>\n",
       "    <tr>\n",
       "        <td style=\"padding-left: 1em; padding-right: 1em; text-align: center; vertical-align: top\">0</td>\n",
       "        <td style=\"padding-left: 1em; padding-right: 1em; text-align: center; vertical-align: top\">0</td>\n",
       "        <td style=\"padding-left: 1em; padding-right: 1em; text-align: center; vertical-align: top\">0</td>\n",
       "        <td style=\"padding-left: 1em; padding-right: 1em; text-align: center; vertical-align: top\">0</td>\n",
       "        <td style=\"padding-left: 1em; padding-right: 1em; text-align: center; vertical-align: top\">0</td>\n",
       "        <td style=\"padding-left: 1em; padding-right: 1em; text-align: center; vertical-align: top\">0</td>\n",
       "        <td style=\"padding-left: 1em; padding-right: 1em; text-align: center; vertical-align: top\">1</td>\n",
       "        <td style=\"padding-left: 1em; padding-right: 1em; text-align: center; vertical-align: top\">156224.83</td>\n",
       "        <td style=\"padding-left: 1em; padding-right: 1em; text-align: center; vertical-align: top\">792</td>\n",
       "    </tr>\n",
       "</table>\n",
       "<table frame=\"box\" rules=\"cols\">\n",
       "    <tr>\n",
       "        <th style=\"padding-left: 1em; padding-right: 1em; text-align: center\">Cust_Since</th>\n",
       "    </tr>\n",
       "    <tr>\n",
       "        <td style=\"padding-left: 1em; padding-right: 1em; text-align: center; vertical-align: top\">455</td>\n",
       "    </tr>\n",
       "    <tr>\n",
       "        <td style=\"padding-left: 1em; padding-right: 1em; text-align: center; vertical-align: top\">455</td>\n",
       "    </tr>\n",
       "    <tr>\n",
       "        <td style=\"padding-left: 1em; padding-right: 1em; text-align: center; vertical-align: top\">455</td>\n",
       "    </tr>\n",
       "    <tr>\n",
       "        <td style=\"padding-left: 1em; padding-right: 1em; text-align: center; vertical-align: top\">455</td>\n",
       "    </tr>\n",
       "    <tr>\n",
       "        <td style=\"padding-left: 1em; padding-right: 1em; text-align: center; vertical-align: top\">431</td>\n",
       "    </tr>\n",
       "    <tr>\n",
       "        <td style=\"padding-left: 1em; padding-right: 1em; text-align: center; vertical-align: top\">455</td>\n",
       "    </tr>\n",
       "    <tr>\n",
       "        <td style=\"padding-left: 1em; padding-right: 1em; text-align: center; vertical-align: top\">455</td>\n",
       "    </tr>\n",
       "    <tr>\n",
       "        <td style=\"padding-left: 1em; padding-right: 1em; text-align: center; vertical-align: top\">455</td>\n",
       "    </tr>\n",
       "    <tr>\n",
       "        <td style=\"padding-left: 1em; padding-right: 1em; text-align: center; vertical-align: top\">455</td>\n",
       "    </tr>\n",
       "    <tr>\n",
       "        <td style=\"padding-left: 1em; padding-right: 1em; text-align: center; vertical-align: top\">455</td>\n",
       "    </tr>\n",
       "</table>\n",
       "[10 rows x 20 columns]<br/>\n",
       "</div>"
      ],
      "text/plain": [
       "Columns:\n",
       "\tID\tint\n",
       "\tProduct\tstr\n",
       "\tLast_Stmt_Bal\tint\n",
       "\tCurr_Stmt_Bal\tint\n",
       "\tCurr_Age\tint\n",
       "\tPrev_01_Age\tint\n",
       "\tPrev_02_Age\tint\n",
       "\tPrev_03_Age\tint\n",
       "\tPrev_04_Age\tint\n",
       "\tPrev_05_Age\tint\n",
       "\tPrev_06_Age\tint\n",
       "\tPrev_07_Age\tint\n",
       "\tPrev_08_Age\tint\n",
       "\tPrev_09_Age\tint\n",
       "\tPrev_10_Age\tint\n",
       "\tPrev_11_Age\tint\n",
       "\tLaguage\tint\n",
       "\tSix_Month_Avg\tfloat\n",
       "\tAge\tint\n",
       "\tCust_Since\tint\n",
       "\n",
       "Rows: 10\n",
       "\n",
       "Data:\n",
       "+----+---------+---------------+---------------+----------+-------------+-------------+\n",
       "| ID | Product | Last_Stmt_Bal | Curr_Stmt_Bal | Curr_Age | Prev_01_Age | Prev_02_Age |\n",
       "+----+---------+---------------+---------------+----------+-------------+-------------+\n",
       "| 1  |    P    |     40024     |     38442     |    0     |      0      |      0      |\n",
       "| 2  |    P    |     13640     |     20500     |    0     |      0      |      0      |\n",
       "| 3  |    P    |       0       |      6500     |    0     |      0      |      0      |\n",
       "| 4  |    P    |      723      |      964      |    0     |      0      |      0      |\n",
       "| 5  |    P    |     92064     |      6257     |    0     |      0      |      0      |\n",
       "| 6  |    P    |     115799    |     227591    |    0     |      0      |      0      |\n",
       "| 7  |    P    |     161301    |     185728    |    0     |      0      |      0      |\n",
       "| 8  |    P    |     110055    |     29217     |    0     |      0      |      0      |\n",
       "| 9  |    P    |     181109    |     218659    |    0     |      0      |      0      |\n",
       "| 10 |    P    |     87301     |     55726     |    0     |      0      |      0      |\n",
       "+----+---------+---------------+---------------+----------+-------------+-------------+\n",
       "+-------------+-------------+-------------+-------------+-------------+-------------+\n",
       "| Prev_03_Age | Prev_04_Age | Prev_05_Age | Prev_06_Age | Prev_07_Age | Prev_08_Age |\n",
       "+-------------+-------------+-------------+-------------+-------------+-------------+\n",
       "|      0      |      0      |      0      |      0      |      3      |      0      |\n",
       "|      0      |      0      |      0      |      0      |      0      |      0      |\n",
       "|      0      |      0      |      0      |      0      |      0      |      0      |\n",
       "|      0      |      0      |      0      |      0      |      0      |      0      |\n",
       "|      0      |      0      |      0      |      0      |      0      |      0      |\n",
       "|      0      |      0      |      0      |      0      |      0      |      0      |\n",
       "|      0      |      0      |      0      |      0      |      0      |      0      |\n",
       "|      0      |      0      |      0      |      0      |      0      |      0      |\n",
       "|      3      |      3      |      3      |      0      |      0      |      0      |\n",
       "|      0      |      0      |      0      |      0      |      0      |      0      |\n",
       "+-------------+-------------+-------------+-------------+-------------+-------------+\n",
       "+-------------+-------------+-------------+---------+---------------+------+------------+\n",
       "| Prev_09_Age | Prev_10_Age | Prev_11_Age | Laguage | Six_Month_Avg | Age  | Cust_Since |\n",
       "+-------------+-------------+-------------+---------+---------------+------+------------+\n",
       "|      0      |      0      |      3      |    5    |    94029.33   | 829  |    455     |\n",
       "|      0      |      0      |      0      |    5    |     9154.0    | 1053 |    455     |\n",
       "|      0      |      0      |      0      |    5    |     1500.0    | 979  |    455     |\n",
       "|      0      |      0      |      0      |    5    |     1485.0    | 758  |    455     |\n",
       "|      0      |      0      |      0      |    1    |   127767.66   | 942  |    431     |\n",
       "|      0      |      0      |      0      |    1    |   116922.66   | 747  |    455     |\n",
       "|      0      |      0      |      0      |    1    |   410747.22   | 778  |    455     |\n",
       "|      0      |      0      |      0      |    5    |    46803.5    | 791  |    455     |\n",
       "|      0      |      0      |      0      |    1    |    155554.5   | 807  |    455     |\n",
       "|      0      |      0      |      0      |    1    |   156224.83   | 792  |    455     |\n",
       "+-------------+-------------+-------------+---------+---------------+------+------------+\n",
       "[10 rows x 20 columns]"
      ]
     },
     "execution_count": 19,
     "metadata": {},
     "output_type": "execute_result"
    }
   ],
   "source": [
    "train_data.head()"
   ]
  },
  {
   "cell_type": "raw",
   "metadata": {},
   "source": [
    "trnx = train_data.sort('Curr_Age', ascending=True)\n",
    "fraud_trnx.show()"
   ]
  },
  {
   "cell_type": "code",
   "execution_count": 20,
   "metadata": {
    "collapsed": false
   },
   "outputs": [
    {
     "data": {
      "application/javascript": [
       "$(\"head\").append($(\"<link/>\").attr({\n",
       "  rel:  \"stylesheet\",\n",
       "  type: \"text/css\",\n",
       "  href: \"//cdnjs.cloudflare.com/ajax/libs/font-awesome/4.1.0/css/font-awesome.min.css\"\n",
       "}));\n",
       "$(\"head\").append($(\"<link/>\").attr({\n",
       "  rel:  \"stylesheet\",\n",
       "  type: \"text/css\",\n",
       "  href: \"https://static.turi.com/products/graphlab-create/2.1/canvas/css/canvas.css\"\n",
       "}));\n",
       "\n",
       "            (function(){\n",
       "\n",
       "                var e = null;\n",
       "                if (typeof element == 'undefined') {\n",
       "                    var scripts = document.getElementsByTagName('script');\n",
       "                    var thisScriptTag = scripts[scripts.length-1];\n",
       "                    var parentDiv = thisScriptTag.parentNode;\n",
       "                    e = document.createElement('div');\n",
       "                    parentDiv.appendChild(e);\n",
       "                } else {\n",
       "                    e = element[0];\n",
       "                }\n",
       "\n",
       "                if (typeof requirejs !== 'undefined') {\n",
       "                    // disable load timeout; ipython_app.js is large and can take a while to load.\n",
       "                    requirejs.config({waitSeconds: 0});\n",
       "                }\n",
       "\n",
       "                require(['https://static.turi.com/products/graphlab-create/2.1/canvas/js/ipython_app.js'], function(IPythonApp){\n",
       "                    var app = new IPythonApp();\n",
       "                    app.attachView('sframe','Summary', {\"ipython\": true, \"sketch\": {\"Prev_04_Age\": {\"std\": 1.0804215722907615, \"complete\": true, \"min\": 0.0, \"max\": 6.0, \"quantile\": [0.0, 0.0, 0.0, 0.0, 0.0, 0.0, 0.0, 0.0, 0.0, 0.0, 0.0, 0.0, 0.0, 0.0, 0.0, 0.0, 0.0, 0.0, 0.0, 0.0, 0.0, 0.0, 0.0, 0.0, 0.0, 0.0, 0.0, 0.0, 0.0, 0.0, 0.0, 0.0, 0.0, 0.0, 0.0, 0.0, 0.0, 0.0, 0.0, 0.0, 0.0, 0.0, 0.0, 0.0, 0.0, 0.0, 0.0, 0.0, 0.0, 0.0, 0.0, 0.0, 0.0, 0.0, 0.0, 0.0, 0.0, 0.0, 0.0, 0.0, 0.0, 0.0, 0.0, 0.0, 0.0, 0.0, 0.0, 0.0, 0.0, 0.0, 0.0, 0.0, 0.0, 0.0, 0.0, 0.0, 0.0, 0.0, 0.0, 0.0, 0.0, 0.0, 0.0, 0.0, 0.0, 0.0, 0.0, 0.0, 0.0, 3.0, 3.0, 3.0, 3.0, 3.0, 3.0, 3.0, 3.0, 3.0, 3.0, 3.0, 6.0], \"median\": 0.0, \"numeric\": true, \"num_unique\": 3, \"num_undefined\": 0, \"var\": 1.1673107738712414, \"progress\": 1.0, \"size\": 103, \"frequent_items\": {\"0\": {\"frequency\": 91, \"value\": 0}, \"3\": {\"frequency\": 11, \"value\": 3}, \"6\": {\"frequency\": 1, \"value\": 6}}, \"mean\": 0.3786407766990291}, \"Product\": {\"complete\": true, \"numeric\": false, \"num_unique\": 2, \"num_undefined\": 0, \"progress\": 1.0, \"frequent_items\": {\"P\": {\"frequency\": 91, \"value\": \"P\"}, \"C\": {\"frequency\": 12, \"value\": \"C\"}}, \"size\": 103}, \"Prev_02_Age\": {\"std\": 1.0281182094013275, \"complete\": true, \"min\": 0.0, \"max\": 3.0, \"quantile\": [0.0, 0.0, 0.0, 0.0, 0.0, 0.0, 0.0, 0.0, 0.0, 0.0, 0.0, 0.0, 0.0, 0.0, 0.0, 0.0, 0.0, 0.0, 0.0, 0.0, 0.0, 0.0, 0.0, 0.0, 0.0, 0.0, 0.0, 0.0, 0.0, 0.0, 0.0, 0.0, 0.0, 0.0, 0.0, 0.0, 0.0, 0.0, 0.0, 0.0, 0.0, 0.0, 0.0, 0.0, 0.0, 0.0, 0.0, 0.0, 0.0, 0.0, 0.0, 0.0, 0.0, 0.0, 0.0, 0.0, 0.0, 0.0, 0.0, 0.0, 0.0, 0.0, 0.0, 0.0, 0.0, 0.0, 0.0, 0.0, 0.0, 0.0, 0.0, 0.0, 0.0, 0.0, 0.0, 0.0, 0.0, 0.0, 0.0, 0.0, 0.0, 0.0, 0.0, 0.0, 0.0, 0.0, 0.0, 3.0, 3.0, 3.0, 3.0, 3.0, 3.0, 3.0, 3.0, 3.0, 3.0, 3.0, 3.0, 3.0, 3.0], \"median\": 0.0, \"numeric\": true, \"num_unique\": 2, \"num_undefined\": 0, \"var\": 1.057027052502592, \"progress\": 1.0, \"size\": 103, \"frequent_items\": {\"0\": {\"frequency\": 89, \"value\": 0}, \"3\": {\"frequency\": 14, \"value\": 3}}, \"mean\": 0.407766990291262}, \"Cust_Since\": {\"std\": 91.69547706761423, \"complete\": true, \"min\": 111.0, \"max\": 587.0, \"quantile\": [111.0, 147.0, 151.0, 162.0, 168.0, 168.0, 169.0, 173.0, 176.0, 179.0, 188.0, 189.0, 192.0, 197.0, 199.0, 220.0, 221.0, 225.0, 228.0, 231.0, 238.0, 249.0, 250.0, 319.0, 331.0, 331.0, 333.0, 335.0, 335.0, 335.0, 335.0, 337.0, 344.0, 349.0, 352.0, 353.0, 354.0, 354.0, 356.0, 357.0, 357.0, 357.0, 357.0, 357.0, 357.0, 357.0, 357.0, 358.0, 358.0, 359.0, 359.0, 359.0, 360.0, 360.0, 362.0, 362.0, 362.0, 365.0, 365.0, 368.0, 368.0, 370.0, 370.0, 373.0, 379.0, 381.0, 383.0, 385.0, 386.0, 387.0, 387.0, 390.0, 392.0, 392.0, 392.0, 393.0, 394.0, 397.0, 405.0, 406.0, 407.0, 407.0, 413.0, 431.0, 443.0, 443.0, 443.0, 443.0, 443.0, 455.0, 455.0, 455.0, 455.0, 455.0, 455.0, 455.0, 455.0, 455.0, 455.0, 455.0, 587.0], \"median\": 359.0, \"numeric\": true, \"num_unique\": 62, \"num_undefined\": 0, \"var\": 8408.060514657367, \"progress\": 1.0, \"size\": 103, \"frequent_items\": {\"385\": {\"frequency\": 2, \"value\": 385}, \"386\": {\"frequency\": 1, \"value\": 386}, \"387\": {\"frequency\": 2, \"value\": 387}, \"390\": {\"frequency\": 1, \"value\": 390}, \"392\": {\"frequency\": 3, \"value\": 392}, \"393\": {\"frequency\": 1, \"value\": 393}, \"394\": {\"frequency\": 1, \"value\": 394}, \"151\": {\"frequency\": 1, \"value\": 151}, \"397\": {\"frequency\": 1, \"value\": 397}, \"147\": {\"frequency\": 1, \"value\": 147}, \"405\": {\"frequency\": 1, \"value\": 405}, \"406\": {\"frequency\": 1, \"value\": 406}, \"407\": {\"frequency\": 2, \"value\": 407}, \"413\": {\"frequency\": 1, \"value\": 413}, \"162\": {\"frequency\": 1, \"value\": 162}, \"168\": {\"frequency\": 2, \"value\": 168}, \"169\": {\"frequency\": 1, \"value\": 169}, \"455\": {\"frequency\": 11, \"value\": 455}, \"353\": {\"frequency\": 1, \"value\": 353}, \"173\": {\"frequency\": 1, \"value\": 173}, \"431\": {\"frequency\": 1, \"value\": 431}, \"176\": {\"frequency\": 1, \"value\": 176}, \"179\": {\"frequency\": 1, \"value\": 179}, \"443\": {\"frequency\": 5, \"value\": 443}, \"188\": {\"frequency\": 1, \"value\": 188}, \"189\": {\"frequency\": 1, \"value\": 189}, \"319\": {\"frequency\": 1, \"value\": 319}, \"192\": {\"frequency\": 1, \"value\": 192}, \"587\": {\"frequency\": 1, \"value\": 587}, \"197\": {\"frequency\": 1, \"value\": 197}, \"199\": {\"frequency\": 1, \"value\": 199}, \"331\": {\"frequency\": 2, \"value\": 331}, \"333\": {\"frequency\": 1, \"value\": 333}, \"335\": {\"frequency\": 4, \"value\": 335}, \"337\": {\"frequency\": 1, \"value\": 337}, \"344\": {\"frequency\": 1, \"value\": 344}, \"228\": {\"frequency\": 1, \"value\": 228}, \"220\": {\"frequency\": 1, \"value\": 220}, \"221\": {\"frequency\": 1, \"value\": 221}, \"351\": {\"frequency\": 1, \"value\": 351}, \"352\": {\"frequency\": 1, \"value\": 352}, \"225\": {\"frequency\": 1, \"value\": 225}, \"354\": {\"frequency\": 2, \"value\": 354}, \"356\": {\"frequency\": 1, \"value\": 356}, \"357\": {\"frequency\": 8, \"value\": 357}, \"358\": {\"frequency\": 2, \"value\": 358}, \"359\": {\"frequency\": 3, \"value\": 359}, \"360\": {\"frequency\": 2, \"value\": 360}, \"362\": {\"frequency\": 3, \"value\": 362}, \"231\": {\"frequency\": 1, \"value\": 231}, \"365\": {\"frequency\": 2, \"value\": 365}, \"238\": {\"frequency\": 1, \"value\": 238}, \"111\": {\"frequency\": 1, \"value\": 111}, \"368\": {\"frequency\": 2, \"value\": 368}, \"370\": {\"frequency\": 2, \"value\": 370}, \"373\": {\"frequency\": 1, \"value\": 373}, \"349\": {\"frequency\": 1, \"value\": 349}, \"249\": {\"frequency\": 1, \"value\": 249}, \"250\": {\"frequency\": 1, \"value\": 250}, \"379\": {\"frequency\": 1, \"value\": 379}, \"381\": {\"frequency\": 1, \"value\": 381}, \"383\": {\"frequency\": 1, \"value\": 383}}, \"mean\": 343.37864077669906}, \"Prev_09_Age\": {\"std\": 0.9265615759565164, \"complete\": true, \"min\": 0.0, \"max\": 3.0, \"quantile\": [0.0, 0.0, 0.0, 0.0, 0.0, 0.0, 0.0, 0.0, 0.0, 0.0, 0.0, 0.0, 0.0, 0.0, 0.0, 0.0, 0.0, 0.0, 0.0, 0.0, 0.0, 0.0, 0.0, 0.0, 0.0, 0.0, 0.0, 0.0, 0.0, 0.0, 0.0, 0.0, 0.0, 0.0, 0.0, 0.0, 0.0, 0.0, 0.0, 0.0, 0.0, 0.0, 0.0, 0.0, 0.0, 0.0, 0.0, 0.0, 0.0, 0.0, 0.0, 0.0, 0.0, 0.0, 0.0, 0.0, 0.0, 0.0, 0.0, 0.0, 0.0, 0.0, 0.0, 0.0, 0.0, 0.0, 0.0, 0.0, 0.0, 0.0, 0.0, 0.0, 0.0, 0.0, 0.0, 0.0, 0.0, 0.0, 0.0, 0.0, 0.0, 0.0, 0.0, 0.0, 0.0, 0.0, 0.0, 0.0, 0.0, 0.0, 3.0, 3.0, 3.0, 3.0, 3.0, 3.0, 3.0, 3.0, 3.0, 3.0, 3.0], \"median\": 0.0, \"numeric\": true, \"num_unique\": 2, \"num_undefined\": 0, \"var\": 0.8585163540390234, \"progress\": 1.0, \"size\": 103, \"frequent_items\": {\"0\": {\"frequency\": 92, \"value\": 0}, \"3\": {\"frequency\": 11, \"value\": 3}}, \"mean\": 0.320388349514563}, \"Age\": {\"std\": 129.47183979694316, \"complete\": true, \"min\": 473.0, \"max\": 1053.0, \"quantile\": [473.0, 490.0, 497.0, 517.0, 534.0, 546.0, 555.0, 558.0, 608.0, 616.0, 630.0, 632.0, 644.0, 646.0, 653.0, 666.0, 667.0, 673.0, 674.0, 680.0, 682.0, 693.0, 694.0, 708.0, 713.0, 718.0, 721.0, 722.0, 730.0, 730.0, 732.0, 732.0, 734.0, 735.0, 736.0, 736.0, 743.0, 744.0, 747.0, 747.0, 758.0, 765.0, 767.0, 770.0, 771.0, 773.0, 778.0, 779.0, 779.0, 780.0, 783.0, 784.0, 791.0, 792.0, 792.0, 794.0, 795.0, 796.0, 797.0, 797.0, 799.0, 806.0, 807.0, 810.0, 816.0, 818.0, 829.0, 832.0, 835.0, 843.0, 846.0, 847.0, 856.0, 862.0, 868.0, 874.0, 884.0, 902.0, 911.0, 911.0, 914.0, 916.0, 916.0, 929.0, 930.0, 932.0, 941.0, 942.0, 942.0, 960.0, 965.0, 975.0, 979.0, 990.0, 998.0, 1005.0, 1009.0, 1016.0, 1016.0, 1024.0, 1053.0], \"median\": 783.0, \"numeric\": true, \"num_unique\": 91, \"num_undefined\": 0, \"var\": 16762.957300405313, \"progress\": 1.0, \"size\": 103, \"frequent_items\": {\"1024\": {\"frequency\": 1, \"value\": 1024}, \"517\": {\"frequency\": 1, \"value\": 517}, \"534\": {\"frequency\": 1, \"value\": 534}, \"1053\": {\"frequency\": 1, \"value\": 1053}, \"546\": {\"frequency\": 1, \"value\": 546}, \"555\": {\"frequency\": 1, \"value\": 555}, \"558\": {\"frequency\": 1, \"value\": 558}, \"608\": {\"frequency\": 1, \"value\": 608}, \"616\": {\"frequency\": 1, \"value\": 616}, \"630\": {\"frequency\": 1, \"value\": 630}, \"632\": {\"frequency\": 1, \"value\": 632}, \"644\": {\"frequency\": 1, \"value\": 644}, \"646\": {\"frequency\": 1, \"value\": 646}, \"653\": {\"frequency\": 1, \"value\": 653}, \"666\": {\"frequency\": 1, \"value\": 666}, \"667\": {\"frequency\": 1, \"value\": 667}, \"673\": {\"frequency\": 1, \"value\": 673}, \"674\": {\"frequency\": 1, \"value\": 674}, \"680\": {\"frequency\": 1, \"value\": 680}, \"682\": {\"frequency\": 1, \"value\": 682}, \"693\": {\"frequency\": 1, \"value\": 693}, \"694\": {\"frequency\": 1, \"value\": 694}, \"708\": {\"frequency\": 1, \"value\": 708}, \"713\": {\"frequency\": 1, \"value\": 713}, \"718\": {\"frequency\": 1, \"value\": 718}, \"721\": {\"frequency\": 1, \"value\": 721}, \"722\": {\"frequency\": 1, \"value\": 722}, \"730\": {\"frequency\": 2, \"value\": 730}, \"732\": {\"frequency\": 2, \"value\": 732}, \"734\": {\"frequency\": 1, \"value\": 734}, \"735\": {\"frequency\": 2, \"value\": 735}, \"736\": {\"frequency\": 2, \"value\": 736}, \"743\": {\"frequency\": 1, \"value\": 743}, \"744\": {\"frequency\": 1, \"value\": 744}, \"747\": {\"frequency\": 2, \"value\": 747}, \"758\": {\"frequency\": 1, \"value\": 758}, \"765\": {\"frequency\": 1, \"value\": 765}, \"767\": {\"frequency\": 1, \"value\": 767}, \"770\": {\"frequency\": 1, \"value\": 770}, \"771\": {\"frequency\": 1, \"value\": 771}, \"773\": {\"frequency\": 1, \"value\": 773}, \"778\": {\"frequency\": 1, \"value\": 778}, \"779\": {\"frequency\": 2, \"value\": 779}, \"780\": {\"frequency\": 1, \"value\": 780}, \"783\": {\"frequency\": 1, \"value\": 783}, \"784\": {\"frequency\": 1, \"value\": 784}, \"791\": {\"frequency\": 1, \"value\": 791}, \"792\": {\"frequency\": 2, \"value\": 792}, \"794\": {\"frequency\": 1, \"value\": 794}, \"795\": {\"frequency\": 1, \"value\": 795}, \"796\": {\"frequency\": 1, \"value\": 796}, \"797\": {\"frequency\": 2, \"value\": 797}, \"799\": {\"frequency\": 1, \"value\": 799}, \"806\": {\"frequency\": 1, \"value\": 806}, \"807\": {\"frequency\": 1, \"value\": 807}, \"810\": {\"frequency\": 1, \"value\": 810}, \"816\": {\"frequency\": 1, \"value\": 816}, \"818\": {\"frequency\": 1, \"value\": 818}, \"829\": {\"frequency\": 1, \"value\": 829}, \"830\": {\"frequency\": 1, \"value\": 830}, \"832\": {\"frequency\": 1, \"value\": 832}, \"835\": {\"frequency\": 1, \"value\": 835}, \"843\": {\"frequency\": 1, \"value\": 843}, \"846\": {\"frequency\": 1, \"value\": 846}, \"847\": {\"frequency\": 1, \"value\": 847}, \"856\": {\"frequency\": 1, \"value\": 856}, \"862\": {\"frequency\": 1, \"value\": 862}, \"868\": {\"frequency\": 1, \"value\": 868}, \"874\": {\"frequency\": 1, \"value\": 874}, \"884\": {\"frequency\": 1, \"value\": 884}, \"902\": {\"frequency\": 1, \"value\": 902}, \"911\": {\"frequency\": 2, \"value\": 911}, \"914\": {\"frequency\": 1, \"value\": 914}, \"916\": {\"frequency\": 2, \"value\": 916}, \"929\": {\"frequency\": 1, \"value\": 929}, \"930\": {\"frequency\": 1, \"value\": 930}, \"932\": {\"frequency\": 1, \"value\": 932}, \"497\": {\"frequency\": 1, \"value\": 497}, \"941\": {\"frequency\": 1, \"value\": 941}, \"942\": {\"frequency\": 2, \"value\": 942}, \"960\": {\"frequency\": 1, \"value\": 960}, \"965\": {\"frequency\": 1, \"value\": 965}, \"975\": {\"frequency\": 1, \"value\": 975}, \"979\": {\"frequency\": 1, \"value\": 979}, \"473\": {\"frequency\": 1, \"value\": 473}, \"990\": {\"frequency\": 1, \"value\": 990}, \"998\": {\"frequency\": 1, \"value\": 998}, \"490\": {\"frequency\": 1, \"value\": 490}, \"1005\": {\"frequency\": 1, \"value\": 1005}, \"1009\": {\"frequency\": 1, \"value\": 1009}, \"1016\": {\"frequency\": 2, \"value\": 1016}}, \"mean\": 786.1165048543688}, \"Six_Month_Avg\": {\"std\": 209032.95198178338, \"complete\": true, \"min\": -327435.0, \"max\": 1605825.33, \"quantile\": [-327435.0, 619.0, 925.0, 1059.5, 1485.0, 1500.0, 1555.0, 1756.5, 1985.0, 2158.33, 2322.5, 2676.0, 3250.0, 4541.0, 4793.5, 4816.66, 5050.83, 5770.0, 6346.83, 6500.0, 6500.0, 6500.0, 6500.0, 6582.0, 7266.66, 7784.16, 9154.0, 10389.6, 10938.33, 12042.0, 14197.33, 14309.83, 14336.5, 16803.0, 19918.0, 20895.66, 24199.16, 26608.0, 27044.16, 27619.83, 28705.0, 28808.2, 35695.16, 36893.83, 37434.0, 40548.33, 41431.83, 41538.0, 42623.0, 45030.33, 45195.5, 46282.5, 46803.5, 52021.33, 53125.0, 54596.5, 55799.16, 59081.33, 59532.5, 59671.5, 60144.5, 60496.5, 63477.5, 63639.66, 73072.33, 75284.16, 81126.0, 84091.83, 86736.66, 90265.0, 92693.5, 94029.33, 97901.66, 104443.83, 107017.83, 116922.66, 125406.33, 127767.66, 133448.0, 136832.66, 142997.33, 143466.5, 149181.33, 155554.5, 156224.83, 169646.66, 169886.833, 176776.0, 197734.83, 264210.83, 281834.16, 306693.5, 307283.66, 397449.66, 410747.22, 420833.66, 454245.83, 598951.5, 713605.33, 752164.33, 1605825.33], \"median\": 45195.5, \"numeric\": true, \"num_unique\": 100, \"num_undefined\": 0, \"var\": 43694775014.21855, \"progress\": 1.0, \"size\": 103, \"frequent_items\": {\"143466.5\": {\"frequency\": 1, \"value\": 143466.5}, \"54596.5\": {\"frequency\": 1, \"value\": 54596.5}, \"60144.5\": {\"frequency\": 1, \"value\": 60144.5}, \"1555.0\": {\"frequency\": 1, \"value\": 1555.0}, \"27044.16\": {\"frequency\": 1, \"value\": 27044.16}, \"7266.66\": {\"frequency\": 1, \"value\": 7266.66}, \"14336.5\": {\"frequency\": 1, \"value\": 14336.5}, \"28705.0\": {\"frequency\": 1, \"value\": 28705.0}, \"60496.5\": {\"frequency\": 1, \"value\": 60496.5}, \"37434.0\": {\"frequency\": 1, \"value\": 37434.0}, \"36893.83\": {\"frequency\": 1, \"value\": 36893.83}, \"41538.0\": {\"frequency\": 1, \"value\": 41538.0}, \"27619.83\": {\"frequency\": 1, \"value\": 27619.83}, \"55799.16\": {\"frequency\": 1, \"value\": 55799.16}, \"28808.2\": {\"frequency\": 1, \"value\": 28808.2}, \"619.0\": {\"frequency\": 1, \"value\": 619.0}, \"20895.66\": {\"frequency\": 1, \"value\": 20895.66}, \"2676.0\": {\"frequency\": 1, \"value\": 2676.0}, \"52021.33\": {\"frequency\": 1, \"value\": 52021.33}, \"63639.66\": {\"frequency\": 1, \"value\": 63639.66}, \"81968.33\": {\"frequency\": 1, \"value\": 81968.33}, \"42623.0\": {\"frequency\": 1, \"value\": 42623.0}, \"155554.5\": {\"frequency\": 1, \"value\": 155554.5}, \"176776.0\": {\"frequency\": 1, \"value\": 176776.0}, \"5770.0\": {\"frequency\": 1, \"value\": 5770.0}, \"307283.66\": {\"frequency\": 1, \"value\": 307283.66}, \"90265.0\": {\"frequency\": 1, \"value\": 90265.0}, \"2322.5\": {\"frequency\": 1, \"value\": 2322.5}, \"713605.33\": {\"frequency\": 1, \"value\": 713605.33}, \"169886.833\": {\"frequency\": 1, \"value\": 169886.833}, \"3250.0\": {\"frequency\": 1, \"value\": 3250.0}, \"104443.83\": {\"frequency\": 1, \"value\": 104443.83}, \"397449.66\": {\"frequency\": 1, \"value\": 397449.66}, \"306693.5\": {\"frequency\": 1, \"value\": 306693.5}, \"41431.83\": {\"frequency\": 1, \"value\": 41431.83}, \"73072.33\": {\"frequency\": 1, \"value\": 73072.33}, \"63477.5\": {\"frequency\": 1, \"value\": 63477.5}, \"75284.16\": {\"frequency\": 1, \"value\": 75284.16}, \"107017.83\": {\"frequency\": 1, \"value\": 107017.83}, \"81126.0\": {\"frequency\": 1, \"value\": 81126.0}, \"86736.66\": {\"frequency\": 1, \"value\": 86736.66}, \"10938.33\": {\"frequency\": 1, \"value\": 10938.33}, \"59081.33\": {\"frequency\": 1, \"value\": 59081.33}, \"92693.5\": {\"frequency\": 1, \"value\": 92693.5}, \"59532.5\": {\"frequency\": 1, \"value\": 59532.5}, \"12042.0\": {\"frequency\": 1, \"value\": 12042.0}, \"2158.33\": {\"frequency\": 1, \"value\": 2158.33}, \"59671.5\": {\"frequency\": 1, \"value\": 59671.5}, \"84091.83\": {\"frequency\": 1, \"value\": 84091.83}, \"410747.22\": {\"frequency\": 1, \"value\": 410747.22}, \"10389.6\": {\"frequency\": 1, \"value\": 10389.6}, \"4793.5\": {\"frequency\": 1, \"value\": 4793.5}, \"454245.83\": {\"frequency\": 1, \"value\": 454245.83}, \"133448.0\": {\"frequency\": 1, \"value\": 133448.0}, \"1605825.33\": {\"frequency\": 1, \"value\": 1605825.33}, \"420833.66\": {\"frequency\": 1, \"value\": 420833.66}, \"169646.66\": {\"frequency\": 1, \"value\": 169646.66}, \"14309.83\": {\"frequency\": 1, \"value\": 14309.83}, \"6500.0\": {\"frequency\": 4, \"value\": 6500.0}, \"127767.66\": {\"frequency\": 1, \"value\": 127767.66}, \"156224.83\": {\"frequency\": 1, \"value\": 156224.83}, \"45030.33\": {\"frequency\": 1, \"value\": 45030.33}, \"24199.16\": {\"frequency\": 1, \"value\": 24199.16}, \"149181.33\": {\"frequency\": 1, \"value\": 149181.33}, \"1756.5\": {\"frequency\": 1, \"value\": 1756.5}, \"6346.83\": {\"frequency\": 1, \"value\": 6346.83}, \"53125.0\": {\"frequency\": 1, \"value\": 53125.0}, \"45195.5\": {\"frequency\": 1, \"value\": 45195.5}, \"14197.33\": {\"frequency\": 1, \"value\": 14197.33}, \"116922.66\": {\"frequency\": 1, \"value\": 116922.66}, \"925.0\": {\"frequency\": 1, \"value\": 925.0}, \"16803.0\": {\"frequency\": 1, \"value\": 16803.0}, \"264210.83\": {\"frequency\": 1, \"value\": 264210.83}, \"281834.16\": {\"frequency\": 1, \"value\": 281834.16}, \"125406.33\": {\"frequency\": 1, \"value\": 125406.33}, \"46803.5\": {\"frequency\": 1, \"value\": 46803.5}, \"197734.83\": {\"frequency\": 1, \"value\": 197734.83}, \"35695.16\": {\"frequency\": 1, \"value\": 35695.16}, \"6582.0\": {\"frequency\": 1, \"value\": 6582.0}, \"4541.0\": {\"frequency\": 1, \"value\": 4541.0}, \"-327435.0\": {\"frequency\": 1, \"value\": -327435.0}, \"1985.0\": {\"frequency\": 1, \"value\": 1985.0}, \"9154.0\": {\"frequency\": 1, \"value\": 9154.0}, \"46282.5\": {\"frequency\": 1, \"value\": 46282.5}, \"1485.0\": {\"frequency\": 1, \"value\": 1485.0}, \"19918.0\": {\"frequency\": 1, \"value\": 19918.0}, \"97901.66\": {\"frequency\": 1, \"value\": 97901.66}, \"752164.33\": {\"frequency\": 1, \"value\": 752164.33}, \"18793.83\": {\"frequency\": 1, \"value\": 18793.83}, \"4816.66\": {\"frequency\": 1, \"value\": 4816.66}, \"1500.0\": {\"frequency\": 1, \"value\": 1500.0}, \"40548.33\": {\"frequency\": 1, \"value\": 40548.33}, \"94029.33\": {\"frequency\": 1, \"value\": 94029.33}, \"7784.16\": {\"frequency\": 1, \"value\": 7784.16}, \"598951.5\": {\"frequency\": 1, \"value\": 598951.5}, \"5050.83\": {\"frequency\": 1, \"value\": 5050.83}, \"142997.33\": {\"frequency\": 1, \"value\": 142997.33}, \"136832.66\": {\"frequency\": 1, \"value\": 136832.66}, \"26608.0\": {\"frequency\": 1, \"value\": 26608.0}, \"1059.5\": {\"frequency\": 1, \"value\": 1059.5}}, \"mean\": 105659.74711650483}, \"Prev_07_Age\": {\"std\": 0.9962697889215768, \"complete\": true, \"min\": 0.0, \"max\": 3.0, \"quantile\": [0.0, 0.0, 0.0, 0.0, 0.0, 0.0, 0.0, 0.0, 0.0, 0.0, 0.0, 0.0, 0.0, 0.0, 0.0, 0.0, 0.0, 0.0, 0.0, 0.0, 0.0, 0.0, 0.0, 0.0, 0.0, 0.0, 0.0, 0.0, 0.0, 0.0, 0.0, 0.0, 0.0, 0.0, 0.0, 0.0, 0.0, 0.0, 0.0, 0.0, 0.0, 0.0, 0.0, 0.0, 0.0, 0.0, 0.0, 0.0, 0.0, 0.0, 0.0, 0.0, 0.0, 0.0, 0.0, 0.0, 0.0, 0.0, 0.0, 0.0, 0.0, 0.0, 0.0, 0.0, 0.0, 0.0, 0.0, 0.0, 0.0, 0.0, 0.0, 0.0, 0.0, 0.0, 0.0, 0.0, 0.0, 0.0, 0.0, 0.0, 0.0, 0.0, 0.0, 0.0, 0.0, 0.0, 0.0, 0.0, 3.0, 3.0, 3.0, 3.0, 3.0, 3.0, 3.0, 3.0, 3.0, 3.0, 3.0, 3.0, 3.0], \"median\": 0.0, \"numeric\": true, \"num_unique\": 2, \"num_undefined\": 0, \"var\": 0.9925534923178433, \"progress\": 1.0, \"size\": 103, \"frequent_items\": {\"0\": {\"frequency\": 90, \"value\": 0}, \"3\": {\"frequency\": 13, \"value\": 3}}, \"mean\": 0.3786407766990291}, \"ID\": {\"std\": 34.84754780862072, \"complete\": true, \"min\": 1.0, \"max\": 120.0, \"quantile\": [1.0, 2.0, 3.0, 4.0, 5.0, 6.0, 7.0, 8.0, 9.0, 10.0, 11.0, 12.0, 13.0, 14.0, 15.0, 18.0, 19.0, 20.0, 21.0, 22.0, 23.0, 24.0, 25.0, 26.0, 27.0, 28.0, 29.0, 30.0, 32.0, 33.0, 34.0, 35.0, 37.0, 38.0, 40.0, 41.0, 42.0, 43.0, 45.0, 46.0, 48.0, 49.0, 50.0, 51.0, 52.0, 53.0, 54.0, 55.0, 56.0, 57.0, 58.0, 59.0, 60.0, 61.0, 62.0, 63.0, 65.0, 66.0, 67.0, 68.0, 71.0, 72.0, 73.0, 74.0, 76.0, 77.0, 79.0, 81.0, 82.0, 83.0, 84.0, 85.0, 86.0, 87.0, 88.0, 89.0, 91.0, 92.0, 93.0, 94.0, 96.0, 97.0, 98.0, 99.0, 100.0, 101.0, 103.0, 104.0, 105.0, 106.0, 108.0, 109.0, 110.0, 111.0, 112.0, 113.0, 114.0, 115.0, 118.0, 119.0, 120.0], \"median\": 58.0, \"numeric\": true, \"num_unique\": 103, \"num_undefined\": 0, \"var\": 1214.3515882741067, \"progress\": 1.0, \"size\": 103, \"frequent_items\": {\"1\": {\"frequency\": 1, \"value\": 1}, \"2\": {\"frequency\": 1, \"value\": 2}, \"3\": {\"frequency\": 1, \"value\": 3}, \"4\": {\"frequency\": 1, \"value\": 4}, \"5\": {\"frequency\": 1, \"value\": 5}, \"6\": {\"frequency\": 1, \"value\": 6}, \"7\": {\"frequency\": 1, \"value\": 7}, \"8\": {\"frequency\": 1, \"value\": 8}, \"9\": {\"frequency\": 1, \"value\": 9}, \"10\": {\"frequency\": 1, \"value\": 10}, \"11\": {\"frequency\": 1, \"value\": 11}, \"12\": {\"frequency\": 1, \"value\": 12}, \"13\": {\"frequency\": 1, \"value\": 13}, \"14\": {\"frequency\": 1, \"value\": 14}, \"15\": {\"frequency\": 1, \"value\": 15}, \"18\": {\"frequency\": 1, \"value\": 18}, \"19\": {\"frequency\": 1, \"value\": 19}, \"20\": {\"frequency\": 1, \"value\": 20}, \"21\": {\"frequency\": 1, \"value\": 21}, \"22\": {\"frequency\": 1, \"value\": 22}, \"23\": {\"frequency\": 1, \"value\": 23}, \"24\": {\"frequency\": 1, \"value\": 24}, \"25\": {\"frequency\": 1, \"value\": 25}, \"26\": {\"frequency\": 1, \"value\": 26}, \"27\": {\"frequency\": 1, \"value\": 27}, \"28\": {\"frequency\": 1, \"value\": 28}, \"29\": {\"frequency\": 1, \"value\": 29}, \"30\": {\"frequency\": 1, \"value\": 30}, \"32\": {\"frequency\": 1, \"value\": 32}, \"33\": {\"frequency\": 1, \"value\": 33}, \"34\": {\"frequency\": 1, \"value\": 34}, \"35\": {\"frequency\": 1, \"value\": 35}, \"37\": {\"frequency\": 1, \"value\": 37}, \"38\": {\"frequency\": 1, \"value\": 38}, \"39\": {\"frequency\": 1, \"value\": 39}, \"40\": {\"frequency\": 1, \"value\": 40}, \"41\": {\"frequency\": 1, \"value\": 41}, \"42\": {\"frequency\": 1, \"value\": 42}, \"43\": {\"frequency\": 1, \"value\": 43}, \"45\": {\"frequency\": 1, \"value\": 45}, \"46\": {\"frequency\": 1, \"value\": 46}, \"48\": {\"frequency\": 1, \"value\": 48}, \"49\": {\"frequency\": 1, \"value\": 49}, \"50\": {\"frequency\": 1, \"value\": 50}, \"51\": {\"frequency\": 1, \"value\": 51}, \"52\": {\"frequency\": 1, \"value\": 52}, \"53\": {\"frequency\": 1, \"value\": 53}, \"54\": {\"frequency\": 1, \"value\": 54}, \"55\": {\"frequency\": 1, \"value\": 55}, \"56\": {\"frequency\": 1, \"value\": 56}, \"57\": {\"frequency\": 1, \"value\": 57}, \"58\": {\"frequency\": 1, \"value\": 58}, \"59\": {\"frequency\": 1, \"value\": 59}, \"60\": {\"frequency\": 1, \"value\": 60}, \"61\": {\"frequency\": 1, \"value\": 61}, \"62\": {\"frequency\": 1, \"value\": 62}, \"63\": {\"frequency\": 1, \"value\": 63}, \"65\": {\"frequency\": 1, \"value\": 65}, \"66\": {\"frequency\": 1, \"value\": 66}, \"67\": {\"frequency\": 1, \"value\": 67}, \"68\": {\"frequency\": 1, \"value\": 68}, \"71\": {\"frequency\": 1, \"value\": 71}, \"72\": {\"frequency\": 1, \"value\": 72}, \"73\": {\"frequency\": 1, \"value\": 73}, \"74\": {\"frequency\": 1, \"value\": 74}, \"76\": {\"frequency\": 1, \"value\": 76}, \"77\": {\"frequency\": 1, \"value\": 77}, \"79\": {\"frequency\": 1, \"value\": 79}, \"80\": {\"frequency\": 1, \"value\": 80}, \"81\": {\"frequency\": 1, \"value\": 81}, \"82\": {\"frequency\": 1, \"value\": 82}, \"83\": {\"frequency\": 1, \"value\": 83}, \"84\": {\"frequency\": 1, \"value\": 84}, \"85\": {\"frequency\": 1, \"value\": 85}, \"86\": {\"frequency\": 1, \"value\": 86}, \"87\": {\"frequency\": 1, \"value\": 87}, \"88\": {\"frequency\": 1, \"value\": 88}, \"89\": {\"frequency\": 1, \"value\": 89}, \"91\": {\"frequency\": 1, \"value\": 91}, \"92\": {\"frequency\": 1, \"value\": 92}, \"93\": {\"frequency\": 1, \"value\": 93}, \"94\": {\"frequency\": 1, \"value\": 94}, \"96\": {\"frequency\": 1, \"value\": 96}, \"97\": {\"frequency\": 1, \"value\": 97}, \"98\": {\"frequency\": 1, \"value\": 98}, \"99\": {\"frequency\": 1, \"value\": 99}, \"100\": {\"frequency\": 1, \"value\": 100}, \"101\": {\"frequency\": 1, \"value\": 101}, \"103\": {\"frequency\": 1, \"value\": 103}, \"104\": {\"frequency\": 1, \"value\": 104}, \"105\": {\"frequency\": 1, \"value\": 105}, \"106\": {\"frequency\": 1, \"value\": 106}, \"108\": {\"frequency\": 1, \"value\": 108}, \"109\": {\"frequency\": 1, \"value\": 109}, \"110\": {\"frequency\": 1, \"value\": 110}, \"111\": {\"frequency\": 1, \"value\": 111}, \"112\": {\"frequency\": 1, \"value\": 112}, \"113\": {\"frequency\": 1, \"value\": 113}, \"114\": {\"frequency\": 1, \"value\": 114}, \"115\": {\"frequency\": 1, \"value\": 115}, \"118\": {\"frequency\": 1, \"value\": 118}, \"119\": {\"frequency\": 1, \"value\": 119}, \"120\": {\"frequency\": 1, \"value\": 120}}, \"mean\": 59.087378640776706}, \"Prev_05_Age\": {\"std\": 1.2608656789464094, \"complete\": true, \"min\": 0.0, \"max\": 6.0, \"quantile\": [0.0, 0.0, 0.0, 0.0, 0.0, 0.0, 0.0, 0.0, 0.0, 0.0, 0.0, 0.0, 0.0, 0.0, 0.0, 0.0, 0.0, 0.0, 0.0, 0.0, 0.0, 0.0, 0.0, 0.0, 0.0, 0.0, 0.0, 0.0, 0.0, 0.0, 0.0, 0.0, 0.0, 0.0, 0.0, 0.0, 0.0, 0.0, 0.0, 0.0, 0.0, 0.0, 0.0, 0.0, 0.0, 0.0, 0.0, 0.0, 0.0, 0.0, 0.0, 0.0, 0.0, 0.0, 0.0, 0.0, 0.0, 0.0, 0.0, 0.0, 0.0, 0.0, 0.0, 0.0, 0.0, 0.0, 0.0, 0.0, 0.0, 0.0, 0.0, 0.0, 0.0, 0.0, 0.0, 0.0, 0.0, 0.0, 0.0, 0.0, 0.0, 0.0, 0.0, 0.0, 0.0, 0.0, 3.0, 3.0, 3.0, 3.0, 3.0, 3.0, 3.0, 3.0, 3.0, 3.0, 3.0, 3.0, 3.0, 6.0, 6.0], \"median\": 0.0, \"numeric\": true, \"num_unique\": 3, \"num_undefined\": 0, \"var\": 1.58978226034499, \"progress\": 1.0, \"size\": 103, \"frequent_items\": {\"0\": {\"frequency\": 88, \"value\": 0}, \"3\": {\"frequency\": 13, \"value\": 3}, \"6\": {\"frequency\": 2, \"value\": 6}}, \"mean\": 0.49514563106796106}, \"Last_Stmt_Bal\": {\"std\": 230296.2564763153, \"complete\": true, \"min\": -264775.0, \"max\": 1838309.0, \"quantile\": [-264775.0, -53795.0, -2095.0, 0.0, 0.0, 0.0, 0.0, 0.0, 0.0, 0.0, 0.0, 0.0, 0.0, 0.0, 0.0, 0.0, 0.0, 0.0, 0.0, 100.0, 198.0, 592.0, 619.0, 723.0, 1995.0, 2257.0, 2450.0, 3500.0, 5480.0, 5626.0, 6500.0, 6500.0, 6500.0, 6500.0, 8615.0, 8995.0, 9138.0, 9202.0, 9430.0, 9500.0, 9707.0, 9990.0, 12000.0, 13640.0, 13650.0, 16660.0, 16973.0, 17030.0, 25567.0, 26760.0, 28775.0, 29541.0, 30720.0, 31633.0, 32405.0, 32900.0, 37050.0, 37080.0, 39359.0, 40024.0, 40546.0, 41538.0, 43544.0, 46809.0, 47811.0, 58169.0, 59888.0, 70163.0, 70927.0, 75781.0, 76938.0, 87301.0, 90407.0, 92064.0, 99683.0, 103964.0, 104020.0, 106945.0, 107043.0, 110055.0, 115799.0, 124541.0, 124785.0, 137025.0, 148044.0, 161301.0, 181109.0, 200778.0, 245385.0, 252337.0, 266896.0, 294536.0, 298327.0, 349584.0, 377346.0, 428444.0, 455204.0, 590417.0, 730774.0, 869100.0, 1838309.0], \"median\": 28775.0, \"numeric\": true, \"num_unique\": 85, \"num_undefined\": 0, \"var\": 53036365747.0048, \"progress\": 1.0, \"size\": 103, \"frequent_items\": {\"0\": {\"frequency\": 16, \"value\": 0}, \"30720\": {\"frequency\": 1, \"value\": 30720}, \"377346\": {\"frequency\": 1, \"value\": 377346}, \"9707\": {\"frequency\": 1, \"value\": 9707}, \"32900\": {\"frequency\": 1, \"value\": 32900}, \"75781\": {\"frequency\": 1, \"value\": 75781}, \"17030\": {\"frequency\": 1, \"value\": 17030}, \"106945\": {\"frequency\": 1, \"value\": 106945}, \"294536\": {\"frequency\": 1, \"value\": 294536}, \"245385\": {\"frequency\": 1, \"value\": 245385}, \"76938\": {\"frequency\": 1, \"value\": 76938}, \"298327\": {\"frequency\": 1, \"value\": 298327}, \"181109\": {\"frequency\": 1, \"value\": 181109}, \"1995\": {\"frequency\": 1, \"value\": 1995}, \"70927\": {\"frequency\": 1, \"value\": 70927}, \"266896\": {\"frequency\": 1, \"value\": 266896}, \"31633\": {\"frequency\": 1, \"value\": 31633}, \"8576\": {\"frequency\": 1, \"value\": 8576}, \"70163\": {\"frequency\": 1, \"value\": 70163}, \"16660\": {\"frequency\": 1, \"value\": 16660}, \"32405\": {\"frequency\": 1, \"value\": 32405}, \"730774\": {\"frequency\": 1, \"value\": 730774}, \"43544\": {\"frequency\": 1, \"value\": 43544}, \"100\": {\"frequency\": 1, \"value\": 100}, \"428444\": {\"frequency\": 1, \"value\": 428444}, \"87301\": {\"frequency\": 1, \"value\": 87301}, \"92064\": {\"frequency\": 1, \"value\": 92064}, \"107043\": {\"frequency\": 1, \"value\": 107043}, \"455204\": {\"frequency\": 1, \"value\": 455204}, \"9990\": {\"frequency\": 1, \"value\": 9990}, \"90407\": {\"frequency\": 1, \"value\": 90407}, \"103964\": {\"frequency\": 1, \"value\": 103964}, \"3500\": {\"frequency\": 1, \"value\": 3500}, \"65837\": {\"frequency\": 1, \"value\": 65837}, \"252337\": {\"frequency\": 1, \"value\": 252337}, \"9138\": {\"frequency\": 1, \"value\": 9138}, \"99683\": {\"frequency\": 1, \"value\": 99683}, \"58169\": {\"frequency\": 1, \"value\": 58169}, \"37050\": {\"frequency\": 1, \"value\": 37050}, \"26760\": {\"frequency\": 1, \"value\": 26760}, \"39359\": {\"frequency\": 1, \"value\": 39359}, \"137025\": {\"frequency\": 1, \"value\": 137025}, \"41538\": {\"frequency\": 1, \"value\": 41538}, \"47811\": {\"frequency\": 1, \"value\": 47811}, \"198\": {\"frequency\": 1, \"value\": 198}, \"13640\": {\"frequency\": 1, \"value\": 13640}, \"200778\": {\"frequency\": 1, \"value\": 200778}, \"8615\": {\"frequency\": 1, \"value\": 8615}, \"148044\": {\"frequency\": 1, \"value\": 148044}, \"16973\": {\"frequency\": 1, \"value\": 16973}, \"110055\": {\"frequency\": 1, \"value\": 110055}, \"592\": {\"frequency\": 1, \"value\": 592}, \"590417\": {\"frequency\": 1, \"value\": 590417}, \"13650\": {\"frequency\": 1, \"value\": 13650}, \"8995\": {\"frequency\": 1, \"value\": 8995}, \"104020\": {\"frequency\": 1, \"value\": 104020}, \"9430\": {\"frequency\": 1, \"value\": 9430}, \"115799\": {\"frequency\": 1, \"value\": 115799}, \"40024\": {\"frequency\": 1, \"value\": 40024}, \"46809\": {\"frequency\": 1, \"value\": 46809}, \"37080\": {\"frequency\": 1, \"value\": 37080}, \"-53795\": {\"frequency\": 1, \"value\": -53795}, \"25567\": {\"frequency\": 1, \"value\": 25567}, \"12000\": {\"frequency\": 1, \"value\": 12000}, \"349584\": {\"frequency\": 1, \"value\": 349584}, \"40546\": {\"frequency\": 1, \"value\": 40546}, \"-264775\": {\"frequency\": 1, \"value\": -264775}, \"6500\": {\"frequency\": 4, \"value\": 6500}, \"1838309\": {\"frequency\": 1, \"value\": 1838309}, \"28775\": {\"frequency\": 1, \"value\": 28775}, \"-2095\": {\"frequency\": 1, \"value\": -2095}, \"619\": {\"frequency\": 1, \"value\": 619}, \"869100\": {\"frequency\": 1, \"value\": 869100}, \"2450\": {\"frequency\": 1, \"value\": 2450}, \"59888\": {\"frequency\": 1, \"value\": 59888}, \"5480\": {\"frequency\": 1, \"value\": 5480}, \"9202\": {\"frequency\": 1, \"value\": 9202}, \"723\": {\"frequency\": 1, \"value\": 723}, \"2257\": {\"frequency\": 1, \"value\": 2257}, \"9500\": {\"frequency\": 1, \"value\": 9500}, \"29541\": {\"frequency\": 1, \"value\": 29541}, \"5626\": {\"frequency\": 1, \"value\": 5626}, \"124541\": {\"frequency\": 1, \"value\": 124541}, \"124785\": {\"frequency\": 1, \"value\": 124785}, \"161301\": {\"frequency\": 1, \"value\": 161301}}, \"mean\": 97895.81553398058}, \"Prev_11_Age\": {\"std\": 1.3058162196966931, \"complete\": true, \"min\": 0.0, \"max\": 6.0, \"quantile\": [0.0, 0.0, 0.0, 0.0, 0.0, 0.0, 0.0, 0.0, 0.0, 0.0, 0.0, 0.0, 0.0, 0.0, 0.0, 0.0, 0.0, 0.0, 0.0, 0.0, 0.0, 0.0, 0.0, 0.0, 0.0, 0.0, 0.0, 0.0, 0.0, 0.0, 0.0, 0.0, 0.0, 0.0, 0.0, 0.0, 0.0, 0.0, 0.0, 0.0, 0.0, 0.0, 0.0, 0.0, 0.0, 0.0, 0.0, 0.0, 0.0, 0.0, 0.0, 0.0, 0.0, 0.0, 0.0, 0.0, 0.0, 0.0, 0.0, 0.0, 0.0, 0.0, 0.0, 0.0, 0.0, 0.0, 0.0, 0.0, 0.0, 0.0, 0.0, 0.0, 0.0, 0.0, 0.0, 0.0, 0.0, 0.0, 0.0, 0.0, 0.0, 0.0, 0.0, 0.0, 0.0, 0.0, 0.0, 0.0, 3.0, 3.0, 3.0, 3.0, 3.0, 3.0, 3.0, 3.0, 3.0, 3.0, 6.0, 6.0, 6.0], \"median\": 0.0, \"numeric\": true, \"num_unique\": 3, \"num_undefined\": 0, \"var\": 1.7051559996229624, \"progress\": 1.0, \"size\": 103, \"frequent_items\": {\"0\": {\"frequency\": 90, \"value\": 0}, \"3\": {\"frequency\": 10, \"value\": 3}, \"6\": {\"frequency\": 3, \"value\": 6}}, \"mean\": 0.4660194174757282}, \"Prev_01_Age\": {\"std\": 1.3704804298274087, \"complete\": true, \"min\": 0.0, \"max\": 6.0, \"quantile\": [0.0, 0.0, 0.0, 0.0, 0.0, 0.0, 0.0, 0.0, 0.0, 0.0, 0.0, 0.0, 0.0, 0.0, 0.0, 0.0, 0.0, 0.0, 0.0, 0.0, 0.0, 0.0, 0.0, 0.0, 0.0, 0.0, 0.0, 0.0, 0.0, 0.0, 0.0, 0.0, 0.0, 0.0, 0.0, 0.0, 0.0, 0.0, 0.0, 0.0, 0.0, 0.0, 0.0, 0.0, 0.0, 0.0, 0.0, 0.0, 0.0, 0.0, 0.0, 0.0, 0.0, 0.0, 0.0, 0.0, 0.0, 0.0, 0.0, 0.0, 0.0, 0.0, 0.0, 0.0, 0.0, 0.0, 0.0, 0.0, 0.0, 0.0, 0.0, 0.0, 0.0, 0.0, 0.0, 0.0, 0.0, 0.0, 0.0, 0.0, 0.0, 0.0, 0.0, 0.0, 0.0, 3.0, 3.0, 3.0, 3.0, 3.0, 3.0, 3.0, 3.0, 3.0, 3.0, 3.0, 3.0, 3.0, 6.0, 6.0, 6.0], \"median\": 0.0, \"numeric\": true, \"num_unique\": 3, \"num_undefined\": 0, \"var\": 1.878216608539919, \"progress\": 1.0, \"size\": 103, \"frequent_items\": {\"0\": {\"frequency\": 87, \"value\": 0}, \"3\": {\"frequency\": 13, \"value\": 3}, \"6\": {\"frequency\": 3, \"value\": 6}}, \"mean\": 0.553398058252427}, \"Prev_03_Age\": {\"std\": 0.8029542962382654, \"complete\": true, \"min\": 0.0, \"max\": 3.0, \"quantile\": [0.0, 0.0, 0.0, 0.0, 0.0, 0.0, 0.0, 0.0, 0.0, 0.0, 0.0, 0.0, 0.0, 0.0, 0.0, 0.0, 0.0, 0.0, 0.0, 0.0, 0.0, 0.0, 0.0, 0.0, 0.0, 0.0, 0.0, 0.0, 0.0, 0.0, 0.0, 0.0, 0.0, 0.0, 0.0, 0.0, 0.0, 0.0, 0.0, 0.0, 0.0, 0.0, 0.0, 0.0, 0.0, 0.0, 0.0, 0.0, 0.0, 0.0, 0.0, 0.0, 0.0, 0.0, 0.0, 0.0, 0.0, 0.0, 0.0, 0.0, 0.0, 0.0, 0.0, 0.0, 0.0, 0.0, 0.0, 0.0, 0.0, 0.0, 0.0, 0.0, 0.0, 0.0, 0.0, 0.0, 0.0, 0.0, 0.0, 0.0, 0.0, 0.0, 0.0, 0.0, 0.0, 0.0, 0.0, 0.0, 0.0, 0.0, 0.0, 0.0, 0.0, 3.0, 3.0, 3.0, 3.0, 3.0, 3.0, 3.0, 3.0], \"median\": 0.0, \"numeric\": true, \"num_unique\": 2, \"num_undefined\": 0, \"var\": 0.644735601847488, \"progress\": 1.0, \"size\": 103, \"frequent_items\": {\"0\": {\"frequency\": 95, \"value\": 0}, \"3\": {\"frequency\": 8, \"value\": 3}}, \"mean\": 0.23300970873786409}, \"Curr_Stmt_Bal\": {\"std\": 124711.38603075859, \"complete\": true, \"min\": -264775.0, \"max\": 530423.0, \"quantile\": [-264775.0, -152795.0, -1096.0, 0.0, 0.0, 0.0, 0.0, 0.0, 0.0, 0.0, 0.0, 0.0, 0.0, 0.0, 0.0, 0.0, 0.0, 99.0, 500.0, 619.0, 964.0, 1500.0, 1850.0, 1850.0, 1850.0, 2852.0, 3501.0, 3506.0, 3937.0, 6000.0, 6257.0, 6500.0, 6500.0, 6500.0, 7179.0, 7248.0, 7272.0, 7700.0, 8095.0, 9738.0, 9750.0, 10524.0, 10800.0, 11820.0, 12110.0, 13100.0, 14647.0, 18214.0, 18416.0, 19600.0, 20120.0, 20500.0, 23046.0, 23406.0, 26250.0, 29217.0, 29354.0, 37089.0, 37371.0, 38442.0, 38782.0, 39401.0, 51617.0, 55726.0, 56783.0, 57829.0, 61344.0, 63983.0, 72202.0, 73501.0, 74763.0, 75753.0, 82500.0, 84711.0, 106999.0, 107958.0, 113344.0, 153448.0, 157356.0, 157684.0, 161275.0, 169929.0, 175350.0, 176428.0, 180684.0, 185728.0, 188097.0, 189610.0, 218659.0, 221352.0, 227591.0, 274344.0, 276885.0, 300796.0, 304804.0, 323300.0, 327520.0, 416595.0, 496764.0, 499033.0, 530423.0], \"median\": 20120.0, \"numeric\": true, \"num_unique\": 85, \"num_undefined\": 0, \"var\": 15552929805.712887, \"progress\": 1.0, \"size\": 103, \"frequent_items\": {\"0\": {\"frequency\": 14, \"value\": 0}, \"185728\": {\"frequency\": 1, \"value\": 185728}, \"7272\": {\"frequency\": 1, \"value\": 7272}, \"23046\": {\"frequency\": 1, \"value\": 23046}, \"227591\": {\"frequency\": 1, \"value\": 227591}, \"176428\": {\"frequency\": 1, \"value\": 176428}, \"72202\": {\"frequency\": 1, \"value\": 72202}, \"7179\": {\"frequency\": 1, \"value\": 7179}, \"106999\": {\"frequency\": 1, \"value\": 106999}, \"19600\": {\"frequency\": 1, \"value\": 19600}, \"7700\": {\"frequency\": 1, \"value\": 7700}, \"276885\": {\"frequency\": 1, \"value\": 276885}, \"9750\": {\"frequency\": 1, \"value\": 9750}, \"189610\": {\"frequency\": 1, \"value\": 189610}, \"20120\": {\"frequency\": 1, \"value\": 20120}, \"964\": {\"frequency\": 1, \"value\": 964}, \"10524\": {\"frequency\": 1, \"value\": 10524}, \"73501\": {\"frequency\": 1, \"value\": 73501}, \"8095\": {\"frequency\": 1, \"value\": 8095}, \"61344\": {\"frequency\": 1, \"value\": 61344}, \"51617\": {\"frequency\": 1, \"value\": 51617}, \"218659\": {\"frequency\": 1, \"value\": 218659}, \"2852\": {\"frequency\": 1, \"value\": 2852}, \"-152795\": {\"frequency\": 1, \"value\": -152795}, \"18214\": {\"frequency\": 1, \"value\": 18214}, \"6257\": {\"frequency\": 1, \"value\": 6257}, \"221352\": {\"frequency\": 1, \"value\": 221352}, \"29354\": {\"frequency\": 1, \"value\": 29354}, \"11820\": {\"frequency\": 1, \"value\": 11820}, \"3501\": {\"frequency\": 1, \"value\": 3501}, \"55726\": {\"frequency\": 1, \"value\": 55726}, \"10800\": {\"frequency\": 1, \"value\": 10800}, \"496764\": {\"frequency\": 1, \"value\": 496764}, \"3506\": {\"frequency\": 1, \"value\": 3506}, \"323300\": {\"frequency\": 1, \"value\": 323300}, \"107958\": {\"frequency\": 1, \"value\": 107958}, \"14647\": {\"frequency\": 1, \"value\": 14647}, \"-1096\": {\"frequency\": 1, \"value\": -1096}, \"-264775\": {\"frequency\": 1, \"value\": -264775}, \"1850\": {\"frequency\": 3, \"value\": 1850}, \"9738\": {\"frequency\": 1, \"value\": 9738}, \"113344\": {\"frequency\": 1, \"value\": 113344}, \"188097\": {\"frequency\": 1, \"value\": 188097}, \"74763\": {\"frequency\": 1, \"value\": 74763}, \"82500\": {\"frequency\": 1, \"value\": 82500}, \"13100\": {\"frequency\": 1, \"value\": 13100}, \"61640\": {\"frequency\": 1, \"value\": 61640}, \"169929\": {\"frequency\": 1, \"value\": 169929}, \"153448\": {\"frequency\": 1, \"value\": 153448}, \"180684\": {\"frequency\": 1, \"value\": 180684}, \"12110\": {\"frequency\": 1, \"value\": 12110}, \"56783\": {\"frequency\": 1, \"value\": 56783}, \"7248\": {\"frequency\": 1, \"value\": 7248}, \"416595\": {\"frequency\": 1, \"value\": 416595}, \"18416\": {\"frequency\": 1, \"value\": 18416}, \"39401\": {\"frequency\": 1, \"value\": 39401}, \"499033\": {\"frequency\": 1, \"value\": 499033}, \"1500\": {\"frequency\": 1, \"value\": 1500}, \"3937\": {\"frequency\": 1, \"value\": 3937}, \"327520\": {\"frequency\": 1, \"value\": 327520}, \"37089\": {\"frequency\": 1, \"value\": 37089}, \"500\": {\"frequency\": 1, \"value\": 500}, \"99\": {\"frequency\": 1, \"value\": 99}, \"6500\": {\"frequency\": 4, \"value\": 6500}, \"57829\": {\"frequency\": 1, \"value\": 57829}, \"26250\": {\"frequency\": 1, \"value\": 26250}, \"84711\": {\"frequency\": 1, \"value\": 84711}, \"157356\": {\"frequency\": 1, \"value\": 157356}, \"75753\": {\"frequency\": 1, \"value\": 75753}, \"619\": {\"frequency\": 1, \"value\": 619}, \"23406\": {\"frequency\": 1, \"value\": 23406}, \"63983\": {\"frequency\": 1, \"value\": 63983}, \"6000\": {\"frequency\": 1, \"value\": 6000}, \"274344\": {\"frequency\": 1, \"value\": 274344}, \"304804\": {\"frequency\": 1, \"value\": 304804}, \"157684\": {\"frequency\": 1, \"value\": 157684}, \"29217\": {\"frequency\": 1, \"value\": 29217}, \"175350\": {\"frequency\": 1, \"value\": 175350}, \"530423\": {\"frequency\": 1, \"value\": 530423}, \"20500\": {\"frequency\": 1, \"value\": 20500}, \"161275\": {\"frequency\": 1, \"value\": 161275}, \"300796\": {\"frequency\": 1, \"value\": 300796}, \"38442\": {\"frequency\": 1, \"value\": 38442}, \"38782\": {\"frequency\": 1, \"value\": 38782}, \"37371\": {\"frequency\": 1, \"value\": 37371}}, \"mean\": 74816.6796116505}, \"Prev_06_Age\": {\"std\": 0.8882301368141886, \"complete\": true, \"min\": 0.0, \"max\": 3.0, \"quantile\": [0.0, 0.0, 0.0, 0.0, 0.0, 0.0, 0.0, 0.0, 0.0, 0.0, 0.0, 0.0, 0.0, 0.0, 0.0, 0.0, 0.0, 0.0, 0.0, 0.0, 0.0, 0.0, 0.0, 0.0, 0.0, 0.0, 0.0, 0.0, 0.0, 0.0, 0.0, 0.0, 0.0, 0.0, 0.0, 0.0, 0.0, 0.0, 0.0, 0.0, 0.0, 0.0, 0.0, 0.0, 0.0, 0.0, 0.0, 0.0, 0.0, 0.0, 0.0, 0.0, 0.0, 0.0, 0.0, 0.0, 0.0, 0.0, 0.0, 0.0, 0.0, 0.0, 0.0, 0.0, 0.0, 0.0, 0.0, 0.0, 0.0, 0.0, 0.0, 0.0, 0.0, 0.0, 0.0, 0.0, 0.0, 0.0, 0.0, 0.0, 0.0, 0.0, 0.0, 0.0, 0.0, 0.0, 0.0, 0.0, 0.0, 0.0, 0.0, 3.0, 3.0, 3.0, 3.0, 3.0, 3.0, 3.0, 3.0, 3.0, 3.0], \"median\": 0.0, \"numeric\": true, \"num_unique\": 2, \"num_undefined\": 0, \"var\": 0.7889527759449523, \"progress\": 1.0, \"size\": 103, \"frequent_items\": {\"0\": {\"frequency\": 93, \"value\": 0}, \"3\": {\"frequency\": 10, \"value\": 3}}, \"mean\": 0.2912621359223301}, \"Curr_Age\": {\"std\": 1.6383333332534258, \"complete\": true, \"min\": 0.0, \"max\": 9.0, \"quantile\": [0.0, 0.0, 0.0, 0.0, 0.0, 0.0, 0.0, 0.0, 0.0, 0.0, 0.0, 0.0, 0.0, 0.0, 0.0, 0.0, 0.0, 0.0, 0.0, 0.0, 0.0, 0.0, 0.0, 0.0, 0.0, 0.0, 0.0, 0.0, 0.0, 0.0, 0.0, 0.0, 0.0, 0.0, 0.0, 0.0, 0.0, 0.0, 0.0, 0.0, 0.0, 0.0, 0.0, 0.0, 0.0, 0.0, 0.0, 0.0, 0.0, 0.0, 0.0, 0.0, 0.0, 0.0, 0.0, 0.0, 0.0, 0.0, 0.0, 0.0, 0.0, 0.0, 0.0, 0.0, 0.0, 0.0, 0.0, 0.0, 0.0, 0.0, 0.0, 0.0, 0.0, 0.0, 0.0, 0.0, 0.0, 0.0, 0.0, 0.0, 0.0, 0.0, 0.0, 0.0, 0.0, 3.0, 3.0, 3.0, 3.0, 3.0, 3.0, 3.0, 3.0, 3.0, 3.0, 3.0, 3.0, 3.0, 6.0, 9.0, 9.0], \"median\": 0.0, \"numeric\": true, \"num_unique\": 4, \"num_undefined\": 0, \"var\": 2.6841361108492805, \"progress\": 1.0, \"size\": 103, \"frequent_items\": {\"0\": {\"frequency\": 87, \"value\": 0}, \"9\": {\"frequency\": 2, \"value\": 9}, \"3\": {\"frequency\": 13, \"value\": 3}, \"6\": {\"frequency\": 1, \"value\": 6}}, \"mean\": 0.6116504854368934}, \"Prev_08_Age\": {\"std\": 1.300608556996084, \"complete\": true, \"min\": 0.0, \"max\": 6.0, \"quantile\": [0.0, 0.0, 0.0, 0.0, 0.0, 0.0, 0.0, 0.0, 0.0, 0.0, 0.0, 0.0, 0.0, 0.0, 0.0, 0.0, 0.0, 0.0, 0.0, 0.0, 0.0, 0.0, 0.0, 0.0, 0.0, 0.0, 0.0, 0.0, 0.0, 0.0, 0.0, 0.0, 0.0, 0.0, 0.0, 0.0, 0.0, 0.0, 0.0, 0.0, 0.0, 0.0, 0.0, 0.0, 0.0, 0.0, 0.0, 0.0, 0.0, 0.0, 0.0, 0.0, 0.0, 0.0, 0.0, 0.0, 0.0, 0.0, 0.0, 0.0, 0.0, 0.0, 0.0, 0.0, 0.0, 0.0, 0.0, 0.0, 0.0, 0.0, 0.0, 0.0, 0.0, 0.0, 0.0, 0.0, 0.0, 0.0, 0.0, 0.0, 0.0, 0.0, 0.0, 0.0, 0.0, 0.0, 0.0, 0.0, 0.0, 0.0, 0.0, 0.0, 3.0, 3.0, 3.0, 3.0, 3.0, 6.0, 6.0, 6.0, 6.0], \"median\": 0.0, \"numeric\": true, \"num_unique\": 3, \"num_undefined\": 0, \"var\": 1.6915826185314358, \"progress\": 1.0, \"size\": 103, \"frequent_items\": {\"0\": {\"frequency\": 94, \"value\": 0}, \"3\": {\"frequency\": 5, \"value\": 3}, \"6\": {\"frequency\": 4, \"value\": 6}}, \"mean\": 0.37864077669902907}, \"Laguage\": {\"std\": 1.9786779344243879, \"complete\": true, \"min\": 1.0, \"max\": 5.0, \"quantile\": [1.0, 1.0, 1.0, 1.0, 1.0, 1.0, 1.0, 1.0, 1.0, 1.0, 1.0, 1.0, 1.0, 1.0, 1.0, 1.0, 1.0, 1.0, 1.0, 1.0, 1.0, 1.0, 1.0, 1.0, 1.0, 1.0, 1.0, 1.0, 1.0, 1.0, 1.0, 1.0, 1.0, 1.0, 1.0, 1.0, 1.0, 1.0, 1.0, 1.0, 1.0, 1.0, 1.0, 1.0, 1.0, 1.0, 1.0, 1.0, 1.0, 1.0, 1.0, 1.0, 1.0, 1.0, 1.0, 1.0, 1.0, 1.0, 5.0, 5.0, 5.0, 5.0, 5.0, 5.0, 5.0, 5.0, 5.0, 5.0, 5.0, 5.0, 5.0, 5.0, 5.0, 5.0, 5.0, 5.0, 5.0, 5.0, 5.0, 5.0, 5.0, 5.0, 5.0, 5.0, 5.0, 5.0, 5.0, 5.0, 5.0, 5.0, 5.0, 5.0, 5.0, 5.0, 5.0, 5.0, 5.0, 5.0, 5.0, 5.0, 5.0], \"median\": 1.0, \"numeric\": true, \"num_unique\": 2, \"num_undefined\": 0, \"var\": 3.9151663681779625, \"progress\": 1.0, \"size\": 103, \"frequent_items\": {\"1\": {\"frequency\": 59, \"value\": 1}, \"5\": {\"frequency\": 44, \"value\": 5}}, \"mean\": 2.70873786407767}, \"Prev_10_Age\": {\"std\": 0.7684022888314322, \"complete\": true, \"min\": 0.0, \"max\": 6.0, \"quantile\": [0.0, 0.0, 0.0, 0.0, 0.0, 0.0, 0.0, 0.0, 0.0, 0.0, 0.0, 0.0, 0.0, 0.0, 0.0, 0.0, 0.0, 0.0, 0.0, 0.0, 0.0, 0.0, 0.0, 0.0, 0.0, 0.0, 0.0, 0.0, 0.0, 0.0, 0.0, 0.0, 0.0, 0.0, 0.0, 0.0, 0.0, 0.0, 0.0, 0.0, 0.0, 0.0, 0.0, 0.0, 0.0, 0.0, 0.0, 0.0, 0.0, 0.0, 0.0, 0.0, 0.0, 0.0, 0.0, 0.0, 0.0, 0.0, 0.0, 0.0, 0.0, 0.0, 0.0, 0.0, 0.0, 0.0, 0.0, 0.0, 0.0, 0.0, 0.0, 0.0, 0.0, 0.0, 0.0, 0.0, 0.0, 0.0, 0.0, 0.0, 0.0, 0.0, 0.0, 0.0, 0.0, 0.0, 0.0, 0.0, 0.0, 0.0, 0.0, 0.0, 0.0, 0.0, 0.0, 0.0, 0.0, 3.0, 3.0, 3.0, 6.0], \"median\": 0.0, \"numeric\": true, \"num_unique\": 3, \"num_undefined\": 0, \"var\": 0.5904420774813838, \"progress\": 1.0, \"size\": 103, \"frequent_items\": {\"0\": {\"frequency\": 99, \"value\": 0}, \"3\": {\"frequency\": 3, \"value\": 3}, \"6\": {\"frequency\": 1, \"value\": 6}}, \"mean\": 0.14563106796116504}}, \"selected_variable\": {\"name\": [\"trnx\"], \"descriptives\": {\"rows\": 103, \"columns\": 20}, \"view_component\": \"Summary\", \"view_file\": \"sframe\", \"view_params\": {\"y\": null, \"x\": null, \"columns\": [\"ID\", \"Product\", \"Last_Stmt_Bal\", \"Curr_Stmt_Bal\", \"Curr_Age\", \"Prev_01_Age\", \"Prev_02_Age\", \"Prev_03_Age\", \"Prev_04_Age\", \"Prev_05_Age\", \"Prev_06_Age\", \"Prev_07_Age\", \"Prev_08_Age\", \"Prev_09_Age\", \"Prev_10_Age\", \"Prev_11_Age\", \"Laguage\", \"Six_Month_Avg\", \"Age\", \"Cust_Since\"], \"view\": null}, \"view_components\": [\"Summary\", \"Table\", \"Bar Chart\", \"BoxWhisker Plot\", \"Line Chart\", \"Scatter Plot\", \"Heat Map\", \"Plots\"], \"type\": \"SFrame\", \"columns\": [{\"dtype\": \"int\", \"name\": \"ID\"}, {\"dtype\": \"str\", \"name\": \"Product\"}, {\"dtype\": \"int\", \"name\": \"Last_Stmt_Bal\"}, {\"dtype\": \"int\", \"name\": \"Curr_Stmt_Bal\"}, {\"dtype\": \"int\", \"name\": \"Curr_Age\"}, {\"dtype\": \"int\", \"name\": \"Prev_01_Age\"}, {\"dtype\": \"int\", \"name\": \"Prev_02_Age\"}, {\"dtype\": \"int\", \"name\": \"Prev_03_Age\"}, {\"dtype\": \"int\", \"name\": \"Prev_04_Age\"}, {\"dtype\": \"int\", \"name\": \"Prev_05_Age\"}, {\"dtype\": \"int\", \"name\": \"Prev_06_Age\"}, {\"dtype\": \"int\", \"name\": \"Prev_07_Age\"}, {\"dtype\": \"int\", \"name\": \"Prev_08_Age\"}, {\"dtype\": \"int\", \"name\": \"Prev_09_Age\"}, {\"dtype\": \"int\", \"name\": \"Prev_10_Age\"}, {\"dtype\": \"int\", \"name\": \"Prev_11_Age\"}, {\"dtype\": \"int\", \"name\": \"Laguage\"}, {\"dtype\": \"float\", \"name\": \"Six_Month_Avg\"}, {\"dtype\": \"int\", \"name\": \"Age\"}, {\"dtype\": \"int\", \"name\": \"Cust_Since\"}], \"column_identifiers\": [\"Prev_04_Age\", \"Product\", \"Prev_02_Age\", \"Cust_Since\", \"Prev_09_Age\", \"Age\", \"Six_Month_Avg\", \"Prev_07_Age\", \"ID\", \"Prev_05_Age\", \"Last_Stmt_Bal\", \"Prev_11_Age\", \"Prev_01_Age\", \"Prev_03_Age\", \"Curr_Stmt_Bal\", \"Prev_06_Age\", \"Curr_Age\", \"Prev_08_Age\", \"Laguage\", \"Prev_10_Age\"]}, \"columns\": [{\"dtype\": \"int\", \"name\": \"ID\"}, {\"dtype\": \"str\", \"name\": \"Product\"}, {\"dtype\": \"int\", \"name\": \"Last_Stmt_Bal\"}, {\"dtype\": \"int\", \"name\": \"Curr_Stmt_Bal\"}, {\"dtype\": \"int\", \"name\": \"Curr_Age\"}, {\"dtype\": \"int\", \"name\": \"Prev_01_Age\"}, {\"dtype\": \"int\", \"name\": \"Prev_02_Age\"}, {\"dtype\": \"int\", \"name\": \"Prev_03_Age\"}, {\"dtype\": \"int\", \"name\": \"Prev_04_Age\"}, {\"dtype\": \"int\", \"name\": \"Prev_05_Age\"}, {\"dtype\": \"int\", \"name\": \"Prev_06_Age\"}, {\"dtype\": \"int\", \"name\": \"Prev_07_Age\"}, {\"dtype\": \"int\", \"name\": \"Prev_08_Age\"}, {\"dtype\": \"int\", \"name\": \"Prev_09_Age\"}, {\"dtype\": \"int\", \"name\": \"Prev_10_Age\"}, {\"dtype\": \"int\", \"name\": \"Prev_11_Age\"}, {\"dtype\": \"int\", \"name\": \"Laguage\"}, {\"dtype\": \"float\", \"name\": \"Six_Month_Avg\"}, {\"dtype\": \"int\", \"name\": \"Age\"}, {\"dtype\": \"int\", \"name\": \"Cust_Since\"}]}, e);\n",
       "                });\n",
       "            })();\n",
       "        "
      ]
     },
     "metadata": {},
     "output_type": "display_data"
    }
   ],
   "source": [
    "trnx = train_data.sort('Curr_Age', ascending=False)\n",
    "trnx.show()"
   ]
  },
  {
   "cell_type": "code",
   "execution_count": 21,
   "metadata": {
    "collapsed": false
   },
   "outputs": [
    {
     "data": {
      "application/javascript": [
       "$(\"head\").append($(\"<link/>\").attr({\n",
       "  rel:  \"stylesheet\",\n",
       "  type: \"text/css\",\n",
       "  href: \"//cdnjs.cloudflare.com/ajax/libs/font-awesome/4.1.0/css/font-awesome.min.css\"\n",
       "}));\n",
       "$(\"head\").append($(\"<link/>\").attr({\n",
       "  rel:  \"stylesheet\",\n",
       "  type: \"text/css\",\n",
       "  href: \"https://static.turi.com/products/graphlab-create/2.1/canvas/css/canvas.css\"\n",
       "}));\n",
       "\n",
       "            (function(){\n",
       "\n",
       "                var e = null;\n",
       "                if (typeof element == 'undefined') {\n",
       "                    var scripts = document.getElementsByTagName('script');\n",
       "                    var thisScriptTag = scripts[scripts.length-1];\n",
       "                    var parentDiv = thisScriptTag.parentNode;\n",
       "                    e = document.createElement('div');\n",
       "                    parentDiv.appendChild(e);\n",
       "                } else {\n",
       "                    e = element[0];\n",
       "                }\n",
       "\n",
       "                if (typeof requirejs !== 'undefined') {\n",
       "                    // disable load timeout; ipython_app.js is large and can take a while to load.\n",
       "                    requirejs.config({waitSeconds: 0});\n",
       "                }\n",
       "\n",
       "                require(['https://static.turi.com/products/graphlab-create/2.1/canvas/js/ipython_app.js'], function(IPythonApp){\n",
       "                    var app = new IPythonApp();\n",
       "                    app.attachView('sframe','Summary', {\"ipython\": true, \"sketch\": {\"Prev_04_Age\": {\"std\": 0.9665692191267637, \"complete\": true, \"min\": 0.0, \"max\": 3.0, \"quantile\": [0.0, 0.0, 0.0, 0.0, 0.0, 0.0, 0.0, 0.0, 0.0, 0.0, 0.0, 0.0, 0.0, 0.0, 0.0, 0.0, 0.0, 0.0, 0.0, 0.0, 0.0, 0.0, 0.0, 0.0, 0.0, 0.0, 0.0, 0.0, 0.0, 0.0, 0.0, 0.0, 0.0, 0.0, 0.0, 0.0, 0.0, 0.0, 0.0, 0.0, 0.0, 0.0, 0.0, 0.0, 0.0, 0.0, 0.0, 0.0, 0.0, 0.0, 0.0, 0.0, 0.0, 0.0, 0.0, 0.0, 0.0, 0.0, 0.0, 0.0, 0.0, 0.0, 0.0, 0.0, 0.0, 0.0, 0.0, 0.0, 0.0, 0.0, 0.0, 0.0, 0.0, 0.0, 0.0, 0.0, 0.0, 0.0, 0.0, 0.0, 0.0, 0.0, 0.0, 0.0, 0.0, 0.0, 0.0, 0.0, 0.0, 3.0, 3.0, 3.0, 3.0, 3.0, 3.0, 3.0, 3.0, 3.0, 3.0, 3.0, 3.0], \"median\": 0.0, \"numeric\": true, \"num_unique\": 2, \"num_undefined\": 0, \"var\": 0.9342560553633218, \"progress\": 1.0, \"size\": 17, \"frequent_items\": {\"0\": {\"frequency\": 15, \"value\": 0}, \"3\": {\"frequency\": 2, \"value\": 3}}, \"mean\": 0.35294117647058826}, \"Product\": {\"complete\": true, \"numeric\": false, \"num_unique\": 2, \"num_undefined\": 0, \"progress\": 1.0, \"frequent_items\": {\"P\": {\"frequency\": 15, \"value\": \"P\"}, \"C\": {\"frequency\": 2, \"value\": \"C\"}}, \"size\": 17}, \"Prev_02_Age\": {\"std\": 0.9665692191267637, \"complete\": true, \"min\": 0.0, \"max\": 3.0, \"quantile\": [0.0, 0.0, 0.0, 0.0, 0.0, 0.0, 0.0, 0.0, 0.0, 0.0, 0.0, 0.0, 0.0, 0.0, 0.0, 0.0, 0.0, 0.0, 0.0, 0.0, 0.0, 0.0, 0.0, 0.0, 0.0, 0.0, 0.0, 0.0, 0.0, 0.0, 0.0, 0.0, 0.0, 0.0, 0.0, 0.0, 0.0, 0.0, 0.0, 0.0, 0.0, 0.0, 0.0, 0.0, 0.0, 0.0, 0.0, 0.0, 0.0, 0.0, 0.0, 0.0, 0.0, 0.0, 0.0, 0.0, 0.0, 0.0, 0.0, 0.0, 0.0, 0.0, 0.0, 0.0, 0.0, 0.0, 0.0, 0.0, 0.0, 0.0, 0.0, 0.0, 0.0, 0.0, 0.0, 0.0, 0.0, 0.0, 0.0, 0.0, 0.0, 0.0, 0.0, 0.0, 0.0, 0.0, 0.0, 0.0, 0.0, 3.0, 3.0, 3.0, 3.0, 3.0, 3.0, 3.0, 3.0, 3.0, 3.0, 3.0, 3.0], \"median\": 0.0, \"numeric\": true, \"num_unique\": 2, \"num_undefined\": 0, \"var\": 0.9342560553633218, \"progress\": 1.0, \"size\": 17, \"frequent_items\": {\"0\": {\"frequency\": 15, \"value\": 0}, \"3\": {\"frequency\": 2, \"value\": 3}}, \"mean\": 0.35294117647058826}, \"Cust_Since\": {\"std\": 105.02940764656455, \"complete\": true, \"min\": 133.0, \"max\": 539.0, \"quantile\": [133.0, 133.0, 133.0, 133.0, 133.0, 133.0, 172.0, 172.0, 172.0, 172.0, 172.0, 172.0, 173.0, 173.0, 173.0, 173.0, 173.0, 173.0, 192.0, 192.0, 192.0, 192.0, 192.0, 192.0, 238.0, 238.0, 238.0, 238.0, 238.0, 238.0, 330.0, 330.0, 330.0, 330.0, 330.0, 330.0, 333.0, 333.0, 333.0, 333.0, 333.0, 333.0, 336.0, 336.0, 336.0, 336.0, 336.0, 336.0, 354.0, 354.0, 354.0, 354.0, 354.0, 365.0, 365.0, 365.0, 365.0, 365.0, 365.0, 368.0, 368.0, 368.0, 368.0, 368.0, 368.0, 378.0, 378.0, 378.0, 378.0, 378.0, 378.0, 385.0, 385.0, 385.0, 385.0, 385.0, 385.0, 398.0, 398.0, 398.0, 398.0, 398.0, 398.0, 400.0, 400.0, 400.0, 400.0, 400.0, 400.0, 431.0, 431.0, 431.0, 431.0, 431.0, 431.0, 539.0, 539.0, 539.0, 539.0, 539.0, 539.0], \"median\": 354.0, \"numeric\": true, \"num_unique\": 17, \"num_undefined\": 0, \"var\": 11031.176470588232, \"progress\": 1.0, \"size\": 17, \"frequent_items\": {\"192\": {\"frequency\": 1, \"value\": 192}, \"385\": {\"frequency\": 1, \"value\": 385}, \"354\": {\"frequency\": 1, \"value\": 354}, \"133\": {\"frequency\": 1, \"value\": 133}, \"330\": {\"frequency\": 1, \"value\": 330}, \"172\": {\"frequency\": 1, \"value\": 172}, \"365\": {\"frequency\": 1, \"value\": 365}, \"398\": {\"frequency\": 1, \"value\": 398}, \"431\": {\"frequency\": 1, \"value\": 431}, \"368\": {\"frequency\": 1, \"value\": 368}, \"336\": {\"frequency\": 1, \"value\": 336}, \"400\": {\"frequency\": 1, \"value\": 400}, \"238\": {\"frequency\": 1, \"value\": 238}, \"333\": {\"frequency\": 1, \"value\": 333}, \"378\": {\"frequency\": 1, \"value\": 378}, \"539\": {\"frequency\": 1, \"value\": 539}, \"173\": {\"frequency\": 1, \"value\": 173}}, \"mean\": 325.0}, \"Prev_09_Age\": {\"std\": 1.7109458320292925, \"complete\": true, \"min\": 0.0, \"max\": 6.0, \"quantile\": [0.0, 0.0, 0.0, 0.0, 0.0, 0.0, 0.0, 0.0, 0.0, 0.0, 0.0, 0.0, 0.0, 0.0, 0.0, 0.0, 0.0, 0.0, 0.0, 0.0, 0.0, 0.0, 0.0, 0.0, 0.0, 0.0, 0.0, 0.0, 0.0, 0.0, 0.0, 0.0, 0.0, 0.0, 0.0, 0.0, 0.0, 0.0, 0.0, 0.0, 0.0, 0.0, 0.0, 0.0, 0.0, 0.0, 0.0, 0.0, 0.0, 0.0, 0.0, 0.0, 0.0, 0.0, 0.0, 0.0, 0.0, 0.0, 0.0, 0.0, 0.0, 0.0, 0.0, 0.0, 0.0, 0.0, 0.0, 0.0, 0.0, 0.0, 0.0, 0.0, 0.0, 0.0, 0.0, 0.0, 0.0, 3.0, 3.0, 3.0, 3.0, 3.0, 3.0, 3.0, 3.0, 3.0, 3.0, 3.0, 3.0, 3.0, 3.0, 3.0, 3.0, 3.0, 3.0, 6.0, 6.0, 6.0, 6.0, 6.0, 6.0], \"median\": 0.0, \"numeric\": true, \"num_unique\": 3, \"num_undefined\": 0, \"var\": 2.9273356401384083, \"progress\": 1.0, \"size\": 17, \"frequent_items\": {\"0\": {\"frequency\": 13, \"value\": 0}, \"3\": {\"frequency\": 3, \"value\": 3}, \"6\": {\"frequency\": 1, \"value\": 6}}, \"mean\": 0.8823529411764707}, \"Age\": {\"std\": 99.36852522921114, \"complete\": true, \"min\": 604.0, \"max\": 930.0, \"quantile\": [604.0, 604.0, 604.0, 604.0, 604.0, 604.0, 633.0, 633.0, 633.0, 633.0, 633.0, 633.0, 644.0, 644.0, 644.0, 644.0, 644.0, 644.0, 651.0, 651.0, 651.0, 651.0, 651.0, 651.0, 707.0, 707.0, 707.0, 707.0, 707.0, 707.0, 713.0, 713.0, 713.0, 713.0, 713.0, 713.0, 740.0, 740.0, 740.0, 740.0, 740.0, 740.0, 740.0, 740.0, 740.0, 740.0, 740.0, 740.0, 772.0, 772.0, 772.0, 772.0, 772.0, 796.0, 796.0, 796.0, 796.0, 796.0, 796.0, 800.0, 800.0, 800.0, 800.0, 800.0, 800.0, 823.0, 823.0, 823.0, 823.0, 823.0, 823.0, 861.0, 861.0, 861.0, 861.0, 861.0, 861.0, 886.0, 886.0, 886.0, 886.0, 886.0, 886.0, 893.0, 893.0, 893.0, 893.0, 893.0, 893.0, 895.0, 895.0, 895.0, 895.0, 895.0, 895.0, 930.0, 930.0, 930.0, 930.0, 930.0, 930.0], \"median\": 772.0, \"numeric\": true, \"num_unique\": 16, \"num_undefined\": 0, \"var\": 9874.103806228371, \"progress\": 1.0, \"size\": 17, \"frequent_items\": {\"800\": {\"frequency\": 1, \"value\": 800}, \"604\": {\"frequency\": 1, \"value\": 604}, \"930\": {\"frequency\": 1, \"value\": 930}, \"707\": {\"frequency\": 1, \"value\": 707}, \"772\": {\"frequency\": 1, \"value\": 772}, \"633\": {\"frequency\": 1, \"value\": 633}, \"713\": {\"frequency\": 1, \"value\": 713}, \"651\": {\"frequency\": 1, \"value\": 651}, \"861\": {\"frequency\": 1, \"value\": 861}, \"740\": {\"frequency\": 2, \"value\": 740}, \"886\": {\"frequency\": 1, \"value\": 886}, \"823\": {\"frequency\": 1, \"value\": 823}, \"644\": {\"frequency\": 1, \"value\": 644}, \"796\": {\"frequency\": 1, \"value\": 796}, \"893\": {\"frequency\": 1, \"value\": 893}, \"895\": {\"frequency\": 1, \"value\": 895}}, \"mean\": 769.8823529411765}, \"Six_Month_Avg\": {\"std\": 75608.9944298387, \"complete\": true, \"min\": 5336.66, \"max\": 315656.16, \"quantile\": [5336.66, 5336.66, 5336.66, 5336.66, 5336.66, 5336.66, 15115.0, 15115.0, 15115.0, 15115.0, 15115.0, 15115.0, 19045.0, 19045.0, 19045.0, 19045.0, 19045.0, 19045.0, 29073.5, 29073.5, 29073.5, 29073.5, 29073.5, 29073.5, 41618.16, 41618.16, 41618.16, 41618.16, 41618.16, 41618.16, 43849.5, 43849.5, 43849.5, 43849.5, 43849.5, 43849.5, 44386.16, 44386.16, 44386.16, 44386.16, 44386.16, 44386.16, 54444.16, 54444.16, 54444.16, 54444.16, 54444.16, 54444.16, 75781.2, 75781.2, 75781.2, 75781.2, 75781.2, 86988.83, 86988.83, 86988.83, 86988.83, 86988.83, 86988.83, 91027.0, 91027.0, 91027.0, 91027.0, 91027.0, 91027.0, 104000.0, 104000.0, 104000.0, 104000.0, 104000.0, 104000.0, 105304.16, 105304.16, 105304.16, 105304.16, 105304.16, 105304.16, 152984.83, 152984.83, 152984.83, 152984.83, 152984.83, 152984.83, 165347.66, 165347.66, 165347.66, 165347.66, 165347.66, 165347.66, 171505.5, 171505.5, 171505.5, 171505.5, 171505.5, 171505.5, 315656.16, 315656.16, 315656.16, 315656.16, 315656.16, 315656.16], \"median\": 75781.2, \"numeric\": true, \"num_unique\": 17, \"num_undefined\": 0, \"var\": 5716720038.69138, \"progress\": 1.0, \"size\": 17, \"frequent_items\": {\"43849.5\": {\"frequency\": 1, \"value\": 43849.5}, \"29073.5\": {\"frequency\": 1, \"value\": 29073.5}, \"86988.83\": {\"frequency\": 1, \"value\": 86988.83}, \"19045.0\": {\"frequency\": 1, \"value\": 19045.0}, \"171505.5\": {\"frequency\": 1, \"value\": 171505.5}, \"15115.0\": {\"frequency\": 1, \"value\": 15115.0}, \"75781.2\": {\"frequency\": 1, \"value\": 75781.2}, \"152984.83\": {\"frequency\": 1, \"value\": 152984.83}, \"105304.16\": {\"frequency\": 1, \"value\": 105304.16}, \"91027.0\": {\"frequency\": 1, \"value\": 91027.0}, \"41618.16\": {\"frequency\": 1, \"value\": 41618.16}, \"5336.66\": {\"frequency\": 1, \"value\": 5336.66}, \"104000.0\": {\"frequency\": 1, \"value\": 104000.0}, \"54444.16\": {\"frequency\": 1, \"value\": 54444.16}, \"315656.16\": {\"frequency\": 1, \"value\": 315656.16}, \"44386.16\": {\"frequency\": 1, \"value\": 44386.16}, \"165347.66\": {\"frequency\": 1, \"value\": 165347.66}}, \"mean\": 89497.85176470588}, \"Prev_07_Age\": {\"std\": 1.7647058823529411, \"complete\": true, \"min\": 0.0, \"max\": 6.0, \"quantile\": [0.0, 0.0, 0.0, 0.0, 0.0, 0.0, 0.0, 0.0, 0.0, 0.0, 0.0, 0.0, 0.0, 0.0, 0.0, 0.0, 0.0, 0.0, 0.0, 0.0, 0.0, 0.0, 0.0, 0.0, 0.0, 0.0, 0.0, 0.0, 0.0, 0.0, 0.0, 0.0, 0.0, 0.0, 0.0, 0.0, 0.0, 0.0, 0.0, 0.0, 0.0, 0.0, 0.0, 0.0, 0.0, 0.0, 0.0, 0.0, 0.0, 0.0, 0.0, 0.0, 0.0, 0.0, 0.0, 0.0, 0.0, 0.0, 0.0, 0.0, 0.0, 0.0, 0.0, 0.0, 0.0, 0.0, 0.0, 0.0, 0.0, 0.0, 0.0, 3.0, 3.0, 3.0, 3.0, 3.0, 3.0, 3.0, 3.0, 3.0, 3.0, 3.0, 3.0, 3.0, 3.0, 3.0, 3.0, 3.0, 3.0, 3.0, 3.0, 3.0, 3.0, 3.0, 3.0, 6.0, 6.0, 6.0, 6.0, 6.0, 6.0], \"median\": 0.0, \"numeric\": true, \"num_unique\": 3, \"num_undefined\": 0, \"var\": 3.1141868512110724, \"progress\": 1.0, \"size\": 17, \"frequent_items\": {\"0\": {\"frequency\": 12, \"value\": 0}, \"3\": {\"frequency\": 4, \"value\": 3}, \"6\": {\"frequency\": 1, \"value\": 6}}, \"mean\": 1.0588235294117647}, \"ID\": {\"std\": 32.04862223015541, \"complete\": true, \"min\": 16.0, \"max\": 117.0, \"quantile\": [16.0, 16.0, 16.0, 16.0, 16.0, 16.0, 17.0, 17.0, 17.0, 17.0, 17.0, 17.0, 31.0, 31.0, 31.0, 31.0, 31.0, 31.0, 36.0, 36.0, 36.0, 36.0, 36.0, 36.0, 44.0, 44.0, 44.0, 44.0, 44.0, 44.0, 47.0, 47.0, 47.0, 47.0, 47.0, 47.0, 64.0, 64.0, 64.0, 64.0, 64.0, 64.0, 69.0, 69.0, 69.0, 69.0, 69.0, 69.0, 70.0, 70.0, 70.0, 70.0, 70.0, 75.0, 75.0, 75.0, 75.0, 75.0, 75.0, 78.0, 78.0, 78.0, 78.0, 78.0, 78.0, 90.0, 90.0, 90.0, 90.0, 90.0, 90.0, 95.0, 95.0, 95.0, 95.0, 95.0, 95.0, 102.0, 102.0, 102.0, 102.0, 102.0, 102.0, 107.0, 107.0, 107.0, 107.0, 107.0, 107.0, 116.0, 116.0, 116.0, 116.0, 116.0, 116.0, 117.0, 117.0, 117.0, 117.0, 117.0, 117.0], \"median\": 70.0, \"numeric\": true, \"num_unique\": 17, \"num_undefined\": 0, \"var\": 1027.1141868512113, \"progress\": 1.0, \"size\": 17, \"frequent_items\": {\"64\": {\"frequency\": 1, \"value\": 64}, \"107\": {\"frequency\": 1, \"value\": 107}, \"36\": {\"frequency\": 1, \"value\": 36}, \"69\": {\"frequency\": 1, \"value\": 69}, \"70\": {\"frequency\": 1, \"value\": 70}, \"75\": {\"frequency\": 1, \"value\": 75}, \"44\": {\"frequency\": 1, \"value\": 44}, \"78\": {\"frequency\": 1, \"value\": 78}, \"47\": {\"frequency\": 1, \"value\": 47}, \"16\": {\"frequency\": 1, \"value\": 16}, \"17\": {\"frequency\": 1, \"value\": 17}, \"116\": {\"frequency\": 1, \"value\": 116}, \"117\": {\"frequency\": 1, \"value\": 117}, \"90\": {\"frequency\": 1, \"value\": 90}, \"95\": {\"frequency\": 1, \"value\": 95}, \"102\": {\"frequency\": 1, \"value\": 102}, \"31\": {\"frequency\": 1, \"value\": 31}}, \"mean\": 69.05882352941177}, \"Prev_05_Age\": {\"std\": 1.143660123248446, \"complete\": true, \"min\": 0.0, \"max\": 3.0, \"quantile\": [0.0, 0.0, 0.0, 0.0, 0.0, 0.0, 0.0, 0.0, 0.0, 0.0, 0.0, 0.0, 0.0, 0.0, 0.0, 0.0, 0.0, 0.0, 0.0, 0.0, 0.0, 0.0, 0.0, 0.0, 0.0, 0.0, 0.0, 0.0, 0.0, 0.0, 0.0, 0.0, 0.0, 0.0, 0.0, 0.0, 0.0, 0.0, 0.0, 0.0, 0.0, 0.0, 0.0, 0.0, 0.0, 0.0, 0.0, 0.0, 0.0, 0.0, 0.0, 0.0, 0.0, 0.0, 0.0, 0.0, 0.0, 0.0, 0.0, 0.0, 0.0, 0.0, 0.0, 0.0, 0.0, 0.0, 0.0, 0.0, 0.0, 0.0, 0.0, 0.0, 0.0, 0.0, 0.0, 0.0, 0.0, 0.0, 0.0, 0.0, 0.0, 0.0, 0.0, 3.0, 3.0, 3.0, 3.0, 3.0, 3.0, 3.0, 3.0, 3.0, 3.0, 3.0, 3.0, 3.0, 3.0, 3.0, 3.0, 3.0, 3.0], \"median\": 0.0, \"numeric\": true, \"num_unique\": 2, \"num_undefined\": 0, \"var\": 1.3079584775086506, \"progress\": 1.0, \"size\": 17, \"frequent_items\": {\"0\": {\"frequency\": 14, \"value\": 0}, \"3\": {\"frequency\": 3, \"value\": 3}}, \"mean\": 0.5294117647058824}, \"Last_Stmt_Bal\": {\"std\": 84066.94168286386, \"complete\": true, \"min\": 0.0, \"max\": 315460.0, \"quantile\": [0.0, 0.0, 0.0, 0.0, 0.0, 0.0, 0.0, 0.0, 0.0, 0.0, 0.0, 0.0, 1999.0, 1999.0, 1999.0, 1999.0, 1999.0, 1999.0, 13050.0, 13050.0, 13050.0, 13050.0, 13050.0, 13050.0, 14902.0, 14902.0, 14902.0, 14902.0, 14902.0, 14902.0, 20127.0, 20127.0, 20127.0, 20127.0, 20127.0, 20127.0, 21660.0, 21660.0, 21660.0, 21660.0, 21660.0, 21660.0, 41238.0, 41238.0, 41238.0, 41238.0, 41238.0, 41238.0, 51640.0, 51640.0, 51640.0, 51640.0, 51640.0, 63401.0, 63401.0, 63401.0, 63401.0, 63401.0, 63401.0, 65131.0, 65131.0, 65131.0, 65131.0, 65131.0, 65131.0, 65182.0, 65182.0, 65182.0, 65182.0, 65182.0, 65182.0, 97337.0, 97337.0, 97337.0, 97337.0, 97337.0, 97337.0, 100880.0, 100880.0, 100880.0, 100880.0, 100880.0, 100880.0, 171983.0, 171983.0, 171983.0, 171983.0, 171983.0, 171983.0, 215934.0, 215934.0, 215934.0, 215934.0, 215934.0, 215934.0, 315460.0, 315460.0, 315460.0, 315460.0, 315460.0, 315460.0], \"median\": 51640.0, \"numeric\": true, \"num_unique\": 16, \"num_undefined\": 0, \"var\": 7067250683.910034, \"progress\": 1.0, \"size\": 17, \"frequent_items\": {\"0\": {\"frequency\": 2, \"value\": 0}, \"315460\": {\"frequency\": 1, \"value\": 315460}, \"14902\": {\"frequency\": 1, \"value\": 14902}, \"63401\": {\"frequency\": 1, \"value\": 63401}, \"65131\": {\"frequency\": 1, \"value\": 65131}, \"171983\": {\"frequency\": 1, \"value\": 171983}, \"100880\": {\"frequency\": 1, \"value\": 100880}, \"215934\": {\"frequency\": 1, \"value\": 215934}, \"41238\": {\"frequency\": 1, \"value\": 41238}, \"51640\": {\"frequency\": 1, \"value\": 51640}, \"97337\": {\"frequency\": 1, \"value\": 97337}, \"13050\": {\"frequency\": 1, \"value\": 13050}, \"1999\": {\"frequency\": 1, \"value\": 1999}, \"21660\": {\"frequency\": 1, \"value\": 21660}, \"65182\": {\"frequency\": 1, \"value\": 65182}, \"20127\": {\"frequency\": 1, \"value\": 20127}}, \"mean\": 74113.17647058822}, \"Prev_11_Age\": {\"std\": 1.7109458320292925, \"complete\": true, \"min\": 0.0, \"max\": 6.0, \"quantile\": [0.0, 0.0, 0.0, 0.0, 0.0, 0.0, 0.0, 0.0, 0.0, 0.0, 0.0, 0.0, 0.0, 0.0, 0.0, 0.0, 0.0, 0.0, 0.0, 0.0, 0.0, 0.0, 0.0, 0.0, 0.0, 0.0, 0.0, 0.0, 0.0, 0.0, 0.0, 0.0, 0.0, 0.0, 0.0, 0.0, 0.0, 0.0, 0.0, 0.0, 0.0, 0.0, 0.0, 0.0, 0.0, 0.0, 0.0, 0.0, 0.0, 0.0, 0.0, 0.0, 0.0, 0.0, 0.0, 0.0, 0.0, 0.0, 0.0, 0.0, 0.0, 0.0, 0.0, 0.0, 0.0, 0.0, 0.0, 0.0, 0.0, 0.0, 0.0, 0.0, 0.0, 0.0, 0.0, 0.0, 0.0, 3.0, 3.0, 3.0, 3.0, 3.0, 3.0, 3.0, 3.0, 3.0, 3.0, 3.0, 3.0, 3.0, 3.0, 3.0, 3.0, 3.0, 3.0, 6.0, 6.0, 6.0, 6.0, 6.0, 6.0], \"median\": 0.0, \"numeric\": true, \"num_unique\": 3, \"num_undefined\": 0, \"var\": 2.9273356401384083, \"progress\": 1.0, \"size\": 17, \"frequent_items\": {\"0\": {\"frequency\": 13, \"value\": 0}, \"3\": {\"frequency\": 3, \"value\": 3}, \"6\": {\"frequency\": 1, \"value\": 6}}, \"mean\": 0.8823529411764707}, \"Prev_01_Age\": {\"std\": 1.7109458320292925, \"complete\": true, \"min\": 0.0, \"max\": 6.0, \"quantile\": [0.0, 0.0, 0.0, 0.0, 0.0, 0.0, 0.0, 0.0, 0.0, 0.0, 0.0, 0.0, 0.0, 0.0, 0.0, 0.0, 0.0, 0.0, 0.0, 0.0, 0.0, 0.0, 0.0, 0.0, 0.0, 0.0, 0.0, 0.0, 0.0, 0.0, 0.0, 0.0, 0.0, 0.0, 0.0, 0.0, 0.0, 0.0, 0.0, 0.0, 0.0, 0.0, 0.0, 0.0, 0.0, 0.0, 0.0, 0.0, 0.0, 0.0, 0.0, 0.0, 0.0, 0.0, 0.0, 0.0, 0.0, 0.0, 0.0, 0.0, 0.0, 0.0, 0.0, 0.0, 0.0, 0.0, 0.0, 0.0, 0.0, 0.0, 0.0, 0.0, 0.0, 0.0, 0.0, 0.0, 0.0, 3.0, 3.0, 3.0, 3.0, 3.0, 3.0, 3.0, 3.0, 3.0, 3.0, 3.0, 3.0, 3.0, 3.0, 3.0, 3.0, 3.0, 3.0, 6.0, 6.0, 6.0, 6.0, 6.0, 6.0], \"median\": 0.0, \"numeric\": true, \"num_unique\": 3, \"num_undefined\": 0, \"var\": 2.9273356401384083, \"progress\": 1.0, \"size\": 17, \"frequent_items\": {\"0\": {\"frequency\": 13, \"value\": 0}, \"3\": {\"frequency\": 3, \"value\": 3}, \"6\": {\"frequency\": 1, \"value\": 6}}, \"mean\": 0.8823529411764707}, \"Prev_03_Age\": {\"std\": 1.143660123248446, \"complete\": true, \"min\": 0.0, \"max\": 3.0, \"quantile\": [0.0, 0.0, 0.0, 0.0, 0.0, 0.0, 0.0, 0.0, 0.0, 0.0, 0.0, 0.0, 0.0, 0.0, 0.0, 0.0, 0.0, 0.0, 0.0, 0.0, 0.0, 0.0, 0.0, 0.0, 0.0, 0.0, 0.0, 0.0, 0.0, 0.0, 0.0, 0.0, 0.0, 0.0, 0.0, 0.0, 0.0, 0.0, 0.0, 0.0, 0.0, 0.0, 0.0, 0.0, 0.0, 0.0, 0.0, 0.0, 0.0, 0.0, 0.0, 0.0, 0.0, 0.0, 0.0, 0.0, 0.0, 0.0, 0.0, 0.0, 0.0, 0.0, 0.0, 0.0, 0.0, 0.0, 0.0, 0.0, 0.0, 0.0, 0.0, 0.0, 0.0, 0.0, 0.0, 0.0, 0.0, 0.0, 0.0, 0.0, 0.0, 0.0, 0.0, 3.0, 3.0, 3.0, 3.0, 3.0, 3.0, 3.0, 3.0, 3.0, 3.0, 3.0, 3.0, 3.0, 3.0, 3.0, 3.0, 3.0, 3.0], \"median\": 0.0, \"numeric\": true, \"num_unique\": 2, \"num_undefined\": 0, \"var\": 1.3079584775086506, \"progress\": 1.0, \"size\": 17, \"frequent_items\": {\"0\": {\"frequency\": 14, \"value\": 0}, \"3\": {\"frequency\": 3, \"value\": 3}}, \"mean\": 0.5294117647058824}, \"Curr_Stmt_Bal\": {\"std\": 150802.72584112725, \"complete\": true, \"min\": 8794.0, \"max\": 475630.0, \"quantile\": [8794.0, 8794.0, 8794.0, 8794.0, 8794.0, 8794.0, 9550.0, 9550.0, 9550.0, 9550.0, 9550.0, 9550.0, 20918.0, 20918.0, 20918.0, 20918.0, 20918.0, 20918.0, 22661.0, 22661.0, 22661.0, 22661.0, 22661.0, 22661.0, 32110.0, 32110.0, 32110.0, 32110.0, 32110.0, 32110.0, 40576.0, 40576.0, 40576.0, 40576.0, 40576.0, 40576.0, 52771.0, 52771.0, 52771.0, 52771.0, 52771.0, 52771.0, 54845.0, 54845.0, 54845.0, 54845.0, 54845.0, 54845.0, 65760.0, 65760.0, 65760.0, 65760.0, 65760.0, 69299.0, 69299.0, 69299.0, 69299.0, 69299.0, 69299.0, 74860.0, 74860.0, 74860.0, 74860.0, 74860.0, 74860.0, 80120.0, 80120.0, 80120.0, 80120.0, 80120.0, 80120.0, 95946.0, 95946.0, 95946.0, 95946.0, 95946.0, 95946.0, 230114.0, 230114.0, 230114.0, 230114.0, 230114.0, 230114.0, 347777.0, 347777.0, 347777.0, 347777.0, 347777.0, 347777.0, 467053.0, 467053.0, 467053.0, 467053.0, 467053.0, 467053.0, 475630.0, 475630.0, 475630.0, 475630.0, 475630.0, 475630.0], \"median\": 65760.0, \"numeric\": true, \"num_unique\": 17, \"num_undefined\": 0, \"var\": 22741462121.11419, \"progress\": 1.0, \"size\": 17, \"frequent_items\": {\"40576\": {\"frequency\": 1, \"value\": 40576}, \"347777\": {\"frequency\": 1, \"value\": 347777}, \"230114\": {\"frequency\": 1, \"value\": 230114}, \"52771\": {\"frequency\": 1, \"value\": 52771}, \"22661\": {\"frequency\": 1, \"value\": 22661}, \"95946\": {\"frequency\": 1, \"value\": 95946}, \"74860\": {\"frequency\": 1, \"value\": 74860}, \"65760\": {\"frequency\": 1, \"value\": 65760}, \"32110\": {\"frequency\": 1, \"value\": 32110}, \"467053\": {\"frequency\": 1, \"value\": 467053}, \"69299\": {\"frequency\": 1, \"value\": 69299}, \"9550\": {\"frequency\": 1, \"value\": 9550}, \"20918\": {\"frequency\": 1, \"value\": 20918}, \"80120\": {\"frequency\": 1, \"value\": 80120}, \"475630\": {\"frequency\": 1, \"value\": 475630}, \"8794\": {\"frequency\": 1, \"value\": 8794}, \"54845\": {\"frequency\": 1, \"value\": 54845}}, \"mean\": 126399.05882352941}, \"Prev_06_Age\": {\"std\": 1.143660123248446, \"complete\": true, \"min\": 0.0, \"max\": 3.0, \"quantile\": [0.0, 0.0, 0.0, 0.0, 0.0, 0.0, 0.0, 0.0, 0.0, 0.0, 0.0, 0.0, 0.0, 0.0, 0.0, 0.0, 0.0, 0.0, 0.0, 0.0, 0.0, 0.0, 0.0, 0.0, 0.0, 0.0, 0.0, 0.0, 0.0, 0.0, 0.0, 0.0, 0.0, 0.0, 0.0, 0.0, 0.0, 0.0, 0.0, 0.0, 0.0, 0.0, 0.0, 0.0, 0.0, 0.0, 0.0, 0.0, 0.0, 0.0, 0.0, 0.0, 0.0, 0.0, 0.0, 0.0, 0.0, 0.0, 0.0, 0.0, 0.0, 0.0, 0.0, 0.0, 0.0, 0.0, 0.0, 0.0, 0.0, 0.0, 0.0, 0.0, 0.0, 0.0, 0.0, 0.0, 0.0, 0.0, 0.0, 0.0, 0.0, 0.0, 0.0, 3.0, 3.0, 3.0, 3.0, 3.0, 3.0, 3.0, 3.0, 3.0, 3.0, 3.0, 3.0, 3.0, 3.0, 3.0, 3.0, 3.0, 3.0], \"median\": 0.0, \"numeric\": true, \"num_unique\": 2, \"num_undefined\": 0, \"var\": 1.3079584775086506, \"progress\": 1.0, \"size\": 17, \"frequent_items\": {\"0\": {\"frequency\": 14, \"value\": 0}, \"3\": {\"frequency\": 3, \"value\": 3}}, \"mean\": 0.5294117647058824}, \"Curr_Age\": {\"std\": 2.287320246496892, \"complete\": true, \"min\": 0.0, \"max\": 9.0, \"quantile\": [0.0, 0.0, 0.0, 0.0, 0.0, 0.0, 0.0, 0.0, 0.0, 0.0, 0.0, 0.0, 0.0, 0.0, 0.0, 0.0, 0.0, 0.0, 0.0, 0.0, 0.0, 0.0, 0.0, 0.0, 0.0, 0.0, 0.0, 0.0, 0.0, 0.0, 0.0, 0.0, 0.0, 0.0, 0.0, 0.0, 0.0, 0.0, 0.0, 0.0, 0.0, 0.0, 0.0, 0.0, 0.0, 0.0, 0.0, 0.0, 0.0, 0.0, 0.0, 0.0, 0.0, 0.0, 0.0, 0.0, 0.0, 0.0, 0.0, 0.0, 0.0, 0.0, 0.0, 0.0, 0.0, 0.0, 0.0, 0.0, 0.0, 0.0, 0.0, 0.0, 0.0, 0.0, 0.0, 0.0, 0.0, 3.0, 3.0, 3.0, 3.0, 3.0, 3.0, 3.0, 3.0, 3.0, 3.0, 3.0, 3.0, 3.0, 3.0, 3.0, 3.0, 3.0, 3.0, 9.0, 9.0, 9.0, 9.0, 9.0, 9.0], \"median\": 0.0, \"numeric\": true, \"num_unique\": 3, \"num_undefined\": 0, \"var\": 5.231833910034602, \"progress\": 1.0, \"size\": 17, \"frequent_items\": {\"0\": {\"frequency\": 13, \"value\": 0}, \"9\": {\"frequency\": 1, \"value\": 9}, \"3\": {\"frequency\": 3, \"value\": 3}}, \"mean\": 1.0588235294117647}, \"Prev_08_Age\": {\"std\": 0.9665692191267637, \"complete\": true, \"min\": 0.0, \"max\": 3.0, \"quantile\": [0.0, 0.0, 0.0, 0.0, 0.0, 0.0, 0.0, 0.0, 0.0, 0.0, 0.0, 0.0, 0.0, 0.0, 0.0, 0.0, 0.0, 0.0, 0.0, 0.0, 0.0, 0.0, 0.0, 0.0, 0.0, 0.0, 0.0, 0.0, 0.0, 0.0, 0.0, 0.0, 0.0, 0.0, 0.0, 0.0, 0.0, 0.0, 0.0, 0.0, 0.0, 0.0, 0.0, 0.0, 0.0, 0.0, 0.0, 0.0, 0.0, 0.0, 0.0, 0.0, 0.0, 0.0, 0.0, 0.0, 0.0, 0.0, 0.0, 0.0, 0.0, 0.0, 0.0, 0.0, 0.0, 0.0, 0.0, 0.0, 0.0, 0.0, 0.0, 0.0, 0.0, 0.0, 0.0, 0.0, 0.0, 0.0, 0.0, 0.0, 0.0, 0.0, 0.0, 0.0, 0.0, 0.0, 0.0, 0.0, 0.0, 3.0, 3.0, 3.0, 3.0, 3.0, 3.0, 3.0, 3.0, 3.0, 3.0, 3.0, 3.0], \"median\": 0.0, \"numeric\": true, \"num_unique\": 2, \"num_undefined\": 0, \"var\": 0.9342560553633218, \"progress\": 1.0, \"size\": 17, \"frequent_items\": {\"0\": {\"frequency\": 15, \"value\": 0}, \"3\": {\"frequency\": 2, \"value\": 3}}, \"mean\": 0.35294117647058826}, \"Laguage\": {\"std\": 1.9965367939384873, \"complete\": true, \"min\": 1.0, \"max\": 5.0, \"quantile\": [1.0, 1.0, 1.0, 1.0, 1.0, 1.0, 1.0, 1.0, 1.0, 1.0, 1.0, 1.0, 1.0, 1.0, 1.0, 1.0, 1.0, 1.0, 1.0, 1.0, 1.0, 1.0, 1.0, 1.0, 1.0, 1.0, 1.0, 1.0, 1.0, 1.0, 1.0, 1.0, 1.0, 1.0, 1.0, 1.0, 1.0, 1.0, 1.0, 1.0, 1.0, 1.0, 1.0, 1.0, 1.0, 1.0, 1.0, 1.0, 5.0, 5.0, 5.0, 5.0, 5.0, 5.0, 5.0, 5.0, 5.0, 5.0, 5.0, 5.0, 5.0, 5.0, 5.0, 5.0, 5.0, 5.0, 5.0, 5.0, 5.0, 5.0, 5.0, 5.0, 5.0, 5.0, 5.0, 5.0, 5.0, 5.0, 5.0, 5.0, 5.0, 5.0, 5.0, 5.0, 5.0, 5.0, 5.0, 5.0, 5.0, 5.0, 5.0, 5.0, 5.0, 5.0, 5.0, 5.0, 5.0, 5.0, 5.0, 5.0, 5.0], \"median\": 5.0, \"numeric\": true, \"num_unique\": 2, \"num_undefined\": 0, \"var\": 3.9861591695501732, \"progress\": 1.0, \"size\": 17, \"frequent_items\": {\"1\": {\"frequency\": 8, \"value\": 1}, \"5\": {\"frequency\": 9, \"value\": 5}}, \"mean\": 3.117647058823529}, \"Prev_10_Age\": {\"std\": 1.6365209109698302, \"complete\": true, \"min\": 0.0, \"max\": 6.0, \"quantile\": [0.0, 0.0, 0.0, 0.0, 0.0, 0.0, 0.0, 0.0, 0.0, 0.0, 0.0, 0.0, 0.0, 0.0, 0.0, 0.0, 0.0, 0.0, 0.0, 0.0, 0.0, 0.0, 0.0, 0.0, 0.0, 0.0, 0.0, 0.0, 0.0, 0.0, 0.0, 0.0, 0.0, 0.0, 0.0, 0.0, 0.0, 0.0, 0.0, 0.0, 0.0, 0.0, 0.0, 0.0, 0.0, 0.0, 0.0, 0.0, 0.0, 0.0, 0.0, 0.0, 0.0, 0.0, 0.0, 0.0, 0.0, 0.0, 0.0, 0.0, 0.0, 0.0, 0.0, 0.0, 0.0, 0.0, 0.0, 0.0, 0.0, 0.0, 0.0, 0.0, 0.0, 0.0, 0.0, 0.0, 0.0, 0.0, 0.0, 0.0, 0.0, 0.0, 0.0, 3.0, 3.0, 3.0, 3.0, 3.0, 3.0, 3.0, 3.0, 3.0, 3.0, 3.0, 3.0, 6.0, 6.0, 6.0, 6.0, 6.0, 6.0], \"median\": 0.0, \"numeric\": true, \"num_unique\": 3, \"num_undefined\": 0, \"var\": 2.6782006920415227, \"progress\": 1.0, \"size\": 17, \"frequent_items\": {\"0\": {\"frequency\": 14, \"value\": 0}, \"3\": {\"frequency\": 2, \"value\": 3}, \"6\": {\"frequency\": 1, \"value\": 6}}, \"mean\": 0.7058823529411765}}, \"selected_variable\": {\"name\": [\"trnx_test\"], \"descriptives\": {\"rows\": 17, \"columns\": 20}, \"view_component\": \"Summary\", \"view_file\": \"sframe\", \"view_params\": {\"y\": null, \"x\": null, \"columns\": [\"ID\", \"Product\", \"Last_Stmt_Bal\", \"Curr_Stmt_Bal\", \"Curr_Age\", \"Prev_01_Age\", \"Prev_02_Age\", \"Prev_03_Age\", \"Prev_04_Age\", \"Prev_05_Age\", \"Prev_06_Age\", \"Prev_07_Age\", \"Prev_08_Age\", \"Prev_09_Age\", \"Prev_10_Age\", \"Prev_11_Age\", \"Laguage\", \"Six_Month_Avg\", \"Age\", \"Cust_Since\"], \"view\": null}, \"view_components\": [\"Summary\", \"Table\", \"Bar Chart\", \"BoxWhisker Plot\", \"Line Chart\", \"Scatter Plot\", \"Heat Map\", \"Plots\"], \"type\": \"SFrame\", \"columns\": [{\"dtype\": \"int\", \"name\": \"ID\"}, {\"dtype\": \"str\", \"name\": \"Product\"}, {\"dtype\": \"int\", \"name\": \"Last_Stmt_Bal\"}, {\"dtype\": \"int\", \"name\": \"Curr_Stmt_Bal\"}, {\"dtype\": \"int\", \"name\": \"Curr_Age\"}, {\"dtype\": \"int\", \"name\": \"Prev_01_Age\"}, {\"dtype\": \"int\", \"name\": \"Prev_02_Age\"}, {\"dtype\": \"int\", \"name\": \"Prev_03_Age\"}, {\"dtype\": \"int\", \"name\": \"Prev_04_Age\"}, {\"dtype\": \"int\", \"name\": \"Prev_05_Age\"}, {\"dtype\": \"int\", \"name\": \"Prev_06_Age\"}, {\"dtype\": \"int\", \"name\": \"Prev_07_Age\"}, {\"dtype\": \"int\", \"name\": \"Prev_08_Age\"}, {\"dtype\": \"int\", \"name\": \"Prev_09_Age\"}, {\"dtype\": \"int\", \"name\": \"Prev_10_Age\"}, {\"dtype\": \"int\", \"name\": \"Prev_11_Age\"}, {\"dtype\": \"int\", \"name\": \"Laguage\"}, {\"dtype\": \"float\", \"name\": \"Six_Month_Avg\"}, {\"dtype\": \"int\", \"name\": \"Age\"}, {\"dtype\": \"int\", \"name\": \"Cust_Since\"}], \"column_identifiers\": [\"Prev_04_Age\", \"Product\", \"Prev_02_Age\", \"Cust_Since\", \"Prev_09_Age\", \"Age\", \"Six_Month_Avg\", \"Prev_07_Age\", \"ID\", \"Prev_05_Age\", \"Last_Stmt_Bal\", \"Prev_11_Age\", \"Prev_01_Age\", \"Prev_03_Age\", \"Curr_Stmt_Bal\", \"Prev_06_Age\", \"Curr_Age\", \"Prev_08_Age\", \"Laguage\", \"Prev_10_Age\"]}, \"columns\": [{\"dtype\": \"int\", \"name\": \"ID\"}, {\"dtype\": \"str\", \"name\": \"Product\"}, {\"dtype\": \"int\", \"name\": \"Last_Stmt_Bal\"}, {\"dtype\": \"int\", \"name\": \"Curr_Stmt_Bal\"}, {\"dtype\": \"int\", \"name\": \"Curr_Age\"}, {\"dtype\": \"int\", \"name\": \"Prev_01_Age\"}, {\"dtype\": \"int\", \"name\": \"Prev_02_Age\"}, {\"dtype\": \"int\", \"name\": \"Prev_03_Age\"}, {\"dtype\": \"int\", \"name\": \"Prev_04_Age\"}, {\"dtype\": \"int\", \"name\": \"Prev_05_Age\"}, {\"dtype\": \"int\", \"name\": \"Prev_06_Age\"}, {\"dtype\": \"int\", \"name\": \"Prev_07_Age\"}, {\"dtype\": \"int\", \"name\": \"Prev_08_Age\"}, {\"dtype\": \"int\", \"name\": \"Prev_09_Age\"}, {\"dtype\": \"int\", \"name\": \"Prev_10_Age\"}, {\"dtype\": \"int\", \"name\": \"Prev_11_Age\"}, {\"dtype\": \"int\", \"name\": \"Laguage\"}, {\"dtype\": \"float\", \"name\": \"Six_Month_Avg\"}, {\"dtype\": \"int\", \"name\": \"Age\"}, {\"dtype\": \"int\", \"name\": \"Cust_Since\"}]}, e);\n",
       "                });\n",
       "            })();\n",
       "        "
      ]
     },
     "metadata": {},
     "output_type": "display_data"
    }
   ],
   "source": [
    "trnx_test = test_data.sort('Curr_Age', ascending=True)\n",
    "trnx_test.show()"
   ]
  },
  {
   "cell_type": "code",
   "execution_count": 22,
   "metadata": {
    "collapsed": false
   },
   "outputs": [
    {
     "data": {
      "text/html": [
       "<div style=\"max-height:1000px;max-width:1500px;overflow:auto;\"><table frame=\"box\" rules=\"cols\">\n",
       "    <tr>\n",
       "        <th style=\"padding-left: 1em; padding-right: 1em; text-align: center\">ID</th>\n",
       "        <th style=\"padding-left: 1em; padding-right: 1em; text-align: center\">Product</th>\n",
       "        <th style=\"padding-left: 1em; padding-right: 1em; text-align: center\">Last_Stmt_Bal</th>\n",
       "        <th style=\"padding-left: 1em; padding-right: 1em; text-align: center\">Curr_Stmt_Bal</th>\n",
       "        <th style=\"padding-left: 1em; padding-right: 1em; text-align: center\">Curr_Age</th>\n",
       "        <th style=\"padding-left: 1em; padding-right: 1em; text-align: center\">Prev_01_Age</th>\n",
       "        <th style=\"padding-left: 1em; padding-right: 1em; text-align: center\">Prev_02_Age</th>\n",
       "        <th style=\"padding-left: 1em; padding-right: 1em; text-align: center\">Prev_03_Age</th>\n",
       "        <th style=\"padding-left: 1em; padding-right: 1em; text-align: center\">Prev_04_Age</th>\n",
       "        <th style=\"padding-left: 1em; padding-right: 1em; text-align: center\">Prev_05_Age</th>\n",
       "    </tr>\n",
       "    <tr>\n",
       "        <td style=\"padding-left: 1em; padding-right: 1em; text-align: center; vertical-align: top\">119</td>\n",
       "        <td style=\"padding-left: 1em; padding-right: 1em; text-align: center; vertical-align: top\">P</td>\n",
       "        <td style=\"padding-left: 1em; padding-right: 1em; text-align: center; vertical-align: top\">31633</td>\n",
       "        <td style=\"padding-left: 1em; padding-right: 1em; text-align: center; vertical-align: top\">23046</td>\n",
       "        <td style=\"padding-left: 1em; padding-right: 1em; text-align: center; vertical-align: top\">9</td>\n",
       "        <td style=\"padding-left: 1em; padding-right: 1em; text-align: center; vertical-align: top\">6</td>\n",
       "        <td style=\"padding-left: 1em; padding-right: 1em; text-align: center; vertical-align: top\">3</td>\n",
       "        <td style=\"padding-left: 1em; padding-right: 1em; text-align: center; vertical-align: top\">0</td>\n",
       "        <td style=\"padding-left: 1em; padding-right: 1em; text-align: center; vertical-align: top\">3</td>\n",
       "        <td style=\"padding-left: 1em; padding-right: 1em; text-align: center; vertical-align: top\">6</td>\n",
       "    </tr>\n",
       "    <tr>\n",
       "        <td style=\"padding-left: 1em; padding-right: 1em; text-align: center; vertical-align: top\">111</td>\n",
       "        <td style=\"padding-left: 1em; padding-right: 1em; text-align: center; vertical-align: top\">P</td>\n",
       "        <td style=\"padding-left: 1em; padding-right: 1em; text-align: center; vertical-align: top\">148044</td>\n",
       "        <td style=\"padding-left: 1em; padding-right: 1em; text-align: center; vertical-align: top\">153448</td>\n",
       "        <td style=\"padding-left: 1em; padding-right: 1em; text-align: center; vertical-align: top\">9</td>\n",
       "        <td style=\"padding-left: 1em; padding-right: 1em; text-align: center; vertical-align: top\">6</td>\n",
       "        <td style=\"padding-left: 1em; padding-right: 1em; text-align: center; vertical-align: top\">3</td>\n",
       "        <td style=\"padding-left: 1em; padding-right: 1em; text-align: center; vertical-align: top\">0</td>\n",
       "        <td style=\"padding-left: 1em; padding-right: 1em; text-align: center; vertical-align: top\">0</td>\n",
       "        <td style=\"padding-left: 1em; padding-right: 1em; text-align: center; vertical-align: top\">3</td>\n",
       "    </tr>\n",
       "    <tr>\n",
       "        <td style=\"padding-left: 1em; padding-right: 1em; text-align: center; vertical-align: top\">110</td>\n",
       "        <td style=\"padding-left: 1em; padding-right: 1em; text-align: center; vertical-align: top\">P</td>\n",
       "        <td style=\"padding-left: 1em; padding-right: 1em; text-align: center; vertical-align: top\">252337</td>\n",
       "        <td style=\"padding-left: 1em; padding-right: 1em; text-align: center; vertical-align: top\">276885</td>\n",
       "        <td style=\"padding-left: 1em; padding-right: 1em; text-align: center; vertical-align: top\">6</td>\n",
       "        <td style=\"padding-left: 1em; padding-right: 1em; text-align: center; vertical-align: top\">3</td>\n",
       "        <td style=\"padding-left: 1em; padding-right: 1em; text-align: center; vertical-align: top\">0</td>\n",
       "        <td style=\"padding-left: 1em; padding-right: 1em; text-align: center; vertical-align: top\">0</td>\n",
       "        <td style=\"padding-left: 1em; padding-right: 1em; text-align: center; vertical-align: top\">6</td>\n",
       "        <td style=\"padding-left: 1em; padding-right: 1em; text-align: center; vertical-align: top\">3</td>\n",
       "    </tr>\n",
       "    <tr>\n",
       "        <td style=\"padding-left: 1em; padding-right: 1em; text-align: center; vertical-align: top\">115</td>\n",
       "        <td style=\"padding-left: 1em; padding-right: 1em; text-align: center; vertical-align: top\">P</td>\n",
       "        <td style=\"padding-left: 1em; padding-right: 1em; text-align: center; vertical-align: top\">2257</td>\n",
       "        <td style=\"padding-left: 1em; padding-right: 1em; text-align: center; vertical-align: top\">7248</td>\n",
       "        <td style=\"padding-left: 1em; padding-right: 1em; text-align: center; vertical-align: top\">3</td>\n",
       "        <td style=\"padding-left: 1em; padding-right: 1em; text-align: center; vertical-align: top\">0</td>\n",
       "        <td style=\"padding-left: 1em; padding-right: 1em; text-align: center; vertical-align: top\">3</td>\n",
       "        <td style=\"padding-left: 1em; padding-right: 1em; text-align: center; vertical-align: top\">0</td>\n",
       "        <td style=\"padding-left: 1em; padding-right: 1em; text-align: center; vertical-align: top\">0</td>\n",
       "        <td style=\"padding-left: 1em; padding-right: 1em; text-align: center; vertical-align: top\">3</td>\n",
       "    </tr>\n",
       "    <tr>\n",
       "        <td style=\"padding-left: 1em; padding-right: 1em; text-align: center; vertical-align: top\">114</td>\n",
       "        <td style=\"padding-left: 1em; padding-right: 1em; text-align: center; vertical-align: top\">P</td>\n",
       "        <td style=\"padding-left: 1em; padding-right: 1em; text-align: center; vertical-align: top\">41538</td>\n",
       "        <td style=\"padding-left: 1em; padding-right: 1em; text-align: center; vertical-align: top\">161275</td>\n",
       "        <td style=\"padding-left: 1em; padding-right: 1em; text-align: center; vertical-align: top\">3</td>\n",
       "        <td style=\"padding-left: 1em; padding-right: 1em; text-align: center; vertical-align: top\">0</td>\n",
       "        <td style=\"padding-left: 1em; padding-right: 1em; text-align: center; vertical-align: top\">0</td>\n",
       "        <td style=\"padding-left: 1em; padding-right: 1em; text-align: center; vertical-align: top\">0</td>\n",
       "        <td style=\"padding-left: 1em; padding-right: 1em; text-align: center; vertical-align: top\">0</td>\n",
       "        <td style=\"padding-left: 1em; padding-right: 1em; text-align: center; vertical-align: top\">0</td>\n",
       "    </tr>\n",
       "    <tr>\n",
       "        <td style=\"padding-left: 1em; padding-right: 1em; text-align: center; vertical-align: top\">113</td>\n",
       "        <td style=\"padding-left: 1em; padding-right: 1em; text-align: center; vertical-align: top\">P</td>\n",
       "        <td style=\"padding-left: 1em; padding-right: 1em; text-align: center; vertical-align: top\">9500</td>\n",
       "        <td style=\"padding-left: 1em; padding-right: 1em; text-align: center; vertical-align: top\">9738</td>\n",
       "        <td style=\"padding-left: 1em; padding-right: 1em; text-align: center; vertical-align: top\">3</td>\n",
       "        <td style=\"padding-left: 1em; padding-right: 1em; text-align: center; vertical-align: top\">0</td>\n",
       "        <td style=\"padding-left: 1em; padding-right: 1em; text-align: center; vertical-align: top\">0</td>\n",
       "        <td style=\"padding-left: 1em; padding-right: 1em; text-align: center; vertical-align: top\">0</td>\n",
       "        <td style=\"padding-left: 1em; padding-right: 1em; text-align: center; vertical-align: top\">0</td>\n",
       "        <td style=\"padding-left: 1em; padding-right: 1em; text-align: center; vertical-align: top\">0</td>\n",
       "    </tr>\n",
       "    <tr>\n",
       "        <td style=\"padding-left: 1em; padding-right: 1em; text-align: center; vertical-align: top\">112</td>\n",
       "        <td style=\"padding-left: 1em; padding-right: 1em; text-align: center; vertical-align: top\">P</td>\n",
       "        <td style=\"padding-left: 1em; padding-right: 1em; text-align: center; vertical-align: top\">5480</td>\n",
       "        <td style=\"padding-left: 1em; padding-right: 1em; text-align: center; vertical-align: top\">39401</td>\n",
       "        <td style=\"padding-left: 1em; padding-right: 1em; text-align: center; vertical-align: top\">3</td>\n",
       "        <td style=\"padding-left: 1em; padding-right: 1em; text-align: center; vertical-align: top\">0</td>\n",
       "        <td style=\"padding-left: 1em; padding-right: 1em; text-align: center; vertical-align: top\">0</td>\n",
       "        <td style=\"padding-left: 1em; padding-right: 1em; text-align: center; vertical-align: top\">0</td>\n",
       "        <td style=\"padding-left: 1em; padding-right: 1em; text-align: center; vertical-align: top\">3</td>\n",
       "        <td style=\"padding-left: 1em; padding-right: 1em; text-align: center; vertical-align: top\">3</td>\n",
       "    </tr>\n",
       "    <tr>\n",
       "        <td style=\"padding-left: 1em; padding-right: 1em; text-align: center; vertical-align: top\">118</td>\n",
       "        <td style=\"padding-left: 1em; padding-right: 1em; text-align: center; vertical-align: top\">P</td>\n",
       "        <td style=\"padding-left: 1em; padding-right: 1em; text-align: center; vertical-align: top\">58169</td>\n",
       "        <td style=\"padding-left: 1em; padding-right: 1em; text-align: center; vertical-align: top\">180684</td>\n",
       "        <td style=\"padding-left: 1em; padding-right: 1em; text-align: center; vertical-align: top\">3</td>\n",
       "        <td style=\"padding-left: 1em; padding-right: 1em; text-align: center; vertical-align: top\">0</td>\n",
       "        <td style=\"padding-left: 1em; padding-right: 1em; text-align: center; vertical-align: top\">0</td>\n",
       "        <td style=\"padding-left: 1em; padding-right: 1em; text-align: center; vertical-align: top\">0</td>\n",
       "        <td style=\"padding-left: 1em; padding-right: 1em; text-align: center; vertical-align: top\">0</td>\n",
       "        <td style=\"padding-left: 1em; padding-right: 1em; text-align: center; vertical-align: top\">0</td>\n",
       "    </tr>\n",
       "    <tr>\n",
       "        <td style=\"padding-left: 1em; padding-right: 1em; text-align: center; vertical-align: top\">120</td>\n",
       "        <td style=\"padding-left: 1em; padding-right: 1em; text-align: center; vertical-align: top\">P</td>\n",
       "        <td style=\"padding-left: 1em; padding-right: 1em; text-align: center; vertical-align: top\">1838309</td>\n",
       "        <td style=\"padding-left: 1em; padding-right: 1em; text-align: center; vertical-align: top\">530423</td>\n",
       "        <td style=\"padding-left: 1em; padding-right: 1em; text-align: center; vertical-align: top\">3</td>\n",
       "        <td style=\"padding-left: 1em; padding-right: 1em; text-align: center; vertical-align: top\">6</td>\n",
       "        <td style=\"padding-left: 1em; padding-right: 1em; text-align: center; vertical-align: top\">3</td>\n",
       "        <td style=\"padding-left: 1em; padding-right: 1em; text-align: center; vertical-align: top\">3</td>\n",
       "        <td style=\"padding-left: 1em; padding-right: 1em; text-align: center; vertical-align: top\">0</td>\n",
       "        <td style=\"padding-left: 1em; padding-right: 1em; text-align: center; vertical-align: top\">0</td>\n",
       "    </tr>\n",
       "    <tr>\n",
       "        <td style=\"padding-left: 1em; padding-right: 1em; text-align: center; vertical-align: top\">109</td>\n",
       "        <td style=\"padding-left: 1em; padding-right: 1em; text-align: center; vertical-align: top\">P</td>\n",
       "        <td style=\"padding-left: 1em; padding-right: 1em; text-align: center; vertical-align: top\">12000</td>\n",
       "        <td style=\"padding-left: 1em; padding-right: 1em; text-align: center; vertical-align: top\">61640</td>\n",
       "        <td style=\"padding-left: 1em; padding-right: 1em; text-align: center; vertical-align: top\">3</td>\n",
       "        <td style=\"padding-left: 1em; padding-right: 1em; text-align: center; vertical-align: top\">0</td>\n",
       "        <td style=\"padding-left: 1em; padding-right: 1em; text-align: center; vertical-align: top\">3</td>\n",
       "        <td style=\"padding-left: 1em; padding-right: 1em; text-align: center; vertical-align: top\">0</td>\n",
       "        <td style=\"padding-left: 1em; padding-right: 1em; text-align: center; vertical-align: top\">0</td>\n",
       "        <td style=\"padding-left: 1em; padding-right: 1em; text-align: center; vertical-align: top\">0</td>\n",
       "    </tr>\n",
       "</table>\n",
       "<table frame=\"box\" rules=\"cols\">\n",
       "    <tr>\n",
       "        <th style=\"padding-left: 1em; padding-right: 1em; text-align: center\">Prev_06_Age</th>\n",
       "        <th style=\"padding-left: 1em; padding-right: 1em; text-align: center\">Prev_07_Age</th>\n",
       "        <th style=\"padding-left: 1em; padding-right: 1em; text-align: center\">Prev_08_Age</th>\n",
       "        <th style=\"padding-left: 1em; padding-right: 1em; text-align: center\">Prev_09_Age</th>\n",
       "        <th style=\"padding-left: 1em; padding-right: 1em; text-align: center\">Prev_10_Age</th>\n",
       "        <th style=\"padding-left: 1em; padding-right: 1em; text-align: center\">Prev_11_Age</th>\n",
       "        <th style=\"padding-left: 1em; padding-right: 1em; text-align: center\">Laguage</th>\n",
       "        <th style=\"padding-left: 1em; padding-right: 1em; text-align: center\">Six_Month_Avg</th>\n",
       "        <th style=\"padding-left: 1em; padding-right: 1em; text-align: center\">Age</th>\n",
       "    </tr>\n",
       "    <tr>\n",
       "        <td style=\"padding-left: 1em; padding-right: 1em; text-align: center; vertical-align: top\">3</td>\n",
       "        <td style=\"padding-left: 1em; padding-right: 1em; text-align: center; vertical-align: top\">3</td>\n",
       "        <td style=\"padding-left: 1em; padding-right: 1em; text-align: center; vertical-align: top\">3</td>\n",
       "        <td style=\"padding-left: 1em; padding-right: 1em; text-align: center; vertical-align: top\">0</td>\n",
       "        <td style=\"padding-left: 1em; padding-right: 1em; text-align: center; vertical-align: top\">0</td>\n",
       "        <td style=\"padding-left: 1em; padding-right: 1em; text-align: center; vertical-align: top\">6</td>\n",
       "        <td style=\"padding-left: 1em; padding-right: 1em; text-align: center; vertical-align: top\">1</td>\n",
       "        <td style=\"padding-left: 1em; padding-right: 1em; text-align: center; vertical-align: top\">28705.0</td>\n",
       "        <td style=\"padding-left: 1em; padding-right: 1em; text-align: center; vertical-align: top\">630</td>\n",
       "    </tr>\n",
       "    <tr>\n",
       "        <td style=\"padding-left: 1em; padding-right: 1em; text-align: center; vertical-align: top\">0</td>\n",
       "        <td style=\"padding-left: 1em; padding-right: 1em; text-align: center; vertical-align: top\">3</td>\n",
       "        <td style=\"padding-left: 1em; padding-right: 1em; text-align: center; vertical-align: top\">0</td>\n",
       "        <td style=\"padding-left: 1em; padding-right: 1em; text-align: center; vertical-align: top\">0</td>\n",
       "        <td style=\"padding-left: 1em; padding-right: 1em; text-align: center; vertical-align: top\">0</td>\n",
       "        <td style=\"padding-left: 1em; padding-right: 1em; text-align: center; vertical-align: top\">0</td>\n",
       "        <td style=\"padding-left: 1em; padding-right: 1em; text-align: center; vertical-align: top\">1</td>\n",
       "        <td style=\"padding-left: 1em; padding-right: 1em; text-align: center; vertical-align: top\">143466.5</td>\n",
       "        <td style=\"padding-left: 1em; padding-right: 1em; text-align: center; vertical-align: top\">747</td>\n",
       "    </tr>\n",
       "    <tr>\n",
       "        <td style=\"padding-left: 1em; padding-right: 1em; text-align: center; vertical-align: top\">0</td>\n",
       "        <td style=\"padding-left: 1em; padding-right: 1em; text-align: center; vertical-align: top\">3</td>\n",
       "        <td style=\"padding-left: 1em; padding-right: 1em; text-align: center; vertical-align: top\">0</td>\n",
       "        <td style=\"padding-left: 1em; padding-right: 1em; text-align: center; vertical-align: top\">0</td>\n",
       "        <td style=\"padding-left: 1em; padding-right: 1em; text-align: center; vertical-align: top\">0</td>\n",
       "        <td style=\"padding-left: 1em; padding-right: 1em; text-align: center; vertical-align: top\">0</td>\n",
       "        <td style=\"padding-left: 1em; padding-right: 1em; text-align: center; vertical-align: top\">1</td>\n",
       "        <td style=\"padding-left: 1em; padding-right: 1em; text-align: center; vertical-align: top\">136832.66</td>\n",
       "        <td style=\"padding-left: 1em; padding-right: 1em; text-align: center; vertical-align: top\">517</td>\n",
       "    </tr>\n",
       "    <tr>\n",
       "        <td style=\"padding-left: 1em; padding-right: 1em; text-align: center; vertical-align: top\">0</td>\n",
       "        <td style=\"padding-left: 1em; padding-right: 1em; text-align: center; vertical-align: top\">3</td>\n",
       "        <td style=\"padding-left: 1em; padding-right: 1em; text-align: center; vertical-align: top\">0</td>\n",
       "        <td style=\"padding-left: 1em; padding-right: 1em; text-align: center; vertical-align: top\">0</td>\n",
       "        <td style=\"padding-left: 1em; padding-right: 1em; text-align: center; vertical-align: top\">0</td>\n",
       "        <td style=\"padding-left: 1em; padding-right: 1em; text-align: center; vertical-align: top\">0</td>\n",
       "        <td style=\"padding-left: 1em; padding-right: 1em; text-align: center; vertical-align: top\">1</td>\n",
       "        <td style=\"padding-left: 1em; padding-right: 1em; text-align: center; vertical-align: top\">54596.5</td>\n",
       "        <td style=\"padding-left: 1em; padding-right: 1em; text-align: center; vertical-align: top\">784</td>\n",
       "    </tr>\n",
       "    <tr>\n",
       "        <td style=\"padding-left: 1em; padding-right: 1em; text-align: center; vertical-align: top\">0</td>\n",
       "        <td style=\"padding-left: 1em; padding-right: 1em; text-align: center; vertical-align: top\">0</td>\n",
       "        <td style=\"padding-left: 1em; padding-right: 1em; text-align: center; vertical-align: top\">0</td>\n",
       "        <td style=\"padding-left: 1em; padding-right: 1em; text-align: center; vertical-align: top\">0</td>\n",
       "        <td style=\"padding-left: 1em; padding-right: 1em; text-align: center; vertical-align: top\">0</td>\n",
       "        <td style=\"padding-left: 1em; padding-right: 1em; text-align: center; vertical-align: top\">0</td>\n",
       "        <td style=\"padding-left: 1em; padding-right: 1em; text-align: center; vertical-align: top\">1</td>\n",
       "        <td style=\"padding-left: 1em; padding-right: 1em; text-align: center; vertical-align: top\">41538.0</td>\n",
       "        <td style=\"padding-left: 1em; padding-right: 1em; text-align: center; vertical-align: top\">546</td>\n",
       "    </tr>\n",
       "    <tr>\n",
       "        <td style=\"padding-left: 1em; padding-right: 1em; text-align: center; vertical-align: top\">0</td>\n",
       "        <td style=\"padding-left: 1em; padding-right: 1em; text-align: center; vertical-align: top\">0</td>\n",
       "        <td style=\"padding-left: 1em; padding-right: 1em; text-align: center; vertical-align: top\">3</td>\n",
       "        <td style=\"padding-left: 1em; padding-right: 1em; text-align: center; vertical-align: top\">0</td>\n",
       "        <td style=\"padding-left: 1em; padding-right: 1em; text-align: center; vertical-align: top\">0</td>\n",
       "        <td style=\"padding-left: 1em; padding-right: 1em; text-align: center; vertical-align: top\">3</td>\n",
       "        <td style=\"padding-left: 1em; padding-right: 1em; text-align: center; vertical-align: top\">5</td>\n",
       "        <td style=\"padding-left: 1em; padding-right: 1em; text-align: center; vertical-align: top\">2676.0</td>\n",
       "        <td style=\"padding-left: 1em; padding-right: 1em; text-align: center; vertical-align: top\">497</td>\n",
       "    </tr>\n",
       "    <tr>\n",
       "        <td style=\"padding-left: 1em; padding-right: 1em; text-align: center; vertical-align: top\">0</td>\n",
       "        <td style=\"padding-left: 1em; padding-right: 1em; text-align: center; vertical-align: top\">0</td>\n",
       "        <td style=\"padding-left: 1em; padding-right: 1em; text-align: center; vertical-align: top\">0</td>\n",
       "        <td style=\"padding-left: 1em; padding-right: 1em; text-align: center; vertical-align: top\">0</td>\n",
       "        <td style=\"padding-left: 1em; padding-right: 1em; text-align: center; vertical-align: top\">0</td>\n",
       "        <td style=\"padding-left: 1em; padding-right: 1em; text-align: center; vertical-align: top\">3</td>\n",
       "        <td style=\"padding-left: 1em; padding-right: 1em; text-align: center; vertical-align: top\">1</td>\n",
       "        <td style=\"padding-left: 1em; padding-right: 1em; text-align: center; vertical-align: top\">90265.0</td>\n",
       "        <td style=\"padding-left: 1em; padding-right: 1em; text-align: center; vertical-align: top\">644</td>\n",
       "    </tr>\n",
       "    <tr>\n",
       "        <td style=\"padding-left: 1em; padding-right: 1em; text-align: center; vertical-align: top\">0</td>\n",
       "        <td style=\"padding-left: 1em; padding-right: 1em; text-align: center; vertical-align: top\">0</td>\n",
       "        <td style=\"padding-left: 1em; padding-right: 1em; text-align: center; vertical-align: top\">0</td>\n",
       "        <td style=\"padding-left: 1em; padding-right: 1em; text-align: center; vertical-align: top\">0</td>\n",
       "        <td style=\"padding-left: 1em; padding-right: 1em; text-align: center; vertical-align: top\">0</td>\n",
       "        <td style=\"padding-left: 1em; padding-right: 1em; text-align: center; vertical-align: top\">0</td>\n",
       "        <td style=\"padding-left: 1em; padding-right: 1em; text-align: center; vertical-align: top\">5</td>\n",
       "        <td style=\"padding-left: 1em; padding-right: 1em; text-align: center; vertical-align: top\">19918.0</td>\n",
       "        <td style=\"padding-left: 1em; padding-right: 1em; text-align: center; vertical-align: top\">718</td>\n",
       "    </tr>\n",
       "    <tr>\n",
       "        <td style=\"padding-left: 1em; padding-right: 1em; text-align: center; vertical-align: top\">3</td>\n",
       "        <td style=\"padding-left: 1em; padding-right: 1em; text-align: center; vertical-align: top\">0</td>\n",
       "        <td style=\"padding-left: 1em; padding-right: 1em; text-align: center; vertical-align: top\">0</td>\n",
       "        <td style=\"padding-left: 1em; padding-right: 1em; text-align: center; vertical-align: top\">0</td>\n",
       "        <td style=\"padding-left: 1em; padding-right: 1em; text-align: center; vertical-align: top\">0</td>\n",
       "        <td style=\"padding-left: 1em; padding-right: 1em; text-align: center; vertical-align: top\">0</td>\n",
       "        <td style=\"padding-left: 1em; padding-right: 1em; text-align: center; vertical-align: top\">1</td>\n",
       "        <td style=\"padding-left: 1em; padding-right: 1em; text-align: center; vertical-align: top\">1605825.33</td>\n",
       "        <td style=\"padding-left: 1em; padding-right: 1em; text-align: center; vertical-align: top\">632</td>\n",
       "    </tr>\n",
       "    <tr>\n",
       "        <td style=\"padding-left: 1em; padding-right: 1em; text-align: center; vertical-align: top\">0</td>\n",
       "        <td style=\"padding-left: 1em; padding-right: 1em; text-align: center; vertical-align: top\">3</td>\n",
       "        <td style=\"padding-left: 1em; padding-right: 1em; text-align: center; vertical-align: top\">0</td>\n",
       "        <td style=\"padding-left: 1em; padding-right: 1em; text-align: center; vertical-align: top\">0</td>\n",
       "        <td style=\"padding-left: 1em; padding-right: 1em; text-align: center; vertical-align: top\">3</td>\n",
       "        <td style=\"padding-left: 1em; padding-right: 1em; text-align: center; vertical-align: top\">0</td>\n",
       "        <td style=\"padding-left: 1em; padding-right: 1em; text-align: center; vertical-align: top\">1</td>\n",
       "        <td style=\"padding-left: 1em; padding-right: 1em; text-align: center; vertical-align: top\">45195.5</td>\n",
       "        <td style=\"padding-left: 1em; padding-right: 1em; text-align: center; vertical-align: top\">534</td>\n",
       "    </tr>\n",
       "</table>\n",
       "<table frame=\"box\" rules=\"cols\">\n",
       "    <tr>\n",
       "        <th style=\"padding-left: 1em; padding-right: 1em; text-align: center\">Cust_Since</th>\n",
       "    </tr>\n",
       "    <tr>\n",
       "        <td style=\"padding-left: 1em; padding-right: 1em; text-align: center; vertical-align: top\">168</td>\n",
       "    </tr>\n",
       "    <tr>\n",
       "        <td style=\"padding-left: 1em; padding-right: 1em; text-align: center; vertical-align: top\">250</td>\n",
       "    </tr>\n",
       "    <tr>\n",
       "        <td style=\"padding-left: 1em; padding-right: 1em; text-align: center; vertical-align: top\">179</td>\n",
       "    </tr>\n",
       "    <tr>\n",
       "        <td style=\"padding-left: 1em; padding-right: 1em; text-align: center; vertical-align: top\">173</td>\n",
       "    </tr>\n",
       "    <tr>\n",
       "        <td style=\"padding-left: 1em; padding-right: 1em; text-align: center; vertical-align: top\">199</td>\n",
       "    </tr>\n",
       "    <tr>\n",
       "        <td style=\"padding-left: 1em; padding-right: 1em; text-align: center; vertical-align: top\">192</td>\n",
       "    </tr>\n",
       "    <tr>\n",
       "        <td style=\"padding-left: 1em; padding-right: 1em; text-align: center; vertical-align: top\">176</td>\n",
       "    </tr>\n",
       "    <tr>\n",
       "        <td style=\"padding-left: 1em; padding-right: 1em; text-align: center; vertical-align: top\">169</td>\n",
       "    </tr>\n",
       "    <tr>\n",
       "        <td style=\"padding-left: 1em; padding-right: 1em; text-align: center; vertical-align: top\">168</td>\n",
       "    </tr>\n",
       "    <tr>\n",
       "        <td style=\"padding-left: 1em; padding-right: 1em; text-align: center; vertical-align: top\">197</td>\n",
       "    </tr>\n",
       "</table>\n",
       "[10 rows x 20 columns]<br/>\n",
       "</div>"
      ],
      "text/plain": [
       "Columns:\n",
       "\tID\tint\n",
       "\tProduct\tstr\n",
       "\tLast_Stmt_Bal\tint\n",
       "\tCurr_Stmt_Bal\tint\n",
       "\tCurr_Age\tint\n",
       "\tPrev_01_Age\tint\n",
       "\tPrev_02_Age\tint\n",
       "\tPrev_03_Age\tint\n",
       "\tPrev_04_Age\tint\n",
       "\tPrev_05_Age\tint\n",
       "\tPrev_06_Age\tint\n",
       "\tPrev_07_Age\tint\n",
       "\tPrev_08_Age\tint\n",
       "\tPrev_09_Age\tint\n",
       "\tPrev_10_Age\tint\n",
       "\tPrev_11_Age\tint\n",
       "\tLaguage\tint\n",
       "\tSix_Month_Avg\tfloat\n",
       "\tAge\tint\n",
       "\tCust_Since\tint\n",
       "\n",
       "Rows: 10\n",
       "\n",
       "Data:\n",
       "+-----+---------+---------------+---------------+----------+-------------+-------------+\n",
       "|  ID | Product | Last_Stmt_Bal | Curr_Stmt_Bal | Curr_Age | Prev_01_Age | Prev_02_Age |\n",
       "+-----+---------+---------------+---------------+----------+-------------+-------------+\n",
       "| 119 |    P    |     31633     |     23046     |    9     |      6      |      3      |\n",
       "| 111 |    P    |     148044    |     153448    |    9     |      6      |      3      |\n",
       "| 110 |    P    |     252337    |     276885    |    6     |      3      |      0      |\n",
       "| 115 |    P    |      2257     |      7248     |    3     |      0      |      3      |\n",
       "| 114 |    P    |     41538     |     161275    |    3     |      0      |      0      |\n",
       "| 113 |    P    |      9500     |      9738     |    3     |      0      |      0      |\n",
       "| 112 |    P    |      5480     |     39401     |    3     |      0      |      0      |\n",
       "| 118 |    P    |     58169     |     180684    |    3     |      0      |      0      |\n",
       "| 120 |    P    |    1838309    |     530423    |    3     |      6      |      3      |\n",
       "| 109 |    P    |     12000     |     61640     |    3     |      0      |      3      |\n",
       "+-----+---------+---------------+---------------+----------+-------------+-------------+\n",
       "+-------------+-------------+-------------+-------------+-------------+-------------+\n",
       "| Prev_03_Age | Prev_04_Age | Prev_05_Age | Prev_06_Age | Prev_07_Age | Prev_08_Age |\n",
       "+-------------+-------------+-------------+-------------+-------------+-------------+\n",
       "|      0      |      3      |      6      |      3      |      3      |      3      |\n",
       "|      0      |      0      |      3      |      0      |      3      |      0      |\n",
       "|      0      |      6      |      3      |      0      |      3      |      0      |\n",
       "|      0      |      0      |      3      |      0      |      3      |      0      |\n",
       "|      0      |      0      |      0      |      0      |      0      |      0      |\n",
       "|      0      |      0      |      0      |      0      |      0      |      3      |\n",
       "|      0      |      3      |      3      |      0      |      0      |      0      |\n",
       "|      0      |      0      |      0      |      0      |      0      |      0      |\n",
       "|      3      |      0      |      0      |      3      |      0      |      0      |\n",
       "|      0      |      0      |      0      |      0      |      3      |      0      |\n",
       "+-------------+-------------+-------------+-------------+-------------+-------------+\n",
       "+-------------+-------------+-------------+---------+---------------+-----+------------+\n",
       "| Prev_09_Age | Prev_10_Age | Prev_11_Age | Laguage | Six_Month_Avg | Age | Cust_Since |\n",
       "+-------------+-------------+-------------+---------+---------------+-----+------------+\n",
       "|      0      |      0      |      6      |    1    |    28705.0    | 630 |    168     |\n",
       "|      0      |      0      |      0      |    1    |    143466.5   | 747 |    250     |\n",
       "|      0      |      0      |      0      |    1    |   136832.66   | 517 |    179     |\n",
       "|      0      |      0      |      0      |    1    |    54596.5    | 784 |    173     |\n",
       "|      0      |      0      |      0      |    1    |    41538.0    | 546 |    199     |\n",
       "|      0      |      0      |      3      |    5    |     2676.0    | 497 |    192     |\n",
       "|      0      |      0      |      3      |    1    |    90265.0    | 644 |    176     |\n",
       "|      0      |      0      |      0      |    5    |    19918.0    | 718 |    169     |\n",
       "|      0      |      0      |      0      |    1    |   1605825.33  | 632 |    168     |\n",
       "|      0      |      3      |      0      |    1    |    45195.5    | 534 |    197     |\n",
       "+-------------+-------------+-------------+---------+---------------+-----+------------+\n",
       "[10 rows x 20 columns]"
      ]
     },
     "execution_count": 22,
     "metadata": {},
     "output_type": "execute_result"
    }
   ],
   "source": [
    "trnx.head()"
   ]
  },
  {
   "cell_type": "code",
   "execution_count": 23,
   "metadata": {
    "collapsed": false
   },
   "outputs": [
    {
     "data": {
      "text/html": [
       "<div style=\"max-height:1000px;max-width:1500px;overflow:auto;\"><table frame=\"box\" rules=\"cols\">\n",
       "    <tr>\n",
       "        <th style=\"padding-left: 1em; padding-right: 1em; text-align: center\">ID</th>\n",
       "        <th style=\"padding-left: 1em; padding-right: 1em; text-align: center\">Product</th>\n",
       "        <th style=\"padding-left: 1em; padding-right: 1em; text-align: center\">Last_Stmt_Bal</th>\n",
       "        <th style=\"padding-left: 1em; padding-right: 1em; text-align: center\">Curr_Stmt_Bal</th>\n",
       "        <th style=\"padding-left: 1em; padding-right: 1em; text-align: center\">Curr_Age</th>\n",
       "        <th style=\"padding-left: 1em; padding-right: 1em; text-align: center\">Prev_01_Age</th>\n",
       "        <th style=\"padding-left: 1em; padding-right: 1em; text-align: center\">Prev_02_Age</th>\n",
       "        <th style=\"padding-left: 1em; padding-right: 1em; text-align: center\">Prev_03_Age</th>\n",
       "        <th style=\"padding-left: 1em; padding-right: 1em; text-align: center\">Prev_04_Age</th>\n",
       "        <th style=\"padding-left: 1em; padding-right: 1em; text-align: center\">Prev_05_Age</th>\n",
       "    </tr>\n",
       "    <tr>\n",
       "        <td style=\"padding-left: 1em; padding-right: 1em; text-align: center; vertical-align: top\">16</td>\n",
       "        <td style=\"padding-left: 1em; padding-right: 1em; text-align: center; vertical-align: top\">C</td>\n",
       "        <td style=\"padding-left: 1em; padding-right: 1em; text-align: center; vertical-align: top\">1999</td>\n",
       "        <td style=\"padding-left: 1em; padding-right: 1em; text-align: center; vertical-align: top\">69299</td>\n",
       "        <td style=\"padding-left: 1em; padding-right: 1em; text-align: center; vertical-align: top\">0</td>\n",
       "        <td style=\"padding-left: 1em; padding-right: 1em; text-align: center; vertical-align: top\">0</td>\n",
       "        <td style=\"padding-left: 1em; padding-right: 1em; text-align: center; vertical-align: top\">0</td>\n",
       "        <td style=\"padding-left: 1em; padding-right: 1em; text-align: center; vertical-align: top\">0</td>\n",
       "        <td style=\"padding-left: 1em; padding-right: 1em; text-align: center; vertical-align: top\">0</td>\n",
       "        <td style=\"padding-left: 1em; padding-right: 1em; text-align: center; vertical-align: top\">0</td>\n",
       "    </tr>\n",
       "    <tr>\n",
       "        <td style=\"padding-left: 1em; padding-right: 1em; text-align: center; vertical-align: top\">17</td>\n",
       "        <td style=\"padding-left: 1em; padding-right: 1em; text-align: center; vertical-align: top\">P</td>\n",
       "        <td style=\"padding-left: 1em; padding-right: 1em; text-align: center; vertical-align: top\">100880</td>\n",
       "        <td style=\"padding-left: 1em; padding-right: 1em; text-align: center; vertical-align: top\">8794</td>\n",
       "        <td style=\"padding-left: 1em; padding-right: 1em; text-align: center; vertical-align: top\">0</td>\n",
       "        <td style=\"padding-left: 1em; padding-right: 1em; text-align: center; vertical-align: top\">0</td>\n",
       "        <td style=\"padding-left: 1em; padding-right: 1em; text-align: center; vertical-align: top\">0</td>\n",
       "        <td style=\"padding-left: 1em; padding-right: 1em; text-align: center; vertical-align: top\">0</td>\n",
       "        <td style=\"padding-left: 1em; padding-right: 1em; text-align: center; vertical-align: top\">0</td>\n",
       "        <td style=\"padding-left: 1em; padding-right: 1em; text-align: center; vertical-align: top\">0</td>\n",
       "    </tr>\n",
       "    <tr>\n",
       "        <td style=\"padding-left: 1em; padding-right: 1em; text-align: center; vertical-align: top\">31</td>\n",
       "        <td style=\"padding-left: 1em; padding-right: 1em; text-align: center; vertical-align: top\">P</td>\n",
       "        <td style=\"padding-left: 1em; padding-right: 1em; text-align: center; vertical-align: top\">21660</td>\n",
       "        <td style=\"padding-left: 1em; padding-right: 1em; text-align: center; vertical-align: top\">52771</td>\n",
       "        <td style=\"padding-left: 1em; padding-right: 1em; text-align: center; vertical-align: top\">0</td>\n",
       "        <td style=\"padding-left: 1em; padding-right: 1em; text-align: center; vertical-align: top\">3</td>\n",
       "        <td style=\"padding-left: 1em; padding-right: 1em; text-align: center; vertical-align: top\">0</td>\n",
       "        <td style=\"padding-left: 1em; padding-right: 1em; text-align: center; vertical-align: top\">0</td>\n",
       "        <td style=\"padding-left: 1em; padding-right: 1em; text-align: center; vertical-align: top\">3</td>\n",
       "        <td style=\"padding-left: 1em; padding-right: 1em; text-align: center; vertical-align: top\">0</td>\n",
       "    </tr>\n",
       "    <tr>\n",
       "        <td style=\"padding-left: 1em; padding-right: 1em; text-align: center; vertical-align: top\">36</td>\n",
       "        <td style=\"padding-left: 1em; padding-right: 1em; text-align: center; vertical-align: top\">P</td>\n",
       "        <td style=\"padding-left: 1em; padding-right: 1em; text-align: center; vertical-align: top\">171983</td>\n",
       "        <td style=\"padding-left: 1em; padding-right: 1em; text-align: center; vertical-align: top\">32110</td>\n",
       "        <td style=\"padding-left: 1em; padding-right: 1em; text-align: center; vertical-align: top\">0</td>\n",
       "        <td style=\"padding-left: 1em; padding-right: 1em; text-align: center; vertical-align: top\">0</td>\n",
       "        <td style=\"padding-left: 1em; padding-right: 1em; text-align: center; vertical-align: top\">0</td>\n",
       "        <td style=\"padding-left: 1em; padding-right: 1em; text-align: center; vertical-align: top\">0</td>\n",
       "        <td style=\"padding-left: 1em; padding-right: 1em; text-align: center; vertical-align: top\">0</td>\n",
       "        <td style=\"padding-left: 1em; padding-right: 1em; text-align: center; vertical-align: top\">0</td>\n",
       "    </tr>\n",
       "    <tr>\n",
       "        <td style=\"padding-left: 1em; padding-right: 1em; text-align: center; vertical-align: top\">44</td>\n",
       "        <td style=\"padding-left: 1em; padding-right: 1em; text-align: center; vertical-align: top\">P</td>\n",
       "        <td style=\"padding-left: 1em; padding-right: 1em; text-align: center; vertical-align: top\">97337</td>\n",
       "        <td style=\"padding-left: 1em; padding-right: 1em; text-align: center; vertical-align: top\">467053</td>\n",
       "        <td style=\"padding-left: 1em; padding-right: 1em; text-align: center; vertical-align: top\">0</td>\n",
       "        <td style=\"padding-left: 1em; padding-right: 1em; text-align: center; vertical-align: top\">0</td>\n",
       "        <td style=\"padding-left: 1em; padding-right: 1em; text-align: center; vertical-align: top\">0</td>\n",
       "        <td style=\"padding-left: 1em; padding-right: 1em; text-align: center; vertical-align: top\">0</td>\n",
       "        <td style=\"padding-left: 1em; padding-right: 1em; text-align: center; vertical-align: top\">0</td>\n",
       "        <td style=\"padding-left: 1em; padding-right: 1em; text-align: center; vertical-align: top\">0</td>\n",
       "    </tr>\n",
       "    <tr>\n",
       "        <td style=\"padding-left: 1em; padding-right: 1em; text-align: center; vertical-align: top\">47</td>\n",
       "        <td style=\"padding-left: 1em; padding-right: 1em; text-align: center; vertical-align: top\">P</td>\n",
       "        <td style=\"padding-left: 1em; padding-right: 1em; text-align: center; vertical-align: top\">41238</td>\n",
       "        <td style=\"padding-left: 1em; padding-right: 1em; text-align: center; vertical-align: top\">74860</td>\n",
       "        <td style=\"padding-left: 1em; padding-right: 1em; text-align: center; vertical-align: top\">0</td>\n",
       "        <td style=\"padding-left: 1em; padding-right: 1em; text-align: center; vertical-align: top\">0</td>\n",
       "        <td style=\"padding-left: 1em; padding-right: 1em; text-align: center; vertical-align: top\">0</td>\n",
       "        <td style=\"padding-left: 1em; padding-right: 1em; text-align: center; vertical-align: top\">0</td>\n",
       "        <td style=\"padding-left: 1em; padding-right: 1em; text-align: center; vertical-align: top\">0</td>\n",
       "        <td style=\"padding-left: 1em; padding-right: 1em; text-align: center; vertical-align: top\">0</td>\n",
       "    </tr>\n",
       "    <tr>\n",
       "        <td style=\"padding-left: 1em; padding-right: 1em; text-align: center; vertical-align: top\">64</td>\n",
       "        <td style=\"padding-left: 1em; padding-right: 1em; text-align: center; vertical-align: top\">P</td>\n",
       "        <td style=\"padding-left: 1em; padding-right: 1em; text-align: center; vertical-align: top\">13050</td>\n",
       "        <td style=\"padding-left: 1em; padding-right: 1em; text-align: center; vertical-align: top\">95946</td>\n",
       "        <td style=\"padding-left: 1em; padding-right: 1em; text-align: center; vertical-align: top\">0</td>\n",
       "        <td style=\"padding-left: 1em; padding-right: 1em; text-align: center; vertical-align: top\">0</td>\n",
       "        <td style=\"padding-left: 1em; padding-right: 1em; text-align: center; vertical-align: top\">0</td>\n",
       "        <td style=\"padding-left: 1em; padding-right: 1em; text-align: center; vertical-align: top\">0</td>\n",
       "        <td style=\"padding-left: 1em; padding-right: 1em; text-align: center; vertical-align: top\">0</td>\n",
       "        <td style=\"padding-left: 1em; padding-right: 1em; text-align: center; vertical-align: top\">0</td>\n",
       "    </tr>\n",
       "    <tr>\n",
       "        <td style=\"padding-left: 1em; padding-right: 1em; text-align: center; vertical-align: top\">69</td>\n",
       "        <td style=\"padding-left: 1em; padding-right: 1em; text-align: center; vertical-align: top\">P</td>\n",
       "        <td style=\"padding-left: 1em; padding-right: 1em; text-align: center; vertical-align: top\">0</td>\n",
       "        <td style=\"padding-left: 1em; padding-right: 1em; text-align: center; vertical-align: top\">80120</td>\n",
       "        <td style=\"padding-left: 1em; padding-right: 1em; text-align: center; vertical-align: top\">0</td>\n",
       "        <td style=\"padding-left: 1em; padding-right: 1em; text-align: center; vertical-align: top\">0</td>\n",
       "        <td style=\"padding-left: 1em; padding-right: 1em; text-align: center; vertical-align: top\">0</td>\n",
       "        <td style=\"padding-left: 1em; padding-right: 1em; text-align: center; vertical-align: top\">0</td>\n",
       "        <td style=\"padding-left: 1em; padding-right: 1em; text-align: center; vertical-align: top\">0</td>\n",
       "        <td style=\"padding-left: 1em; padding-right: 1em; text-align: center; vertical-align: top\">0</td>\n",
       "    </tr>\n",
       "    <tr>\n",
       "        <td style=\"padding-left: 1em; padding-right: 1em; text-align: center; vertical-align: top\">70</td>\n",
       "        <td style=\"padding-left: 1em; padding-right: 1em; text-align: center; vertical-align: top\">P</td>\n",
       "        <td style=\"padding-left: 1em; padding-right: 1em; text-align: center; vertical-align: top\">51640</td>\n",
       "        <td style=\"padding-left: 1em; padding-right: 1em; text-align: center; vertical-align: top\">40576</td>\n",
       "        <td style=\"padding-left: 1em; padding-right: 1em; text-align: center; vertical-align: top\">0</td>\n",
       "        <td style=\"padding-left: 1em; padding-right: 1em; text-align: center; vertical-align: top\">0</td>\n",
       "        <td style=\"padding-left: 1em; padding-right: 1em; text-align: center; vertical-align: top\">0</td>\n",
       "        <td style=\"padding-left: 1em; padding-right: 1em; text-align: center; vertical-align: top\">0</td>\n",
       "        <td style=\"padding-left: 1em; padding-right: 1em; text-align: center; vertical-align: top\">0</td>\n",
       "        <td style=\"padding-left: 1em; padding-right: 1em; text-align: center; vertical-align: top\">0</td>\n",
       "    </tr>\n",
       "    <tr>\n",
       "        <td style=\"padding-left: 1em; padding-right: 1em; text-align: center; vertical-align: top\">75</td>\n",
       "        <td style=\"padding-left: 1em; padding-right: 1em; text-align: center; vertical-align: top\">P</td>\n",
       "        <td style=\"padding-left: 1em; padding-right: 1em; text-align: center; vertical-align: top\">0</td>\n",
       "        <td style=\"padding-left: 1em; padding-right: 1em; text-align: center; vertical-align: top\">9550</td>\n",
       "        <td style=\"padding-left: 1em; padding-right: 1em; text-align: center; vertical-align: top\">0</td>\n",
       "        <td style=\"padding-left: 1em; padding-right: 1em; text-align: center; vertical-align: top\">0</td>\n",
       "        <td style=\"padding-left: 1em; padding-right: 1em; text-align: center; vertical-align: top\">0</td>\n",
       "        <td style=\"padding-left: 1em; padding-right: 1em; text-align: center; vertical-align: top\">0</td>\n",
       "        <td style=\"padding-left: 1em; padding-right: 1em; text-align: center; vertical-align: top\">0</td>\n",
       "        <td style=\"padding-left: 1em; padding-right: 1em; text-align: center; vertical-align: top\">0</td>\n",
       "    </tr>\n",
       "</table>\n",
       "<table frame=\"box\" rules=\"cols\">\n",
       "    <tr>\n",
       "        <th style=\"padding-left: 1em; padding-right: 1em; text-align: center\">Prev_06_Age</th>\n",
       "        <th style=\"padding-left: 1em; padding-right: 1em; text-align: center\">Prev_07_Age</th>\n",
       "        <th style=\"padding-left: 1em; padding-right: 1em; text-align: center\">Prev_08_Age</th>\n",
       "        <th style=\"padding-left: 1em; padding-right: 1em; text-align: center\">Prev_09_Age</th>\n",
       "        <th style=\"padding-left: 1em; padding-right: 1em; text-align: center\">Prev_10_Age</th>\n",
       "        <th style=\"padding-left: 1em; padding-right: 1em; text-align: center\">Prev_11_Age</th>\n",
       "        <th style=\"padding-left: 1em; padding-right: 1em; text-align: center\">Laguage</th>\n",
       "        <th style=\"padding-left: 1em; padding-right: 1em; text-align: center\">Six_Month_Avg</th>\n",
       "        <th style=\"padding-left: 1em; padding-right: 1em; text-align: center\">Age</th>\n",
       "    </tr>\n",
       "    <tr>\n",
       "        <td style=\"padding-left: 1em; padding-right: 1em; text-align: center; vertical-align: top\">0</td>\n",
       "        <td style=\"padding-left: 1em; padding-right: 1em; text-align: center; vertical-align: top\">0</td>\n",
       "        <td style=\"padding-left: 1em; padding-right: 1em; text-align: center; vertical-align: top\">0</td>\n",
       "        <td style=\"padding-left: 1em; padding-right: 1em; text-align: center; vertical-align: top\">0</td>\n",
       "        <td style=\"padding-left: 1em; padding-right: 1em; text-align: center; vertical-align: top\">0</td>\n",
       "        <td style=\"padding-left: 1em; padding-right: 1em; text-align: center; vertical-align: top\">0</td>\n",
       "        <td style=\"padding-left: 1em; padding-right: 1em; text-align: center; vertical-align: top\">5</td>\n",
       "        <td style=\"padding-left: 1em; padding-right: 1em; text-align: center; vertical-align: top\">44386.16</td>\n",
       "        <td style=\"padding-left: 1em; padding-right: 1em; text-align: center; vertical-align: top\">823</td>\n",
       "    </tr>\n",
       "    <tr>\n",
       "        <td style=\"padding-left: 1em; padding-right: 1em; text-align: center; vertical-align: top\">0</td>\n",
       "        <td style=\"padding-left: 1em; padding-right: 1em; text-align: center; vertical-align: top\">0</td>\n",
       "        <td style=\"padding-left: 1em; padding-right: 1em; text-align: center; vertical-align: top\">0</td>\n",
       "        <td style=\"padding-left: 1em; padding-right: 1em; text-align: center; vertical-align: top\">0</td>\n",
       "        <td style=\"padding-left: 1em; padding-right: 1em; text-align: center; vertical-align: top\">0</td>\n",
       "        <td style=\"padding-left: 1em; padding-right: 1em; text-align: center; vertical-align: top\">0</td>\n",
       "        <td style=\"padding-left: 1em; padding-right: 1em; text-align: center; vertical-align: top\">5</td>\n",
       "        <td style=\"padding-left: 1em; padding-right: 1em; text-align: center; vertical-align: top\">91027.0</td>\n",
       "        <td style=\"padding-left: 1em; padding-right: 1em; text-align: center; vertical-align: top\">772</td>\n",
       "    </tr>\n",
       "    <tr>\n",
       "        <td style=\"padding-left: 1em; padding-right: 1em; text-align: center; vertical-align: top\">0</td>\n",
       "        <td style=\"padding-left: 1em; padding-right: 1em; text-align: center; vertical-align: top\">3</td>\n",
       "        <td style=\"padding-left: 1em; padding-right: 1em; text-align: center; vertical-align: top\">0</td>\n",
       "        <td style=\"padding-left: 1em; padding-right: 1em; text-align: center; vertical-align: top\">3</td>\n",
       "        <td style=\"padding-left: 1em; padding-right: 1em; text-align: center; vertical-align: top\">6</td>\n",
       "        <td style=\"padding-left: 1em; padding-right: 1em; text-align: center; vertical-align: top\">3</td>\n",
       "        <td style=\"padding-left: 1em; padding-right: 1em; text-align: center; vertical-align: top\">1</td>\n",
       "        <td style=\"padding-left: 1em; padding-right: 1em; text-align: center; vertical-align: top\">54444.16</td>\n",
       "        <td style=\"padding-left: 1em; padding-right: 1em; text-align: center; vertical-align: top\">893</td>\n",
       "    </tr>\n",
       "    <tr>\n",
       "        <td style=\"padding-left: 1em; padding-right: 1em; text-align: center; vertical-align: top\">0</td>\n",
       "        <td style=\"padding-left: 1em; padding-right: 1em; text-align: center; vertical-align: top\">0</td>\n",
       "        <td style=\"padding-left: 1em; padding-right: 1em; text-align: center; vertical-align: top\">0</td>\n",
       "        <td style=\"padding-left: 1em; padding-right: 1em; text-align: center; vertical-align: top\">0</td>\n",
       "        <td style=\"padding-left: 1em; padding-right: 1em; text-align: center; vertical-align: top\">0</td>\n",
       "        <td style=\"padding-left: 1em; padding-right: 1em; text-align: center; vertical-align: top\">0</td>\n",
       "        <td style=\"padding-left: 1em; padding-right: 1em; text-align: center; vertical-align: top\">5</td>\n",
       "        <td style=\"padding-left: 1em; padding-right: 1em; text-align: center; vertical-align: top\">152984.83</td>\n",
       "        <td style=\"padding-left: 1em; padding-right: 1em; text-align: center; vertical-align: top\">861</td>\n",
       "    </tr>\n",
       "    <tr>\n",
       "        <td style=\"padding-left: 1em; padding-right: 1em; text-align: center; vertical-align: top\">0</td>\n",
       "        <td style=\"padding-left: 1em; padding-right: 1em; text-align: center; vertical-align: top\">0</td>\n",
       "        <td style=\"padding-left: 1em; padding-right: 1em; text-align: center; vertical-align: top\">0</td>\n",
       "        <td style=\"padding-left: 1em; padding-right: 1em; text-align: center; vertical-align: top\">0</td>\n",
       "        <td style=\"padding-left: 1em; padding-right: 1em; text-align: center; vertical-align: top\">0</td>\n",
       "        <td style=\"padding-left: 1em; padding-right: 1em; text-align: center; vertical-align: top\">0</td>\n",
       "        <td style=\"padding-left: 1em; padding-right: 1em; text-align: center; vertical-align: top\">5</td>\n",
       "        <td style=\"padding-left: 1em; padding-right: 1em; text-align: center; vertical-align: top\">165347.66</td>\n",
       "        <td style=\"padding-left: 1em; padding-right: 1em; text-align: center; vertical-align: top\">796</td>\n",
       "    </tr>\n",
       "    <tr>\n",
       "        <td style=\"padding-left: 1em; padding-right: 1em; text-align: center; vertical-align: top\">3</td>\n",
       "        <td style=\"padding-left: 1em; padding-right: 1em; text-align: center; vertical-align: top\">0</td>\n",
       "        <td style=\"padding-left: 1em; padding-right: 1em; text-align: center; vertical-align: top\">0</td>\n",
       "        <td style=\"padding-left: 1em; padding-right: 1em; text-align: center; vertical-align: top\">0</td>\n",
       "        <td style=\"padding-left: 1em; padding-right: 1em; text-align: center; vertical-align: top\">0</td>\n",
       "        <td style=\"padding-left: 1em; padding-right: 1em; text-align: center; vertical-align: top\">0</td>\n",
       "        <td style=\"padding-left: 1em; padding-right: 1em; text-align: center; vertical-align: top\">1</td>\n",
       "        <td style=\"padding-left: 1em; padding-right: 1em; text-align: center; vertical-align: top\">43849.5</td>\n",
       "        <td style=\"padding-left: 1em; padding-right: 1em; text-align: center; vertical-align: top\">651</td>\n",
       "    </tr>\n",
       "    <tr>\n",
       "        <td style=\"padding-left: 1em; padding-right: 1em; text-align: center; vertical-align: top\">0</td>\n",
       "        <td style=\"padding-left: 1em; padding-right: 1em; text-align: center; vertical-align: top\">0</td>\n",
       "        <td style=\"padding-left: 1em; padding-right: 1em; text-align: center; vertical-align: top\">0</td>\n",
       "        <td style=\"padding-left: 1em; padding-right: 1em; text-align: center; vertical-align: top\">0</td>\n",
       "        <td style=\"padding-left: 1em; padding-right: 1em; text-align: center; vertical-align: top\">0</td>\n",
       "        <td style=\"padding-left: 1em; padding-right: 1em; text-align: center; vertical-align: top\">0</td>\n",
       "        <td style=\"padding-left: 1em; padding-right: 1em; text-align: center; vertical-align: top\">1</td>\n",
       "        <td style=\"padding-left: 1em; padding-right: 1em; text-align: center; vertical-align: top\">19045.0</td>\n",
       "        <td style=\"padding-left: 1em; padding-right: 1em; text-align: center; vertical-align: top\">740</td>\n",
       "    </tr>\n",
       "    <tr>\n",
       "        <td style=\"padding-left: 1em; padding-right: 1em; text-align: center; vertical-align: top\">0</td>\n",
       "        <td style=\"padding-left: 1em; padding-right: 1em; text-align: center; vertical-align: top\">3</td>\n",
       "        <td style=\"padding-left: 1em; padding-right: 1em; text-align: center; vertical-align: top\">0</td>\n",
       "        <td style=\"padding-left: 1em; padding-right: 1em; text-align: center; vertical-align: top\">0</td>\n",
       "        <td style=\"padding-left: 1em; padding-right: 1em; text-align: center; vertical-align: top\">0</td>\n",
       "        <td style=\"padding-left: 1em; padding-right: 1em; text-align: center; vertical-align: top\">0</td>\n",
       "        <td style=\"padding-left: 1em; padding-right: 1em; text-align: center; vertical-align: top\">5</td>\n",
       "        <td style=\"padding-left: 1em; padding-right: 1em; text-align: center; vertical-align: top\">41618.16</td>\n",
       "        <td style=\"padding-left: 1em; padding-right: 1em; text-align: center; vertical-align: top\">740</td>\n",
       "    </tr>\n",
       "    <tr>\n",
       "        <td style=\"padding-left: 1em; padding-right: 1em; text-align: center; vertical-align: top\">0</td>\n",
       "        <td style=\"padding-left: 1em; padding-right: 1em; text-align: center; vertical-align: top\">0</td>\n",
       "        <td style=\"padding-left: 1em; padding-right: 1em; text-align: center; vertical-align: top\">0</td>\n",
       "        <td style=\"padding-left: 1em; padding-right: 1em; text-align: center; vertical-align: top\">0</td>\n",
       "        <td style=\"padding-left: 1em; padding-right: 1em; text-align: center; vertical-align: top\">0</td>\n",
       "        <td style=\"padding-left: 1em; padding-right: 1em; text-align: center; vertical-align: top\">0</td>\n",
       "        <td style=\"padding-left: 1em; padding-right: 1em; text-align: center; vertical-align: top\">1</td>\n",
       "        <td style=\"padding-left: 1em; padding-right: 1em; text-align: center; vertical-align: top\">29073.5</td>\n",
       "        <td style=\"padding-left: 1em; padding-right: 1em; text-align: center; vertical-align: top\">707</td>\n",
       "    </tr>\n",
       "    <tr>\n",
       "        <td style=\"padding-left: 1em; padding-right: 1em; text-align: center; vertical-align: top\">0</td>\n",
       "        <td style=\"padding-left: 1em; padding-right: 1em; text-align: center; vertical-align: top\">0</td>\n",
       "        <td style=\"padding-left: 1em; padding-right: 1em; text-align: center; vertical-align: top\">0</td>\n",
       "        <td style=\"padding-left: 1em; padding-right: 1em; text-align: center; vertical-align: top\">0</td>\n",
       "        <td style=\"padding-left: 1em; padding-right: 1em; text-align: center; vertical-align: top\">0</td>\n",
       "        <td style=\"padding-left: 1em; padding-right: 1em; text-align: center; vertical-align: top\">0</td>\n",
       "        <td style=\"padding-left: 1em; padding-right: 1em; text-align: center; vertical-align: top\">5</td>\n",
       "        <td style=\"padding-left: 1em; padding-right: 1em; text-align: center; vertical-align: top\">104000.0</td>\n",
       "        <td style=\"padding-left: 1em; padding-right: 1em; text-align: center; vertical-align: top\">800</td>\n",
       "    </tr>\n",
       "</table>\n",
       "<table frame=\"box\" rules=\"cols\">\n",
       "    <tr>\n",
       "        <th style=\"padding-left: 1em; padding-right: 1em; text-align: center\">Cust_Since</th>\n",
       "    </tr>\n",
       "    <tr>\n",
       "        <td style=\"padding-left: 1em; padding-right: 1em; text-align: center; vertical-align: top\">400</td>\n",
       "    </tr>\n",
       "    <tr>\n",
       "        <td style=\"padding-left: 1em; padding-right: 1em; text-align: center; vertical-align: top\">398</td>\n",
       "    </tr>\n",
       "    <tr>\n",
       "        <td style=\"padding-left: 1em; padding-right: 1em; text-align: center; vertical-align: top\">539</td>\n",
       "    </tr>\n",
       "    <tr>\n",
       "        <td style=\"padding-left: 1em; padding-right: 1em; text-align: center; vertical-align: top\">378</td>\n",
       "    </tr>\n",
       "    <tr>\n",
       "        <td style=\"padding-left: 1em; padding-right: 1em; text-align: center; vertical-align: top\">368</td>\n",
       "    </tr>\n",
       "    <tr>\n",
       "        <td style=\"padding-left: 1em; padding-right: 1em; text-align: center; vertical-align: top\">365</td>\n",
       "    </tr>\n",
       "    <tr>\n",
       "        <td style=\"padding-left: 1em; padding-right: 1em; text-align: center; vertical-align: top\">354</td>\n",
       "    </tr>\n",
       "    <tr>\n",
       "        <td style=\"padding-left: 1em; padding-right: 1em; text-align: center; vertical-align: top\">431</td>\n",
       "    </tr>\n",
       "    <tr>\n",
       "        <td style=\"padding-left: 1em; padding-right: 1em; text-align: center; vertical-align: top\">336</td>\n",
       "    </tr>\n",
       "    <tr>\n",
       "        <td style=\"padding-left: 1em; padding-right: 1em; text-align: center; vertical-align: top\">333</td>\n",
       "    </tr>\n",
       "</table>\n",
       "[10 rows x 20 columns]<br/>\n",
       "</div>"
      ],
      "text/plain": [
       "Columns:\n",
       "\tID\tint\n",
       "\tProduct\tstr\n",
       "\tLast_Stmt_Bal\tint\n",
       "\tCurr_Stmt_Bal\tint\n",
       "\tCurr_Age\tint\n",
       "\tPrev_01_Age\tint\n",
       "\tPrev_02_Age\tint\n",
       "\tPrev_03_Age\tint\n",
       "\tPrev_04_Age\tint\n",
       "\tPrev_05_Age\tint\n",
       "\tPrev_06_Age\tint\n",
       "\tPrev_07_Age\tint\n",
       "\tPrev_08_Age\tint\n",
       "\tPrev_09_Age\tint\n",
       "\tPrev_10_Age\tint\n",
       "\tPrev_11_Age\tint\n",
       "\tLaguage\tint\n",
       "\tSix_Month_Avg\tfloat\n",
       "\tAge\tint\n",
       "\tCust_Since\tint\n",
       "\n",
       "Rows: 10\n",
       "\n",
       "Data:\n",
       "+----+---------+---------------+---------------+----------+-------------+-------------+\n",
       "| ID | Product | Last_Stmt_Bal | Curr_Stmt_Bal | Curr_Age | Prev_01_Age | Prev_02_Age |\n",
       "+----+---------+---------------+---------------+----------+-------------+-------------+\n",
       "| 16 |    C    |      1999     |     69299     |    0     |      0      |      0      |\n",
       "| 17 |    P    |     100880    |      8794     |    0     |      0      |      0      |\n",
       "| 31 |    P    |     21660     |     52771     |    0     |      3      |      0      |\n",
       "| 36 |    P    |     171983    |     32110     |    0     |      0      |      0      |\n",
       "| 44 |    P    |     97337     |     467053    |    0     |      0      |      0      |\n",
       "| 47 |    P    |     41238     |     74860     |    0     |      0      |      0      |\n",
       "| 64 |    P    |     13050     |     95946     |    0     |      0      |      0      |\n",
       "| 69 |    P    |       0       |     80120     |    0     |      0      |      0      |\n",
       "| 70 |    P    |     51640     |     40576     |    0     |      0      |      0      |\n",
       "| 75 |    P    |       0       |      9550     |    0     |      0      |      0      |\n",
       "+----+---------+---------------+---------------+----------+-------------+-------------+\n",
       "+-------------+-------------+-------------+-------------+-------------+-------------+\n",
       "| Prev_03_Age | Prev_04_Age | Prev_05_Age | Prev_06_Age | Prev_07_Age | Prev_08_Age |\n",
       "+-------------+-------------+-------------+-------------+-------------+-------------+\n",
       "|      0      |      0      |      0      |      0      |      0      |      0      |\n",
       "|      0      |      0      |      0      |      0      |      0      |      0      |\n",
       "|      0      |      3      |      0      |      0      |      3      |      0      |\n",
       "|      0      |      0      |      0      |      0      |      0      |      0      |\n",
       "|      0      |      0      |      0      |      0      |      0      |      0      |\n",
       "|      0      |      0      |      0      |      3      |      0      |      0      |\n",
       "|      0      |      0      |      0      |      0      |      0      |      0      |\n",
       "|      0      |      0      |      0      |      0      |      3      |      0      |\n",
       "|      0      |      0      |      0      |      0      |      0      |      0      |\n",
       "|      0      |      0      |      0      |      0      |      0      |      0      |\n",
       "+-------------+-------------+-------------+-------------+-------------+-------------+\n",
       "+-------------+-------------+-------------+---------+---------------+-----+------------+\n",
       "| Prev_09_Age | Prev_10_Age | Prev_11_Age | Laguage | Six_Month_Avg | Age | Cust_Since |\n",
       "+-------------+-------------+-------------+---------+---------------+-----+------------+\n",
       "|      0      |      0      |      0      |    5    |    44386.16   | 823 |    400     |\n",
       "|      0      |      0      |      0      |    5    |    91027.0    | 772 |    398     |\n",
       "|      3      |      6      |      3      |    1    |    54444.16   | 893 |    539     |\n",
       "|      0      |      0      |      0      |    5    |   152984.83   | 861 |    378     |\n",
       "|      0      |      0      |      0      |    5    |   165347.66   | 796 |    368     |\n",
       "|      0      |      0      |      0      |    1    |    43849.5    | 651 |    365     |\n",
       "|      0      |      0      |      0      |    1    |    19045.0    | 740 |    354     |\n",
       "|      0      |      0      |      0      |    5    |    41618.16   | 740 |    431     |\n",
       "|      0      |      0      |      0      |    1    |    29073.5    | 707 |    336     |\n",
       "|      0      |      0      |      0      |    5    |    104000.0   | 800 |    333     |\n",
       "+-------------+-------------+-------------+---------+---------------+-----+------------+\n",
       "[10 rows x 20 columns]"
      ]
     },
     "execution_count": 23,
     "metadata": {},
     "output_type": "execute_result"
    }
   ],
   "source": [
    "trnx_test.head()"
   ]
  },
  {
   "cell_type": "code",
   "execution_count": 27,
   "metadata": {
    "collapsed": false,
    "scrolled": true
   },
   "outputs": [
    {
     "name": "stdout",
     "output_type": "stream",
     "text": [
      "PROGRESS: Creating a validation set from 5 percent of training data. This may take a while.\n",
      "          You can set ``validation_set=None`` to disable validation tracking.\n",
      "\n"
     ]
    },
    {
     "data": {
      "text/html": [
       "<pre>Logistic regression:</pre>"
      ],
      "text/plain": [
       "Logistic regression:"
      ]
     },
     "metadata": {},
     "output_type": "display_data"
    },
    {
     "data": {
      "text/html": [
       "<pre>--------------------------------------------------------</pre>"
      ],
      "text/plain": [
       "--------------------------------------------------------"
      ]
     },
     "metadata": {},
     "output_type": "display_data"
    },
    {
     "data": {
      "text/html": [
       "<pre>Number of examples          : 98</pre>"
      ],
      "text/plain": [
       "Number of examples          : 98"
      ]
     },
     "metadata": {},
     "output_type": "display_data"
    },
    {
     "data": {
      "text/html": [
       "<pre>Number of classes           : 4</pre>"
      ],
      "text/plain": [
       "Number of classes           : 4"
      ]
     },
     "metadata": {},
     "output_type": "display_data"
    },
    {
     "data": {
      "text/html": [
       "<pre>Number of feature columns   : 17</pre>"
      ],
      "text/plain": [
       "Number of feature columns   : 17"
      ]
     },
     "metadata": {},
     "output_type": "display_data"
    },
    {
     "data": {
      "text/html": [
       "<pre>Number of unpacked features : 17</pre>"
      ],
      "text/plain": [
       "Number of unpacked features : 17"
      ]
     },
     "metadata": {},
     "output_type": "display_data"
    },
    {
     "data": {
      "text/html": [
       "<pre>Number of coefficients    : 54</pre>"
      ],
      "text/plain": [
       "Number of coefficients    : 54"
      ]
     },
     "metadata": {},
     "output_type": "display_data"
    },
    {
     "data": {
      "text/html": [
       "<pre>Starting Newton Method</pre>"
      ],
      "text/plain": [
       "Starting Newton Method"
      ]
     },
     "metadata": {},
     "output_type": "display_data"
    },
    {
     "data": {
      "text/html": [
       "<pre>--------------------------------------------------------</pre>"
      ],
      "text/plain": [
       "--------------------------------------------------------"
      ]
     },
     "metadata": {},
     "output_type": "display_data"
    },
    {
     "data": {
      "text/html": [
       "<pre>+-----------+----------+--------------+-------------------+---------------------+</pre>"
      ],
      "text/plain": [
       "+-----------+----------+--------------+-------------------+---------------------+"
      ]
     },
     "metadata": {},
     "output_type": "display_data"
    },
    {
     "data": {
      "text/html": [
       "<pre>| Iteration | Passes   | Elapsed Time | Training-accuracy | Validation-accuracy |</pre>"
      ],
      "text/plain": [
       "| Iteration | Passes   | Elapsed Time | Training-accuracy | Validation-accuracy |"
      ]
     },
     "metadata": {},
     "output_type": "display_data"
    },
    {
     "data": {
      "text/html": [
       "<pre>+-----------+----------+--------------+-------------------+---------------------+</pre>"
      ],
      "text/plain": [
       "+-----------+----------+--------------+-------------------+---------------------+"
      ]
     },
     "metadata": {},
     "output_type": "display_data"
    },
    {
     "data": {
      "text/html": [
       "<pre>| 1         | 2        | 0.001339     | 0.938776          | 1.000000            |</pre>"
      ],
      "text/plain": [
       "| 1         | 2        | 0.001339     | 0.938776          | 1.000000            |"
      ]
     },
     "metadata": {},
     "output_type": "display_data"
    },
    {
     "data": {
      "text/html": [
       "<pre>| 2         | 3        | 0.002913     | 0.959184          | 1.000000            |</pre>"
      ],
      "text/plain": [
       "| 2         | 3        | 0.002913     | 0.959184          | 1.000000            |"
      ]
     },
     "metadata": {},
     "output_type": "display_data"
    },
    {
     "data": {
      "text/html": [
       "<pre>| 3         | 4        | 0.004798     | 0.959184          | 1.000000            |</pre>"
      ],
      "text/plain": [
       "| 3         | 4        | 0.004798     | 0.959184          | 1.000000            |"
      ]
     },
     "metadata": {},
     "output_type": "display_data"
    },
    {
     "data": {
      "text/html": [
       "<pre>| 4         | 5        | 0.006432     | 0.959184          | 1.000000            |</pre>"
      ],
      "text/plain": [
       "| 4         | 5        | 0.006432     | 0.959184          | 1.000000            |"
      ]
     },
     "metadata": {},
     "output_type": "display_data"
    },
    {
     "data": {
      "text/html": [
       "<pre>| 5         | 6        | 0.008290     | 0.959184          | 1.000000            |</pre>"
      ],
      "text/plain": [
       "| 5         | 6        | 0.008290     | 0.959184          | 1.000000            |"
      ]
     },
     "metadata": {},
     "output_type": "display_data"
    },
    {
     "data": {
      "text/html": [
       "<pre>| 6         | 7        | 0.010380     | 0.959184          | 1.000000            |</pre>"
      ],
      "text/plain": [
       "| 6         | 7        | 0.010380     | 0.959184          | 1.000000            |"
      ]
     },
     "metadata": {},
     "output_type": "display_data"
    },
    {
     "data": {
      "text/html": [
       "<pre>+-----------+----------+--------------+-------------------+---------------------+</pre>"
      ],
      "text/plain": [
       "+-----------+----------+--------------+-------------------+---------------------+"
      ]
     },
     "metadata": {},
     "output_type": "display_data"
    },
    {
     "data": {
      "text/html": [
       "<pre>SUCCESS: Optimal solution found.</pre>"
      ],
      "text/plain": [
       "SUCCESS: Optimal solution found."
      ]
     },
     "metadata": {},
     "output_type": "display_data"
    },
    {
     "data": {
      "text/html": [
       "<pre></pre>"
      ],
      "text/plain": []
     },
     "metadata": {},
     "output_type": "display_data"
    }
   ],
   "source": [
    "classifier_model = graphlab.logistic_classifier.create(train_data,target='Curr_Age',\n",
    "                                              features=['Product','Last_Stmt_Bal','Prev_01_Age','Prev_02_Age',\n",
    "                                                       'Prev_03_Age','Prev_04_Age','Prev_05_Age','Prev_06_Age',\n",
    "                                                       'Prev_07_Age','Prev_08_Age','Prev_09_Age','Prev_10_Age'\n",
    "                                                       ,'Prev_11_Age','Laguage','Six_Month_Avg','Age',\n",
    "                                                       'Cust_Since'],\n",
    "                                                     max_iterations = 50)"
   ]
  },
  {
   "cell_type": "code",
   "execution_count": 28,
   "metadata": {
    "collapsed": false
   },
   "outputs": [
    {
     "data": {
      "text/plain": [
       "{'accuracy': 0.9411764705882353, 'auc': nan, 'confusion_matrix': Columns:\n",
       " \ttarget_label\tint\n",
       " \tpredicted_label\tint\n",
       " \tcount\tint\n",
       " \n",
       " Rows: 3\n",
       " \n",
       " Data:\n",
       " +--------------+-----------------+-------+\n",
       " | target_label | predicted_label | count |\n",
       " +--------------+-----------------+-------+\n",
       " |      9       |        0        |   1   |\n",
       " |      0       |        0        |   13  |\n",
       " |      3       |        3        |   3   |\n",
       " +--------------+-----------------+-------+\n",
       " [3 rows x 3 columns], 'f1_score': 0.654320987654321, 'log_loss': 0.6941236001663261, 'precision': 0.9642857142857143, 'recall': 0.6666666666666666, 'roc_curve': Columns:\n",
       " \tthreshold\tfloat\n",
       " \tfpr\tfloat\n",
       " \ttpr\tfloat\n",
       " \tp\tint\n",
       " \tn\tint\n",
       " \tclass\tint\n",
       " \n",
       " Rows: 400004\n",
       " \n",
       " Data:\n",
       " +-----------+------+-----+----+---+-------+\n",
       " | threshold | fpr  | tpr | p  | n | class |\n",
       " +-----------+------+-----+----+---+-------+\n",
       " |    0.0    | 1.0  | 1.0 | 13 | 4 |   0   |\n",
       " |   1e-05   | 0.75 | 1.0 | 13 | 4 |   0   |\n",
       " |   2e-05   | 0.75 | 1.0 | 13 | 4 |   0   |\n",
       " |   3e-05   | 0.75 | 1.0 | 13 | 4 |   0   |\n",
       " |   4e-05   | 0.75 | 1.0 | 13 | 4 |   0   |\n",
       " |   5e-05   | 0.75 | 1.0 | 13 | 4 |   0   |\n",
       " |   6e-05   | 0.75 | 1.0 | 13 | 4 |   0   |\n",
       " |   7e-05   | 0.75 | 1.0 | 13 | 4 |   0   |\n",
       " |   8e-05   | 0.75 | 1.0 | 13 | 4 |   0   |\n",
       " |   9e-05   | 0.75 | 1.0 | 13 | 4 |   0   |\n",
       " +-----------+------+-----+----+---+-------+\n",
       " [400004 rows x 6 columns]\n",
       " Note: Only the head of the SFrame is printed.\n",
       " You can use print_rows(num_rows=m, num_columns=n) to print more rows and columns.}"
      ]
     },
     "execution_count": 28,
     "metadata": {},
     "output_type": "execute_result"
    }
   ],
   "source": [
    "classifier_model.evaluate(test_data)"
   ]
  },
  {
   "cell_type": "code",
   "execution_count": 29,
   "metadata": {
    "collapsed": false
   },
   "outputs": [
    {
     "name": "stdout",
     "output_type": "stream",
     "text": [
      "Defaulting to brute force instead of ball tree because there are multiple distance components.\n"
     ]
    },
    {
     "data": {
      "text/html": [
       "<pre>Starting brute force nearest neighbors model training.</pre>"
      ],
      "text/plain": [
       "Starting brute force nearest neighbors model training."
      ]
     },
     "metadata": {},
     "output_type": "display_data"
    }
   ],
   "source": [
    "knn_model = graphlab.nearest_neighbors.create(test_data,features=['Product','Last_Stmt_Bal','Prev_01_Age','Prev_02_Age',\n",
    "                                                       'Prev_03_Age','Prev_04_Age','Prev_05_Age','Prev_06_Age',\n",
    "                                                       'Prev_07_Age','Prev_08_Age','Prev_09_Age','Prev_10_Age'\n",
    "                                                       ,'Prev_11_Age','Laguage','Six_Month_Avg','Age',\n",
    "                                                       'Cust_Since'],label='ID')"
   ]
  },
  {
   "cell_type": "code",
   "execution_count": 33,
   "metadata": {
    "collapsed": false
   },
   "outputs": [
    {
     "name": "stdout",
     "output_type": "stream",
     "text": [
      "PROGRESS: Creating a validation set from 5 percent of training data. This may take a while.\n",
      "          You can set ``validation_set=None`` to disable validation tracking.\n",
      "\n"
     ]
    },
    {
     "data": {
      "text/html": [
       "<pre>Logistic regression:</pre>"
      ],
      "text/plain": [
       "Logistic regression:"
      ]
     },
     "metadata": {},
     "output_type": "display_data"
    },
    {
     "data": {
      "text/html": [
       "<pre>--------------------------------------------------------</pre>"
      ],
      "text/plain": [
       "--------------------------------------------------------"
      ]
     },
     "metadata": {},
     "output_type": "display_data"
    },
    {
     "data": {
      "text/html": [
       "<pre>Number of examples          : 98</pre>"
      ],
      "text/plain": [
       "Number of examples          : 98"
      ]
     },
     "metadata": {},
     "output_type": "display_data"
    },
    {
     "data": {
      "text/html": [
       "<pre>Number of classes           : 4</pre>"
      ],
      "text/plain": [
       "Number of classes           : 4"
      ]
     },
     "metadata": {},
     "output_type": "display_data"
    },
    {
     "data": {
      "text/html": [
       "<pre>Number of feature columns   : 18</pre>"
      ],
      "text/plain": [
       "Number of feature columns   : 18"
      ]
     },
     "metadata": {},
     "output_type": "display_data"
    },
    {
     "data": {
      "text/html": [
       "<pre>Number of unpacked features : 18</pre>"
      ],
      "text/plain": [
       "Number of unpacked features : 18"
      ]
     },
     "metadata": {},
     "output_type": "display_data"
    },
    {
     "data": {
      "text/html": [
       "<pre>Number of coefficients    : 57</pre>"
      ],
      "text/plain": [
       "Number of coefficients    : 57"
      ]
     },
     "metadata": {},
     "output_type": "display_data"
    },
    {
     "data": {
      "text/html": [
       "<pre>Starting Newton Method</pre>"
      ],
      "text/plain": [
       "Starting Newton Method"
      ]
     },
     "metadata": {},
     "output_type": "display_data"
    },
    {
     "data": {
      "text/html": [
       "<pre>--------------------------------------------------------</pre>"
      ],
      "text/plain": [
       "--------------------------------------------------------"
      ]
     },
     "metadata": {},
     "output_type": "display_data"
    },
    {
     "data": {
      "text/html": [
       "<pre>+-----------+----------+--------------+-------------------+---------------------+</pre>"
      ],
      "text/plain": [
       "+-----------+----------+--------------+-------------------+---------------------+"
      ]
     },
     "metadata": {},
     "output_type": "display_data"
    },
    {
     "data": {
      "text/html": [
       "<pre>| Iteration | Passes   | Elapsed Time | Training-accuracy | Validation-accuracy |</pre>"
      ],
      "text/plain": [
       "| Iteration | Passes   | Elapsed Time | Training-accuracy | Validation-accuracy |"
      ]
     },
     "metadata": {},
     "output_type": "display_data"
    },
    {
     "data": {
      "text/html": [
       "<pre>+-----------+----------+--------------+-------------------+---------------------+</pre>"
      ],
      "text/plain": [
       "+-----------+----------+--------------+-------------------+---------------------+"
      ]
     },
     "metadata": {},
     "output_type": "display_data"
    },
    {
     "data": {
      "text/html": [
       "<pre>| 1         | 2        | 0.001556     | 0.938776          | 0.800000            |</pre>"
      ],
      "text/plain": [
       "| 1         | 2        | 0.001556     | 0.938776          | 0.800000            |"
      ]
     },
     "metadata": {},
     "output_type": "display_data"
    },
    {
     "data": {
      "text/html": [
       "<pre>| 2         | 3        | 0.003845     | 0.969388          | 0.800000            |</pre>"
      ],
      "text/plain": [
       "| 2         | 3        | 0.003845     | 0.969388          | 0.800000            |"
      ]
     },
     "metadata": {},
     "output_type": "display_data"
    },
    {
     "data": {
      "text/html": [
       "<pre>| 3         | 4        | 0.005740     | 0.969388          | 0.800000            |</pre>"
      ],
      "text/plain": [
       "| 3         | 4        | 0.005740     | 0.969388          | 0.800000            |"
      ]
     },
     "metadata": {},
     "output_type": "display_data"
    },
    {
     "data": {
      "text/html": [
       "<pre>| 4         | 5        | 0.007401     | 0.969388          | 0.800000            |</pre>"
      ],
      "text/plain": [
       "| 4         | 5        | 0.007401     | 0.969388          | 0.800000            |"
      ]
     },
     "metadata": {},
     "output_type": "display_data"
    },
    {
     "data": {
      "text/html": [
       "<pre>| 5         | 6        | 0.009296     | 0.969388          | 0.800000            |</pre>"
      ],
      "text/plain": [
       "| 5         | 6        | 0.009296     | 0.969388          | 0.800000            |"
      ]
     },
     "metadata": {},
     "output_type": "display_data"
    },
    {
     "data": {
      "text/html": [
       "<pre>| 6         | 7        | 0.011694     | 0.969388          | 0.800000            |</pre>"
      ],
      "text/plain": [
       "| 6         | 7        | 0.011694     | 0.969388          | 0.800000            |"
      ]
     },
     "metadata": {},
     "output_type": "display_data"
    },
    {
     "data": {
      "text/html": [
       "<pre>+-----------+----------+--------------+-------------------+---------------------+</pre>"
      ],
      "text/plain": [
       "+-----------+----------+--------------+-------------------+---------------------+"
      ]
     },
     "metadata": {},
     "output_type": "display_data"
    },
    {
     "data": {
      "text/html": [
       "<pre>SUCCESS: Optimal solution found.</pre>"
      ],
      "text/plain": [
       "SUCCESS: Optimal solution found."
      ]
     },
     "metadata": {},
     "output_type": "display_data"
    },
    {
     "data": {
      "text/html": [
       "<pre></pre>"
      ],
      "text/plain": []
     },
     "metadata": {},
     "output_type": "display_data"
    }
   ],
   "source": [
    "classifier_model_2 = graphlab.logistic_classifier.create(train_data,target='Curr_Age',\n",
    "                                              features=['Product','Last_Stmt_Bal','Prev_01_Age','Prev_02_Age',\n",
    "                                                       'Prev_03_Age','Prev_04_Age','Prev_05_Age','Prev_06_Age',\n",
    "                                                       'Prev_07_Age','Prev_08_Age','Prev_09_Age','Prev_10_Age'\n",
    "                                                       ,'Prev_11_Age','Laguage','Six_Month_Avg','Age',\n",
    "                                                       'Cust_Since','Curr_Stmt_Bal'],\n",
    "                                                     max_iterations = 50)"
   ]
  },
  {
   "cell_type": "code",
   "execution_count": 35,
   "metadata": {
    "collapsed": false,
    "scrolled": true
   },
   "outputs": [
    {
     "data": {
      "text/plain": [
       "{'accuracy': 0.9411764705882353, 'auc': nan, 'confusion_matrix': Columns:\n",
       " \ttarget_label\tint\n",
       " \tpredicted_label\tint\n",
       " \tcount\tint\n",
       " \n",
       " Rows: 3\n",
       " \n",
       " Data:\n",
       " +--------------+-----------------+-------+\n",
       " | target_label | predicted_label | count |\n",
       " +--------------+-----------------+-------+\n",
       " |      9       |        0        |   1   |\n",
       " |      0       |        0        |   13  |\n",
       " |      3       |        3        |   3   |\n",
       " +--------------+-----------------+-------+\n",
       " [3 rows x 3 columns], 'f1_score': 0.654320987654321, 'log_loss': 0.6941236001663261, 'precision': 0.9642857142857143, 'recall': 0.6666666666666666, 'roc_curve': Columns:\n",
       " \tthreshold\tfloat\n",
       " \tfpr\tfloat\n",
       " \ttpr\tfloat\n",
       " \tp\tint\n",
       " \tn\tint\n",
       " \tclass\tint\n",
       " \n",
       " Rows: 400004\n",
       " \n",
       " Data:\n",
       " +-----------+------+-----+----+---+-------+\n",
       " | threshold | fpr  | tpr | p  | n | class |\n",
       " +-----------+------+-----+----+---+-------+\n",
       " |    0.0    | 1.0  | 1.0 | 13 | 4 |   0   |\n",
       " |   1e-05   | 0.75 | 1.0 | 13 | 4 |   0   |\n",
       " |   2e-05   | 0.75 | 1.0 | 13 | 4 |   0   |\n",
       " |   3e-05   | 0.75 | 1.0 | 13 | 4 |   0   |\n",
       " |   4e-05   | 0.75 | 1.0 | 13 | 4 |   0   |\n",
       " |   5e-05   | 0.75 | 1.0 | 13 | 4 |   0   |\n",
       " |   6e-05   | 0.75 | 1.0 | 13 | 4 |   0   |\n",
       " |   7e-05   | 0.75 | 1.0 | 13 | 4 |   0   |\n",
       " |   8e-05   | 0.75 | 1.0 | 13 | 4 |   0   |\n",
       " |   9e-05   | 0.75 | 1.0 | 13 | 4 |   0   |\n",
       " +-----------+------+-----+----+---+-------+\n",
       " [400004 rows x 6 columns]\n",
       " Note: Only the head of the SFrame is printed.\n",
       " You can use print_rows(num_rows=m, num_columns=n) to print more rows and columns.}"
      ]
     },
     "execution_count": 35,
     "metadata": {},
     "output_type": "execute_result"
    }
   ],
   "source": [
    "classifier_model.evaluate(test_data)"
   ]
  },
  {
   "cell_type": "code",
   "execution_count": 36,
   "metadata": {
    "collapsed": false
   },
   "outputs": [
    {
     "data": {
      "text/plain": [
       "{'accuracy': 0.9411764705882353, 'auc': nan, 'confusion_matrix': Columns:\n",
       " \ttarget_label\tint\n",
       " \tpredicted_label\tint\n",
       " \tcount\tint\n",
       " \n",
       " Rows: 3\n",
       " \n",
       " Data:\n",
       " +--------------+-----------------+-------+\n",
       " | target_label | predicted_label | count |\n",
       " +--------------+-----------------+-------+\n",
       " |      9       |        0        |   1   |\n",
       " |      0       |        0        |   13  |\n",
       " |      3       |        3        |   3   |\n",
       " +--------------+-----------------+-------+\n",
       " [3 rows x 3 columns], 'f1_score': 0.654320987654321, 'log_loss': 0.4456148781664231, 'precision': 0.9642857142857143, 'recall': 0.6666666666666666, 'roc_curve': Columns:\n",
       " \tthreshold\tfloat\n",
       " \tfpr\tfloat\n",
       " \ttpr\tfloat\n",
       " \tp\tint\n",
       " \tn\tint\n",
       " \tclass\tint\n",
       " \n",
       " Rows: 400004\n",
       " \n",
       " Data:\n",
       " +-----------+------+-----+----+---+-------+\n",
       " | threshold | fpr  | tpr | p  | n | class |\n",
       " +-----------+------+-----+----+---+-------+\n",
       " |    0.0    | 1.0  | 1.0 | 13 | 4 |   0   |\n",
       " |   1e-05   | 0.75 | 1.0 | 13 | 4 |   0   |\n",
       " |   2e-05   | 0.75 | 1.0 | 13 | 4 |   0   |\n",
       " |   3e-05   | 0.75 | 1.0 | 13 | 4 |   0   |\n",
       " |   4e-05   | 0.75 | 1.0 | 13 | 4 |   0   |\n",
       " |   5e-05   | 0.75 | 1.0 | 13 | 4 |   0   |\n",
       " |   6e-05   | 0.75 | 1.0 | 13 | 4 |   0   |\n",
       " |   7e-05   | 0.75 | 1.0 | 13 | 4 |   0   |\n",
       " |   8e-05   | 0.75 | 1.0 | 13 | 4 |   0   |\n",
       " |   9e-05   | 0.75 | 1.0 | 13 | 4 |   0   |\n",
       " +-----------+------+-----+----+---+-------+\n",
       " [400004 rows x 6 columns]\n",
       " Note: Only the head of the SFrame is printed.\n",
       " You can use print_rows(num_rows=m, num_columns=n) to print more rows and columns.}"
      ]
     },
     "execution_count": 36,
     "metadata": {},
     "output_type": "execute_result"
    }
   ],
   "source": [
    "classifier_model_2.evaluate(test_data)"
   ]
  },
  {
   "cell_type": "code",
   "execution_count": 38,
   "metadata": {
    "collapsed": false
   },
   "outputs": [
    {
     "name": "stdout",
     "output_type": "stream",
     "text": [
      "+---------------+-------+-------+--------------------+-------------------+\n",
      "|      name     | index | class |       value        |       stderr      |\n",
      "+---------------+-------+-------+--------------------+-------------------+\n",
      "|  (intercept)  |  None |   3   |   2.35140797676    |   4.48164468739   |\n",
      "|    Product    |   C   |   3   |   0.791734075285   |   1.92029400473   |\n",
      "| Last_Stmt_Bal |  None |   3   | 2.06081737713e-06  | 5.62533587703e-06 |\n",
      "|  Prev_01_Age  |  None |   3   |  -0.737645965705   |   0.91087290106   |\n",
      "|  Prev_02_Age  |  None |   3   |   1.24240564811    |   0.517045687653  |\n",
      "|  Prev_03_Age  |  None |   3   |   1.02614327969    |   0.854672424096  |\n",
      "|  Prev_04_Age  |  None |   3   |  -0.299237014663   |   0.698304676306  |\n",
      "|  Prev_05_Age  |  None |   3   |   0.151122413628   |   0.58615145905   |\n",
      "|  Prev_06_Age  |  None |   3   |   0.671468657422   |   0.819601182835  |\n",
      "|  Prev_07_Age  |  None |   3   |   0.947337074979   |   0.976920988098  |\n",
      "|  Prev_08_Age  |  None |   3   |   0.614644012669   |   0.533602090584  |\n",
      "|  Prev_09_Age  |  None |   3   |   -2.00013526795   |   1.61917491954   |\n",
      "|  Prev_10_Age  |  None |   3   |   0.547258768054   |   1.23694583587   |\n",
      "|  Prev_11_Age  |  None |   3   |   0.66774463696    |   0.345659703798  |\n",
      "|    Laguage    |  None |   3   |  -0.0201433326749  |   0.432812621833  |\n",
      "| Six_Month_Avg |  None |   3   | -3.47816022963e-06 | 6.09949352567e-06 |\n",
      "|      Age      |  None |   3   | 0.000719487397786  |  0.00543680232866 |\n",
      "|   Cust_Since  |  None |   3   |  -0.0217338242326  |  0.0104094442415  |\n",
      "|  (intercept)  |  None |   6   |   -9.60106549316   |   110.405804633   |\n",
      "|    Product    |   C   |   6   |   -1.38111598571   |    55.636002655   |\n",
      "| Last_Stmt_Bal |  None |   6   | 3.13765076997e-07  | 0.000100708574517 |\n",
      "|  Prev_01_Age  |  None |   6   |   0.488618633518   |   10.5816107996   |\n",
      "|  Prev_02_Age  |  None |   6   |  -0.261129510507   |   20.4718134782   |\n",
      "|  Prev_03_Age  |  None |   6   |  -0.532261507174   |    18.069355873   |\n",
      "|  Prev_04_Age  |  None |   6   |   1.44119911347    |    9.2321129723   |\n",
      "|  Prev_05_Age  |  None |   6   |   0.373869304979   |   14.2851931102   |\n",
      "|  Prev_06_Age  |  None |   6   |  -0.417163643777   |    18.672662503   |\n",
      "|  Prev_07_Age  |  None |   6   |   1.15821178476    |   9.91139379186   |\n",
      "|  Prev_08_Age  |  None |   6   |  -0.0788765179632  |   10.2239473234   |\n",
      "|  Prev_09_Age  |  None |   6   |  -0.417136500293   |   19.7730512178   |\n",
      "|  Prev_10_Age  |  None |   6   |  -0.215877326892   |    31.327621089   |\n",
      "|  Prev_11_Age  |  None |   6   |  -0.220882200682   |    9.3283966962   |\n",
      "|    Laguage    |  None |   6   |  -0.0854880166588  |   8.67390201922   |\n",
      "| Six_Month_Avg |  None |   6   | 1.54113042365e-07  | 0.000137143317306 |\n",
      "|      Age      |  None |   6   | -0.000242117150081 |   0.159167487682  |\n",
      "|   Cust_Since  |  None |   6   | -0.000771362580628 |   0.22218305392   |\n",
      "|  (intercept)  |  None |   9   |   -12.0287932765   |   204.669728998   |\n",
      "|    Product    |   C   |   9   |  -0.0386346424797  |   61.8116617276   |\n",
      "| Last_Stmt_Bal |  None |   9   | -9.59051110966e-07 | 0.000133955659119 |\n",
      "|  Prev_01_Age  |  None |   9   |   1.61483713487    |   9.75732284554   |\n",
      "|  Prev_02_Age  |  None |   9   |   0.919672878483   |   18.7950819907   |\n",
      "|  Prev_03_Age  |  None |   9   |  -0.583411080136   |   44.3736141228   |\n",
      "|  Prev_04_Age  |  None |   9   |   0.301862089414   |   14.2194940811   |\n",
      "|  Prev_05_Age  |  None |   9   |   0.569745436874   |   17.1046013127   |\n",
      "|  Prev_06_Age  |  None |   9   |   -0.1012921346    |    16.81902271    |\n",
      "|  Prev_07_Age  |  None |   9   |   1.14872068828    |   11.8088116206   |\n",
      "|  Prev_08_Age  |  None |   9   |   0.531830424582   |   11.0204753472   |\n",
      "|  Prev_09_Age  |  None |   9   |   -1.83513955386   |   20.7804139969   |\n",
      "|  Prev_10_Age  |  None |   9   |   -0.49684712668   |   64.8372282749   |\n",
      "|  Prev_11_Age  |  None |   9   |   0.725365662672   |   5.86580674803   |\n",
      "|    Laguage    |  None |   9   |  -0.146991514117   |   9.79675986729   |\n",
      "| Six_Month_Avg |  None |   9   | -1.21969046356e-06 | 0.000166182924776 |\n",
      "|      Age      |  None |   9   | 5.53877602277e-05  |   0.300431154225  |\n",
      "|   Cust_Since  |  None |   9   | -0.000556084545834 |   0.271335359003  |\n",
      "+---------------+-------+-------+--------------------+-------------------+\n",
      "[54 rows x 5 columns]\n",
      "\n"
     ]
    }
   ],
   "source": [
    "classifier_model.coefficients.print_rows(num_rows=54)"
   ]
  },
  {
   "cell_type": "code",
   "execution_count": 45,
   "metadata": {
    "collapsed": false
   },
   "outputs": [
    {
     "data": {
      "text/plain": [
       "<bound method MultiLayerPerceptrons.verify of \n",
       "### network layers ###\n",
       "layer[0]: FullConnectionLayer\n",
       "  init_sigma = 0.01\n",
       "  init_random = gaussian\n",
       "  init_bias = 0\n",
       "  num_hidden_units = 10\n",
       "layer[1]: SigmoidLayer\n",
       "layer[2]: FullConnectionLayer\n",
       "  init_sigma = 0.01\n",
       "  init_random = gaussian\n",
       "  init_bias = 0\n",
       "  num_hidden_units = 4\n",
       "layer[3]: SoftmaxLayer\n",
       "### end network layers ###\n",
       "\n",
       "### network parameters ###\n",
       "learning_rate = 0.001\n",
       "momentum = 0.9\n",
       "### end network parameters ###\n",
       ">"
      ]
     },
     "execution_count": 45,
     "metadata": {},
     "output_type": "execute_result"
    }
   ],
   "source": [
    "net = graphlab.deeplearning.create(train_data, target='Curr_Age')\n",
    "net.verify"
   ]
  },
  {
   "cell_type": "code",
   "execution_count": 57,
   "metadata": {
    "collapsed": false,
    "scrolled": false
   },
   "outputs": [
    {
     "name": "stderr",
     "output_type": "stream",
     "text": [
      "[INFO] graphlab.mxnet.model: Start training with [cpu(0)]\n",
      "[INFO] graphlab.mxnet.model: Epoch[0] Resetting Data Iterator\n",
      "[INFO] graphlab.mxnet.model: Epoch[0] Train-binary_acc=0.908333\n",
      "[INFO] graphlab.mxnet.model: Epoch[0] Time cost=2.818\n",
      "[INFO] graphlab.mxnet.model: Epoch[1] Resetting Data Iterator\n",
      "[INFO] graphlab.mxnet.model: Epoch[1] Train-binary_acc=0.916667\n",
      "[INFO] graphlab.mxnet.model: Epoch[1] Time cost=3.050\n",
      "[INFO] graphlab.mxnet.model: Epoch[2] Resetting Data Iterator\n",
      "[INFO] graphlab.mxnet.model: Epoch[2] Train-binary_acc=0.908333\n",
      "[INFO] graphlab.mxnet.model: Epoch[2] Time cost=2.854\n",
      "[INFO] graphlab.mxnet.model: Epoch[3] Resetting Data Iterator\n",
      "[INFO] graphlab.mxnet.model: Epoch[3] Train-binary_acc=0.908333\n",
      "[INFO] graphlab.mxnet.model: Epoch[3] Time cost=2.896\n",
      "[INFO] graphlab.mxnet.model: Epoch[4] Resetting Data Iterator\n",
      "[INFO] graphlab.mxnet.model: Epoch[4] Train-binary_acc=0.908333\n",
      "[INFO] graphlab.mxnet.model: Epoch[4] Time cost=2.774\n",
      "[INFO] graphlab.mxnet.model: Epoch[5] Resetting Data Iterator\n",
      "[INFO] graphlab.mxnet.model: Epoch[5] Train-binary_acc=0.916667\n",
      "[INFO] graphlab.mxnet.model: Epoch[5] Time cost=2.750\n",
      "[INFO] graphlab.mxnet.model: Epoch[6] Resetting Data Iterator\n",
      "[INFO] graphlab.mxnet.model: Epoch[6] Train-binary_acc=0.916667\n",
      "[INFO] graphlab.mxnet.model: Epoch[6] Time cost=2.943\n",
      "[INFO] graphlab.mxnet.model: Epoch[7] Resetting Data Iterator\n",
      "[INFO] graphlab.mxnet.model: Epoch[7] Train-binary_acc=0.925000\n",
      "[INFO] graphlab.mxnet.model: Epoch[7] Time cost=2.963\n",
      "[INFO] graphlab.mxnet.model: Epoch[8] Resetting Data Iterator\n",
      "[INFO] graphlab.mxnet.model: Epoch[8] Train-binary_acc=0.925000\n",
      "[INFO] graphlab.mxnet.model: Epoch[8] Time cost=2.840\n",
      "[INFO] graphlab.mxnet.model: Epoch[9] Resetting Data Iterator\n",
      "[INFO] graphlab.mxnet.model: Epoch[9] Train-binary_acc=0.925000\n",
      "[INFO] graphlab.mxnet.model: Epoch[9] Time cost=2.708\n",
      "[INFO] graphlab.mxnet.model: Epoch[10] Resetting Data Iterator\n",
      "[INFO] graphlab.mxnet.model: Epoch[10] Train-binary_acc=0.925000\n",
      "[INFO] graphlab.mxnet.model: Epoch[10] Time cost=2.879\n",
      "[INFO] graphlab.mxnet.model: Epoch[11] Resetting Data Iterator\n",
      "[INFO] graphlab.mxnet.model: Epoch[11] Train-binary_acc=0.925000\n",
      "[INFO] graphlab.mxnet.model: Epoch[11] Time cost=2.721\n",
      "[INFO] graphlab.mxnet.model: Epoch[12] Resetting Data Iterator\n",
      "[INFO] graphlab.mxnet.model: Epoch[12] Train-binary_acc=0.925000\n",
      "[INFO] graphlab.mxnet.model: Epoch[12] Time cost=2.797\n",
      "[INFO] graphlab.mxnet.model: Epoch[13] Resetting Data Iterator\n",
      "[INFO] graphlab.mxnet.model: Epoch[13] Train-binary_acc=0.925000\n",
      "[INFO] graphlab.mxnet.model: Epoch[13] Time cost=2.749\n",
      "[INFO] graphlab.mxnet.model: Epoch[14] Resetting Data Iterator\n",
      "[INFO] graphlab.mxnet.model: Epoch[14] Train-binary_acc=0.925000\n",
      "[INFO] graphlab.mxnet.model: Epoch[14] Time cost=2.692\n",
      "[INFO] graphlab.mxnet.model: Epoch[15] Resetting Data Iterator\n",
      "[INFO] graphlab.mxnet.model: Epoch[15] Train-binary_acc=0.925000\n",
      "[INFO] graphlab.mxnet.model: Epoch[15] Time cost=2.741\n",
      "[INFO] graphlab.mxnet.model: Epoch[16] Resetting Data Iterator\n",
      "[INFO] graphlab.mxnet.model: Epoch[16] Train-binary_acc=0.925000\n",
      "[INFO] graphlab.mxnet.model: Epoch[16] Time cost=2.652\n",
      "[INFO] graphlab.mxnet.model: Epoch[17] Resetting Data Iterator\n",
      "[INFO] graphlab.mxnet.model: Epoch[17] Train-binary_acc=0.925000\n",
      "[INFO] graphlab.mxnet.model: Epoch[17] Time cost=2.648\n",
      "[INFO] graphlab.mxnet.model: Epoch[18] Resetting Data Iterator\n",
      "[INFO] graphlab.mxnet.model: Epoch[18] Train-binary_acc=0.925000\n",
      "[INFO] graphlab.mxnet.model: Epoch[18] Time cost=2.652\n",
      "[INFO] graphlab.mxnet.model: Epoch[19] Resetting Data Iterator\n",
      "[INFO] graphlab.mxnet.model: Epoch[19] Train-binary_acc=0.925000\n",
      "[INFO] graphlab.mxnet.model: Epoch[19] Time cost=2.725\n",
      "[INFO] graphlab.mxnet.model: Epoch[20] Resetting Data Iterator\n",
      "[INFO] graphlab.mxnet.model: Epoch[20] Train-binary_acc=0.925000\n",
      "[INFO] graphlab.mxnet.model: Epoch[20] Time cost=2.674\n",
      "[INFO] graphlab.mxnet.model: Epoch[21] Resetting Data Iterator\n",
      "[INFO] graphlab.mxnet.model: Epoch[21] Train-binary_acc=0.925000\n",
      "[INFO] graphlab.mxnet.model: Epoch[21] Time cost=2.656\n",
      "[INFO] graphlab.mxnet.model: Epoch[22] Resetting Data Iterator\n",
      "[INFO] graphlab.mxnet.model: Epoch[22] Train-binary_acc=0.925000\n",
      "[INFO] graphlab.mxnet.model: Epoch[22] Time cost=2.697\n",
      "[INFO] graphlab.mxnet.model: Epoch[23] Resetting Data Iterator\n",
      "[INFO] graphlab.mxnet.model: Epoch[23] Train-binary_acc=0.925000\n",
      "[INFO] graphlab.mxnet.model: Epoch[23] Time cost=2.850\n",
      "[INFO] graphlab.mxnet.model: Epoch[24] Resetting Data Iterator\n",
      "[INFO] graphlab.mxnet.model: Epoch[24] Train-binary_acc=0.925000\n",
      "[INFO] graphlab.mxnet.model: Epoch[24] Time cost=2.687\n",
      "[INFO] graphlab.mxnet.model: Epoch[25] Resetting Data Iterator\n",
      "[INFO] graphlab.mxnet.model: Epoch[25] Train-binary_acc=0.925000\n",
      "[INFO] graphlab.mxnet.model: Epoch[25] Time cost=2.649\n",
      "[INFO] graphlab.mxnet.model: Epoch[26] Resetting Data Iterator\n",
      "[INFO] graphlab.mxnet.model: Epoch[26] Train-binary_acc=0.925000\n",
      "[INFO] graphlab.mxnet.model: Epoch[26] Time cost=2.644\n",
      "[INFO] graphlab.mxnet.model: Epoch[27] Resetting Data Iterator\n",
      "[INFO] graphlab.mxnet.model: Epoch[27] Train-binary_acc=0.925000\n",
      "[INFO] graphlab.mxnet.model: Epoch[27] Time cost=2.634\n",
      "[INFO] graphlab.mxnet.model: Epoch[28] Resetting Data Iterator\n",
      "[INFO] graphlab.mxnet.model: Epoch[28] Train-binary_acc=0.925000\n",
      "[INFO] graphlab.mxnet.model: Epoch[28] Time cost=2.808\n",
      "[INFO] graphlab.mxnet.model: Epoch[29] Resetting Data Iterator\n",
      "[INFO] graphlab.mxnet.model: Epoch[29] Train-binary_acc=0.925000\n",
      "[INFO] graphlab.mxnet.model: Epoch[29] Time cost=2.640\n",
      "[INFO] graphlab.mxnet.model: Epoch[30] Resetting Data Iterator\n",
      "[INFO] graphlab.mxnet.model: Epoch[30] Train-binary_acc=0.925000\n",
      "[INFO] graphlab.mxnet.model: Epoch[30] Time cost=2.650\n",
      "[INFO] graphlab.mxnet.model: Epoch[31] Resetting Data Iterator\n",
      "[INFO] graphlab.mxnet.model: Epoch[31] Train-binary_acc=0.925000\n",
      "[INFO] graphlab.mxnet.model: Epoch[31] Time cost=2.776\n",
      "[INFO] graphlab.mxnet.model: Epoch[32] Resetting Data Iterator\n",
      "[INFO] graphlab.mxnet.model: Epoch[32] Train-binary_acc=0.925000\n",
      "[INFO] graphlab.mxnet.model: Epoch[32] Time cost=2.659\n",
      "[INFO] graphlab.mxnet.model: Epoch[33] Resetting Data Iterator\n",
      "[INFO] graphlab.mxnet.model: Epoch[33] Train-binary_acc=0.925000\n",
      "[INFO] graphlab.mxnet.model: Epoch[33] Time cost=2.634\n",
      "[INFO] graphlab.mxnet.model: Epoch[34] Resetting Data Iterator\n",
      "[INFO] graphlab.mxnet.model: Epoch[34] Train-binary_acc=0.925000\n",
      "[INFO] graphlab.mxnet.model: Epoch[34] Time cost=2.836\n",
      "[INFO] graphlab.mxnet.model: Epoch[35] Resetting Data Iterator\n",
      "[INFO] graphlab.mxnet.model: Epoch[35] Train-binary_acc=0.925000\n",
      "[INFO] graphlab.mxnet.model: Epoch[35] Time cost=2.685\n",
      "[INFO] graphlab.mxnet.model: Epoch[36] Resetting Data Iterator\n",
      "[INFO] graphlab.mxnet.model: Epoch[36] Train-binary_acc=0.925000\n",
      "[INFO] graphlab.mxnet.model: Epoch[36] Time cost=2.607\n",
      "[INFO] graphlab.mxnet.model: Epoch[37] Resetting Data Iterator\n",
      "[INFO] graphlab.mxnet.model: Epoch[37] Train-binary_acc=0.925000\n",
      "[INFO] graphlab.mxnet.model: Epoch[37] Time cost=2.704\n",
      "[INFO] graphlab.mxnet.model: Epoch[38] Resetting Data Iterator\n",
      "[INFO] graphlab.mxnet.model: Epoch[38] Train-binary_acc=0.925000\n",
      "[INFO] graphlab.mxnet.model: Epoch[38] Time cost=2.624\n",
      "[INFO] graphlab.mxnet.model: Epoch[39] Resetting Data Iterator\n",
      "[INFO] graphlab.mxnet.model: Epoch[39] Train-binary_acc=0.925000\n",
      "[INFO] graphlab.mxnet.model: Epoch[39] Time cost=2.632\n",
      "[INFO] graphlab.mxnet.model: Epoch[40] Resetting Data Iterator\n",
      "[INFO] graphlab.mxnet.model: Epoch[40] Train-binary_acc=0.925000\n",
      "[INFO] graphlab.mxnet.model: Epoch[40] Time cost=2.633\n",
      "[INFO] graphlab.mxnet.model: Epoch[41] Resetting Data Iterator\n",
      "[INFO] graphlab.mxnet.model: Epoch[41] Train-binary_acc=0.925000\n",
      "[INFO] graphlab.mxnet.model: Epoch[41] Time cost=2.608\n",
      "[INFO] graphlab.mxnet.model: Epoch[42] Resetting Data Iterator\n",
      "[INFO] graphlab.mxnet.model: Epoch[42] Train-binary_acc=0.925000\n",
      "[INFO] graphlab.mxnet.model: Epoch[42] Time cost=2.619\n",
      "[INFO] graphlab.mxnet.model: Epoch[43] Resetting Data Iterator\n",
      "[INFO] graphlab.mxnet.model: Epoch[43] Train-binary_acc=0.925000\n",
      "[INFO] graphlab.mxnet.model: Epoch[43] Time cost=2.781\n",
      "[INFO] graphlab.mxnet.model: Epoch[44] Resetting Data Iterator\n",
      "[INFO] graphlab.mxnet.model: Epoch[44] Train-binary_acc=0.925000\n",
      "[INFO] graphlab.mxnet.model: Epoch[44] Time cost=2.627\n",
      "[INFO] graphlab.mxnet.model: Epoch[45] Resetting Data Iterator\n",
      "[INFO] graphlab.mxnet.model: Epoch[45] Train-binary_acc=0.925000\n",
      "[INFO] graphlab.mxnet.model: Epoch[45] Time cost=2.621\n",
      "[INFO] graphlab.mxnet.model: Epoch[46] Resetting Data Iterator\n",
      "[INFO] graphlab.mxnet.model: Epoch[46] Train-binary_acc=0.925000\n",
      "[INFO] graphlab.mxnet.model: Epoch[46] Time cost=2.651\n",
      "[INFO] graphlab.mxnet.model: Epoch[47] Resetting Data Iterator\n",
      "[INFO] graphlab.mxnet.model: Epoch[47] Train-binary_acc=0.925000\n",
      "[INFO] graphlab.mxnet.model: Epoch[47] Time cost=2.774\n",
      "[INFO] graphlab.mxnet.model: Epoch[48] Resetting Data Iterator\n",
      "[INFO] graphlab.mxnet.model: Epoch[48] Train-binary_acc=0.925000\n",
      "[INFO] graphlab.mxnet.model: Epoch[48] Time cost=2.628\n",
      "[INFO] graphlab.mxnet.model: Epoch[49] Resetting Data Iterator\n",
      "[INFO] graphlab.mxnet.model: Epoch[49] Train-binary_acc=0.925000\n",
      "[INFO] graphlab.mxnet.model: Epoch[49] Time cost=2.745\n",
      "[INFO] graphlab.mxnet.model: Epoch[50] Resetting Data Iterator\n",
      "[INFO] graphlab.mxnet.model: Epoch[50] Train-binary_acc=0.925000\n",
      "[INFO] graphlab.mxnet.model: Epoch[50] Time cost=2.715\n",
      "[INFO] graphlab.mxnet.model: Epoch[51] Resetting Data Iterator\n",
      "[INFO] graphlab.mxnet.model: Epoch[51] Train-binary_acc=0.925000\n",
      "[INFO] graphlab.mxnet.model: Epoch[51] Time cost=2.622\n",
      "[INFO] graphlab.mxnet.model: Epoch[52] Resetting Data Iterator\n",
      "[INFO] graphlab.mxnet.model: Epoch[52] Train-binary_acc=0.925000\n",
      "[INFO] graphlab.mxnet.model: Epoch[52] Time cost=2.613\n",
      "[INFO] graphlab.mxnet.model: Epoch[53] Resetting Data Iterator\n",
      "[INFO] graphlab.mxnet.model: Epoch[53] Train-binary_acc=0.925000\n",
      "[INFO] graphlab.mxnet.model: Epoch[53] Time cost=2.835\n",
      "[INFO] graphlab.mxnet.model: Epoch[54] Resetting Data Iterator\n",
      "[INFO] graphlab.mxnet.model: Epoch[54] Train-binary_acc=0.925000\n",
      "[INFO] graphlab.mxnet.model: Epoch[54] Time cost=2.621\n",
      "[INFO] graphlab.mxnet.model: Epoch[55] Resetting Data Iterator\n",
      "[INFO] graphlab.mxnet.model: Epoch[55] Train-binary_acc=0.925000\n",
      "[INFO] graphlab.mxnet.model: Epoch[55] Time cost=2.628\n",
      "[INFO] graphlab.mxnet.model: Epoch[56] Resetting Data Iterator\n",
      "[INFO] graphlab.mxnet.model: Epoch[56] Train-binary_acc=0.925000\n",
      "[INFO] graphlab.mxnet.model: Epoch[56] Time cost=2.621\n",
      "[INFO] graphlab.mxnet.model: Epoch[57] Resetting Data Iterator\n",
      "[INFO] graphlab.mxnet.model: Epoch[57] Train-binary_acc=0.925000\n",
      "[INFO] graphlab.mxnet.model: Epoch[57] Time cost=2.651\n",
      "[INFO] graphlab.mxnet.model: Epoch[58] Resetting Data Iterator\n",
      "[INFO] graphlab.mxnet.model: Epoch[58] Train-binary_acc=0.925000\n",
      "[INFO] graphlab.mxnet.model: Epoch[58] Time cost=2.609\n",
      "[INFO] graphlab.mxnet.model: Epoch[59] Resetting Data Iterator\n",
      "[INFO] graphlab.mxnet.model: Epoch[59] Train-binary_acc=0.925000\n",
      "[INFO] graphlab.mxnet.model: Epoch[59] Time cost=2.616\n",
      "[INFO] graphlab.mxnet.model: Epoch[60] Resetting Data Iterator\n",
      "[INFO] graphlab.mxnet.model: Epoch[60] Train-binary_acc=0.925000\n",
      "[INFO] graphlab.mxnet.model: Epoch[60] Time cost=2.620\n",
      "[INFO] graphlab.mxnet.model: Epoch[61] Resetting Data Iterator\n",
      "[INFO] graphlab.mxnet.model: Epoch[61] Train-binary_acc=0.925000\n",
      "[INFO] graphlab.mxnet.model: Epoch[61] Time cost=2.629\n",
      "[INFO] graphlab.mxnet.model: Epoch[62] Resetting Data Iterator\n",
      "[INFO] graphlab.mxnet.model: Epoch[62] Train-binary_acc=0.925000\n",
      "[INFO] graphlab.mxnet.model: Epoch[62] Time cost=2.612\n",
      "[INFO] graphlab.mxnet.model: Epoch[63] Resetting Data Iterator\n",
      "[INFO] graphlab.mxnet.model: Epoch[63] Train-binary_acc=0.925000\n",
      "[INFO] graphlab.mxnet.model: Epoch[63] Time cost=2.658\n",
      "[INFO] graphlab.mxnet.model: Epoch[64] Resetting Data Iterator\n",
      "[INFO] graphlab.mxnet.model: Epoch[64] Train-binary_acc=0.925000\n",
      "[INFO] graphlab.mxnet.model: Epoch[64] Time cost=2.616\n",
      "[INFO] graphlab.mxnet.model: Epoch[65] Resetting Data Iterator\n",
      "[INFO] graphlab.mxnet.model: Epoch[65] Train-binary_acc=0.925000\n",
      "[INFO] graphlab.mxnet.model: Epoch[65] Time cost=2.646\n",
      "[INFO] graphlab.mxnet.model: Epoch[66] Resetting Data Iterator\n",
      "[INFO] graphlab.mxnet.model: Epoch[66] Train-binary_acc=0.925000\n",
      "[INFO] graphlab.mxnet.model: Epoch[66] Time cost=2.627\n",
      "[INFO] graphlab.mxnet.model: Epoch[67] Resetting Data Iterator\n",
      "[INFO] graphlab.mxnet.model: Epoch[67] Train-binary_acc=0.925000\n",
      "[INFO] graphlab.mxnet.model: Epoch[67] Time cost=2.637\n",
      "[INFO] graphlab.mxnet.model: Epoch[68] Resetting Data Iterator\n",
      "[INFO] graphlab.mxnet.model: Epoch[68] Train-binary_acc=0.925000\n",
      "[INFO] graphlab.mxnet.model: Epoch[68] Time cost=2.669\n",
      "[INFO] graphlab.mxnet.model: Epoch[69] Resetting Data Iterator\n",
      "[INFO] graphlab.mxnet.model: Epoch[69] Train-binary_acc=0.925000\n",
      "[INFO] graphlab.mxnet.model: Epoch[69] Time cost=2.903\n",
      "[INFO] graphlab.mxnet.model: Epoch[70] Resetting Data Iterator\n",
      "[INFO] graphlab.mxnet.model: Epoch[70] Train-binary_acc=0.925000\n",
      "[INFO] graphlab.mxnet.model: Epoch[70] Time cost=3.066\n",
      "[INFO] graphlab.mxnet.model: Epoch[71] Resetting Data Iterator\n",
      "[INFO] graphlab.mxnet.model: Epoch[71] Train-binary_acc=0.925000\n",
      "[INFO] graphlab.mxnet.model: Epoch[71] Time cost=2.809\n",
      "[INFO] graphlab.mxnet.model: Epoch[72] Resetting Data Iterator\n",
      "[INFO] graphlab.mxnet.model: Epoch[72] Train-binary_acc=0.925000\n",
      "[INFO] graphlab.mxnet.model: Epoch[72] Time cost=2.827\n",
      "[INFO] graphlab.mxnet.model: Epoch[73] Resetting Data Iterator\n",
      "[INFO] graphlab.mxnet.model: Epoch[73] Train-binary_acc=0.925000\n",
      "[INFO] graphlab.mxnet.model: Epoch[73] Time cost=2.811\n",
      "[INFO] graphlab.mxnet.model: Epoch[74] Resetting Data Iterator\n",
      "[INFO] graphlab.mxnet.model: Epoch[74] Train-binary_acc=0.925000\n",
      "[INFO] graphlab.mxnet.model: Epoch[74] Time cost=2.867\n",
      "[INFO] graphlab.mxnet.model: Epoch[75] Resetting Data Iterator\n",
      "[INFO] graphlab.mxnet.model: Epoch[75] Train-binary_acc=0.925000\n",
      "[INFO] graphlab.mxnet.model: Epoch[75] Time cost=2.821\n",
      "[INFO] graphlab.mxnet.model: Epoch[76] Resetting Data Iterator\n",
      "[INFO] graphlab.mxnet.model: Epoch[76] Train-binary_acc=0.925000\n",
      "[INFO] graphlab.mxnet.model: Epoch[76] Time cost=2.821\n",
      "[INFO] graphlab.mxnet.model: Epoch[77] Resetting Data Iterator\n",
      "[INFO] graphlab.mxnet.model: Epoch[77] Train-binary_acc=0.925000\n",
      "[INFO] graphlab.mxnet.model: Epoch[77] Time cost=2.794\n",
      "[INFO] graphlab.mxnet.model: Epoch[78] Resetting Data Iterator\n",
      "[INFO] graphlab.mxnet.model: Epoch[78] Train-binary_acc=0.925000\n",
      "[INFO] graphlab.mxnet.model: Epoch[78] Time cost=2.811\n",
      "[INFO] graphlab.mxnet.model: Epoch[79] Resetting Data Iterator\n",
      "[INFO] graphlab.mxnet.model: Epoch[79] Train-binary_acc=0.925000\n",
      "[INFO] graphlab.mxnet.model: Epoch[79] Time cost=2.804\n",
      "[INFO] graphlab.mxnet.model: Epoch[80] Resetting Data Iterator\n",
      "[INFO] graphlab.mxnet.model: Epoch[80] Train-binary_acc=0.925000\n",
      "[INFO] graphlab.mxnet.model: Epoch[80] Time cost=2.778\n",
      "[INFO] graphlab.mxnet.model: Epoch[81] Resetting Data Iterator\n",
      "[INFO] graphlab.mxnet.model: Epoch[81] Train-binary_acc=0.925000\n",
      "[INFO] graphlab.mxnet.model: Epoch[81] Time cost=2.788\n",
      "[INFO] graphlab.mxnet.model: Epoch[82] Resetting Data Iterator\n",
      "[INFO] graphlab.mxnet.model: Epoch[82] Train-binary_acc=0.925000\n",
      "[INFO] graphlab.mxnet.model: Epoch[82] Time cost=2.765\n",
      "[INFO] graphlab.mxnet.model: Epoch[83] Resetting Data Iterator\n",
      "[INFO] graphlab.mxnet.model: Epoch[83] Train-binary_acc=0.925000\n",
      "[INFO] graphlab.mxnet.model: Epoch[83] Time cost=2.756\n",
      "[INFO] graphlab.mxnet.model: Epoch[84] Resetting Data Iterator\n",
      "[INFO] graphlab.mxnet.model: Epoch[84] Train-binary_acc=0.925000\n",
      "[INFO] graphlab.mxnet.model: Epoch[84] Time cost=2.734\n",
      "[INFO] graphlab.mxnet.model: Epoch[85] Resetting Data Iterator\n",
      "[INFO] graphlab.mxnet.model: Epoch[85] Train-binary_acc=0.925000\n",
      "[INFO] graphlab.mxnet.model: Epoch[85] Time cost=2.968\n",
      "[INFO] graphlab.mxnet.model: Epoch[86] Resetting Data Iterator\n",
      "[INFO] graphlab.mxnet.model: Epoch[86] Train-binary_acc=0.925000\n",
      "[INFO] graphlab.mxnet.model: Epoch[86] Time cost=2.702\n",
      "[INFO] graphlab.mxnet.model: Epoch[87] Resetting Data Iterator\n",
      "[INFO] graphlab.mxnet.model: Epoch[87] Train-binary_acc=0.925000\n",
      "[INFO] graphlab.mxnet.model: Epoch[87] Time cost=2.704\n",
      "[INFO] graphlab.mxnet.model: Epoch[88] Resetting Data Iterator\n",
      "[INFO] graphlab.mxnet.model: Epoch[88] Train-binary_acc=0.925000\n",
      "[INFO] graphlab.mxnet.model: Epoch[88] Time cost=2.699\n",
      "[INFO] graphlab.mxnet.model: Epoch[89] Resetting Data Iterator\n",
      "[INFO] graphlab.mxnet.model: Epoch[89] Train-binary_acc=0.925000\n",
      "[INFO] graphlab.mxnet.model: Epoch[89] Time cost=2.692\n",
      "[INFO] graphlab.mxnet.model: Epoch[90] Resetting Data Iterator\n",
      "[INFO] graphlab.mxnet.model: Epoch[90] Train-binary_acc=0.925000\n",
      "[INFO] graphlab.mxnet.model: Epoch[90] Time cost=2.713\n",
      "[INFO] graphlab.mxnet.model: Epoch[91] Resetting Data Iterator\n",
      "[INFO] graphlab.mxnet.model: Epoch[91] Train-binary_acc=0.925000\n",
      "[INFO] graphlab.mxnet.model: Epoch[91] Time cost=2.667\n",
      "[INFO] graphlab.mxnet.model: Epoch[92] Resetting Data Iterator\n",
      "[INFO] graphlab.mxnet.model: Epoch[92] Train-binary_acc=0.925000\n",
      "[INFO] graphlab.mxnet.model: Epoch[92] Time cost=2.684\n",
      "[INFO] graphlab.mxnet.model: Epoch[93] Resetting Data Iterator\n",
      "[INFO] graphlab.mxnet.model: Epoch[93] Train-binary_acc=0.925000\n",
      "[INFO] graphlab.mxnet.model: Epoch[93] Time cost=2.919\n",
      "[INFO] graphlab.mxnet.model: Epoch[94] Resetting Data Iterator\n",
      "[INFO] graphlab.mxnet.model: Epoch[94] Train-binary_acc=0.925000\n",
      "[INFO] graphlab.mxnet.model: Epoch[94] Time cost=2.685\n",
      "[INFO] graphlab.mxnet.model: Epoch[95] Resetting Data Iterator\n",
      "[INFO] graphlab.mxnet.model: Epoch[95] Train-binary_acc=0.925000\n",
      "[INFO] graphlab.mxnet.model: Epoch[95] Time cost=2.690\n",
      "[INFO] graphlab.mxnet.model: Epoch[96] Resetting Data Iterator\n",
      "[INFO] graphlab.mxnet.model: Epoch[96] Train-binary_acc=0.925000\n",
      "[INFO] graphlab.mxnet.model: Epoch[96] Time cost=2.706\n",
      "[INFO] graphlab.mxnet.model: Epoch[97] Resetting Data Iterator\n",
      "[INFO] graphlab.mxnet.model: Epoch[97] Train-binary_acc=0.925000\n",
      "[INFO] graphlab.mxnet.model: Epoch[97] Time cost=2.677\n",
      "[INFO] graphlab.mxnet.model: Epoch[98] Resetting Data Iterator\n",
      "[INFO] graphlab.mxnet.model: Epoch[98] Train-binary_acc=0.925000\n",
      "[INFO] graphlab.mxnet.model: Epoch[98] Time cost=2.681\n",
      "[INFO] graphlab.mxnet.model: Epoch[99] Resetting Data Iterator\n",
      "[INFO] graphlab.mxnet.model: Epoch[99] Train-binary_acc=0.925000\n",
      "[INFO] graphlab.mxnet.model: Epoch[99] Time cost=2.683\n"
     ]
    }
   ],
   "source": [
    "import graphlab as gl\n",
    "import numpy as np\n",
    "from graphlab import mxnet as mx\n",
    "\n",
    "# Define the network symbol, equivalent to logistic regression\n",
    "net = mx.symbol.Variable('data')\n",
    "net = mx.symbol.FullyConnected(data=net, name='fc1', num_hidden=1)\n",
    "net = mx.symbol.LinearRegressionOutput(data=net, name='lr')\n",
    "\n",
    "# Load data into SFrame and normalize features\n",
    "sf = cc\n",
    "sf['Del'] = sf['Curr_Age'] > 2\n",
    "features = ['Last_Stmt_Bal','Prev_01_Age','Prev_02_Age',\n",
    "                                                       'Prev_03_Age','Prev_04_Age','Prev_05_Age','Prev_06_Age',\n",
    "                                                       'Prev_07_Age','Prev_08_Age','Prev_09_Age','Prev_10_Age'\n",
    "                                                       ,'Prev_11_Age','Laguage','Six_Month_Avg','Age',\n",
    "                                                       'Cust_Since']\n",
    "for f in features:\n",
    "    sf[f] = sf[f] - sf[f].mean()\n",
    "    sf[f] = sf[f] / sf[f].std()\n",
    "\n",
    "# Prepare the input iterator from SFrame\n",
    "# `data_name` must match the first layer's name of the network.\n",
    "# `label_name` must match the last layer's name plus \"_label\".\n",
    "dataiter = mx.io.SFrameIter(sf, data_field=features, label_field='Del',\n",
    "                            data_name='data', label_name='lr_label',\n",
    "                            batch_size=1)\n",
    "\n",
    "# Define the custom evaluation function for binary accuracy\n",
    "def binary_acc(label, pred):\n",
    "    return int(label[0]) == int(pred[0] >= 0.5)\n",
    "\n",
    "model = mx.model.FeedForward.create(symbol=net, X=dataiter, num_epoch=100,\n",
    "                                    learning_rate=1e-2,\n",
    "                                    eval_metric=mx.metric.np(binary_acc))\n",
    "\n"
   ]
  },
  {
   "cell_type": "code",
   "execution_count": 41,
   "metadata": {
    "collapsed": true
   },
   "outputs": [],
   "source": []
  },
  {
   "cell_type": "code",
   "execution_count": null,
   "metadata": {
    "collapsed": true
   },
   "outputs": [],
   "source": []
  }
 ],
 "metadata": {
  "kernelspec": {
   "display_name": "Python 2",
   "language": "python",
   "name": "python2"
  },
  "language_info": {
   "codemirror_mode": {
    "name": "ipython",
    "version": 2
   },
   "file_extension": ".py",
   "mimetype": "text/x-python",
   "name": "python",
   "nbconvert_exporter": "python",
   "pygments_lexer": "ipython2",
   "version": "2.7.11"
  }
 },
 "nbformat": 4,
 "nbformat_minor": 0
}
