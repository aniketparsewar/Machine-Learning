{
 "cells": [
  {
   "cell_type": "code",
   "execution_count": 37,
   "metadata": {
    "collapsed": true
   },
   "outputs": [],
   "source": [
    "import numpy as np"
   ]
  },
  {
   "cell_type": "code",
   "execution_count": 38,
   "metadata": {
    "collapsed": true
   },
   "outputs": [],
   "source": [
    "def sigmoid(x, deriv=False):\n",
    "    if(deriv == True):\n",
    "        return x*(1-x)\n",
    "    return 1/(1+np.exp(-x))"
   ]
  },
  {
   "cell_type": "code",
   "execution_count": 39,
   "metadata": {
    "collapsed": true
   },
   "outputs": [],
   "source": [
    "#input data\n",
    "x = np.array([[0,0,1], \n",
    "            [0,1,1],\n",
    "            [1,0,1],\n",
    "            [1,1,1]])"
   ]
  },
  {
   "cell_type": "code",
   "execution_count": 40,
   "metadata": {
    "collapsed": true
   },
   "outputs": [],
   "source": [
    "#output data XOR\n",
    "y = np.array([[0],\n",
    "             [1],\n",
    "             [1],\n",
    "             [0]])"
   ]
  },
  {
   "cell_type": "code",
   "execution_count": 41,
   "metadata": {
    "collapsed": true
   },
   "outputs": [],
   "source": [
    "np.random.seed(1)"
   ]
  },
  {
   "cell_type": "code",
   "execution_count": 42,
   "metadata": {
    "collapsed": true
   },
   "outputs": [],
   "source": [
    "#synapses\n",
    "syn0 = 2*np.random.random((3,4)) - 1  # 3x4 matrix of weights ((2 inputs + 1 bias) x 4 nodes in the hidden layer)\n",
    "syn1 = 2*np.random.random((4,1)) - 1  # 4x1 matrix of weights. (4 nodes x 1 output) - no bias term in the hidden layer."
   ]
  },
  {
   "cell_type": "code",
   "execution_count": 48,
   "metadata": {
    "collapsed": false
   },
   "outputs": [
    {
     "name": "stdout",
     "output_type": "stream",
     "text": [
      "Error: 0.000772386613617\n",
      "Error: 0.000768077509778\n",
      "Error: 0.000763839027954\n",
      "Error: 0.000759669266173\n",
      "Error: 0.000755566393288\n",
      "Error: 0.00075152864563\n",
      "Error: 0.000747554323845\n",
      "Output after training\n",
      "[[  6.20476502e-04]\n",
      " [  9.99258166e-01]\n",
      " [  9.99280801e-01]\n",
      " [  8.93058604e-04]]\n"
     ]
    }
   ],
   "source": [
    "#training\n",
    "#for j in xrange(60000):\n",
    "##    #feed forward\n",
    "##    x10 = x\n",
    "#    x11 = sigmoid(np.dot(x10, syn0))\n",
    "#    x12 = sigmoid(np.dot(x11, syn1))\n",
    "#    \n",
    "#    #backpropogation\n",
    "#    error_12 = y - x12\n",
    "##    if (j % 10000) == 0:\n",
    "#        print \"Error=\" + str(np.mean(np.abs(error_12)))\n",
    "#        \n",
    "#    delta_12 = error_12*sigmoid(x12, deriv=True)\n",
    "#    error_11 = delta_12.dot(syn1.T)\n",
    "#    delta_11 = error_11*sigmoid(x11,deriv=True)\n",
    "#    \n",
    "#    syn1 += x11.T.dot(delta_12)\n",
    "#    syn0 += x10.T.dot(delta_11)\n",
    "\n",
    "#print \"Output after training\"\n",
    "#print xl2\n",
    "\n",
    "\n",
    "#training step\n",
    "for j in xrange(70000):  \n",
    "##    \n",
    "#   # Calculate forward through the network.\n",
    "    l0 = X\n",
    "    l1 = sigmoid(np.dot(l0, syn0))\n",
    "    l2 = sigmoid(np.dot(l1, syn1))\n",
    "    \n",
    "    # Back propagation of errors using the chain rule. \n",
    "    l2_error = y - l2\n",
    "    if(j % 10000) == 0:   # Only print the error every 10000 steps, to save time and limit the amount of output. \n",
    "        print \"Error: \" + str(np.mean(np.abs(l2_error)))\n",
    "#3        \n",
    "    l2_delta = l2_error*sigmoid(l2, deriv=True)\n",
    "    \n",
    "    l1_error = l2_delta.dot(syn1.T)\n",
    "    \n",
    "    l1_delta = l1_error * sigmoid(l1,deriv=True)\n",
    "    \n",
    "    #update weights (no learning rate term)\n",
    "    syn1 += l1.T.dot(l2_delta)\n",
    "    syn0 += l0.T.dot(l1_delta)\n",
    "    \n",
    "print \"Output after training\"\n",
    "print l2"
   ]
  },
  {
   "cell_type": "code",
   "execution_count": null,
   "metadata": {
    "collapsed": true
   },
   "outputs": [],
   "source": []
  }
 ],
 "metadata": {
  "kernelspec": {
   "display_name": "Python 2",
   "language": "python",
   "name": "python2"
  },
  "language_info": {
   "codemirror_mode": {
    "name": "ipython",
    "version": 2
   },
   "file_extension": ".py",
   "mimetype": "text/x-python",
   "name": "python",
   "nbconvert_exporter": "python",
   "pygments_lexer": "ipython2",
   "version": "2.7.11"
  }
 },
 "nbformat": 4,
 "nbformat_minor": 0
}
